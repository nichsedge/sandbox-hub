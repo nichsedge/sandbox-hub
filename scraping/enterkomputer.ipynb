{
 "cells": [
  {
   "cell_type": "code",
   "execution_count": null,
   "metadata": {},
   "outputs": [],
   "source": [
    "import requests\n",
    "\n",
    "session = requests.Session()\n",
    "response = session.get(\"https://www.enterkomputer.com/category/17/processor\")\n",
    "cookies = session.cookies.get_dict()\n",
    "str_cookies = f\"ess={cookies['ess']}; csrf_cookie_name={cookies['csrf_cookie_name']}\"\n",
    "str_cookies"
   ]
  },
  {
   "cell_type": "code",
   "execution_count": null,
   "metadata": {},
   "outputs": [],
   "source": [
    "import re"
   ]
  },
  {
   "cell_type": "code",
   "execution_count": null,
   "metadata": {},
   "outputs": [],
   "source": [
    "import os\n",
    "\n",
    "from google.cloud import bigquery\n",
    "from google.oauth2 import service_account\n",
    "from psycopg2 import sql\n",
    "\n",
    "key_path = os.environ.get(\"GCP_CREDENTIALS\")\n",
    "credentials = service_account.Credentials.from_service_account_file(\n",
    "    key_path, scopes=[\"https://www.googleapis.com/auth/cloud-platform\"]\n",
    ")"
   ]
  },
  {
   "cell_type": "code",
   "execution_count": null,
   "metadata": {},
   "outputs": [],
   "source": [
    "from google.cloud import bigquery\n",
    "\n",
    "client = bigquery.Client()\n",
    "\n",
    "old_dataset_id = \"ichsanul-dev.de_zoomcamp\"\n",
    "new_dataset_id = \"ichsanul-dev.dev\"\n",
    "\n",
    "# Create the new dataset\n",
    "new_dataset = bigquery.Dataset(new_dataset_id)\n",
    "client.create_dataset(new_dataset)\n",
    "\n",
    "# List tables in the old dataset\n",
    "tables = client.list_tables(old_dataset_id)\n",
    "\n",
    "for table in tables:\n",
    "    old_table_id = f\"{old_dataset_id}.{table.table_id}\"\n",
    "    new_table_id = f\"{new_dataset_id}.{table.table_id}\"\n",
    "\n",
    "    # Copy each table to the new dataset\n",
    "    job = client.copy_table(old_table_id, new_table_id)\n",
    "    job.result()  # Waits for the job to complete\n",
    "\n",
    "print(\"All tables have been copied.\")"
   ]
  }
 ],
 "metadata": {
  "kernelspec": {
   "display_name": "base",
   "language": "python",
   "name": "python3"
  },
  "language_info": {
   "codemirror_mode": {
    "name": "ipython",
    "version": 3
   },
   "file_extension": ".py",
   "mimetype": "text/x-python",
   "name": "python",
   "nbconvert_exporter": "python",
   "pygments_lexer": "ipython3",
   "version": "3.12.4"
  }
 },
 "nbformat": 4,
 "nbformat_minor": 2
}
