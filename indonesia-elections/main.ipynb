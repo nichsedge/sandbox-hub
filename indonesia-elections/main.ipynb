{
 "cells": [
  {
   "cell_type": "code",
   "execution_count": 196,
   "metadata": {},
   "outputs": [],
   "source": [
    "import pandas as pd\n",
    "import numpy as np\n",
    "import ast\n",
    "from sqlalchemy import create_engine\n",
    "\n",
    "db_params = {\n",
    "    \"dbname\": \"postgres\",\n",
    "    \"user\": \"postgres\",\n",
    "    \"password\": \"postgres\",\n",
    "    \"host\": \"localhost\",  # Change to your database host\n",
    "    \"port\": \"5432\",  # Change to your database port\n",
    "}\n",
    "db_url = f\"postgresql://{db_params['user']}:{db_params['password']}@{db_params['host']}:{db_params['port']}/{db_params['dbname']}\"\n",
    "engine = create_engine(db_url)"
   ]
  },
  {
   "cell_type": "code",
   "execution_count": null,
   "metadata": {},
   "outputs": [],
   "source": [
    "import requests\n",
    "\n",
    "dpr = \"https://caleg.zakiego.com/api/dpr-ri/dapil/3201\"\n",
    "dpd = \"https://caleg.zakiego.com/api/dpd/dapil/32\"\n",
    "dprd_provinsi = \"https://caleg.zakiego.com/api/dprd-provinsi/dapil/320001\"\n",
    "dprd_kabupaten = \"https://caleg.zakiego.com/api/dprd-kabupaten-kota/dapil/327701\"\n",
    "\n",
    "\n",
    "def req(url, tbl_name):\n",
    "    endpoint = url\n",
    "    data = requests.get(endpoint).json()\n",
    "    df = pd.DataFrame(data[\"data\"])\n",
    "\n",
    "    for col in df.columns:\n",
    "        df[col] = df[col].astype(str)\n",
    "\n",
    "    df.to_sql(\n",
    "        name=tbl_name,\n",
    "        con=engine,\n",
    "        schema=\"personal\",\n",
    "        if_exists=\"replace\",\n",
    "        method=\"multi\",\n",
    "        index=False,\n",
    "    )\n",
    "\n",
    "\n",
    "req(url=dprd_kabupaten, tbl_name=\"dprd_kabupaten\")"
   ]
  },
  {
   "cell_type": "code",
   "execution_count": 199,
   "metadata": {},
   "outputs": [],
   "source": [
    "# for col in ['riwayatPekerjaan', 'statusHukum', 'riwayatPendidikan',\n",
    "#        'riwayatKursusDiklat', 'riwayatOrganisasi', 'riwayatPenghargaan',\n",
    "#        'programUsulan', 'motivasi']:\n",
    "#     df[col] = df[col].to_json(orient='records')"
   ]
  },
  {
   "cell_type": "code",
   "execution_count": 200,
   "metadata": {},
   "outputs": [],
   "source": [
    "# # Denormalize columns containing dictionaries\n",
    "# for col in df.columns:\n",
    "#     try:\n",
    "#         df[col].fillna('[]', inplace=True)\n",
    "#         df[col] = df[col].apply(ast.literal_eval)\n",
    "\n",
    "#         # if isinstance(df[col][0], list):\n",
    "#         df = pd.concat([df.drop(col, axis=1), pd.json_normalize(df[col].explode())], axis=1)\n",
    "#     except:\n",
    "#         print(col)"
   ]
  },
  {
   "cell_type": "code",
   "execution_count": 201,
   "metadata": {},
   "outputs": [],
   "source": [
    "# def explode_columns_with_arrays(df):\n",
    "#     for col in df.columns:\n",
    "#         if df[col].apply(lambda x: isinstance(x, list)).all():\n",
    "#             df = df.explode(col)\n",
    "#     return df\n",
    "\n",
    "# # Explode columns containing arrays\n",
    "# df = explode_columns_with_arrays(df)"
   ]
  },
  {
   "cell_type": "code",
   "execution_count": 202,
   "metadata": {},
   "outputs": [],
   "source": [
    "# # Function to convert dictionary columns to JSON strings\n",
    "# def convert_dict_columns_to_json(df):\n",
    "#     for col in df.columns:\n",
    "#         if df[col].apply(lambda x: isinstance(x, dict)).all():\n",
    "#             df[col] = df[col].apply(json.dumps)\n",
    "#     return df\n",
    "\n",
    "# # Convert dictionary columns to JSON strings\n",
    "# df = convert_dict_columns_to_json(df)\n"
   ]
  }
 ],
 "metadata": {
  "kernelspec": {
   "display_name": "base",
   "language": "python",
   "name": "python3"
  },
  "language_info": {
   "codemirror_mode": {
    "name": "ipython",
    "version": 3
   },
   "file_extension": ".py",
   "mimetype": "text/x-python",
   "name": "python",
   "nbconvert_exporter": "python",
   "pygments_lexer": "ipython3",
   "version": "3.11.5"
  }
 },
 "nbformat": 4,
 "nbformat_minor": 2
}
