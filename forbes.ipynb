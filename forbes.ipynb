{
 "cells": [
  {
   "cell_type": "code",
   "execution_count": null,
   "metadata": {},
   "outputs": [],
   "source": [
    "# from pyforbes import ForbesList\n",
    "\n",
    "\n",
    "# flist = ForbesList()\n",
    "# df = flist.get_df(\"billionaires\")"
   ]
  },
  {
   "cell_type": "code",
   "execution_count": null,
   "metadata": {},
   "outputs": [],
   "source": [
    "# df.to_csv('data.csv')\n",
    "df = pd.read_csv(\"data.csv\")"
   ]
  },
  {
   "cell_type": "code",
   "execution_count": null,
   "metadata": {},
   "outputs": [],
   "source": [
    "df[[\"uri\", \"age\", \"category\", \"finalWorth\", \"selfMadeRank\"]]"
   ]
  },
  {
   "cell_type": "code",
   "execution_count": null,
   "metadata": {},
   "outputs": [],
   "source": [
    "import plotly.express as px\n",
    "import pandas as pd\n",
    "\n",
    "# Create the packed bubble chart\n",
    "fig = px.scatter(\n",
    "    df,\n",
    "    x=\"age\",\n",
    "    y=\"finalWorth\",  # Dummy y-axis since plotly does not directly support packed bubbles\n",
    "    size=\"finalWorth\",\n",
    "    color=\"category\",\n",
    "    hover_name=\"uri\",\n",
    "    size_max=60,\n",
    "    title=\"Packed Bubble Chart of Final Worth by Age and Category\",\n",
    ")\n",
    "\n",
    "# Customize the layout to hide the dummy y-axis\n",
    "# fig.update_layout(yaxis=dict(showticklabels=False, showgrid=False, zeroline=False))\n",
    "\n",
    "# Show the plot\n",
    "fig.show()"
   ]
  },
  {
   "cell_type": "code",
   "execution_count": null,
   "metadata": {},
   "outputs": [],
   "source": [
    "import plotly.express as px\n",
    "import pandas as pd\n",
    "\n",
    "# Create the packed bubble chart\n",
    "fig = px.scatter(\n",
    "    df,\n",
    "    x=\"age\",\n",
    "    y=\"selfMadeRank\",  # Dummy y-axis since plotly does not directly support packed bubbles\n",
    "    size=\"finalWorth\",\n",
    "    color=\"category\",\n",
    "    hover_name=\"uri\",\n",
    "    size_max=60,\n",
    "    title=\"Packed Bubble Chart of Final Worth by Age and Self Made Score\",\n",
    ")\n",
    "\n",
    "# Customize the layout to hide the dummy y-axis\n",
    "# fig.update_layout(yaxis=dict(showticklabels=False, showgrid=False, zeroline=False))\n",
    "\n",
    "# Show the plot\n",
    "fig.show()"
   ]
  },
  {
   "cell_type": "code",
   "execution_count": null,
   "metadata": {},
   "outputs": [],
   "source": [
    "import plotly.express as px\n",
    "import pandas as pd\n",
    "\n",
    "# Create the packed bubble chart\n",
    "fig = px.scatter(\n",
    "    df,\n",
    "    x=\"age\",\n",
    "    y=\"finalWorth\",  # Dummy y-axis since plotly does not directly support packed bubbles\n",
    "    size=\"finalWorth\",\n",
    "    color=\"country\",\n",
    "    hover_name=\"uri\",\n",
    "    size_max=60,\n",
    "    title=\"Packed Bubble Chart of Final Worth by Age and Country\",\n",
    ")\n",
    "\n",
    "# Customize the layout to hide the dummy y-axis\n",
    "fig.update_layout(yaxis=dict(showticklabels=False, showgrid=False, zeroline=False))\n",
    "\n",
    "# Show the plot\n",
    "fig.show()"
   ]
  },
  {
   "cell_type": "code",
   "execution_count": null,
   "metadata": {},
   "outputs": [],
   "source": [
    "import matplotlib.pyplot as plt\n",
    "import seaborn as sns\n",
    "import pandas as pd\n",
    "\n",
    "# Sort the DataFrame by 'finalWorth'\n",
    "df = df.sort_values(\"finalWorth\", ascending=False)\n",
    "df\n",
    "\n",
    "# Create the bar plot\n",
    "plt.figure(figsize=(10, 6))\n",
    "bar_plot = sns.barplot(\n",
    "    x=\"finalWorth\", y=\"uri\", data=df.head(25), hue=\"category\", dodge=False\n",
    ")\n",
    "\n",
    "# Customize the plot\n",
    "bar_plot.set_title(\"Bar Chart of Final Worth Sorted by Final Worth\")\n",
    "bar_plot.set_xlabel(\"Final Worth\")\n",
    "bar_plot.set_ylabel(\"Name\")\n",
    "\n",
    "# Show the plot\n",
    "plt.legend(title=\"Category\")\n",
    "plt.show()"
   ]
  },
  {
   "cell_type": "markdown",
   "metadata": {},
   "source": [
    "## indo"
   ]
  },
  {
   "cell_type": "code",
   "execution_count": null,
   "metadata": {},
   "outputs": [],
   "source": [
    "df[df[\"country\"] == \"Indonesia\"][[\"uri\", \"finalWorth\", \"category\"]].to_csv(\"indo\")"
   ]
  },
  {
   "cell_type": "code",
   "execution_count": null,
   "metadata": {},
   "outputs": [],
   "source": [
    "# Calculate the count of entries by country\n",
    "country_counts = df[\"country\"].value_counts().reset_index().head(20)\n",
    "country_counts.columns = [\"country\", \"count\"]\n",
    "\n",
    "# Create the bar plot\n",
    "plt.figure(figsize=(12, 8))\n",
    "bar_plot = sns.barplot(x=\"count\", y=\"country\", data=country_counts, palette=\"viridis\")\n",
    "\n",
    "# Customize the plot\n",
    "bar_plot.set_title(\"Count of Entries by Country\")\n",
    "bar_plot.set_xlabel(\"Count\")\n",
    "bar_plot.set_ylabel(\"Country\")\n",
    "\n",
    "for index, value in enumerate(country_counts[\"count\"]):\n",
    "    bar_plot.text(value, index, f\"{value}\", va=\"center\")\n",
    "\n",
    "# Show the plot\n",
    "plt.show()"
   ]
  },
  {
   "cell_type": "code",
   "execution_count": null,
   "metadata": {},
   "outputs": [],
   "source": [
    "# Calculate the sum of 'totalWorth' by 'country'\n",
    "country_total_worth = df.groupby(\"country\")[\"finalWorth\"].sum().reset_index()\n",
    "\n",
    "# Sort the data for better visualization (optional)\n",
    "country_total_worth = country_total_worth.sort_values(\n",
    "    by=\"finalWorth\", ascending=False\n",
    ").head(20)\n",
    "\n",
    "# Create the bar plot\n",
    "plt.figure(figsize=(12, 8))\n",
    "bar_plot = sns.barplot(\n",
    "    x=\"finalWorth\", y=\"country\", data=country_total_worth, palette=\"viridis\"\n",
    ")\n",
    "\n",
    "# Customize the plot\n",
    "bar_plot.set_title(\"Sum of Total Worth by Country\")\n",
    "bar_plot.set_xlabel(\"Total Worth\")\n",
    "bar_plot.set_ylabel(\"Country\")\n",
    "\n",
    "# Add the total worth numbers beside the bars\n",
    "for index, value in enumerate(country_total_worth[\"finalWorth\"]):\n",
    "    bar_plot.text(value, index, f\"{value:,.0f}\", va=\"center\")\n",
    "\n",
    "# Show the plot\n",
    "plt.show()"
   ]
  },
  {
   "cell_type": "code",
   "execution_count": null,
   "metadata": {},
   "outputs": [],
   "source": [
    "from pyforbes import ForbesList\n",
    "\n",
    "\n",
    "flist = ForbesList()\n",
    "df = flist.get_df(\"best-employers-for-new-grads\", year=2022)"
   ]
  },
  {
   "cell_type": "code",
   "execution_count": null,
   "metadata": {},
   "outputs": [],
   "source": [
    "df.info()"
   ]
  }
 ],
 "metadata": {
  "kernelspec": {
   "display_name": "base",
   "language": "python",
   "name": "python3"
  },
  "language_info": {
   "codemirror_mode": {
    "name": "ipython",
    "version": 3
   },
   "file_extension": ".py",
   "mimetype": "text/x-python",
   "name": "python",
   "nbconvert_exporter": "python",
   "pygments_lexer": "ipython3",
   "version": "3.12.2"
  }
 },
 "nbformat": 4,
 "nbformat_minor": 2
}
