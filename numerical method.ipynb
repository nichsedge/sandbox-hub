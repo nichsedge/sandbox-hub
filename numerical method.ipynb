{
 "cells": [
  {
   "cell_type": "markdown",
   "metadata": {},
   "source": [
    "# Installations"
   ]
  },
  {
   "cell_type": "markdown",
   "metadata": {},
   "source": [
    "# Numerical Method"
   ]
  },
  {
   "cell_type": "markdown",
   "metadata": {},
   "source": [
    "## Bisection Method for Finding Equation Roots"
   ]
  },
  {
   "cell_type": "markdown",
   "metadata": {},
   "source": [
    "Cari nilai x di selang [0, 2] yang memenuhi persamaan x.sin(x) = 1."
   ]
  },
  {
   "cell_type": "code",
   "execution_count": null,
   "metadata": {},
   "outputs": [],
   "source": [
    "import pandas as pd\n",
    "import numpy as np\n",
    "\n",
    "# Required information\n",
    "a = 0  # lower bound\n",
    "b = 2  # upper bound\n",
    "\n",
    "\n",
    "def f(x):\n",
    "    return x * np.sin(x) - 1  # the function from the problem\n",
    "\n",
    "\n",
    "iter_max = 50  # maximum allowed iterations\n",
    "tol_max = 0.00000005  # acceptable error tolerance\n",
    "\n",
    "# initial condition\n",
    "i = 1\n",
    "\n",
    "# creating a container for iteration results\n",
    "results = pd.DataFrame(columns=[\"n\", \"a\", \"b\", \"c\"])\n",
    "\n",
    "# iterations start here\n",
    "while i <= iter_max and (b - a) / 2 > tol_max:\n",
    "    p = a + ((b - a) / 2)  # taking the value of p, the midpoint between a and b\n",
    "    FP = f(p)  # evaluate f(p)\n",
    "    FA = f(a)  # evaluate f(a)\n",
    "    FB = f(b)  # evaluate f(b)\n",
    "    results.loc[i] = [i, a, b, p]  # store the calculation results in the container\n",
    "    if FA * FP < 0:\n",
    "        b = p\n",
    "    else:\n",
    "        a = p  # recall the bisection rule!\n",
    "    i = i + 1  # increment i for iteration\n",
    "\n",
    "print(results)"
   ]
  },
  {
   "cell_type": "markdown",
   "metadata": {},
   "source": [
    "## Newton Method for Finding Equation Roots"
   ]
  },
  {
   "attachments": {
    "image.png": {
     "image/png": "[encoded data removed]"
    }
   },
   "cell_type": "markdown",
   "metadata": {},
   "source": [
    "![image.png](attachment:image.png)"
   ]
  },
  {
   "cell_type": "code",
   "execution_count": 1,
   "metadata": {},
   "outputs": [],
   "source": [
    "from sympy import symbols, diff\n",
    "\n",
    "# Define the symbol\n",
    "x = symbols(\"x\")\n",
    "\n",
    "# Define the equation\n",
    "eq = x**3 - x**2 - 70\n",
    "\n",
    "# Differentiate the equation with respect to x\n",
    "diff_eq = diff(eq, x)\n",
    "\n",
    "# Convert the differentiated equation to a string\n",
    "diff_eq_str = str(diff_eq)\n",
    "\n",
    "print(diff_eq_str)"
   ]
  },
  {
   "cell_type": "code",
   "execution_count": null,
   "metadata": {},
   "outputs": [],
   "source": [
    "import pandas as pd\n",
    "import numpy as np\n",
    "\n",
    "# Define the necessary information\n",
    "x_0 = 10\n",
    "\n",
    "\n",
    "def f(x):\n",
    "    return x**3 - x**2 - 70\n",
    "\n",
    "\n",
    "def df(x):\n",
    "    return 3 * x**2 - 2 * x\n",
    "\n",
    "\n",
    "iter_max = 50\n",
    "tol_max = 10**-2\n",
    "\n",
    "# initial condition\n",
    "i = 1\n",
    "hasil = pd.DataFrame(columns=[\"n_iter\", \"p\"], index=[0])\n",
    "hasil.loc[0] = [0, x_0]\n",
    "\n",
    "while i <= iter_max:\n",
    "    p = x_0 - (f(x_0) / df(x_0))\n",
    "    hasil.loc[i] = [i, p]\n",
    "    if abs(p - x_0) < tol_max:\n",
    "        break\n",
    "    x_0 = p\n",
    "    i += 1\n",
    "\n",
    "# print output\n",
    "print(hasil.to_string(index=False))"
   ]
  },
  {
   "cell_type": "markdown",
   "metadata": {},
   "source": [
    "## Golden Ratio for Finding Equation Roots"
   ]
  },
  {
   "cell_type": "code",
   "execution_count": null,
   "metadata": {},
   "outputs": [],
   "source": [
    "import numpy as np\n",
    "import matplotlib.pyplot as plt\n",
    "\n",
    "\n",
    "# Define the function\n",
    "def f(x):\n",
    "    return x**3 - 10 * x**2 + 29 * x - 20\n",
    "\n",
    "\n",
    "# Generate x values\n",
    "x = np.linspace(0, 6, 400)  # 400 points between 0 and 6\n",
    "\n",
    "# Generate y values\n",
    "y = f(x)\n",
    "\n",
    "# Create the plot\n",
    "plt.figure(figsize=(8, 6))\n",
    "plt.plot(x, y, label=r\"$f(x) = x^3 - 10x^2 + 29x - 20$\")\n",
    "\n",
    "# Add labels and title\n",
    "plt.xlabel(\"x\")\n",
    "plt.ylabel(\"f(x)\")\n",
    "plt.title(\"Graph of $f(x) = x^3 - 10x^2 + 29x - 20$\")\n",
    "\n",
    "# Add grid\n",
    "plt.grid(True)\n",
    "\n",
    "# Add legend\n",
    "plt.legend()\n",
    "\n",
    "# Show plot\n",
    "plt.show()"
   ]
  },
  {
   "cell_type": "markdown",
   "metadata": {},
   "source": [
    "fungsi f(x) = x^3 - 10x^2 + 29x -20 di 0 <= x <= 6, tentukan semua akarnya dengan metode Golden Section Search "
   ]
  },
  {
   "cell_type": "code",
   "execution_count": null,
   "metadata": {},
   "outputs": [],
   "source": [
    "from math import sqrt\n",
    "\n",
    "# define r as the golden ratio\n",
    "r = (1 + sqrt(5)) / 2\n",
    "tol_max = 10 ** (-10)\n",
    "\n",
    "\n",
    "# Define the problem function\n",
    "def f_initial(x):\n",
    "    return x**3 - 10 * x**2 + 29 * x - 20\n",
    "\n",
    "\n",
    "def f(x):\n",
    "    return abs(x**3 - 10 * x**2 + 29 * x - 20)\n",
    "\n",
    "\n",
    "# initial values\n",
    "def golden_ss(a=0, b=2):\n",
    "    while abs(b - a) > tol_max:\n",
    "        c = b - (b - a) / r\n",
    "        d = a + (b - a) / r\n",
    "\n",
    "        if f(c) < f(d):\n",
    "            b = d\n",
    "        else:\n",
    "            a = c\n",
    "\n",
    "    return (a + b) / 2\n",
    "\n",
    "\n",
    "print(golden_ss(0, 2))\n",
    "print(golden_ss(3.5, 4.5))\n",
    "print(golden_ss(4.5, 6))"
   ]
  },
  {
   "cell_type": "markdown",
   "metadata": {},
   "source": [
    "# Chaotic vs probabilistic"
   ]
  },
  {
   "cell_type": "markdown",
   "metadata": {},
   "source": [
    "### Chaotic System (Logistic Map):\n",
    "The logistic map is a classic example of a chaotic system. It is defined by the recursive equation:\n",
    "\n",
    "\\[x_{n+1} = r \\cdot x_n \\cdot (1 - x_n)\\]\n",
    "\n",
    "Where:\n",
    "- \\(x_n\\) is the population at time step \\(n\\).\n",
    "- \\(r\\) is the growth rate parameter."
   ]
  },
  {
   "cell_type": "code",
   "execution_count": null,
   "metadata": {},
   "outputs": [],
   "source": [
    "import matplotlib.pyplot as plt\n",
    "\n",
    "\n",
    "def logistic_map(r, x0, steps):\n",
    "    results = [x0]\n",
    "    for _ in range(1, steps):\n",
    "        x = results[-1]\n",
    "        next_x = r * x * (1 - x)\n",
    "        results.append(next_x)\n",
    "    return results\n",
    "\n",
    "\n",
    "# Parameters\n",
    "r = 3.9  # Growth rate parameter\n",
    "x0 = 0.4  # Initial population\n",
    "steps = 100\n",
    "\n",
    "# Simulate the logistic map\n",
    "population = logistic_map(r, x0, steps)\n",
    "\n",
    "# Plot the results\n",
    "plt.plot(range(steps), population, linestyle=\"-\", marker=\"o\", color=\"b\")\n",
    "plt.title(\"Logistic Map (Chaotic System)\")\n",
    "plt.xlabel(\"Time Step\")\n",
    "plt.ylabel(\"Population\")\n",
    "plt.grid(True)\n",
    "plt.show()"
   ]
  },
  {
   "cell_type": "markdown",
   "metadata": {},
   "source": [
    "### Probabilistic System (Coin Toss):\n",
    "A simple example of a probabilistic system is a coin toss. We'll simulate flipping a fair coin multiple times.\n",
    "\n",
    "```python\n",
    "\n",
    "```\n",
    "\n",
    "In the above code, we simulate flipping a fair coin 100 times and count the occurrences of heads and tails. The outcome is probabilistic since each flip has an equal chance of resulting in heads or tails."
   ]
  },
  {
   "cell_type": "code",
   "execution_count": null,
   "metadata": {},
   "outputs": [],
   "source": [
    "import random\n",
    "\n",
    "\n",
    "def coin_toss(num_tosses):\n",
    "    outcomes = []\n",
    "    for _ in range(num_tosses):\n",
    "        outcome = random.choice([\"Heads\", \"Tails\"])\n",
    "        outcomes.append(outcome)\n",
    "    return outcomes\n",
    "\n",
    "\n",
    "# Parameters\n",
    "num_tosses = 100\n",
    "\n",
    "# Simulate coin tosses\n",
    "outcomes = coin_toss(num_tosses)\n",
    "\n",
    "# Counting the occurrence of Heads and Tails\n",
    "heads_count = outcomes.count(\"Heads\")\n",
    "tails_count = outcomes.count(\"Tails\")\n",
    "\n",
    "# Display results\n",
    "print(f\"Heads: {heads_count} Tails: {tails_count}\")"
   ]
  },
  {
   "cell_type": "code",
   "execution_count": null,
   "metadata": {},
   "outputs": [],
   "source": [
    "import matplotlib.pyplot as plt\n",
    "import numpy as np\n",
    "\n",
    "# Parameters\n",
    "R = 100  # Reward amount\n",
    "r = 0.10  # Discount rate (for exponential)\n",
    "k = 0.10  # Discount rate (for hyperbolic)\n",
    "t = np.linspace(0, 20, 100)  # Time from 0 to 20 years\n",
    "\n",
    "# Discounting formulas\n",
    "V_exp = R / (1 + r) ** t\n",
    "V_hyp = R / (1 + k * t)\n",
    "\n",
    "# Plotting\n",
    "plt.figure(figsize=(10, 6))\n",
    "plt.plot(t, V_exp, label=\"Exponential Discounting\", color=\"blue\")\n",
    "plt.plot(t, V_hyp, label=\"Hyperbolic Discounting\", color=\"orange\", linestyle=\"--\")\n",
    "\n",
    "plt.title(\"Exponential vs. Hyperbolic Discounting ($100 Reward)\")\n",
    "plt.xlabel(\"Time (years)\")\n",
    "plt.ylabel(\"Present Value ($)\")\n",
    "plt.grid(True)\n",
    "plt.legend()\n",
    "plt.tight_layout()\n",
    "plt.show()"
   ]
  }
 ],
 "metadata": {
  "kernelspec": {
   "display_name": "base",
   "language": "python",
   "name": "python3"
  },
  "language_info": {
   "codemirror_mode": {
    "name": "ipython",
    "version": 3
   },
   "file_extension": ".py",
   "mimetype": "text/x-python",
   "name": "python",
   "nbconvert_exporter": "python",
   "pygments_lexer": "ipython3",
   "version": "3.13.2"
  }
 },
 "nbformat": 4,
 "nbformat_minor": 2
}
