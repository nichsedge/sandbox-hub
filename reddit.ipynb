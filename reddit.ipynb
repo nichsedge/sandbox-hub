{
 "cells": [
  {
   "cell_type": "code",
   "execution_count": null,
   "metadata": {},
   "outputs": [],
   "source": [
    "import os\n",
    "from dotenv import load_dotenv\n",
    "\n",
    "# Load variables from the .env file\n",
    "load_dotenv()\n",
    "\n",
    "# Access the variables\n",
    "client_id = os.getenv(\"client_id\")\n",
    "client_secret = os.getenv(\"client_secret\")\n",
    "username = os.getenv(\"username\")\n",
    "password = os.getenv(\"password\")"
   ]
  },
  {
   "cell_type": "code",
   "execution_count": null,
   "metadata": {},
   "outputs": [],
   "source": [
    "import requests\n",
    "\n",
    "# note that CLIENT_ID refers to 'personal use script' and SECRET_TOKEN to 'token'\n",
    "auth = requests.auth.HTTPBasicAuth(client_id, client_secret)\n",
    "\n",
    "# here we pass our login method (password), username, and password\n",
    "data = {\"grant_type\": \"password\", \"username\": username, \"password\": password}\n",
    "\n",
    "# setup our header info, which gives reddit a brief description of our app\n",
    "headers = {\"User-Agent\": \"MyBot/0.0.1\"}\n",
    "\n",
    "# send our request for an OAuth token\n",
    "res = requests.post(\n",
    "    \"https://www.reddit.com/api/v1/access_token\", auth=auth, data=data, headers=headers\n",
    ")\n",
    "\n",
    "# convert response to JSON and pull access_token value\n",
    "TOKEN = res.json()[\"access_token\"]\n",
    "\n",
    "# add authorization to our headers dictionary\n",
    "headers = {**headers, **{\"Authorization\": f\"bearer {TOKEN}\"}}\n",
    "\n",
    "# while the token is valid (~2 hours) we just add headers=headers to our requests\n",
    "res = requests.get(\"https://oauth.reddit.com/api/v1/me\", headers=headers)"
   ]
  },
  {
   "cell_type": "code",
   "execution_count": null,
   "metadata": {},
   "outputs": [],
   "source": [
    "print(res.json())"
   ]
  },
  {
   "cell_type": "code",
   "execution_count": null,
   "metadata": {},
   "outputs": [],
   "source": [
    "import pandas as pd"
   ]
  },
  {
   "cell_type": "code",
   "execution_count": null,
   "metadata": {},
   "outputs": [],
   "source": [
    "# make a request for the trending posts in /r/Python\n",
    "res = requests.get(\n",
    "    \"https://oauth.reddit.com/r/Israel/new\", params={\"limit\": 100}, headers=headers\n",
    ")\n",
    "\n",
    "df = pd.DataFrame()  # initialize dataframe\n",
    "\n",
    "# loop through each post retrieved from GET request\n",
    "for post in res.json()[\"data\"][\"children\"]:\n",
    "    # append relevant data to dataframe\n",
    "    df = df.append(\n",
    "        {\n",
    "            \"subreddit\": post[\"data\"][\"subreddit\"],\n",
    "            \"title\": post[\"data\"][\"title\"],\n",
    "            \"selftext\": post[\"data\"][\"selftext\"],\n",
    "            \"upvote_ratio\": post[\"data\"][\"upvote_ratio\"],\n",
    "            \"ups\": post[\"data\"][\"ups\"],\n",
    "            \"downs\": post[\"data\"][\"downs\"],\n",
    "            \"score\": post[\"data\"][\"score\"],\n",
    "            \"created\": post[\"data\"][\"created\"],\n",
    "            \"over_18\": post[\"data\"][\"over_18\"],\n",
    "            \"author\": post[\"data\"][\"author\"],\n",
    "            \"num_comments\": post[\"data\"][\"num_comments\"],\n",
    "        },\n",
    "        ignore_index=True,\n",
    "    )"
   ]
  },
  {
   "cell_type": "code",
   "execution_count": null,
   "metadata": {},
   "outputs": [],
   "source": [
    "df.info()"
   ]
  }
 ],
 "metadata": {
  "kernelspec": {
   "display_name": "Python 3.8.8 ('base')",
   "language": "python",
   "name": "python3"
  },
  "language_info": {
   "codemirror_mode": {
    "name": "ipython",
    "version": 3
   },
   "file_extension": ".py",
   "mimetype": "text/x-python",
   "name": "python",
   "nbconvert_exporter": "python",
   "pygments_lexer": "ipython3",
   "version": "3.11.5"
  },
  "vscode": {
   "interpreter": {
    "hash": "ad2bdc8ecc057115af97d19610ffacc2b4e99fae6737bb82f5d7fb13d2f2c186"
   }
  }
 },
 "nbformat": 4,
 "nbformat_minor": 2
}
