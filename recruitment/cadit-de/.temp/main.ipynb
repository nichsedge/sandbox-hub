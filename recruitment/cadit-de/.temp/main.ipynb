{
 "cells": [
  {
   "cell_type": "code",
   "execution_count": null,
   "metadata": {},
   "outputs": [],
   "source": [
    "import pandas as pd"
   ]
  },
  {
   "cell_type": "code",
   "execution_count": null,
   "metadata": {},
   "outputs": [],
   "source": [
    "df = pd.read_csv(\"movies.csv\")"
   ]
  },
  {
   "cell_type": "code",
   "execution_count": null,
   "metadata": {},
   "outputs": [],
   "source": [
    "df.info()"
   ]
  },
  {
   "cell_type": "code",
   "execution_count": null,
   "metadata": {},
   "outputs": [],
   "source": [
    "df[\"title\"] = df[\"MOVIES\"].str.strip()"
   ]
  },
  {
   "cell_type": "code",
   "execution_count": null,
   "metadata": {},
   "outputs": [],
   "source": [
    "def extract_directors_stars(text):\n",
    "    text = text.replace(\"\\n\", \"\")\n",
    "\n",
    "    if \"Director\" in text and \"Star\" in text:\n",
    "        parts = text.split(\"|\")\n",
    "        director = parts[0].split(\":\")[1].strip().split(\", \")\n",
    "        stars = parts[1].split(\":\")[1].strip().split(\", \")\n",
    "    elif \"Star\" in text:\n",
    "        director = None\n",
    "        stars = text.split(\":\")[1].strip().split(\", \")\n",
    "    elif \"Director\" in text:\n",
    "        director = text.split(\":\")[1].strip().split(\", \")\n",
    "        stars = None\n",
    "    else:\n",
    "        director = None\n",
    "        stars = None\n",
    "        # print(text)\n",
    "\n",
    "    # if director is None or stars is None:\n",
    "    #     print(text)\n",
    "    return director, stars"
   ]
  },
  {
   "cell_type": "code",
   "execution_count": null,
   "metadata": {},
   "outputs": [],
   "source": [
    "df[\"directors\"], df[\"stars\"] = zip(*df[\"STARS\"].apply(extract_directors_stars))"
   ]
  },
  {
   "cell_type": "code",
   "execution_count": null,
   "metadata": {},
   "outputs": [],
   "source": [
    "import re\n",
    "\n",
    "\n",
    "def extract_numbers(text):\n",
    "    if isinstance(text, str):\n",
    "        numbers = re.findall(r\"\\d+\", text)\n",
    "        return [int(num) for num in numbers]\n",
    "    else:\n",
    "        return None"
   ]
  },
  {
   "cell_type": "code",
   "execution_count": null,
   "metadata": {},
   "outputs": [],
   "source": [
    "df[\"year\"] = df[\"YEAR\"].apply(extract_numbers)"
   ]
  },
  {
   "cell_type": "code",
   "execution_count": null,
   "metadata": {},
   "outputs": [],
   "source": [
    "get_first = lambda x: x[0] if isinstance(x, list) and len(x) > 0 else None\n",
    "get_second = lambda x: x[1] if isinstance(x, list) and len(x) > 1 else None\n",
    "\n",
    "df[\"year_start\"] = df[\"year\"].apply(get_first)\n",
    "df[\"year_end\"] = df[\"year\"].apply(get_second)"
   ]
  },
  {
   "cell_type": "code",
   "execution_count": null,
   "metadata": {},
   "outputs": [],
   "source": [
    "df[\"genres\"] = df[\"GENRE\"].apply(\n",
    "    lambda x: x.replace(\"\\n\", \"\").strip().split(\", \") if isinstance(x, str) else None\n",
    ")"
   ]
  },
  {
   "cell_type": "code",
   "execution_count": null,
   "metadata": {},
   "outputs": [],
   "source": [
    "df[\"votes\"] = pd.to_numeric(df[\"VOTES\"].str.replace(\",\", \"\"), errors=\"coerce\")"
   ]
  },
  {
   "cell_type": "code",
   "execution_count": null,
   "metadata": {},
   "outputs": [],
   "source": [
    "df[\"gross\"] = pd.to_numeric(df[\"Gross\"].str.strip(\"$M\"), errors=\"coerce\")"
   ]
  },
  {
   "cell_type": "code",
   "execution_count": null,
   "metadata": {},
   "outputs": [],
   "source": [
    "for i in df.Gross.unique():\n",
    "    print(i)"
   ]
  },
  {
   "cell_type": "code",
   "execution_count": null,
   "metadata": {},
   "outputs": [],
   "source": [
    "from sqlalchemy import create_engine\n",
    "\n",
    "db_params = {\n",
    "    \"dbname\": \"postgres\",\n",
    "    \"user\": \"postgres\",\n",
    "    \"password\": \"postgres\",\n",
    "    \"host\": \"localhost\",  # Change to your database host\n",
    "    \"port\": \"5432\",  # Change to your database port\n",
    "}\n",
    "db_url = f\"postgresql://{db_params['user']}:{db_params['password']}@{db_params['host']}:{db_params['port']}/{db_params['dbname']}\"\n",
    "engine = create_engine(db_url)"
   ]
  },
  {
   "cell_type": "code",
   "execution_count": null,
   "metadata": {},
   "outputs": [],
   "source": [
    "df_final = df.rename(\n",
    "    columns={\"ONE-LINE\": \"one_line\", \"RATING\": \"rating\", \"RunTime\": \"run_time\"}\n",
    ")[\n",
    "    [\n",
    "        \"title\",\n",
    "        \"year_start\",\n",
    "        \"year_end\",\n",
    "        \"genres\",\n",
    "        \"rating\",\n",
    "        \"one_line\",\n",
    "        \"directors\",\n",
    "        \"stars\",\n",
    "        \"votes\",\n",
    "        \"run_time\",\n",
    "        \"gross\",\n",
    "    ]\n",
    "]"
   ]
  },
  {
   "cell_type": "code",
   "execution_count": null,
   "metadata": {},
   "outputs": [],
   "source": [
    "# df_final.to_sql(name='movies', con=engine, schema='public', if_exists='replace', method='multi', index=False)"
   ]
  },
  {
   "cell_type": "code",
   "execution_count": null,
   "metadata": {},
   "outputs": [],
   "source": [
    "df = df_final"
   ]
  },
  {
   "cell_type": "markdown",
   "metadata": {},
   "source": [
    "# Normalize"
   ]
  },
  {
   "cell_type": "code",
   "execution_count": null,
   "metadata": {},
   "outputs": [],
   "source": [
    "def explode_list(df, col_name):\n",
    "    df_temp = df[col_name].explode().reset_index(drop=True)\n",
    "    df_temp.rename(columns={col_name: \"name\"}, inplace=True)\n",
    "    return df_temp"
   ]
  },
  {
   "cell_type": "code",
   "execution_count": null,
   "metadata": {},
   "outputs": [],
   "source": [
    "directors_df = df[\"directors\"].explode().reset_index(drop=True).unique()\n",
    "\n",
    "stars_df = df[\"stars\"].explode().reset_index(drop=True).unique()\n",
    "\n",
    "genres_df = df[\"genres\"].explode().reset_index(drop=True).unique()"
   ]
  },
  {
   "cell_type": "code",
   "execution_count": null,
   "metadata": {},
   "outputs": [],
   "source": [
    "import psycopg2\n",
    "\n",
    "conn = psycopg2.connect(\n",
    "    database=\"postgres\", user=\"postgres\", password=\"postgres\", host=\"localhost\"\n",
    ")\n",
    "cur = conn.cursor()"
   ]
  },
  {
   "cell_type": "code",
   "execution_count": null,
   "metadata": {},
   "outputs": [],
   "source": [
    "# # Define table creation statements (assuming tables don't exist)\n",
    "# create_movies_table = \"\"\"\n",
    "# CREATE TABLE IF NOT EXISTS movies (\n",
    "#   movie_id SERIAL PRIMARY KEY,\n",
    "#   title VARCHAR ,\n",
    "#   year_start INTEGER,\n",
    "#   year_end INTEGER,\n",
    "#   rating FLOAT,\n",
    "#   one_line TEXT\n",
    "# );\n",
    "# \"\"\"\n",
    "\n",
    "# create_directors_table = \"\"\"\n",
    "# CREATE TABLE IF NOT EXISTS directors (\n",
    "#   director_id SERIAL PRIMARY KEY,\n",
    "#   name VARCHAR\n",
    "# );\n",
    "# \"\"\"\n",
    "\n",
    "# create_stars_table = \"\"\"\n",
    "# CREATE TABLE IF NOT EXISTS stars (\n",
    "#   star_id SERIAL PRIMARY KEY,\n",
    "#   name VARCHAR\n",
    "# );\n",
    "# \"\"\"\n",
    "\n",
    "# create_genres_table = \"\"\"\n",
    "# CREATE TABLE IF NOT EXISTS genres (\n",
    "#   genre_id SERIAL PRIMARY KEY,\n",
    "#   name VARCHAR\n",
    "# );\n",
    "# \"\"\"\n",
    "\n",
    "# # Execute the CREATE TABLE statements you defined earlier\n",
    "# cur.execute(create_directors_table)\n",
    "# cur.execute(create_stars_table)\n",
    "# cur.execute(create_genres_table)\n",
    "# cur.execute(create_movies_table)\n",
    "# conn.commit()"
   ]
  },
  {
   "cell_type": "code",
   "execution_count": null,
   "metadata": {},
   "outputs": [],
   "source": [
    "def insert_unique_col(lst, tbl_name):\n",
    "    for value in lst:\n",
    "        if value is not None:\n",
    "            cur.execute(\n",
    "                f\"INSERT INTO {tbl_name} (name) VALUES (%s) ON CONFLICT DO NOTHING;\",\n",
    "                (value,),\n",
    "            )\n",
    "            conn.commit()"
   ]
  },
  {
   "cell_type": "code",
   "execution_count": null,
   "metadata": {},
   "outputs": [],
   "source": [
    "# insert_unique_col(directors_df, 'directors')\n",
    "# insert_unique_col(stars_df, 'stars')\n",
    "# insert_unique_col(genres_df, 'genres')"
   ]
  },
  {
   "cell_type": "code",
   "execution_count": null,
   "metadata": {},
   "outputs": [],
   "source": []
  },
  {
   "cell_type": "code",
   "execution_count": null,
   "metadata": {},
   "outputs": [],
   "source": [
    "# df.explode('genres')"
   ]
  },
  {
   "cell_type": "markdown",
   "metadata": {},
   "source": [
    "# Option 2"
   ]
  },
  {
   "cell_type": "code",
   "execution_count": null,
   "metadata": {},
   "outputs": [],
   "source": [
    "df[\"movie_id\"] = df.index"
   ]
  },
  {
   "cell_type": "code",
   "execution_count": null,
   "metadata": {},
   "outputs": [],
   "source": []
  },
  {
   "cell_type": "code",
   "execution_count": null,
   "metadata": {},
   "outputs": [],
   "source": []
  },
  {
   "cell_type": "code",
   "execution_count": null,
   "metadata": {},
   "outputs": [],
   "source": []
  },
  {
   "cell_type": "code",
   "execution_count": null,
   "metadata": {},
   "outputs": [],
   "source": []
  },
  {
   "cell_type": "code",
   "execution_count": null,
   "metadata": {},
   "outputs": [],
   "source": [
    "movie_genre_df"
   ]
  },
  {
   "cell_type": "code",
   "execution_count": null,
   "metadata": {},
   "outputs": [],
   "source": [
    "## Normalize Genres\n",
    "movie_genre_df = df.explode(\"genres\")[[\"movie_id\", \"genres\"]]\n",
    "genres_df = pd.DataFrame(\n",
    "    movie_genre_df[\"genres\"].explode().unique(), columns=[\"genre_name\"]\n",
    ")\n",
    "genres_df[\"genre_id\"] = genres_df.index\n",
    "movie_genre_df = movie_genre_df.merge(\n",
    "    genres_df, left_on=\"genres\", right_on=\"genre_name\", how=\"left\"\n",
    ")[[\"movie_id\", \"genre_id\"]]\n",
    "\n",
    "## Normalize Directors\n",
    "movie_director_df = df.explode(\"directors\")[[\"movie_id\", \"directors\"]]\n",
    "directors_df = pd.DataFrame(\n",
    "    movie_director_df[\"directors\"].explode().unique(), columns=[\"director_name\"]\n",
    ")\n",
    "directors_df[\"director_id\"] = directors_df.index\n",
    "movie_director_df = movie_director_df.merge(\n",
    "    directors_df, left_on=\"directors\", right_on=\"director_name\", how=\"left\"\n",
    ")[[\"movie_id\", \"director_id\"]]\n",
    "\n",
    "## Normalize Stars (Actors)\n",
    "movie_star_df = df.explode(\"stars\")[[\"movie_id\", \"stars\"]]\n",
    "stars_df = pd.DataFrame(\n",
    "    movie_star_df[\"stars\"].explode().unique(), columns=[\"actor_name\"]\n",
    ")\n",
    "stars_df[\"actor_id\"] = stars_df.index\n",
    "movie_star_df = movie_star_df.merge(\n",
    "    stars_df, left_on=\"stars\", right_on=\"actor_name\", how=\"left\"\n",
    ")[[\"movie_id\", \"actor_id\"]]"
   ]
  },
  {
   "cell_type": "code",
   "execution_count": null,
   "metadata": {},
   "outputs": [],
   "source": [
    "movies_df = df.drop(columns=[\"directors\", \"stars\", \"genres\"])"
   ]
  },
  {
   "cell_type": "code",
   "execution_count": null,
   "metadata": {},
   "outputs": [],
   "source": [
    "movies_df.to_sql(\n",
    "    name=\"movies\",\n",
    "    con=engine,\n",
    "    schema=\"public\",\n",
    "    if_exists=\"replace\",\n",
    "    method=\"multi\",\n",
    "    index=False,\n",
    ")\n",
    "movies_df.to_sql(\"movies\", engine, if_exists=\"replace\", index=False)\n",
    "genres_df.to_sql(\"genres\", engine, if_exists=\"replace\", index=False)\n",
    "directors_df.to_sql(\"directors\", engine, if_exists=\"replace\", index=False)\n",
    "stars_df.to_sql(\"stars\", engine, if_exists=\"replace\", index=False)\n",
    "movie_genre_df.to_sql(\"movie_genres\", engine, if_exists=\"replace\", index=False)\n",
    "movie_director_df.to_sql(\"movie_directors\", engine, if_exists=\"replace\", index=False)\n",
    "movie_star_df.to_sql(\"movie_stars\", engine, if_exists=\"replace\", index=False)"
   ]
  },
  {
   "cell_type": "code",
   "execution_count": 112,
   "metadata": {},
   "outputs": [],
   "source": [
    "!jupyter nbconvert --to script main.ipynb"
   ]
  }
 ],
 "metadata": {
  "kernelspec": {
   "display_name": "Python 3",
   "language": "python",
   "name": "python3"
  },
  "language_info": {
   "codemirror_mode": {
    "name": "ipython",
    "version": 3
   },
   "file_extension": ".py",
   "mimetype": "text/x-python",
   "name": "python",
   "nbconvert_exporter": "python",
   "pygments_lexer": "ipython3",
   "version": "3.12.1"
  }
 },
 "nbformat": 4,
 "nbformat_minor": 2
}
