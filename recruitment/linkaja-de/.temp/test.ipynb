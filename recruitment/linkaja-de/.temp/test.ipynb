{
 "cells": [
  {
   "cell_type": "code",
   "execution_count": null,
   "metadata": {},
   "outputs": [],
   "source": [
    "from sqlalchemy import create_engine\n",
    "\n",
    "db_params = {\n",
    "    \"dbname\": \"postgres\",\n",
    "    \"user\": \"postgres\",\n",
    "    \"password\": \"postgres\",\n",
    "    \"host\": \"127.0.0.1\",  # Change to your database host\n",
    "    \"port\": \"5432\",  # Change to your database port\n",
    "}\n",
    "db_url = f\"postgresql://{db_params['user']}:{db_params['password']}@{db_params['host']}:{db_params['port']}/{db_params['dbname']}\"\n",
    "engine = create_engine(db_url)"
   ]
  },
  {
   "cell_type": "markdown",
   "metadata": {},
   "source": [
    "[download data](https://github.com/ichsanulamal/datasets/raw/main/IMDB-Movie-Data.csv)"
   ]
  },
  {
   "cell_type": "code",
   "execution_count": null,
   "metadata": {},
   "outputs": [],
   "source": [
    "import pandas as pd\n",
    "\n",
    "df = pd.read_csv(\"IMDB-Movie-Data.csv\")\n",
    "df.info()"
   ]
  },
  {
   "cell_type": "code",
   "execution_count": null,
   "metadata": {},
   "outputs": [],
   "source": [
    "df.to_sql(\n",
    "    name=\"movies\",\n",
    "    con=engine,\n",
    "    schema=\"public\",\n",
    "    if_exists=\"replace\",\n",
    "    method=\"multi\",\n",
    "    index=False,\n",
    ")"
   ]
  },
  {
   "cell_type": "code",
   "execution_count": null,
   "metadata": {},
   "outputs": [],
   "source": [
    "def print_triangle_pyramid(lst):\n",
    "    # Calculate the number of rows needed for the pyramid\n",
    "    rows = int((len(lst) * 2) ** 0.5)\n",
    "\n",
    "    # Initialize the index for accessing elements in the list\n",
    "    index = 0\n",
    "\n",
    "    # Iterate through each row\n",
    "    for i in range(1, rows + 1):\n",
    "        # Print spaces to align elements properly\n",
    "        print(\" \" * (rows - i), end=\"\")\n",
    "\n",
    "        # Print elements for the current row\n",
    "        for j in range(i):\n",
    "            # Check if index is still within the list range\n",
    "            if index < len(lst):\n",
    "                print(lst[index], end=\" \")\n",
    "                index += 1\n",
    "            else:\n",
    "                break\n",
    "        # Move to the next line after printing all elements in the current row\n",
    "        print()\n",
    "\n",
    "\n",
    "# Example list\n",
    "my_list = [1, 2, 3, 4, 5, 6, 7, 8, 9, 10, 11, 12, 13, 14, 15]\n",
    "\n",
    "# Print the triangle pyramid\n",
    "print_triangle_pyramid(my_list)"
   ]
  },
  {
   "cell_type": "code",
   "execution_count": null,
   "metadata": {},
   "outputs": [],
   "source": [
    "def golomb(n):\n",
    "    dp = [0] * (n + 1)\n",
    "\n",
    "    # base cases\n",
    "    dp[1] = 1\n",
    "\n",
    "    # Finding and print first\n",
    "    # n terms of Golomb Sequence.\n",
    "    for i in range(2, n + 1):\n",
    "        dp[i] = 1 + dp[i - dp[dp[i - 1]]]\n",
    "\n",
    "    return dp"
   ]
  },
  {
   "cell_type": "code",
   "execution_count": null,
   "metadata": {},
   "outputs": [],
   "source": [
    "def num_element(n):\n",
    "    # dp = [0] * n\n",
    "\n",
    "    # dp[0] = 1\n",
    "\n",
    "    # for i in range(1, n):\n",
    "    #     dp[i] = dp[i-1] + (i+1)\n",
    "\n",
    "    # return dp[n-1]\n",
    "\n",
    "    return int(n / 2 * (1 + n))\n",
    "\n",
    "\n",
    "print_triangle_pyramid(golomb(num_element(10))[1:])"
   ]
  }
 ],
 "metadata": {
  "kernelspec": {
   "display_name": "base",
   "language": "python",
   "name": "python3"
  },
  "language_info": {
   "codemirror_mode": {
    "name": "ipython",
    "version": 3
   },
   "file_extension": ".py",
   "mimetype": "text/x-python",
   "name": "python",
   "nbconvert_exporter": "python",
   "pygments_lexer": "ipython3",
   "version": "3.12.2"
  }
 },
 "nbformat": 4,
 "nbformat_minor": 2
}
