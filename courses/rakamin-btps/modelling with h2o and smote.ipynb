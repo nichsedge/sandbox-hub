{
 "cells": [
  {
   "cell_type": "code",
   "execution_count": null,
   "metadata": {
    "_kg_hide-input": true,
    "execution": {
     "iopub.execute_input": "2021-01-18T15:57:01.843192Z",
     "iopub.status.busy": "2021-01-18T15:57:01.842533Z",
     "iopub.status.idle": "2021-01-18T15:57:06.210680Z",
     "shell.execute_reply": "2021-01-18T15:57:06.211217Z"
    },
    "papermill": {
     "duration": 4.418805,
     "end_time": "2021-01-18T15:57:06.211379",
     "exception": false,
     "start_time": "2021-01-18T15:57:01.792574",
     "status": "completed"
    },
    "tags": []
   },
   "outputs": [],
   "source": [
    "import plotly.express as px\n",
    "import plotly.graph_objects as go\n",
    "import plotly.figure_factory as ff\n",
    "from plotly.subplots import make_subplots\n",
    "import matplotlib.pyplot as plt\n",
    "\n",
    "from pandas_profiling import ProfileReport\n",
    "import seaborn as sns\n",
    "from sklearn import metrics\n",
    "\n",
    "from copy import deepcopy\n",
    "\n",
    "import h2o"
   ]
  },
  {
   "cell_type": "code",
   "execution_count": null,
   "metadata": {
    "_cell_guid": "b1076dfc-b9ad-4769-8c92-a6c4dae69d19",
    "_kg_hide-input": true,
    "_uuid": "8f2839f25d086af736a60e9eeb907d3b93b6e0e5",
    "execution": {
     "iopub.execute_input": "2021-01-18T15:57:06.294410Z",
     "iopub.status.busy": "2021-01-18T15:57:06.293777Z",
     "iopub.status.idle": "2021-01-18T15:57:06.312356Z",
     "shell.execute_reply": "2021-01-18T15:57:06.311807Z"
    },
    "papermill": {
     "duration": 0.060756,
     "end_time": "2021-01-18T15:57:06.312450",
     "exception": false,
     "start_time": "2021-01-18T15:57:06.251694",
     "status": "completed"
    },
    "tags": []
   },
   "outputs": [],
   "source": [
    "import numpy as np  # linear algebra\n",
    "import pandas as pd  # data processing, CSV file I/O (e.g. pd.read_csv)"
   ]
  },
  {
   "attachments": {},
   "cell_type": "markdown",
   "metadata": {
    "papermill": {
     "duration": 0.040014,
     "end_time": "2021-01-18T15:57:06.393033",
     "exception": false,
     "start_time": "2021-01-18T15:57:06.353019",
     "status": "completed"
    },
    "tags": []
   },
   "source": [
    "# 1. Data Overview"
   ]
  },
  {
   "cell_type": "code",
   "execution_count": null,
   "metadata": {
    "_cell_guid": "79c7e3d0-c299-4dcb-8224-4455121ee9b0",
    "_uuid": "d629ff2d2480ee46fbb7e2d37f6b5fab8052498a",
    "execution": {
     "iopub.execute_input": "2021-01-18T15:57:06.562488Z",
     "iopub.status.busy": "2021-01-18T15:57:06.561849Z",
     "iopub.status.idle": "2021-01-18T15:57:06.643619Z",
     "shell.execute_reply": "2021-01-18T15:57:06.643068Z"
    },
    "papermill": {
     "duration": 0.129153,
     "end_time": "2021-01-18T15:57:06.643733",
     "exception": false,
     "start_time": "2021-01-18T15:57:06.514580",
     "status": "completed"
    },
    "tags": []
   },
   "outputs": [],
   "source": [
    "df = pd.read_csv(\"CLEAN_customer_data_history.csv\")"
   ]
  },
  {
   "cell_type": "code",
   "execution_count": null,
   "metadata": {},
   "outputs": [],
   "source": [
    "df.columns"
   ]
  },
  {
   "cell_type": "code",
   "execution_count": null,
   "metadata": {
    "execution": {
     "iopub.execute_input": "2021-01-18T15:57:06.755446Z",
     "iopub.status.busy": "2021-01-18T15:57:06.740826Z",
     "iopub.status.idle": "2021-01-18T15:57:06.775333Z",
     "shell.execute_reply": "2021-01-18T15:57:06.774730Z"
    },
    "papermill": {
     "duration": 0.090106,
     "end_time": "2021-01-18T15:57:06.775464",
     "exception": false,
     "start_time": "2021-01-18T15:57:06.685358",
     "status": "completed"
    },
    "tags": []
   },
   "outputs": [],
   "source": [
    "# Lets delete those strange variables\n",
    "df = df.drop([\"Clientnum\"], axis=1)\n",
    "\n",
    "df.head()"
   ]
  },
  {
   "cell_type": "code",
   "execution_count": null,
   "metadata": {
    "execution": {
     "iopub.execute_input": "2021-01-18T15:57:06.891918Z",
     "iopub.status.busy": "2021-01-18T15:57:06.891305Z",
     "iopub.status.idle": "2021-01-18T15:58:06.578717Z",
     "shell.execute_reply": "2021-01-18T15:58:06.579163Z"
    },
    "papermill": {
     "duration": 59.760487,
     "end_time": "2021-01-18T15:58:06.579292",
     "exception": false,
     "start_time": "2021-01-18T15:57:06.818805",
     "status": "completed"
    },
    "tags": []
   },
   "outputs": [],
   "source": [
    "credit_card_report = ProfileReport(df)"
   ]
  },
  {
   "cell_type": "code",
   "execution_count": null,
   "metadata": {
    "execution": {
     "iopub.execute_input": "2021-01-18T15:58:06.680021Z",
     "iopub.status.busy": "2021-01-18T15:58:06.679381Z",
     "iopub.status.idle": "2021-01-18T15:58:15.654672Z",
     "shell.execute_reply": "2021-01-18T15:58:15.357867Z"
    },
    "papermill": {
     "duration": 9.02732,
     "end_time": "2021-01-18T15:58:15.654797",
     "exception": false,
     "start_time": "2021-01-18T15:58:06.627477",
     "status": "completed"
    },
    "tags": []
   },
   "outputs": [],
   "source": [
    "credit_card_report"
   ]
  },
  {
   "attachments": {},
   "cell_type": "markdown",
   "metadata": {
    "papermill": {
     "duration": 0.551263,
     "end_time": "2021-01-18T15:58:16.758634",
     "exception": false,
     "start_time": "2021-01-18T15:58:16.207371",
     "status": "completed"
    },
    "tags": []
   },
   "source": [
    "**We have to consider that there are many variables that are categorical and we will have to encode them**"
   ]
  },
  {
   "cell_type": "code",
   "execution_count": null,
   "metadata": {
    "execution": {
     "iopub.execute_input": "2021-01-18T15:58:19.985233Z",
     "iopub.status.busy": "2021-01-18T15:58:19.984221Z",
     "iopub.status.idle": "2021-01-18T15:58:19.988656Z",
     "shell.execute_reply": "2021-01-18T15:58:19.989173Z"
    },
    "papermill": {
     "duration": 0.541674,
     "end_time": "2021-01-18T15:58:19.989316",
     "exception": false,
     "start_time": "2021-01-18T15:58:19.447642",
     "status": "completed"
    },
    "tags": []
   },
   "outputs": [],
   "source": [
    "from sklearn.preprocessing import LabelEncoder\n",
    "\n",
    "le = LabelEncoder()\n",
    "df[\"class\"] = le.fit_transform(df[\"Status\"])\n",
    "df = df.drop(\"Status\", axis=1)"
   ]
  },
  {
   "cell_type": "code",
   "execution_count": null,
   "metadata": {},
   "outputs": [],
   "source": [
    "df[\"class\"].value_counts()"
   ]
  },
  {
   "cell_type": "code",
   "execution_count": null,
   "metadata": {
    "execution": {
     "iopub.execute_input": "2021-01-18T15:58:21.015301Z",
     "iopub.status.busy": "2021-01-18T15:58:21.014665Z",
     "iopub.status.idle": "2021-01-18T15:58:21.020198Z",
     "shell.execute_reply": "2021-01-18T15:58:21.020687Z"
    },
    "papermill": {
     "duration": 0.518513,
     "end_time": "2021-01-18T15:58:21.020852",
     "exception": false,
     "start_time": "2021-01-18T15:58:20.502339",
     "status": "completed"
    },
    "tags": []
   },
   "outputs": [],
   "source": [
    "# Making a copy of the data to save the original data\n",
    "original_df = deepcopy(df)"
   ]
  },
  {
   "cell_type": "code",
   "execution_count": null,
   "metadata": {
    "execution": {
     "iopub.execute_input": "2021-01-18T15:58:22.087350Z",
     "iopub.status.busy": "2021-01-18T15:58:22.086449Z",
     "iopub.status.idle": "2021-01-18T15:58:22.091114Z",
     "shell.execute_reply": "2021-01-18T15:58:22.091588Z"
    },
    "papermill": {
     "duration": 0.557405,
     "end_time": "2021-01-18T15:58:22.091730",
     "exception": false,
     "start_time": "2021-01-18T15:58:21.534325",
     "status": "completed"
    },
    "tags": []
   },
   "outputs": [],
   "source": [
    "df = deepcopy(original_df)"
   ]
  },
  {
   "cell_type": "code",
   "execution_count": null,
   "metadata": {
    "execution": {
     "iopub.execute_input": "2021-01-18T15:58:24.166148Z",
     "iopub.status.busy": "2021-01-18T15:58:24.165104Z",
     "iopub.status.idle": "2021-01-18T15:58:24.171474Z",
     "shell.execute_reply": "2021-01-18T15:58:24.172025Z"
    },
    "papermill": {
     "duration": 0.546513,
     "end_time": "2021-01-18T15:58:24.172164",
     "exception": false,
     "start_time": "2021-01-18T15:58:23.625651",
     "status": "completed"
    },
    "tags": []
   },
   "outputs": [],
   "source": [
    "# Encode binary variables\n",
    "df[\"Gender\"] = df[\"Gender\"].map({\"M\": 1, \"F\": 0})"
   ]
  },
  {
   "cell_type": "code",
   "execution_count": null,
   "metadata": {},
   "outputs": [],
   "source": [
    "df[\"class\"].dtype"
   ]
  },
  {
   "attachments": {},
   "cell_type": "markdown",
   "metadata": {
    "papermill": {
     "duration": 0.514671,
     "end_time": "2021-01-18T15:58:25.198201",
     "exception": false,
     "start_time": "2021-01-18T15:58:24.683530",
     "status": "completed"
    },
    "tags": []
   },
   "source": [
    "## 2.1 One-Hot Encoding"
   ]
  },
  {
   "cell_type": "code",
   "execution_count": null,
   "metadata": {
    "execution": {
     "iopub.execute_input": "2021-01-18T15:58:27.322845Z",
     "iopub.status.busy": "2021-01-18T15:58:27.321697Z",
     "iopub.status.idle": "2021-01-18T15:58:27.333142Z",
     "shell.execute_reply": "2021-01-18T15:58:27.333623Z"
    },
    "papermill": {
     "duration": 0.546824,
     "end_time": "2021-01-18T15:58:27.333799",
     "exception": false,
     "start_time": "2021-01-18T15:58:26.786975",
     "status": "completed"
    },
    "tags": []
   },
   "outputs": [],
   "source": [
    "# Finding all the categorical columns from the data\n",
    "categorical_columns = df.select_dtypes(exclude=[\"int\", \"float\"]).columns\n",
    "numerical_columns = (\n",
    "    df.drop(\"class\", axis=1).select_dtypes(include=[\"int64\", \"float64\"]).columns\n",
    ")\n",
    "categorical_columns"
   ]
  },
  {
   "cell_type": "code",
   "execution_count": null,
   "metadata": {
    "execution": {
     "iopub.execute_input": "2021-01-18T15:58:28.361250Z",
     "iopub.status.busy": "2021-01-18T15:58:28.360209Z",
     "iopub.status.idle": "2021-01-18T15:58:28.365134Z",
     "shell.execute_reply": "2021-01-18T15:58:28.365957Z"
    },
    "papermill": {
     "duration": 0.514986,
     "end_time": "2021-01-18T15:58:28.366160",
     "exception": false,
     "start_time": "2021-01-18T15:58:27.851174",
     "status": "completed"
    },
    "tags": []
   },
   "outputs": [],
   "source": [
    "# One hot encoding independent variable x\n",
    "def encode_and_bind(original_dataframe, feature_to_encode):\n",
    "    dummies = pd.get_dummies(original_dataframe[[feature_to_encode]])\n",
    "    res = pd.concat([original_dataframe, dummies], axis=1)\n",
    "    res = res.drop([feature_to_encode], axis=1)\n",
    "    return res"
   ]
  },
  {
   "cell_type": "code",
   "execution_count": null,
   "metadata": {
    "execution": {
     "iopub.execute_input": "2021-01-18T15:58:29.445045Z",
     "iopub.status.busy": "2021-01-18T15:58:29.444017Z",
     "iopub.status.idle": "2021-01-18T15:58:29.498663Z",
     "shell.execute_reply": "2021-01-18T15:58:29.498088Z"
    },
    "papermill": {
     "duration": 0.575387,
     "end_time": "2021-01-18T15:58:29.498775",
     "exception": false,
     "start_time": "2021-01-18T15:58:28.923388",
     "status": "completed"
    },
    "tags": []
   },
   "outputs": [],
   "source": [
    "for feature in categorical_columns:\n",
    "    df = encode_and_bind(df, feature)\n",
    "\n",
    "df.head()"
   ]
  },
  {
   "cell_type": "code",
   "execution_count": null,
   "metadata": {
    "execution": {
     "iopub.execute_input": "2021-01-18T15:58:30.581772Z",
     "iopub.status.busy": "2021-01-18T15:58:30.581112Z",
     "iopub.status.idle": "2021-01-18T15:58:30.584700Z",
     "shell.execute_reply": "2021-01-18T15:58:30.585296Z"
    },
    "papermill": {
     "duration": 0.531835,
     "end_time": "2021-01-18T15:58:30.585426",
     "exception": false,
     "start_time": "2021-01-18T15:58:30.053591",
     "status": "completed"
    },
    "tags": []
   },
   "outputs": [],
   "source": [
    "df.shape"
   ]
  },
  {
   "cell_type": "code",
   "execution_count": null,
   "metadata": {
    "execution": {
     "iopub.execute_input": "2021-01-18T15:58:31.654197Z",
     "iopub.status.busy": "2021-01-18T15:58:31.653500Z",
     "iopub.status.idle": "2021-01-18T15:58:31.663381Z",
     "shell.execute_reply": "2021-01-18T15:58:31.663842Z"
    },
    "papermill": {
     "duration": 0.538369,
     "end_time": "2021-01-18T15:58:31.664009",
     "exception": false,
     "start_time": "2021-01-18T15:58:31.125640",
     "status": "completed"
    },
    "tags": []
   },
   "outputs": [],
   "source": [
    "# Generate x and y sets\n",
    "x = df.drop(\"class\", axis=1).values\n",
    "y = df[\"class\"]"
   ]
  },
  {
   "attachments": {},
   "cell_type": "markdown",
   "metadata": {
    "papermill": {
     "duration": 0.557727,
     "end_time": "2021-01-18T15:58:32.744994",
     "exception": false,
     "start_time": "2021-01-18T15:58:32.187267",
     "status": "completed"
    },
    "tags": []
   },
   "source": [
    "## 2.2 Lets try model a model with RAW data"
   ]
  },
  {
   "cell_type": "code",
   "execution_count": null,
   "metadata": {
    "execution": {
     "iopub.execute_input": "2021-01-18T15:58:33.803289Z",
     "iopub.status.busy": "2021-01-18T15:58:33.802269Z",
     "iopub.status.idle": "2021-01-18T15:58:33.837910Z",
     "shell.execute_reply": "2021-01-18T15:58:33.837215Z"
    },
    "papermill": {
     "duration": 0.5677,
     "end_time": "2021-01-18T15:58:33.838024",
     "exception": false,
     "start_time": "2021-01-18T15:58:33.270324",
     "status": "completed"
    },
    "tags": []
   },
   "outputs": [],
   "source": [
    "# Splitting the dataset into training set and test set\n",
    "from sklearn.model_selection import train_test_split\n",
    "\n",
    "x_train, x_test, y_train, y_test = train_test_split(\n",
    "    x, df[\"class\"], test_size=0.2, random_state=1234\n",
    ")"
   ]
  },
  {
   "cell_type": "code",
   "execution_count": null,
   "metadata": {
    "execution": {
     "iopub.execute_input": "2021-01-18T15:58:35.018542Z",
     "iopub.status.busy": "2021-01-18T15:58:35.017433Z",
     "iopub.status.idle": "2021-01-18T15:58:36.161344Z",
     "shell.execute_reply": "2021-01-18T15:58:36.161983Z"
    },
    "papermill": {
     "duration": 1.762195,
     "end_time": "2021-01-18T15:58:36.162181",
     "exception": false,
     "start_time": "2021-01-18T15:58:34.399986",
     "status": "completed"
    },
    "tags": []
   },
   "outputs": [],
   "source": [
    "from xgboost import XGBClassifier\n",
    "\n",
    "classifier = XGBClassifier(random_state=1234)\n",
    "classifier.fit(x_train, y_train)"
   ]
  },
  {
   "cell_type": "code",
   "execution_count": null,
   "metadata": {
    "execution": {
     "iopub.execute_input": "2021-01-18T15:58:37.274523Z",
     "iopub.status.busy": "2021-01-18T15:58:37.273491Z",
     "iopub.status.idle": "2021-01-18T15:58:37.289861Z",
     "shell.execute_reply": "2021-01-18T15:58:37.290561Z"
    },
    "papermill": {
     "duration": 0.546938,
     "end_time": "2021-01-18T15:58:37.290798",
     "exception": false,
     "start_time": "2021-01-18T15:58:36.743860",
     "status": "completed"
    },
    "tags": []
   },
   "outputs": [],
   "source": [
    "# Predicting the test set\n",
    "y_pred = classifier.predict(x_test)\n",
    "\n",
    "# Making the confusion matrix and calculating accuracy score\n",
    "accuracy = metrics.accuracy_score(y_test, y_pred)\n",
    "print(accuracy)\n",
    "\n",
    "fpr, tpr, thresholds = metrics.roc_curve(y_test, y_pred)\n",
    "auc = metrics.auc(fpr, tpr)\n",
    "print(auc)"
   ]
  },
  {
   "attachments": {},
   "cell_type": "markdown",
   "metadata": {
    "papermill": {
     "duration": 0.534411,
     "end_time": "2021-01-18T15:58:38.442466",
     "exception": false,
     "start_time": "2021-01-18T15:58:37.908055",
     "status": "completed"
    },
    "tags": []
   },
   "source": [
    "As the data is imbalanced, we should consider only the AUC, beacuse accuracy is not a good opion in these cases."
   ]
  },
  {
   "attachments": {},
   "cell_type": "markdown",
   "metadata": {
    "papermill": {
     "duration": 0.534084,
     "end_time": "2021-01-18T15:58:39.534322",
     "exception": false,
     "start_time": "2021-01-18T15:58:39.000238",
     "status": "completed"
    },
    "tags": []
   },
   "source": [
    "# 3. Over-Sampling | SMOTE\n",
    "\n",
    "To correct the problem of unbalancing the classes of the data set, I will use the SMOTE method.\n"
   ]
  },
  {
   "attachments": {},
   "cell_type": "markdown",
   "metadata": {
    "papermill": {
     "duration": 0.522475,
     "end_time": "2021-01-18T15:58:40.587517",
     "exception": false,
     "start_time": "2021-01-18T15:58:40.065042",
     "status": "completed"
    },
    "tags": []
   },
   "source": [
    "### SMOTE\n",
    "\n",
    "One approach to addressing imbalanced datasets is to oversample the minority class. The simplest approach involves duplicating examples in the minority class, although these examples don’t add any new information to the model. Instead, new examples can be synthesized from the existing examples. This is a type of data augmentation for the minority class and is referred to as the Synthetic Minority Oversampling Technique, or SMOTE for short.\n",
    "\n",
    "SMOTE works by selecting examples that are close in the feature space, drawing a line between the examples in the feature space and drawing a new sample at a point along that line.\n",
    "\n",
    "> SMOTE first selects a minority class instance a at random and finds its k nearest minority class neighbors. The synthetic instance is then created by choosing one of the k nearest neighbors b at random and connecting a and b to form a line segment in the feature space. The synthetic instances are generated as a convex combination of the two chosen instances a and b.\n",
    "\n",
    "Page 47, [Imbalanced Learning: Foundations, Algorithms, and Applications](https://www.amazon.com/dp/1118074629/ref=as_li_ss_tl?&linkCode=sl1&tag=inspiredalgor-20&linkId=615e87a9105582e292ad2b7e2c7ea339&language=en_US), 2013\n",
    "\n",
    "> The combination of SMOTE and under-sampling performs better than plain under-sampling.\n",
    "\n",
    "[SMOTE: Synthetic Minority Over-sampling Technique](https://arxiv.org/abs/1106.1813), 2011."
   ]
  },
  {
   "attachments": {
    "smote.png": {
     "image/png": "[encoded data removed]"
    }
   },
   "cell_type": "markdown",
   "metadata": {
    "papermill": {
     "duration": 0.522512,
     "end_time": "2021-01-18T15:58:41.638998",
     "exception": false,
     "start_time": "2021-01-18T15:58:41.116486",
     "status": "completed"
    },
    "tags": []
   },
   "source": [
    "![one-hot-encoding.png](attachment:smote.png)"
   ]
  },
  {
   "cell_type": "code",
   "execution_count": null,
   "metadata": {
    "execution": {
     "iopub.execute_input": "2021-01-18T15:58:42.699398Z",
     "iopub.status.busy": "2021-01-18T15:58:42.698500Z",
     "iopub.status.idle": "2021-01-18T15:58:43.046726Z",
     "shell.execute_reply": "2021-01-18T15:58:43.046087Z"
    },
    "papermill": {
     "duration": 0.882594,
     "end_time": "2021-01-18T15:58:43.046894",
     "exception": false,
     "start_time": "2021-01-18T15:58:42.164300",
     "status": "completed"
    },
    "tags": []
   },
   "outputs": [],
   "source": [
    "# Importing packages for SMOTE\n",
    "from imblearn.over_sampling import SMOTE\n",
    "from imblearn.over_sampling import BorderlineSMOTE\n",
    "from imblearn.under_sampling import RandomUnderSampler\n",
    "\n",
    "from imblearn.pipeline import Pipeline\n",
    "\n",
    "from collections import Counter"
   ]
  },
  {
   "cell_type": "code",
   "execution_count": null,
   "metadata": {
    "execution": {
     "iopub.execute_input": "2021-01-18T15:58:44.132095Z",
     "iopub.status.busy": "2021-01-18T15:58:44.130991Z",
     "iopub.status.idle": "2021-01-18T15:58:44.165263Z",
     "shell.execute_reply": "2021-01-18T15:58:44.165758Z"
    },
    "papermill": {
     "duration": 0.573572,
     "end_time": "2021-01-18T15:58:44.165909",
     "exception": false,
     "start_time": "2021-01-18T15:58:43.592337",
     "status": "completed"
    },
    "tags": []
   },
   "outputs": [],
   "source": [
    "sm = SMOTE(sampling_strategy=\"auto\", random_state=1234)\n",
    "x_sm, y_sm = sm.fit_resample(x_train, y_train)"
   ]
  },
  {
   "cell_type": "code",
   "execution_count": null,
   "metadata": {
    "execution": {
     "iopub.execute_input": "2021-01-18T15:58:45.228924Z",
     "iopub.status.busy": "2021-01-18T15:58:45.227911Z",
     "iopub.status.idle": "2021-01-18T15:58:45.241008Z",
     "shell.execute_reply": "2021-01-18T15:58:45.240337Z"
    },
    "papermill": {
     "duration": 0.553893,
     "end_time": "2021-01-18T15:58:45.241113",
     "exception": false,
     "start_time": "2021-01-18T15:58:44.687220",
     "status": "completed"
    },
    "tags": []
   },
   "outputs": [],
   "source": [
    "print(Counter(y_train))\n",
    "print(Counter(y_sm))"
   ]
  },
  {
   "cell_type": "code",
   "execution_count": null,
   "metadata": {
    "execution": {
     "iopub.execute_input": "2021-01-18T15:58:46.358878Z",
     "iopub.status.busy": "2021-01-18T15:58:46.358230Z",
     "iopub.status.idle": "2021-01-18T15:58:46.659678Z",
     "shell.execute_reply": "2021-01-18T15:58:46.659035Z"
    },
    "papermill": {
     "duration": 0.862026,
     "end_time": "2021-01-18T15:58:46.659824",
     "exception": false,
     "start_time": "2021-01-18T15:58:45.797798",
     "status": "completed"
    },
    "tags": []
   },
   "outputs": [],
   "source": [
    "fig = make_subplots(rows=1, cols=2, specs=[[{\"type\": \"pie\"}, {\"type\": \"pie\"}]])\n",
    "\n",
    "fig.add_trace(\n",
    "    go.Pie(\n",
    "        labels=list(Counter(y_train).keys()),\n",
    "        values=list(Counter(y_train).values()),\n",
    "        name=\"Original data\",\n",
    "    ),\n",
    "    row=1,\n",
    "    col=1,\n",
    ")\n",
    "\n",
    "fig.add_trace(\n",
    "    go.Pie(\n",
    "        labels=list(Counter(y_sm).keys()),\n",
    "        values=list(Counter(y_sm).values()),\n",
    "        name=\"SMOTE data\",\n",
    "    ),\n",
    "    row=1,\n",
    "    col=2,\n",
    ")\n",
    "\n",
    "fig.update_traces(textposition=\"inside\", hole=0.4, hoverinfo=\"value+percent+name\")\n",
    "fig.update_layout(\n",
    "    title_text=\"Class distribution\",\n",
    "    # Add annotations in the center of the donut pies.\n",
    "    annotations=[\n",
    "        dict(text=\"Original\", x=0.16, y=0.5, font_size=12, showarrow=False),\n",
    "        dict(text=\"SMOTE\", x=0.82, y=0.5, font_size=12, showarrow=False),\n",
    "    ],\n",
    ")\n",
    "fig.show()"
   ]
  },
  {
   "cell_type": "code",
   "execution_count": null,
   "metadata": {
    "execution": {
     "iopub.execute_input": "2021-01-18T15:58:47.731767Z",
     "iopub.status.busy": "2021-01-18T15:58:47.731069Z",
     "iopub.status.idle": "2021-01-18T15:58:47.734513Z",
     "shell.execute_reply": "2021-01-18T15:58:47.733859Z"
    },
    "papermill": {
     "duration": 0.54448,
     "end_time": "2021-01-18T15:58:47.734622",
     "exception": false,
     "start_time": "2021-01-18T15:58:47.190142",
     "status": "completed"
    },
    "tags": []
   },
   "outputs": [],
   "source": [
    "over = BorderlineSMOTE(sampling_strategy=0.3)\n",
    "under = RandomUnderSampler(sampling_strategy=0.6)\n",
    "\n",
    "steps = [(\"o\", over), (\"u\", under)]"
   ]
  },
  {
   "cell_type": "code",
   "execution_count": null,
   "metadata": {
    "execution": {
     "iopub.execute_input": "2021-01-18T15:58:48.842957Z",
     "iopub.status.busy": "2021-01-18T15:58:48.842152Z",
     "iopub.status.idle": "2021-01-18T15:58:48.934455Z",
     "shell.execute_reply": "2021-01-18T15:58:48.933876Z"
    },
    "papermill": {
     "duration": 0.639165,
     "end_time": "2021-01-18T15:58:48.934553",
     "exception": false,
     "start_time": "2021-01-18T15:58:48.295388",
     "status": "completed"
    },
    "tags": []
   },
   "outputs": [],
   "source": [
    "pipeline = Pipeline(steps=steps)\n",
    "\n",
    "# transform the dataset\n",
    "x_sm_us, y_sm_us = pipeline.fit_resample(x_train, y_train)\n",
    "\n",
    "print(Counter(y_train))\n",
    "print(Counter(y_sm_us))"
   ]
  },
  {
   "cell_type": "code",
   "execution_count": null,
   "metadata": {
    "execution": {
     "iopub.execute_input": "2021-01-18T15:58:50.019179Z",
     "iopub.status.busy": "2021-01-18T15:58:50.017932Z",
     "iopub.status.idle": "2021-01-18T15:58:50.022177Z",
     "shell.execute_reply": "2021-01-18T15:58:50.021694Z"
    },
    "papermill": {
     "duration": 0.540199,
     "end_time": "2021-01-18T15:58:50.022284",
     "exception": false,
     "start_time": "2021-01-18T15:58:49.482085",
     "status": "completed"
    },
    "tags": []
   },
   "outputs": [],
   "source": [
    "list(Counter(y_train).keys())"
   ]
  },
  {
   "cell_type": "code",
   "execution_count": null,
   "metadata": {
    "execution": {
     "iopub.execute_input": "2021-01-18T15:58:51.126623Z",
     "iopub.status.busy": "2021-01-18T15:58:51.125540Z",
     "iopub.status.idle": "2021-01-18T15:58:51.130536Z",
     "shell.execute_reply": "2021-01-18T15:58:51.131144Z"
    },
    "papermill": {
     "duration": 0.580622,
     "end_time": "2021-01-18T15:58:51.131281",
     "exception": false,
     "start_time": "2021-01-18T15:58:50.550659",
     "status": "completed"
    },
    "tags": []
   },
   "outputs": [],
   "source": [
    "fig = make_subplots(rows=1, cols=2, specs=[[{\"type\": \"pie\"}, {\"type\": \"pie\"}]])\n",
    "\n",
    "fig.add_trace(\n",
    "    go.Pie(\n",
    "        labels=list(Counter(y_train).keys()),\n",
    "        values=list(Counter(y_train).values()),\n",
    "        name=\"Original Data\",\n",
    "    ),\n",
    "    row=1,\n",
    "    col=1,\n",
    ")\n",
    "\n",
    "fig.add_trace(\n",
    "    go.Pie(\n",
    "        labels=list(Counter(y_sm_us).keys()),\n",
    "        values=list(Counter(y_sm_us).values()),\n",
    "        name=\"SMOTE and US data\",\n",
    "    ),\n",
    "    row=1,\n",
    "    col=2,\n",
    ")\n",
    "\n",
    "fig.update_traces(textposition=\"inside\", hole=0.4, hoverinfo=\"percent+name+value\")\n",
    "fig.update_layout(\n",
    "    title_text=\"Class distribution\",\n",
    "    # Add annotations in the center of the donut pies.\n",
    "    annotations=[\n",
    "        dict(text=\"Original\", x=0.16, y=0.5, font_size=12, showarrow=False),\n",
    "        dict(text=\"SMOTE and UnderSample\", x=0.9, y=0.5, font_size=12, showarrow=False),\n",
    "    ],\n",
    ")\n",
    "fig.show()"
   ]
  },
  {
   "attachments": {},
   "cell_type": "markdown",
   "metadata": {
    "papermill": {
     "duration": 0.526377,
     "end_time": "2021-01-18T15:58:52.213583",
     "exception": false,
     "start_time": "2021-01-18T15:58:51.687206",
     "status": "completed"
    },
    "tags": []
   },
   "source": [
    "## 3.1 Lets try model a model with SMOTE data"
   ]
  },
  {
   "cell_type": "code",
   "execution_count": null,
   "metadata": {
    "execution": {
     "iopub.execute_input": "2021-01-18T15:58:53.303069Z",
     "iopub.status.busy": "2021-01-18T15:58:53.302409Z",
     "iopub.status.idle": "2021-01-18T15:58:54.752865Z",
     "shell.execute_reply": "2021-01-18T15:58:54.753518Z"
    },
    "papermill": {
     "duration": 2.014007,
     "end_time": "2021-01-18T15:58:54.753699",
     "exception": false,
     "start_time": "2021-01-18T15:58:52.739692",
     "status": "completed"
    },
    "tags": []
   },
   "outputs": [],
   "source": [
    "classifier = XGBClassifier(random_state=1234)\n",
    "classifier.fit(x_sm, y_sm)"
   ]
  },
  {
   "cell_type": "code",
   "execution_count": null,
   "metadata": {
    "execution": {
     "iopub.execute_input": "2021-01-18T15:58:55.877039Z",
     "iopub.status.busy": "2021-01-18T15:58:55.876062Z",
     "iopub.status.idle": "2021-01-18T15:58:55.891507Z",
     "shell.execute_reply": "2021-01-18T15:58:55.892356Z"
    },
    "papermill": {
     "duration": 0.547624,
     "end_time": "2021-01-18T15:58:55.892567",
     "exception": false,
     "start_time": "2021-01-18T15:58:55.344943",
     "status": "completed"
    },
    "tags": []
   },
   "outputs": [],
   "source": [
    "# Predicting the test set\n",
    "y_pred = classifier.predict(x_test)\n",
    "\n",
    "# Making the confusion matrix and calculating accuracy score\n",
    "accuracy = metrics.accuracy_score(y_test, y_pred)\n",
    "print(accuracy)\n",
    "\n",
    "fpr, tpr, thresholds = metrics.roc_curve(y_test, y_pred)\n",
    "auc = metrics.auc(fpr, tpr)\n",
    "print(auc)"
   ]
  },
  {
   "attachments": {},
   "cell_type": "markdown",
   "metadata": {
    "papermill": {
     "duration": 0.565696,
     "end_time": "2021-01-18T15:58:57.054290",
     "exception": false,
     "start_time": "2021-01-18T15:58:56.488594",
     "status": "completed"
    },
    "tags": []
   },
   "source": [
    "As we can see, **with SMOTE we have improved the AUC** ."
   ]
  },
  {
   "cell_type": "code",
   "execution_count": null,
   "metadata": {
    "execution": {
     "iopub.execute_input": "2021-01-18T15:58:58.165939Z",
     "iopub.status.busy": "2021-01-18T15:58:58.165300Z",
     "iopub.status.idle": "2021-01-18T15:58:58.724930Z",
     "shell.execute_reply": "2021-01-18T15:58:58.725616Z"
    },
    "papermill": {
     "duration": 1.136125,
     "end_time": "2021-01-18T15:58:58.725794",
     "exception": false,
     "start_time": "2021-01-18T15:58:57.589669",
     "status": "completed"
    },
    "tags": []
   },
   "outputs": [],
   "source": [
    "classifier = XGBClassifier(random_state=1234)\n",
    "classifier.fit(x_sm_us, y_sm_us)"
   ]
  },
  {
   "cell_type": "code",
   "execution_count": null,
   "metadata": {
    "execution": {
     "iopub.execute_input": "2021-01-18T15:58:59.841507Z",
     "iopub.status.busy": "2021-01-18T15:58:59.840630Z",
     "iopub.status.idle": "2021-01-18T15:58:59.858115Z",
     "shell.execute_reply": "2021-01-18T15:58:59.858813Z"
    },
    "papermill": {
     "duration": 0.552029,
     "end_time": "2021-01-18T15:58:59.858974",
     "exception": false,
     "start_time": "2021-01-18T15:58:59.306945",
     "status": "completed"
    },
    "tags": []
   },
   "outputs": [],
   "source": [
    "# Predicting the test set\n",
    "y_pred = classifier.predict(x_test)\n",
    "\n",
    "# Making the confusion matrix and calculating accuracy score\n",
    "accuracy = metrics.accuracy_score(y_test, y_pred)\n",
    "print(accuracy)\n",
    "\n",
    "fpr, tpr, thresholds = metrics.roc_curve(y_test, y_pred)\n",
    "auc = metrics.auc(fpr, tpr)\n",
    "print(auc)"
   ]
  },
  {
   "attachments": {},
   "cell_type": "markdown",
   "metadata": {
    "papermill": {
     "duration": 0.527014,
     "end_time": "2021-01-18T15:59:00.973670",
     "exception": false,
     "start_time": "2021-01-18T15:59:00.446656",
     "status": "completed"
    },
    "tags": []
   },
   "source": [
    "As we can see, **with SMOTE and Random Undersaampling we have improved the AUC** ."
   ]
  },
  {
   "attachments": {},
   "cell_type": "markdown",
   "metadata": {
    "papermill": {
     "duration": 0.532779,
     "end_time": "2021-01-18T15:59:02.031640",
     "exception": false,
     "start_time": "2021-01-18T15:59:01.498861",
     "status": "completed"
    },
    "tags": []
   },
   "source": [
    "## 3.2 Generate new DataFrame with SMOTE and UnderSampling data"
   ]
  },
  {
   "cell_type": "code",
   "execution_count": null,
   "metadata": {
    "execution": {
     "iopub.execute_input": "2021-01-18T15:59:03.086320Z",
     "iopub.status.busy": "2021-01-18T15:59:03.085511Z",
     "iopub.status.idle": "2021-01-18T15:59:03.088548Z",
     "shell.execute_reply": "2021-01-18T15:59:03.089114Z"
    },
    "papermill": {
     "duration": 0.536131,
     "end_time": "2021-01-18T15:59:03.089245",
     "exception": false,
     "start_time": "2021-01-18T15:59:02.553114",
     "status": "completed"
    },
    "tags": []
   },
   "outputs": [],
   "source": [
    "# Names of the independent variables\n",
    "feature_names = list(df.drop(\"class\", axis=1).columns)"
   ]
  },
  {
   "cell_type": "code",
   "execution_count": null,
   "metadata": {
    "execution": {
     "iopub.execute_input": "2021-01-18T15:59:04.192501Z",
     "iopub.status.busy": "2021-01-18T15:59:04.191562Z",
     "iopub.status.idle": "2021-01-18T15:59:04.197025Z",
     "shell.execute_reply": "2021-01-18T15:59:04.197518Z"
    },
    "papermill": {
     "duration": 0.574348,
     "end_time": "2021-01-18T15:59:04.197649",
     "exception": false,
     "start_time": "2021-01-18T15:59:03.623301",
     "status": "completed"
    },
    "tags": []
   },
   "outputs": [],
   "source": [
    "# Concatenate train (with resampling) and test sets to build the new dataframe\n",
    "sm_us_x = np.concatenate((x_sm_us, x_test))\n",
    "sm_us_y = np.concatenate((y_sm_us, y_test))"
   ]
  },
  {
   "cell_type": "code",
   "execution_count": null,
   "metadata": {
    "execution": {
     "iopub.execute_input": "2021-01-18T15:59:05.261042Z",
     "iopub.status.busy": "2021-01-18T15:59:05.259950Z",
     "iopub.status.idle": "2021-01-18T15:59:05.290685Z",
     "shell.execute_reply": "2021-01-18T15:59:05.291113Z"
    },
    "papermill": {
     "duration": 0.565815,
     "end_time": "2021-01-18T15:59:05.291249",
     "exception": false,
     "start_time": "2021-01-18T15:59:04.725434",
     "status": "completed"
    },
    "tags": []
   },
   "outputs": [],
   "source": [
    "sm_us_df = pd.DataFrame(\n",
    "    np.column_stack([sm_us_y, sm_us_x]), columns=[\"class\"] + feature_names\n",
    ")\n",
    "sm_us_df.head()"
   ]
  },
  {
   "attachments": {},
   "cell_type": "markdown",
   "metadata": {
    "papermill": {
     "duration": 0.559096,
     "end_time": "2021-01-18T15:59:06.415569",
     "exception": false,
     "start_time": "2021-01-18T15:59:05.856473",
     "status": "completed"
    },
    "tags": []
   },
   "source": [
    "# 4. Feature Selection\n",
    "\n",
    "Now we are going to select the top features for the model (because we have done One-Hot-Encoding and there are to many variables at the moment).\n",
    "There are different ways to do this:\n",
    "* **PCA**: To select the top features\n",
    "* **Train a model**: select the top importance variables for a simple tree\n",
    "* etc\n",
    "\n",
    "We are going to use the second choice"
   ]
  },
  {
   "cell_type": "code",
   "execution_count": null,
   "metadata": {
    "execution": {
     "iopub.execute_input": "2021-01-18T15:59:07.489548Z",
     "iopub.status.busy": "2021-01-18T15:59:07.488507Z",
     "iopub.status.idle": "2021-01-18T15:59:08.430215Z",
     "shell.execute_reply": "2021-01-18T15:59:08.429696Z"
    },
    "papermill": {
     "duration": 1.481773,
     "end_time": "2021-01-18T15:59:08.430313",
     "exception": false,
     "start_time": "2021-01-18T15:59:06.948540",
     "status": "completed"
    },
    "tags": []
   },
   "outputs": [],
   "source": [
    "from sklearn.ensemble import RandomForestClassifier\n",
    "\n",
    "rf_clf = RandomForestClassifier(random_state=1234)\n",
    "rf_clf.fit(x_sm_us, y_sm_us)"
   ]
  },
  {
   "cell_type": "code",
   "execution_count": null,
   "metadata": {
    "_kg_hide-output": true,
    "execution": {
     "iopub.execute_input": "2021-01-18T15:59:09.531659Z",
     "iopub.status.busy": "2021-01-18T15:59:09.530511Z",
     "iopub.status.idle": "2021-01-18T15:59:09.544897Z",
     "shell.execute_reply": "2021-01-18T15:59:09.545444Z"
    },
    "papermill": {
     "duration": 0.589544,
     "end_time": "2021-01-18T15:59:09.545577",
     "exception": false,
     "start_time": "2021-01-18T15:59:08.956033",
     "status": "completed"
    },
    "tags": []
   },
   "outputs": [],
   "source": [
    "rf_clf.feature_importances_"
   ]
  },
  {
   "cell_type": "code",
   "execution_count": null,
   "metadata": {
    "execution": {
     "iopub.execute_input": "2021-01-18T15:59:10.591370Z",
     "iopub.status.busy": "2021-01-18T15:59:10.590402Z",
     "iopub.status.idle": "2021-01-18T15:59:10.606622Z",
     "shell.execute_reply": "2021-01-18T15:59:10.607163Z"
    },
    "papermill": {
     "duration": 0.540756,
     "end_time": "2021-01-18T15:59:10.607330",
     "exception": false,
     "start_time": "2021-01-18T15:59:10.066574",
     "status": "completed"
    },
    "tags": []
   },
   "outputs": [],
   "source": [
    "features_to_plot = 25\n",
    "\n",
    "importances = rf_clf.feature_importances_\n",
    "indices = np.argsort(importances)\n",
    "\n",
    "best_vars = np.array(feature_names)[indices][-features_to_plot:]\n",
    "values = importances[indices][-features_to_plot:]\n",
    "best_vars"
   ]
  },
  {
   "cell_type": "code",
   "execution_count": null,
   "metadata": {
    "execution": {
     "iopub.execute_input": "2021-01-18T15:59:11.670177Z",
     "iopub.status.busy": "2021-01-18T15:59:11.669144Z",
     "iopub.status.idle": "2021-01-18T15:59:12.289178Z",
     "shell.execute_reply": "2021-01-18T15:59:12.289851Z"
    },
    "papermill": {
     "duration": 1.156978,
     "end_time": "2021-01-18T15:59:12.290032",
     "exception": false,
     "start_time": "2021-01-18T15:59:11.133054",
     "status": "completed"
    },
    "tags": []
   },
   "outputs": [],
   "source": [
    "y_ticks = np.arange(0, features_to_plot)\n",
    "fig, ax = plt.subplots()\n",
    "ax.barh(y_ticks, values)\n",
    "ax.set_yticklabels(best_vars)\n",
    "ax.set_yticks(y_ticks)\n",
    "ax.set_title(\"Random Forest Feature Importances\")\n",
    "fig.tight_layout()\n",
    "plt.show()"
   ]
  },
  {
   "attachments": {},
   "cell_type": "markdown",
   "metadata": {
    "papermill": {
     "duration": 0.524459,
     "end_time": "2021-01-18T15:59:13.333320",
     "exception": false,
     "start_time": "2021-01-18T15:59:12.808861",
     "status": "completed"
    },
    "tags": []
   },
   "source": [
    "As we can see in the feature importance plot, the first 4 variables have the most importance in the model, but we are going to retireve the first 20 to be safe about over-fitting and under-fitting."
   ]
  },
  {
   "cell_type": "code",
   "execution_count": null,
   "metadata": {
    "execution": {
     "iopub.execute_input": "2021-01-18T15:59:14.383898Z",
     "iopub.status.busy": "2021-01-18T15:59:14.382876Z",
     "iopub.status.idle": "2021-01-18T15:59:14.389954Z",
     "shell.execute_reply": "2021-01-18T15:59:14.390529Z"
    },
    "papermill": {
     "duration": 0.538049,
     "end_time": "2021-01-18T15:59:14.390669",
     "exception": false,
     "start_time": "2021-01-18T15:59:13.852620",
     "status": "completed"
    },
    "tags": []
   },
   "outputs": [],
   "source": [
    "best_vars = best_vars[-20:]\n",
    "best_vars"
   ]
  },
  {
   "attachments": {},
   "cell_type": "markdown",
   "metadata": {
    "papermill": {
     "duration": 0.535259,
     "end_time": "2021-01-18T15:59:15.500773",
     "exception": false,
     "start_time": "2021-01-18T15:59:14.965514",
     "status": "completed"
    },
    "tags": []
   },
   "source": [
    "# 5. Machine Learning | H2O\n",
    "\n",
    "Now, with the resampled dataset and the selected feaures, we are going to train an xgboost model and search the best parameters"
   ]
  },
  {
   "cell_type": "code",
   "execution_count": null,
   "metadata": {
    "_kg_hide-output": true,
    "execution": {
     "iopub.execute_input": "2021-01-18T15:59:16.589942Z",
     "iopub.status.busy": "2021-01-18T15:59:16.589000Z",
     "iopub.status.idle": "2021-01-18T15:59:23.155994Z",
     "shell.execute_reply": "2021-01-18T15:59:23.156619Z"
    },
    "papermill": {
     "duration": 7.110244,
     "end_time": "2021-01-18T15:59:23.156801",
     "exception": false,
     "start_time": "2021-01-18T15:59:16.046557",
     "status": "completed"
    },
    "tags": []
   },
   "outputs": [],
   "source": [
    "from h2o.automl import H2OAutoML\n",
    "\n",
    "h2o.init()"
   ]
  },
  {
   "cell_type": "code",
   "execution_count": null,
   "metadata": {
    "_kg_hide-output": true,
    "execution": {
     "iopub.execute_input": "2021-01-18T15:59:24.237820Z",
     "iopub.status.busy": "2021-01-18T15:59:24.236841Z",
     "iopub.status.idle": "2021-01-18T15:59:26.064996Z",
     "shell.execute_reply": "2021-01-18T15:59:26.065859Z"
    },
    "papermill": {
     "duration": 2.368125,
     "end_time": "2021-01-18T15:59:26.066056",
     "exception": false,
     "start_time": "2021-01-18T15:59:23.697931",
     "status": "completed"
    },
    "tags": []
   },
   "outputs": [],
   "source": [
    "hf = h2o.H2OFrame(sm_us_df[[\"class\"] + list(best_vars)])\n",
    "hf.head()"
   ]
  },
  {
   "cell_type": "code",
   "execution_count": null,
   "metadata": {
    "execution": {
     "iopub.execute_input": "2021-01-18T15:59:27.162209Z",
     "iopub.status.busy": "2021-01-18T15:59:27.161284Z",
     "iopub.status.idle": "2021-01-18T15:59:27.164326Z",
     "shell.execute_reply": "2021-01-18T15:59:27.163902Z"
    },
    "papermill": {
     "duration": 0.542147,
     "end_time": "2021-01-18T15:59:27.164432",
     "exception": false,
     "start_time": "2021-01-18T15:59:26.622285",
     "status": "completed"
    },
    "tags": []
   },
   "outputs": [],
   "source": [
    "hf[\"class\"] = hf[\"class\"].asfactor()\n",
    "predictors = hf.drop(\"class\").columns\n",
    "response = \"class\""
   ]
  },
  {
   "cell_type": "code",
   "execution_count": null,
   "metadata": {
    "execution": {
     "iopub.execute_input": "2021-01-18T15:59:28.614128Z",
     "iopub.status.busy": "2021-01-18T15:59:28.613121Z",
     "iopub.status.idle": "2021-01-18T15:59:29.567414Z",
     "shell.execute_reply": "2021-01-18T15:59:29.568434Z"
    },
    "papermill": {
     "duration": 1.84026,
     "end_time": "2021-01-18T15:59:29.568637",
     "exception": false,
     "start_time": "2021-01-18T15:59:27.728377",
     "status": "completed"
    },
    "tags": []
   },
   "outputs": [],
   "source": [
    "# Split into train and test\n",
    "train, valid = hf.split_frame(ratios=[0.8], seed=1234)"
   ]
  },
  {
   "attachments": {},
   "cell_type": "markdown",
   "metadata": {
    "papermill": {
     "duration": 0.57291,
     "end_time": "2021-01-18T15:59:30.703360",
     "exception": false,
     "start_time": "2021-01-18T15:59:30.130450",
     "status": "completed"
    },
    "tags": []
   },
   "source": [
    "## 5.1 H2O AutoML\n",
    "\n",
    "We are going to try to execute AutoML with H2O on the resampled dataset and only with the final variables"
   ]
  },
  {
   "attachments": {
    "h2o-automl-logo2.jpg": {
     "image/jpeg": "[encoded data removed]"
    }
   },
   "cell_type": "markdown",
   "metadata": {
    "papermill": {
     "duration": 0.545311,
     "end_time": "2021-01-18T15:59:31.806824",
     "exception": false,
     "start_time": "2021-01-18T15:59:31.261513",
     "status": "completed"
    },
    "tags": []
   },
   "source": [
    "![h2o-automl-logo2.jpg](attachment:h2o-automl-logo2.jpg)"
   ]
  },
  {
   "cell_type": "code",
   "execution_count": null,
   "metadata": {
    "execution": {
     "iopub.execute_input": "2021-01-18T15:59:32.915225Z",
     "iopub.status.busy": "2021-01-18T15:59:32.914318Z",
     "iopub.status.idle": "2021-01-18T15:59:32.986954Z",
     "shell.execute_reply": "2021-01-18T15:59:32.987948Z"
    },
    "papermill": {
     "duration": 0.623498,
     "end_time": "2021-01-18T15:59:32.988162",
     "exception": false,
     "start_time": "2021-01-18T15:59:32.364664",
     "status": "completed"
    },
    "tags": []
   },
   "outputs": [],
   "source": [
    "# Add a Stopping Creterias: max number of models and max time\n",
    "# We are going to exclude DeepLearning algorithms because they are too slow\n",
    "aml = H2OAutoML(\n",
    "    max_models=20, max_runtime_secs=300, seed=1234, exclude_algos=[\"DeepLearning\"]\n",
    ")"
   ]
  },
  {
   "cell_type": "code",
   "execution_count": null,
   "metadata": {
    "execution": {
     "iopub.execute_input": "2021-01-18T15:59:35.098914Z",
     "iopub.status.busy": "2021-01-18T15:59:35.097873Z",
     "iopub.status.idle": "2021-01-18T16:03:25.820830Z",
     "shell.execute_reply": "2021-01-18T16:03:25.819656Z"
    },
    "papermill": {
     "duration": 231.82099,
     "end_time": "2021-01-18T16:03:25.820981",
     "exception": false,
     "start_time": "2021-01-18T15:59:33.999991",
     "status": "completed"
    },
    "tags": []
   },
   "outputs": [],
   "source": [
    "# Train the model\n",
    "aml.train(x=predictors, y=response, training_frame=train, validation_frame=valid)"
   ]
  },
  {
   "cell_type": "code",
   "execution_count": null,
   "metadata": {
    "execution": {
     "iopub.execute_input": "2021-01-18T16:03:27.025832Z",
     "iopub.status.busy": "2021-01-18T16:03:27.023393Z",
     "iopub.status.idle": "2021-01-18T16:03:27.164309Z",
     "shell.execute_reply": "2021-01-18T16:03:27.164771Z"
    },
    "papermill": {
     "duration": 0.742327,
     "end_time": "2021-01-18T16:03:27.164915",
     "exception": false,
     "start_time": "2021-01-18T16:03:26.422588",
     "status": "completed"
    },
    "tags": []
   },
   "outputs": [],
   "source": [
    "# View the AutoML Leaderboard\n",
    "lb = aml.leaderboard\n",
    "lb.head(rows=5)  # Print the first 5 rows"
   ]
  },
  {
   "cell_type": "code",
   "execution_count": null,
   "metadata": {
    "execution": {
     "iopub.execute_input": "2021-01-18T16:03:28.345292Z",
     "iopub.status.busy": "2021-01-18T16:03:28.342495Z",
     "iopub.status.idle": "2021-01-18T16:03:29.237994Z",
     "shell.execute_reply": "2021-01-18T16:03:29.238638Z"
    },
    "papermill": {
     "duration": 1.480377,
     "end_time": "2021-01-18T16:03:29.238831",
     "exception": false,
     "start_time": "2021-01-18T16:03:27.758454",
     "status": "completed"
    },
    "tags": []
   },
   "outputs": [],
   "source": [
    "lb = lb.as_data_frame()\n",
    "lb[\"model_type\"] = lb[\"model_id\"].apply(lambda x: x.split(\"_\")[0])\n",
    "fig = px.bar(lb, x=\"model_id\", y=\"auc\", color=\"model_type\")\n",
    "# fig.update_yaxes(range=[0.999, 1])\n",
    "fig.show()"
   ]
  },
  {
   "cell_type": "code",
   "execution_count": null,
   "metadata": {
    "execution": {
     "iopub.execute_input": "2021-01-18T16:03:30.403948Z",
     "iopub.status.busy": "2021-01-18T16:03:30.402978Z",
     "iopub.status.idle": "2021-01-18T16:03:30.593184Z",
     "shell.execute_reply": "2021-01-18T16:03:30.593652Z"
    },
    "papermill": {
     "duration": 0.768555,
     "end_time": "2021-01-18T16:03:30.593821",
     "exception": false,
     "start_time": "2021-01-18T16:03:29.825266",
     "status": "completed"
    },
    "tags": []
   },
   "outputs": [],
   "source": [
    "print(\"The model performance in Accuracy: {}\".format(aml.leader.accuracy(valid=True)))\n",
    "print(\"The model performance in AUC: {}\".format(aml.leader.auc(valid=True)))"
   ]
  },
  {
   "cell_type": "code",
   "execution_count": null,
   "metadata": {},
   "outputs": [],
   "source": [
    "lb = aml.leaderboard\n",
    "lb"
   ]
  },
  {
   "cell_type": "code",
   "execution_count": null,
   "metadata": {},
   "outputs": [],
   "source": [
    "# Get GBM model\n",
    "m = h2o.get_model(lb[1, \"model_id\"])"
   ]
  },
  {
   "cell_type": "code",
   "execution_count": null,
   "metadata": {
    "execution": {
     "iopub.execute_input": "2021-01-18T16:03:32.956482Z",
     "iopub.status.busy": "2021-01-18T16:03:32.955350Z",
     "iopub.status.idle": "2021-01-18T16:03:33.192933Z",
     "shell.execute_reply": "2021-01-18T16:03:33.192458Z"
    },
    "papermill": {
     "duration": 0.849942,
     "end_time": "2021-01-18T16:03:33.193042",
     "exception": false,
     "start_time": "2021-01-18T16:03:32.343100",
     "status": "completed"
    },
    "tags": []
   },
   "outputs": [],
   "source": [
    "m.varimp_plot(num_of_features=10)"
   ]
  },
  {
   "attachments": {},
   "cell_type": "markdown",
   "metadata": {
    "papermill": {
     "duration": 0.605921,
     "end_time": "2021-01-18T16:03:34.375945",
     "exception": false,
     "start_time": "2021-01-18T16:03:33.770024",
     "status": "completed"
    },
    "tags": []
   },
   "source": [
    "As we can see in the the Variable Importance plot, the top vars are much the same as they were in the [Feature Selection](#4.-feature-selection) part."
   ]
  },
  {
   "cell_type": "code",
   "execution_count": null,
   "metadata": {
    "execution": {
     "iopub.execute_input": "2021-01-18T16:03:35.562663Z",
     "iopub.status.busy": "2021-01-18T16:03:35.561661Z",
     "iopub.status.idle": "2021-01-18T16:03:41.759662Z",
     "shell.execute_reply": "2021-01-18T16:03:41.760233Z"
    },
    "papermill": {
     "duration": 6.778934,
     "end_time": "2021-01-18T16:03:41.760385",
     "exception": false,
     "start_time": "2021-01-18T16:03:34.981451",
     "status": "completed"
    },
    "tags": []
   },
   "outputs": [],
   "source": [
    "m.shap_summary_plot(valid)"
   ]
  },
  {
   "attachments": {},
   "cell_type": "markdown",
   "metadata": {
    "papermill": {
     "duration": 0.581461,
     "end_time": "2021-01-18T16:03:42.941576",
     "exception": false,
     "start_time": "2021-01-18T16:03:42.360115",
     "status": "completed"
    },
    "tags": []
   },
   "source": [
    "### SHAP Values\n",
    "\n",
    "SHAP (SHapley Additive exPlanations) is a game theoretic approach to explain the output of any machine learning model. It connects optimal credit allocation with local explanations using the classic Shapley values from game theory and their related extensions.\n",
    "\n",
    "> Shapley values calculate the importance of a feature by comparing what a model predicts with and without the feature. However, since the order in which a model sees features can affect its predictions, this is done in every possible order, so that the features are fairly compared.\n",
    "\n",
    "Imagine a sales score model. A customer living in zip code \"A1\" with \"10 purchases\" arrives and its score is 95%, while other from zip code \"A2\" and \"7 purchases\" has a score of 60%.\n",
    "\n",
    "Each variable had its contribution to the final score. Maybe a slight change in the number of purchases changes the score a lot, while changing the zip code only contributes a tiny amount on that specific customer.\n",
    "\n",
    "SHAP measures the impact of variables taking into account the interaction with other variables.\n",
    "\n",
    "But i think that the best way to understand it is with [Kaggle Own Notebook](https://www.kaggle.com/dansbecker/shap-values) and [Python SHAP implementation Github](https://github.com/slundberg/shap)."
   ]
  },
  {
   "attachments": {},
   "cell_type": "markdown",
   "metadata": {},
   "source": [
    "# References\n",
    "\n",
    "https://github.com/tamjid-ahsan/capstone_customer_churn/blob/main/analysis.ipynb\n",
    "\n",
    "https://www.kaggle.com/code/andreshg/churn-prediction-0-99-auc-h2o-sklearn-smote/notebook#4.-Feature-Selection\n"
   ]
  },
  {
   "attachments": {},
   "cell_type": "markdown",
   "metadata": {},
   "source": []
  }
 ],
 "metadata": {
  "kernelspec": {
   "display_name": "base",
   "language": "python",
   "name": "python3"
  },
  "language_info": {
   "codemirror_mode": {
    "name": "ipython",
    "version": 3
   },
   "file_extension": ".py",
   "mimetype": "text/x-python",
   "name": "python",
   "nbconvert_exporter": "python",
   "pygments_lexer": "ipython3",
   "version": "3.13.2"
  },
  "papermill": {
   "duration": 407.677538,
   "end_time": "2021-01-18T16:03:44.869012",
   "environment_variables": {},
   "exception": null,
   "input_path": "__notebook__.ipynb",
   "output_path": "__notebook__.ipynb",
   "parameters": {},
   "start_time": "2021-01-18T15:56:57.191474",
   "version": "2.1.0"
  },
  "widgets": {
   "application/vnd.jupyter.widget-state+json": {
    "state": {
     "02eaa3f92a5d484199ecef9754a009f8": {
      "model_module": "@jupyter-widgets/base",
      "model_module_version": "1.2.0",
      "model_name": "LayoutModel",
      "state": {
       "_model_module": "@jupyter-widgets/base",
       "_model_module_version": "1.2.0",
       "_model_name": "LayoutModel",
       "_view_count": null,
       "_view_module": "@jupyter-widgets/base",
       "_view_module_version": "1.2.0",
       "_view_name": "LayoutView",
       "align_content": null,
       "align_items": null,
       "align_self": null,
       "border": null,
       "bottom": null,
       "display": null,
       "flex": null,
       "flex_flow": null,
       "grid_area": null,
       "grid_auto_columns": null,
       "grid_auto_flow": null,
       "grid_auto_rows": null,
       "grid_column": null,
       "grid_gap": null,
       "grid_row": null,
       "grid_template_areas": null,
       "grid_template_columns": null,
       "grid_template_rows": null,
       "height": null,
       "justify_content": null,
       "justify_items": null,
       "left": null,
       "margin": null,
       "max_height": null,
       "max_width": null,
       "min_height": null,
       "min_width": null,
       "object_fit": null,
       "object_position": null,
       "order": null,
       "overflow": null,
       "overflow_x": null,
       "overflow_y": null,
       "padding": null,
       "right": null,
       "top": null,
       "visibility": null,
       "width": null
      }
     },
     "08da14869377440b8b3fe68628793e2b": {
      "model_module": "@jupyter-widgets/controls",
      "model_module_version": "1.5.0",
      "model_name": "FloatProgressModel",
      "state": {
       "_dom_classes": [],
       "_model_module": "@jupyter-widgets/controls",
       "_model_module_version": "1.5.0",
       "_model_name": "FloatProgressModel",
       "_view_count": null,
       "_view_module": "@jupyter-widgets/controls",
       "_view_module_version": "1.5.0",
       "_view_name": "ProgressView",
       "bar_style": "success",
       "description": "warnings [correlations]: 100%",
       "description_tooltip": null,
       "layout": "IPY_MODEL_b51622fdaa584cfeaa2dbba807abf77f",
       "max": 3,
       "min": 0,
       "orientation": "horizontal",
       "style": "IPY_MODEL_ddd981978a664ca6a788798d412d3a24",
       "value": 3
      }
     },
     "0ad5ea0a58474ce3998f3019c2a9280e": {
      "model_module": "@jupyter-widgets/base",
      "model_module_version": "1.2.0",
      "model_name": "LayoutModel",
      "state": {
       "_model_module": "@jupyter-widgets/base",
       "_model_module_version": "1.2.0",
       "_model_name": "LayoutModel",
       "_view_count": null,
       "_view_module": "@jupyter-widgets/base",
       "_view_module_version": "1.2.0",
       "_view_name": "LayoutView",
       "align_content": null,
       "align_items": null,
       "align_self": null,
       "border": null,
       "bottom": null,
       "display": null,
       "flex": null,
       "flex_flow": null,
       "grid_area": null,
       "grid_auto_columns": null,
       "grid_auto_flow": null,
       "grid_auto_rows": null,
       "grid_column": null,
       "grid_gap": null,
       "grid_row": null,
       "grid_template_areas": null,
       "grid_template_columns": null,
       "grid_template_rows": null,
       "height": null,
       "justify_content": null,
       "justify_items": null,
       "left": null,
       "margin": null,
       "max_height": null,
       "max_width": null,
       "min_height": null,
       "min_width": null,
       "object_fit": null,
       "object_position": null,
       "order": null,
       "overflow": null,
       "overflow_x": null,
       "overflow_y": null,
       "padding": null,
       "right": null,
       "top": null,
       "visibility": null,
       "width": null
      }
     },
     "0fbf05f53a8d45b0a7c0c6add9ad5185": {
      "model_module": "@jupyter-widgets/controls",
      "model_module_version": "1.5.0",
      "model_name": "DescriptionStyleModel",
      "state": {
       "_model_module": "@jupyter-widgets/controls",
       "_model_module_version": "1.5.0",
       "_model_name": "DescriptionStyleModel",
       "_view_count": null,
       "_view_module": "@jupyter-widgets/base",
       "_view_module_version": "1.2.0",
       "_view_name": "StyleView",
       "description_width": ""
      }
     },
     "1c9512bacd5f4289b7ffa1c10e6ff734": {
      "model_module": "@jupyter-widgets/controls",
      "model_module_version": "1.5.0",
      "model_name": "FloatProgressModel",
      "state": {
       "_dom_classes": [],
       "_model_module": "@jupyter-widgets/controls",
       "_model_module_version": "1.5.0",
       "_model_name": "FloatProgressModel",
       "_view_count": null,
       "_view_module": "@jupyter-widgets/controls",
       "_view_module_version": "1.5.0",
       "_view_name": "ProgressView",
       "bar_style": "success",
       "description": "missing [matrix]: 100%",
       "description_tooltip": null,
       "layout": "IPY_MODEL_1fd6287f1075466cb18bffce3f7829a8",
       "max": 2,
       "min": 0,
       "orientation": "horizontal",
       "style": "IPY_MODEL_9e9d2887a7c34f1fb4813f46c1877d15",
       "value": 2
      }
     },
     "1fd6287f1075466cb18bffce3f7829a8": {
      "model_module": "@jupyter-widgets/base",
      "model_module_version": "1.2.0",
      "model_name": "LayoutModel",
      "state": {
       "_model_module": "@jupyter-widgets/base",
       "_model_module_version": "1.2.0",
       "_model_name": "LayoutModel",
       "_view_count": null,
       "_view_module": "@jupyter-widgets/base",
       "_view_module_version": "1.2.0",
       "_view_name": "LayoutView",
       "align_content": null,
       "align_items": null,
       "align_self": null,
       "border": null,
       "bottom": null,
       "display": null,
       "flex": null,
       "flex_flow": null,
       "grid_area": null,
       "grid_auto_columns": null,
       "grid_auto_flow": null,
       "grid_auto_rows": null,
       "grid_column": null,
       "grid_gap": null,
       "grid_row": null,
       "grid_template_areas": null,
       "grid_template_columns": null,
       "grid_template_rows": null,
       "height": null,
       "justify_content": null,
       "justify_items": null,
       "left": null,
       "margin": null,
       "max_height": null,
       "max_width": null,
       "min_height": null,
       "min_width": null,
       "object_fit": null,
       "object_position": null,
       "order": null,
       "overflow": null,
       "overflow_x": null,
       "overflow_y": null,
       "padding": null,
       "right": null,
       "top": null,
       "visibility": null,
       "width": null
      }
     },
     "266cf6136feb417c99869fc5d1e20e4f": {
      "model_module": "@jupyter-widgets/controls",
      "model_module_version": "1.5.0",
      "model_name": "HBoxModel",
      "state": {
       "_dom_classes": [],
       "_model_module": "@jupyter-widgets/controls",
       "_model_module_version": "1.5.0",
       "_model_name": "HBoxModel",
       "_view_count": null,
       "_view_module": "@jupyter-widgets/controls",
       "_view_module_version": "1.5.0",
       "_view_name": "HBoxView",
       "box_style": "",
       "children": [
        "IPY_MODEL_5f4b3fffae04406fa7cc27bd013cc818",
        "IPY_MODEL_e72125fe5d6a43f58803eb5496423023"
       ],
       "layout": "IPY_MODEL_6c2e02ac59674572bbfd8adb855e91d3"
      }
     },
     "27181581319a4665ab97d9157efc8e2c": {
      "model_module": "@jupyter-widgets/controls",
      "model_module_version": "1.5.0",
      "model_name": "DescriptionStyleModel",
      "state": {
       "_model_module": "@jupyter-widgets/controls",
       "_model_module_version": "1.5.0",
       "_model_name": "DescriptionStyleModel",
       "_view_count": null,
       "_view_module": "@jupyter-widgets/base",
       "_view_module_version": "1.2.0",
       "_view_name": "StyleView",
       "description_width": ""
      }
     },
     "30a580e32fd1491bac679c5ce35fba26": {
      "model_module": "@jupyter-widgets/controls",
      "model_module_version": "1.5.0",
      "model_name": "DescriptionStyleModel",
      "state": {
       "_model_module": "@jupyter-widgets/controls",
       "_model_module_version": "1.5.0",
       "_model_name": "DescriptionStyleModel",
       "_view_count": null,
       "_view_module": "@jupyter-widgets/base",
       "_view_module_version": "1.2.0",
       "_view_name": "StyleView",
       "description_width": ""
      }
     },
     "351167995fd04b56bf02e060eaae72e0": {
      "model_module": "@jupyter-widgets/base",
      "model_module_version": "1.2.0",
      "model_name": "LayoutModel",
      "state": {
       "_model_module": "@jupyter-widgets/base",
       "_model_module_version": "1.2.0",
       "_model_name": "LayoutModel",
       "_view_count": null,
       "_view_module": "@jupyter-widgets/base",
       "_view_module_version": "1.2.0",
       "_view_name": "LayoutView",
       "align_content": null,
       "align_items": null,
       "align_self": null,
       "border": null,
       "bottom": null,
       "display": null,
       "flex": null,
       "flex_flow": null,
       "grid_area": null,
       "grid_auto_columns": null,
       "grid_auto_flow": null,
       "grid_auto_rows": null,
       "grid_column": null,
       "grid_gap": null,
       "grid_row": null,
       "grid_template_areas": null,
       "grid_template_columns": null,
       "grid_template_rows": null,
       "height": null,
       "justify_content": null,
       "justify_items": null,
       "left": null,
       "margin": null,
       "max_height": null,
       "max_width": null,
       "min_height": null,
       "min_width": null,
       "object_fit": null,
       "object_position": null,
       "order": null,
       "overflow": null,
       "overflow_x": null,
       "overflow_y": null,
       "padding": null,
       "right": null,
       "top": null,
       "visibility": null,
       "width": null
      }
     },
     "354d3f427dd746f9b83503ef759f807a": {
      "model_module": "@jupyter-widgets/controls",
      "model_module_version": "1.5.0",
      "model_name": "HBoxModel",
      "state": {
       "_dom_classes": [],
       "_model_module": "@jupyter-widgets/controls",
       "_model_module_version": "1.5.0",
       "_model_name": "HBoxModel",
       "_view_count": null,
       "_view_module": "@jupyter-widgets/controls",
       "_view_module_version": "1.5.0",
       "_view_name": "HBoxView",
       "box_style": "",
       "children": [
        "IPY_MODEL_c161d6d9d1e643e39940b414e52e8902",
        "IPY_MODEL_760b186bae8a4844af430070277243bd"
       ],
       "layout": "IPY_MODEL_8fd819aa750e48958a3c3d33c843cbe1"
      }
     },
     "3d8268e26fd2468c94e0e788c92a5bcb": {
      "model_module": "@jupyter-widgets/controls",
      "model_module_version": "1.5.0",
      "model_name": "HTMLModel",
      "state": {
       "_dom_classes": [],
       "_model_module": "@jupyter-widgets/controls",
       "_model_module_version": "1.5.0",
       "_model_name": "HTMLModel",
       "_view_count": null,
       "_view_module": "@jupyter-widgets/controls",
       "_view_module_version": "1.5.0",
       "_view_name": "HTMLView",
       "description": "",
       "description_tooltip": null,
       "layout": "IPY_MODEL_86a04d2c247f43e99aeb63ef70031168",
       "placeholder": "​",
       "style": "IPY_MODEL_cde37bb1e080436e9c1031b7c3535218",
       "value": " 6/6 [00:06&lt;00:00,  1.03s/it]"
      }
     },
     "4fd6799913f24f6dabf320eb3c85209c": {
      "model_module": "@jupyter-widgets/controls",
      "model_module_version": "1.5.0",
      "model_name": "DescriptionStyleModel",
      "state": {
       "_model_module": "@jupyter-widgets/controls",
       "_model_module_version": "1.5.0",
       "_model_name": "DescriptionStyleModel",
       "_view_count": null,
       "_view_module": "@jupyter-widgets/base",
       "_view_module_version": "1.2.0",
       "_view_name": "StyleView",
       "description_width": ""
      }
     },
     "500e133447e844878bdab359ec671780": {
      "model_module": "@jupyter-widgets/controls",
      "model_module_version": "1.5.0",
      "model_name": "HBoxModel",
      "state": {
       "_dom_classes": [],
       "_model_module": "@jupyter-widgets/controls",
       "_model_module_version": "1.5.0",
       "_model_name": "HBoxModel",
       "_view_count": null,
       "_view_module": "@jupyter-widgets/controls",
       "_view_module_version": "1.5.0",
       "_view_name": "HBoxView",
       "box_style": "",
       "children": [
        "IPY_MODEL_66d67a43e26d4c9497039d512e218c2f",
        "IPY_MODEL_bb9c74a174eb44edb093bea34b3fdb50"
       ],
       "layout": "IPY_MODEL_0ad5ea0a58474ce3998f3019c2a9280e"
      }
     },
     "53bc8df0413a4c9691b18b253108ca9d": {
      "model_module": "@jupyter-widgets/base",
      "model_module_version": "1.2.0",
      "model_name": "LayoutModel",
      "state": {
       "_model_module": "@jupyter-widgets/base",
       "_model_module_version": "1.2.0",
       "_model_name": "LayoutModel",
       "_view_count": null,
       "_view_module": "@jupyter-widgets/base",
       "_view_module_version": "1.2.0",
       "_view_name": "LayoutView",
       "align_content": null,
       "align_items": null,
       "align_self": null,
       "border": null,
       "bottom": null,
       "display": null,
       "flex": null,
       "flex_flow": null,
       "grid_area": null,
       "grid_auto_columns": null,
       "grid_auto_flow": null,
       "grid_auto_rows": null,
       "grid_column": null,
       "grid_gap": null,
       "grid_row": null,
       "grid_template_areas": null,
       "grid_template_columns": null,
       "grid_template_rows": null,
       "height": null,
       "justify_content": null,
       "justify_items": null,
       "left": null,
       "margin": null,
       "max_height": null,
       "max_width": null,
       "min_height": null,
       "min_width": null,
       "object_fit": null,
       "object_position": null,
       "order": null,
       "overflow": null,
       "overflow_x": null,
       "overflow_y": null,
       "padding": null,
       "right": null,
       "top": null,
       "visibility": null,
       "width": null
      }
     },
     "5e93c87b6eea40a3a062691f786d8f73": {
      "model_module": "@jupyter-widgets/base",
      "model_module_version": "1.2.0",
      "model_name": "LayoutModel",
      "state": {
       "_model_module": "@jupyter-widgets/base",
       "_model_module_version": "1.2.0",
       "_model_name": "LayoutModel",
       "_view_count": null,
       "_view_module": "@jupyter-widgets/base",
       "_view_module_version": "1.2.0",
       "_view_name": "LayoutView",
       "align_content": null,
       "align_items": null,
       "align_self": null,
       "border": null,
       "bottom": null,
       "display": null,
       "flex": null,
       "flex_flow": null,
       "grid_area": null,
       "grid_auto_columns": null,
       "grid_auto_flow": null,
       "grid_auto_rows": null,
       "grid_column": null,
       "grid_gap": null,
       "grid_row": null,
       "grid_template_areas": null,
       "grid_template_columns": null,
       "grid_template_rows": null,
       "height": null,
       "justify_content": null,
       "justify_items": null,
       "left": null,
       "margin": null,
       "max_height": null,
       "max_width": null,
       "min_height": null,
       "min_width": null,
       "object_fit": null,
       "object_position": null,
       "order": null,
       "overflow": null,
       "overflow_x": null,
       "overflow_y": null,
       "padding": null,
       "right": null,
       "top": null,
       "visibility": null,
       "width": null
      }
     },
     "5f4b3fffae04406fa7cc27bd013cc818": {
      "model_module": "@jupyter-widgets/controls",
      "model_module_version": "1.5.0",
      "model_name": "FloatProgressModel",
      "state": {
       "_dom_classes": [],
       "_model_module": "@jupyter-widgets/controls",
       "_model_module_version": "1.5.0",
       "_model_name": "FloatProgressModel",
       "_view_count": null,
       "_view_module": "@jupyter-widgets/controls",
       "_view_module_version": "1.5.0",
       "_view_name": "ProgressView",
       "bar_style": "success",
       "description": "interactions [continuous]: 100%",
       "description_tooltip": null,
       "layout": "IPY_MODEL_78642b3f506841deb5630487e8a46ea1",
       "max": 196,
       "min": 0,
       "orientation": "horizontal",
       "style": "IPY_MODEL_963ac08abf424af1993c9897193ee7c8",
       "value": 196
      }
     },
     "652f7f04cec6454bb39644fc3ba86468": {
      "model_module": "@jupyter-widgets/base",
      "model_module_version": "1.2.0",
      "model_name": "LayoutModel",
      "state": {
       "_model_module": "@jupyter-widgets/base",
       "_model_module_version": "1.2.0",
       "_model_name": "LayoutModel",
       "_view_count": null,
       "_view_module": "@jupyter-widgets/base",
       "_view_module_version": "1.2.0",
       "_view_name": "LayoutView",
       "align_content": null,
       "align_items": null,
       "align_self": null,
       "border": null,
       "bottom": null,
       "display": null,
       "flex": null,
       "flex_flow": null,
       "grid_area": null,
       "grid_auto_columns": null,
       "grid_auto_flow": null,
       "grid_auto_rows": null,
       "grid_column": null,
       "grid_gap": null,
       "grid_row": null,
       "grid_template_areas": null,
       "grid_template_columns": null,
       "grid_template_rows": null,
       "height": null,
       "justify_content": null,
       "justify_items": null,
       "left": null,
       "margin": null,
       "max_height": null,
       "max_width": null,
       "min_height": null,
       "min_width": null,
       "object_fit": null,
       "object_position": null,
       "order": null,
       "overflow": null,
       "overflow_x": null,
       "overflow_y": null,
       "padding": null,
       "right": null,
       "top": null,
       "visibility": null,
       "width": null
      }
     },
     "66d67a43e26d4c9497039d512e218c2f": {
      "model_module": "@jupyter-widgets/controls",
      "model_module_version": "1.5.0",
      "model_name": "FloatProgressModel",
      "state": {
       "_dom_classes": [],
       "_model_module": "@jupyter-widgets/controls",
       "_model_module_version": "1.5.0",
       "_model_name": "FloatProgressModel",
       "_view_count": null,
       "_view_module": "@jupyter-widgets/controls",
       "_view_module_version": "1.5.0",
       "_view_name": "ProgressView",
       "bar_style": "success",
       "description": "table: 100%",
       "description_tooltip": null,
       "layout": "IPY_MODEL_ae68b3b6ebbf41dd8fbc8ed499a484f1",
       "max": 1,
       "min": 0,
       "orientation": "horizontal",
       "style": "IPY_MODEL_b296694064db4d0ea0079d3e0b73cb21",
       "value": 1
      }
     },
     "6c2e02ac59674572bbfd8adb855e91d3": {
      "model_module": "@jupyter-widgets/base",
      "model_module_version": "1.2.0",
      "model_name": "LayoutModel",
      "state": {
       "_model_module": "@jupyter-widgets/base",
       "_model_module_version": "1.2.0",
       "_model_name": "LayoutModel",
       "_view_count": null,
       "_view_module": "@jupyter-widgets/base",
       "_view_module_version": "1.2.0",
       "_view_name": "LayoutView",
       "align_content": null,
       "align_items": null,
       "align_self": null,
       "border": null,
       "bottom": null,
       "display": null,
       "flex": null,
       "flex_flow": null,
       "grid_area": null,
       "grid_auto_columns": null,
       "grid_auto_flow": null,
       "grid_auto_rows": null,
       "grid_column": null,
       "grid_gap": null,
       "grid_row": null,
       "grid_template_areas": null,
       "grid_template_columns": null,
       "grid_template_rows": null,
       "height": null,
       "justify_content": null,
       "justify_items": null,
       "left": null,
       "margin": null,
       "max_height": null,
       "max_width": null,
       "min_height": null,
       "min_width": null,
       "object_fit": null,
       "object_position": null,
       "order": null,
       "overflow": null,
       "overflow_x": null,
       "overflow_y": null,
       "padding": null,
       "right": null,
       "top": null,
       "visibility": null,
       "width": null
      }
     },
     "709f9ae1009e43918fc7344d9c5f52fb": {
      "model_module": "@jupyter-widgets/controls",
      "model_module_version": "1.5.0",
      "model_name": "FloatProgressModel",
      "state": {
       "_dom_classes": [],
       "_model_module": "@jupyter-widgets/controls",
       "_model_module_version": "1.5.0",
       "_model_name": "FloatProgressModel",
       "_view_count": null,
       "_view_module": "@jupyter-widgets/controls",
       "_view_module_version": "1.5.0",
       "_view_name": "ProgressView",
       "bar_style": "success",
       "description": "correlations [recoded]: 100%",
       "description_tooltip": null,
       "layout": "IPY_MODEL_02eaa3f92a5d484199ecef9754a009f8",
       "max": 6,
       "min": 0,
       "orientation": "horizontal",
       "style": "IPY_MODEL_cafa2499a242406d898a1256d16196f2",
       "value": 6
      }
     },
     "75aeda77874a4b36b3323e08d50eb625": {
      "model_module": "@jupyter-widgets/base",
      "model_module_version": "1.2.0",
      "model_name": "LayoutModel",
      "state": {
       "_model_module": "@jupyter-widgets/base",
       "_model_module_version": "1.2.0",
       "_model_name": "LayoutModel",
       "_view_count": null,
       "_view_module": "@jupyter-widgets/base",
       "_view_module_version": "1.2.0",
       "_view_name": "LayoutView",
       "align_content": null,
       "align_items": null,
       "align_self": null,
       "border": null,
       "bottom": null,
       "display": null,
       "flex": null,
       "flex_flow": null,
       "grid_area": null,
       "grid_auto_columns": null,
       "grid_auto_flow": null,
       "grid_auto_rows": null,
       "grid_column": null,
       "grid_gap": null,
       "grid_row": null,
       "grid_template_areas": null,
       "grid_template_columns": null,
       "grid_template_rows": null,
       "height": null,
       "justify_content": null,
       "justify_items": null,
       "left": null,
       "margin": null,
       "max_height": null,
       "max_width": null,
       "min_height": null,
       "min_width": null,
       "object_fit": null,
       "object_position": null,
       "order": null,
       "overflow": null,
       "overflow_x": null,
       "overflow_y": null,
       "padding": null,
       "right": null,
       "top": null,
       "visibility": null,
       "width": null
      }
     },
     "760b186bae8a4844af430070277243bd": {
      "model_module": "@jupyter-widgets/controls",
      "model_module_version": "1.5.0",
      "model_name": "HTMLModel",
      "state": {
       "_dom_classes": [],
       "_model_module": "@jupyter-widgets/controls",
       "_model_module_version": "1.5.0",
       "_model_name": "HTMLModel",
       "_view_count": null,
       "_view_module": "@jupyter-widgets/controls",
       "_view_module_version": "1.5.0",
       "_view_name": "HTMLView",
       "description": "",
       "description_tooltip": null,
       "layout": "IPY_MODEL_75aeda77874a4b36b3323e08d50eb625",
       "placeholder": "​",
       "style": "IPY_MODEL_0fbf05f53a8d45b0a7c0c6add9ad5185",
       "value": " 20/20 [00:56&lt;00:00,  2.84s/it]"
      }
     },
     "78642b3f506841deb5630487e8a46ea1": {
      "model_module": "@jupyter-widgets/base",
      "model_module_version": "1.2.0",
      "model_name": "LayoutModel",
      "state": {
       "_model_module": "@jupyter-widgets/base",
       "_model_module_version": "1.2.0",
       "_model_name": "LayoutModel",
       "_view_count": null,
       "_view_module": "@jupyter-widgets/base",
       "_view_module_version": "1.2.0",
       "_view_name": "LayoutView",
       "align_content": null,
       "align_items": null,
       "align_self": null,
       "border": null,
       "bottom": null,
       "display": null,
       "flex": null,
       "flex_flow": null,
       "grid_area": null,
       "grid_auto_columns": null,
       "grid_auto_flow": null,
       "grid_auto_rows": null,
       "grid_column": null,
       "grid_gap": null,
       "grid_row": null,
       "grid_template_areas": null,
       "grid_template_columns": null,
       "grid_template_rows": null,
       "height": null,
       "justify_content": null,
       "justify_items": null,
       "left": null,
       "margin": null,
       "max_height": null,
       "max_width": null,
       "min_height": null,
       "min_width": null,
       "object_fit": null,
       "object_position": null,
       "order": null,
       "overflow": null,
       "overflow_x": null,
       "overflow_y": null,
       "padding": null,
       "right": null,
       "top": null,
       "visibility": null,
       "width": null
      }
     },
     "7ff48e8d7f454e68a1cae02f7f797424": {
      "model_module": "@jupyter-widgets/controls",
      "model_module_version": "1.5.0",
      "model_name": "HTMLModel",
      "state": {
       "_dom_classes": [],
       "_model_module": "@jupyter-widgets/controls",
       "_model_module_version": "1.5.0",
       "_model_name": "HTMLModel",
       "_view_count": null,
       "_view_module": "@jupyter-widgets/controls",
       "_view_module_version": "1.5.0",
       "_view_name": "HTMLView",
       "description": "",
       "description_tooltip": null,
       "layout": "IPY_MODEL_bd4875f8bea44a2b832e20d38c082c08",
       "placeholder": "​",
       "style": "IPY_MODEL_fb2af1552d2d40d7832a5f33cbf71672",
       "value": " 1/1 [00:10&lt;00:00, 10.39s/it]"
      }
     },
     "855c7535f0cb45eeb8f55e4122175357": {
      "model_module": "@jupyter-widgets/controls",
      "model_module_version": "1.5.0",
      "model_name": "HTMLModel",
      "state": {
       "_dom_classes": [],
       "_model_module": "@jupyter-widgets/controls",
       "_model_module_version": "1.5.0",
       "_model_name": "HTMLModel",
       "_view_count": null,
       "_view_module": "@jupyter-widgets/controls",
       "_view_module_version": "1.5.0",
       "_view_name": "HTMLView",
       "description": "",
       "description_tooltip": null,
       "layout": "IPY_MODEL_d0c0508398234a8a8ccb2c2975f8e532",
       "placeholder": "​",
       "style": "IPY_MODEL_30a580e32fd1491bac679c5ce35fba26",
       "value": " 2/2 [00:08&lt;00:00,  4.16s/it]"
      }
     },
     "86a04d2c247f43e99aeb63ef70031168": {
      "model_module": "@jupyter-widgets/base",
      "model_module_version": "1.2.0",
      "model_name": "LayoutModel",
      "state": {
       "_model_module": "@jupyter-widgets/base",
       "_model_module_version": "1.2.0",
       "_model_name": "LayoutModel",
       "_view_count": null,
       "_view_module": "@jupyter-widgets/base",
       "_view_module_version": "1.2.0",
       "_view_name": "LayoutView",
       "align_content": null,
       "align_items": null,
       "align_self": null,
       "border": null,
       "bottom": null,
       "display": null,
       "flex": null,
       "flex_flow": null,
       "grid_area": null,
       "grid_auto_columns": null,
       "grid_auto_flow": null,
       "grid_auto_rows": null,
       "grid_column": null,
       "grid_gap": null,
       "grid_row": null,
       "grid_template_areas": null,
       "grid_template_columns": null,
       "grid_template_rows": null,
       "height": null,
       "justify_content": null,
       "justify_items": null,
       "left": null,
       "margin": null,
       "max_height": null,
       "max_width": null,
       "min_height": null,
       "min_width": null,
       "object_fit": null,
       "object_position": null,
       "order": null,
       "overflow": null,
       "overflow_x": null,
       "overflow_y": null,
       "padding": null,
       "right": null,
       "top": null,
       "visibility": null,
       "width": null
      }
     },
     "8fd819aa750e48958a3c3d33c843cbe1": {
      "model_module": "@jupyter-widgets/base",
      "model_module_version": "1.2.0",
      "model_name": "LayoutModel",
      "state": {
       "_model_module": "@jupyter-widgets/base",
       "_model_module_version": "1.2.0",
       "_model_name": "LayoutModel",
       "_view_count": null,
       "_view_module": "@jupyter-widgets/base",
       "_view_module_version": "1.2.0",
       "_view_name": "LayoutView",
       "align_content": null,
       "align_items": null,
       "align_self": null,
       "border": null,
       "bottom": null,
       "display": null,
       "flex": null,
       "flex_flow": null,
       "grid_area": null,
       "grid_auto_columns": null,
       "grid_auto_flow": null,
       "grid_auto_rows": null,
       "grid_column": null,
       "grid_gap": null,
       "grid_row": null,
       "grid_template_areas": null,
       "grid_template_columns": null,
       "grid_template_rows": null,
       "height": null,
       "justify_content": null,
       "justify_items": null,
       "left": null,
       "margin": null,
       "max_height": null,
       "max_width": null,
       "min_height": null,
       "min_width": null,
       "object_fit": null,
       "object_position": null,
       "order": null,
       "overflow": null,
       "overflow_x": null,
       "overflow_y": null,
       "padding": null,
       "right": null,
       "top": null,
       "visibility": null,
       "width": null
      }
     },
     "93f157ccc4bd463ab15e76905abd6f1b": {
      "model_module": "@jupyter-widgets/base",
      "model_module_version": "1.2.0",
      "model_name": "LayoutModel",
      "state": {
       "_model_module": "@jupyter-widgets/base",
       "_model_module_version": "1.2.0",
       "_model_name": "LayoutModel",
       "_view_count": null,
       "_view_module": "@jupyter-widgets/base",
       "_view_module_version": "1.2.0",
       "_view_name": "LayoutView",
       "align_content": null,
       "align_items": null,
       "align_self": null,
       "border": null,
       "bottom": null,
       "display": null,
       "flex": null,
       "flex_flow": null,
       "grid_area": null,
       "grid_auto_columns": null,
       "grid_auto_flow": null,
       "grid_auto_rows": null,
       "grid_column": null,
       "grid_gap": null,
       "grid_row": null,
       "grid_template_areas": null,
       "grid_template_columns": null,
       "grid_template_rows": null,
       "height": null,
       "justify_content": null,
       "justify_items": null,
       "left": null,
       "margin": null,
       "max_height": null,
       "max_width": null,
       "min_height": null,
       "min_width": null,
       "object_fit": null,
       "object_position": null,
       "order": null,
       "overflow": null,
       "overflow_x": null,
       "overflow_y": null,
       "padding": null,
       "right": null,
       "top": null,
       "visibility": null,
       "width": null
      }
     },
     "949619de2e22438d9c13ad521b5f19ec": {
      "model_module": "@jupyter-widgets/controls",
      "model_module_version": "1.5.0",
      "model_name": "HBoxModel",
      "state": {
       "_dom_classes": [],
       "_model_module": "@jupyter-widgets/controls",
       "_model_module_version": "1.5.0",
       "_model_name": "HBoxModel",
       "_view_count": null,
       "_view_module": "@jupyter-widgets/controls",
       "_view_module_version": "1.5.0",
       "_view_name": "HBoxView",
       "box_style": "",
       "children": [
        "IPY_MODEL_08da14869377440b8b3fe68628793e2b",
        "IPY_MODEL_e199daaf6ee7478387da93c4a620319b"
       ],
       "layout": "IPY_MODEL_53bc8df0413a4c9691b18b253108ca9d"
      }
     },
     "963ac08abf424af1993c9897193ee7c8": {
      "model_module": "@jupyter-widgets/controls",
      "model_module_version": "1.5.0",
      "model_name": "ProgressStyleModel",
      "state": {
       "_model_module": "@jupyter-widgets/controls",
       "_model_module_version": "1.5.0",
       "_model_name": "ProgressStyleModel",
       "_view_count": null,
       "_view_module": "@jupyter-widgets/base",
       "_view_module_version": "1.2.0",
       "_view_name": "StyleView",
       "bar_color": null,
       "description_width": "initial"
      }
     },
     "9654fe0011af40c39c5b04c44481c330": {
      "model_module": "@jupyter-widgets/base",
      "model_module_version": "1.2.0",
      "model_name": "LayoutModel",
      "state": {
       "_model_module": "@jupyter-widgets/base",
       "_model_module_version": "1.2.0",
       "_model_name": "LayoutModel",
       "_view_count": null,
       "_view_module": "@jupyter-widgets/base",
       "_view_module_version": "1.2.0",
       "_view_name": "LayoutView",
       "align_content": null,
       "align_items": null,
       "align_self": null,
       "border": null,
       "bottom": null,
       "display": null,
       "flex": null,
       "flex_flow": null,
       "grid_area": null,
       "grid_auto_columns": null,
       "grid_auto_flow": null,
       "grid_auto_rows": null,
       "grid_column": null,
       "grid_gap": null,
       "grid_row": null,
       "grid_template_areas": null,
       "grid_template_columns": null,
       "grid_template_rows": null,
       "height": null,
       "justify_content": null,
       "justify_items": null,
       "left": null,
       "margin": null,
       "max_height": null,
       "max_width": null,
       "min_height": null,
       "min_width": null,
       "object_fit": null,
       "object_position": null,
       "order": null,
       "overflow": null,
       "overflow_x": null,
       "overflow_y": null,
       "padding": null,
       "right": null,
       "top": null,
       "visibility": null,
       "width": null
      }
     },
     "996292bde88b49a6af1a1c10a5ba4391": {
      "model_module": "@jupyter-widgets/controls",
      "model_module_version": "1.5.0",
      "model_name": "HTMLModel",
      "state": {
       "_dom_classes": [],
       "_model_module": "@jupyter-widgets/controls",
       "_model_module_version": "1.5.0",
       "_model_name": "HTMLModel",
       "_view_count": null,
       "_view_module": "@jupyter-widgets/controls",
       "_view_module_version": "1.5.0",
       "_view_name": "HTMLView",
       "description": "",
       "description_tooltip": null,
       "layout": "IPY_MODEL_fc3315554fcb4ed4b54855317f340ffb",
       "placeholder": "​",
       "style": "IPY_MODEL_27181581319a4665ab97d9157efc8e2c",
       "value": " 1/1 [00:00&lt;00:00,  4.19it/s]"
      }
     },
     "996f927fc91e4e2fa0c5ef4eb7bca998": {
      "model_module": "@jupyter-widgets/base",
      "model_module_version": "1.2.0",
      "model_name": "LayoutModel",
      "state": {
       "_model_module": "@jupyter-widgets/base",
       "_model_module_version": "1.2.0",
       "_model_name": "LayoutModel",
       "_view_count": null,
       "_view_module": "@jupyter-widgets/base",
       "_view_module_version": "1.2.0",
       "_view_name": "LayoutView",
       "align_content": null,
       "align_items": null,
       "align_self": null,
       "border": null,
       "bottom": null,
       "display": null,
       "flex": null,
       "flex_flow": null,
       "grid_area": null,
       "grid_auto_columns": null,
       "grid_auto_flow": null,
       "grid_auto_rows": null,
       "grid_column": null,
       "grid_gap": null,
       "grid_row": null,
       "grid_template_areas": null,
       "grid_template_columns": null,
       "grid_template_rows": null,
       "height": null,
       "justify_content": null,
       "justify_items": null,
       "left": null,
       "margin": null,
       "max_height": null,
       "max_width": null,
       "min_height": null,
       "min_width": null,
       "object_fit": null,
       "object_position": null,
       "order": null,
       "overflow": null,
       "overflow_x": null,
       "overflow_y": null,
       "padding": null,
       "right": null,
       "top": null,
       "visibility": null,
       "width": null
      }
     },
     "9e9d2887a7c34f1fb4813f46c1877d15": {
      "model_module": "@jupyter-widgets/controls",
      "model_module_version": "1.5.0",
      "model_name": "ProgressStyleModel",
      "state": {
       "_model_module": "@jupyter-widgets/controls",
       "_model_module_version": "1.5.0",
       "_model_name": "ProgressStyleModel",
       "_view_count": null,
       "_view_module": "@jupyter-widgets/base",
       "_view_module_version": "1.2.0",
       "_view_name": "StyleView",
       "bar_color": null,
       "description_width": "initial"
      }
     },
     "9f346ef06cd54e2c90821e519608ee01": {
      "model_module": "@jupyter-widgets/controls",
      "model_module_version": "1.5.0",
      "model_name": "FloatProgressModel",
      "state": {
       "_dom_classes": [],
       "_model_module": "@jupyter-widgets/controls",
       "_model_module_version": "1.5.0",
       "_model_name": "FloatProgressModel",
       "_view_count": null,
       "_view_module": "@jupyter-widgets/controls",
       "_view_module_version": "1.5.0",
       "_view_name": "ProgressView",
       "bar_style": "success",
       "description": "package: 100%",
       "description_tooltip": null,
       "layout": "IPY_MODEL_9654fe0011af40c39c5b04c44481c330",
       "max": 1,
       "min": 0,
       "orientation": "horizontal",
       "style": "IPY_MODEL_ee3e6d074c754b48a167a6a0e755a970",
       "value": 1
      }
     },
     "aba2d6b2e4664160bd900d11937d7a40": {
      "model_module": "@jupyter-widgets/controls",
      "model_module_version": "1.5.0",
      "model_name": "HBoxModel",
      "state": {
       "_dom_classes": [],
       "_model_module": "@jupyter-widgets/controls",
       "_model_module_version": "1.5.0",
       "_model_name": "HBoxModel",
       "_view_count": null,
       "_view_module": "@jupyter-widgets/controls",
       "_view_module_version": "1.5.0",
       "_view_name": "HBoxView",
       "box_style": "",
       "children": [
        "IPY_MODEL_709f9ae1009e43918fc7344d9c5f52fb",
        "IPY_MODEL_3d8268e26fd2468c94e0e788c92a5bcb"
       ],
       "layout": "IPY_MODEL_bc49af001ce842649a56c5bb57c14621"
      }
     },
     "ae68b3b6ebbf41dd8fbc8ed499a484f1": {
      "model_module": "@jupyter-widgets/base",
      "model_module_version": "1.2.0",
      "model_name": "LayoutModel",
      "state": {
       "_model_module": "@jupyter-widgets/base",
       "_model_module_version": "1.2.0",
       "_model_name": "LayoutModel",
       "_view_count": null,
       "_view_module": "@jupyter-widgets/base",
       "_view_module_version": "1.2.0",
       "_view_name": "LayoutView",
       "align_content": null,
       "align_items": null,
       "align_self": null,
       "border": null,
       "bottom": null,
       "display": null,
       "flex": null,
       "flex_flow": null,
       "grid_area": null,
       "grid_auto_columns": null,
       "grid_auto_flow": null,
       "grid_auto_rows": null,
       "grid_column": null,
       "grid_gap": null,
       "grid_row": null,
       "grid_template_areas": null,
       "grid_template_columns": null,
       "grid_template_rows": null,
       "height": null,
       "justify_content": null,
       "justify_items": null,
       "left": null,
       "margin": null,
       "max_height": null,
       "max_width": null,
       "min_height": null,
       "min_width": null,
       "object_fit": null,
       "object_position": null,
       "order": null,
       "overflow": null,
       "overflow_x": null,
       "overflow_y": null,
       "padding": null,
       "right": null,
       "top": null,
       "visibility": null,
       "width": null
      }
     },
     "aec1d680df6a4feabf5a2df59f528bf7": {
      "model_module": "@jupyter-widgets/base",
      "model_module_version": "1.2.0",
      "model_name": "LayoutModel",
      "state": {
       "_model_module": "@jupyter-widgets/base",
       "_model_module_version": "1.2.0",
       "_model_name": "LayoutModel",
       "_view_count": null,
       "_view_module": "@jupyter-widgets/base",
       "_view_module_version": "1.2.0",
       "_view_name": "LayoutView",
       "align_content": null,
       "align_items": null,
       "align_self": null,
       "border": null,
       "bottom": null,
       "display": null,
       "flex": null,
       "flex_flow": null,
       "grid_area": null,
       "grid_auto_columns": null,
       "grid_auto_flow": null,
       "grid_auto_rows": null,
       "grid_column": null,
       "grid_gap": null,
       "grid_row": null,
       "grid_template_areas": null,
       "grid_template_columns": null,
       "grid_template_rows": null,
       "height": null,
       "justify_content": null,
       "justify_items": null,
       "left": null,
       "margin": null,
       "max_height": null,
       "max_width": null,
       "min_height": null,
       "min_width": null,
       "object_fit": null,
       "object_position": null,
       "order": null,
       "overflow": null,
       "overflow_x": null,
       "overflow_y": null,
       "padding": null,
       "right": null,
       "top": null,
       "visibility": null,
       "width": null
      }
     },
     "b01c0a1279e14ef18f7a903e7ab1b8c5": {
      "model_module": "@jupyter-widgets/controls",
      "model_module_version": "1.5.0",
      "model_name": "HBoxModel",
      "state": {
       "_dom_classes": [],
       "_model_module": "@jupyter-widgets/controls",
       "_model_module_version": "1.5.0",
       "_model_name": "HBoxModel",
       "_view_count": null,
       "_view_module": "@jupyter-widgets/controls",
       "_view_module_version": "1.5.0",
       "_view_name": "HBoxView",
       "box_style": "",
       "children": [
        "IPY_MODEL_1c9512bacd5f4289b7ffa1c10e6ff734",
        "IPY_MODEL_855c7535f0cb45eeb8f55e4122175357"
       ],
       "layout": "IPY_MODEL_5e93c87b6eea40a3a062691f786d8f73"
      }
     },
     "b296694064db4d0ea0079d3e0b73cb21": {
      "model_module": "@jupyter-widgets/controls",
      "model_module_version": "1.5.0",
      "model_name": "ProgressStyleModel",
      "state": {
       "_model_module": "@jupyter-widgets/controls",
       "_model_module_version": "1.5.0",
       "_model_name": "ProgressStyleModel",
       "_view_count": null,
       "_view_module": "@jupyter-widgets/base",
       "_view_module_version": "1.2.0",
       "_view_name": "StyleView",
       "bar_color": null,
       "description_width": "initial"
      }
     },
     "b51622fdaa584cfeaa2dbba807abf77f": {
      "model_module": "@jupyter-widgets/base",
      "model_module_version": "1.2.0",
      "model_name": "LayoutModel",
      "state": {
       "_model_module": "@jupyter-widgets/base",
       "_model_module_version": "1.2.0",
       "_model_name": "LayoutModel",
       "_view_count": null,
       "_view_module": "@jupyter-widgets/base",
       "_view_module_version": "1.2.0",
       "_view_name": "LayoutView",
       "align_content": null,
       "align_items": null,
       "align_self": null,
       "border": null,
       "bottom": null,
       "display": null,
       "flex": null,
       "flex_flow": null,
       "grid_area": null,
       "grid_auto_columns": null,
       "grid_auto_flow": null,
       "grid_auto_rows": null,
       "grid_column": null,
       "grid_gap": null,
       "grid_row": null,
       "grid_template_areas": null,
       "grid_template_columns": null,
       "grid_template_rows": null,
       "height": null,
       "justify_content": null,
       "justify_items": null,
       "left": null,
       "margin": null,
       "max_height": null,
       "max_width": null,
       "min_height": null,
       "min_width": null,
       "object_fit": null,
       "object_position": null,
       "order": null,
       "overflow": null,
       "overflow_x": null,
       "overflow_y": null,
       "padding": null,
       "right": null,
       "top": null,
       "visibility": null,
       "width": null
      }
     },
     "b78745b7bd9d43d3980df505c27bdf76": {
      "model_module": "@jupyter-widgets/base",
      "model_module_version": "1.2.0",
      "model_name": "LayoutModel",
      "state": {
       "_model_module": "@jupyter-widgets/base",
       "_model_module_version": "1.2.0",
       "_model_name": "LayoutModel",
       "_view_count": null,
       "_view_module": "@jupyter-widgets/base",
       "_view_module_version": "1.2.0",
       "_view_name": "LayoutView",
       "align_content": null,
       "align_items": null,
       "align_self": null,
       "border": null,
       "bottom": null,
       "display": null,
       "flex": null,
       "flex_flow": null,
       "grid_area": null,
       "grid_auto_columns": null,
       "grid_auto_flow": null,
       "grid_auto_rows": null,
       "grid_column": null,
       "grid_gap": null,
       "grid_row": null,
       "grid_template_areas": null,
       "grid_template_columns": null,
       "grid_template_rows": null,
       "height": null,
       "justify_content": null,
       "justify_items": null,
       "left": null,
       "margin": null,
       "max_height": null,
       "max_width": null,
       "min_height": null,
       "min_width": null,
       "object_fit": null,
       "object_position": null,
       "order": null,
       "overflow": null,
       "overflow_x": null,
       "overflow_y": null,
       "padding": null,
       "right": null,
       "top": null,
       "visibility": null,
       "width": null
      }
     },
     "bafc05bbf47d43219edfd5e040a6b52c": {
      "model_module": "@jupyter-widgets/controls",
      "model_module_version": "1.5.0",
      "model_name": "HBoxModel",
      "state": {
       "_dom_classes": [],
       "_model_module": "@jupyter-widgets/controls",
       "_model_module_version": "1.5.0",
       "_model_name": "HBoxModel",
       "_view_count": null,
       "_view_module": "@jupyter-widgets/controls",
       "_view_module_version": "1.5.0",
       "_view_name": "HBoxView",
       "box_style": "",
       "children": [
        "IPY_MODEL_e9422e7b6e184e85948440b8abb95931",
        "IPY_MODEL_7ff48e8d7f454e68a1cae02f7f797424"
       ],
       "layout": "IPY_MODEL_996f927fc91e4e2fa0c5ef4eb7bca998"
      }
     },
     "bb9c74a174eb44edb093bea34b3fdb50": {
      "model_module": "@jupyter-widgets/controls",
      "model_module_version": "1.5.0",
      "model_name": "HTMLModel",
      "state": {
       "_dom_classes": [],
       "_model_module": "@jupyter-widgets/controls",
       "_model_module_version": "1.5.0",
       "_model_name": "HTMLModel",
       "_view_count": null,
       "_view_module": "@jupyter-widgets/controls",
       "_view_module_version": "1.5.0",
       "_view_name": "HTMLView",
       "description": "",
       "description_tooltip": null,
       "layout": "IPY_MODEL_b78745b7bd9d43d3980df505c27bdf76",
       "placeholder": "​",
       "style": "IPY_MODEL_4fd6799913f24f6dabf320eb3c85209c",
       "value": " 1/1 [00:08&lt;00:00,  8.38s/it]"
      }
     },
     "bc49af001ce842649a56c5bb57c14621": {
      "model_module": "@jupyter-widgets/base",
      "model_module_version": "1.2.0",
      "model_name": "LayoutModel",
      "state": {
       "_model_module": "@jupyter-widgets/base",
       "_model_module_version": "1.2.0",
       "_model_name": "LayoutModel",
       "_view_count": null,
       "_view_module": "@jupyter-widgets/base",
       "_view_module_version": "1.2.0",
       "_view_name": "LayoutView",
       "align_content": null,
       "align_items": null,
       "align_self": null,
       "border": null,
       "bottom": null,
       "display": null,
       "flex": null,
       "flex_flow": null,
       "grid_area": null,
       "grid_auto_columns": null,
       "grid_auto_flow": null,
       "grid_auto_rows": null,
       "grid_column": null,
       "grid_gap": null,
       "grid_row": null,
       "grid_template_areas": null,
       "grid_template_columns": null,
       "grid_template_rows": null,
       "height": null,
       "justify_content": null,
       "justify_items": null,
       "left": null,
       "margin": null,
       "max_height": null,
       "max_width": null,
       "min_height": null,
       "min_width": null,
       "object_fit": null,
       "object_position": null,
       "order": null,
       "overflow": null,
       "overflow_x": null,
       "overflow_y": null,
       "padding": null,
       "right": null,
       "top": null,
       "visibility": null,
       "width": null
      }
     },
     "bd4875f8bea44a2b832e20d38c082c08": {
      "model_module": "@jupyter-widgets/base",
      "model_module_version": "1.2.0",
      "model_name": "LayoutModel",
      "state": {
       "_model_module": "@jupyter-widgets/base",
       "_model_module_version": "1.2.0",
       "_model_name": "LayoutModel",
       "_view_count": null,
       "_view_module": "@jupyter-widgets/base",
       "_view_module_version": "1.2.0",
       "_view_name": "LayoutView",
       "align_content": null,
       "align_items": null,
       "align_self": null,
       "border": null,
       "bottom": null,
       "display": null,
       "flex": null,
       "flex_flow": null,
       "grid_area": null,
       "grid_auto_columns": null,
       "grid_auto_flow": null,
       "grid_auto_rows": null,
       "grid_column": null,
       "grid_gap": null,
       "grid_row": null,
       "grid_template_areas": null,
       "grid_template_columns": null,
       "grid_template_rows": null,
       "height": null,
       "justify_content": null,
       "justify_items": null,
       "left": null,
       "margin": null,
       "max_height": null,
       "max_width": null,
       "min_height": null,
       "min_width": null,
       "object_fit": null,
       "object_position": null,
       "order": null,
       "overflow": null,
       "overflow_x": null,
       "overflow_y": null,
       "padding": null,
       "right": null,
       "top": null,
       "visibility": null,
       "width": null
      }
     },
     "c161d6d9d1e643e39940b414e52e8902": {
      "model_module": "@jupyter-widgets/controls",
      "model_module_version": "1.5.0",
      "model_name": "FloatProgressModel",
      "state": {
       "_dom_classes": [],
       "_model_module": "@jupyter-widgets/controls",
       "_model_module_version": "1.5.0",
       "_model_name": "FloatProgressModel",
       "_view_count": null,
       "_view_module": "@jupyter-widgets/controls",
       "_view_module_version": "1.5.0",
       "_view_name": "ProgressView",
       "bar_style": "success",
       "description": "variables: 100%",
       "description_tooltip": null,
       "layout": "IPY_MODEL_93f157ccc4bd463ab15e76905abd6f1b",
       "max": 20,
       "min": 0,
       "orientation": "horizontal",
       "style": "IPY_MODEL_e7c33c98ffcd4de1b98213b5441ca778",
       "value": 20
      }
     },
     "c761598197a146458b7ba038a16f0d7a": {
      "model_module": "@jupyter-widgets/controls",
      "model_module_version": "1.5.0",
      "model_name": "HBoxModel",
      "state": {
       "_dom_classes": [],
       "_model_module": "@jupyter-widgets/controls",
       "_model_module_version": "1.5.0",
       "_model_name": "HBoxModel",
       "_view_count": null,
       "_view_module": "@jupyter-widgets/controls",
       "_view_module_version": "1.5.0",
       "_view_name": "HBoxView",
       "box_style": "",
       "children": [
        "IPY_MODEL_9f346ef06cd54e2c90821e519608ee01",
        "IPY_MODEL_996292bde88b49a6af1a1c10a5ba4391"
       ],
       "layout": "IPY_MODEL_652f7f04cec6454bb39644fc3ba86468"
      }
     },
     "cafa2499a242406d898a1256d16196f2": {
      "model_module": "@jupyter-widgets/controls",
      "model_module_version": "1.5.0",
      "model_name": "ProgressStyleModel",
      "state": {
       "_model_module": "@jupyter-widgets/controls",
       "_model_module_version": "1.5.0",
       "_model_name": "ProgressStyleModel",
       "_view_count": null,
       "_view_module": "@jupyter-widgets/base",
       "_view_module_version": "1.2.0",
       "_view_name": "StyleView",
       "bar_color": null,
       "description_width": "initial"
      }
     },
     "cde37bb1e080436e9c1031b7c3535218": {
      "model_module": "@jupyter-widgets/controls",
      "model_module_version": "1.5.0",
      "model_name": "DescriptionStyleModel",
      "state": {
       "_model_module": "@jupyter-widgets/controls",
       "_model_module_version": "1.5.0",
       "_model_name": "DescriptionStyleModel",
       "_view_count": null,
       "_view_module": "@jupyter-widgets/base",
       "_view_module_version": "1.2.0",
       "_view_name": "StyleView",
       "description_width": ""
      }
     },
     "d0c0508398234a8a8ccb2c2975f8e532": {
      "model_module": "@jupyter-widgets/base",
      "model_module_version": "1.2.0",
      "model_name": "LayoutModel",
      "state": {
       "_model_module": "@jupyter-widgets/base",
       "_model_module_version": "1.2.0",
       "_model_name": "LayoutModel",
       "_view_count": null,
       "_view_module": "@jupyter-widgets/base",
       "_view_module_version": "1.2.0",
       "_view_name": "LayoutView",
       "align_content": null,
       "align_items": null,
       "align_self": null,
       "border": null,
       "bottom": null,
       "display": null,
       "flex": null,
       "flex_flow": null,
       "grid_area": null,
       "grid_auto_columns": null,
       "grid_auto_flow": null,
       "grid_auto_rows": null,
       "grid_column": null,
       "grid_gap": null,
       "grid_row": null,
       "grid_template_areas": null,
       "grid_template_columns": null,
       "grid_template_rows": null,
       "height": null,
       "justify_content": null,
       "justify_items": null,
       "left": null,
       "margin": null,
       "max_height": null,
       "max_width": null,
       "min_height": null,
       "min_width": null,
       "object_fit": null,
       "object_position": null,
       "order": null,
       "overflow": null,
       "overflow_x": null,
       "overflow_y": null,
       "padding": null,
       "right": null,
       "top": null,
       "visibility": null,
       "width": null
      }
     },
     "d238ad63cabb4773b5f00f49f67431d0": {
      "model_module": "@jupyter-widgets/base",
      "model_module_version": "1.2.0",
      "model_name": "LayoutModel",
      "state": {
       "_model_module": "@jupyter-widgets/base",
       "_model_module_version": "1.2.0",
       "_model_name": "LayoutModel",
       "_view_count": null,
       "_view_module": "@jupyter-widgets/base",
       "_view_module_version": "1.2.0",
       "_view_name": "LayoutView",
       "align_content": null,
       "align_items": null,
       "align_self": null,
       "border": null,
       "bottom": null,
       "display": null,
       "flex": null,
       "flex_flow": null,
       "grid_area": null,
       "grid_auto_columns": null,
       "grid_auto_flow": null,
       "grid_auto_rows": null,
       "grid_column": null,
       "grid_gap": null,
       "grid_row": null,
       "grid_template_areas": null,
       "grid_template_columns": null,
       "grid_template_rows": null,
       "height": null,
       "justify_content": null,
       "justify_items": null,
       "left": null,
       "margin": null,
       "max_height": null,
       "max_width": null,
       "min_height": null,
       "min_width": null,
       "object_fit": null,
       "object_position": null,
       "order": null,
       "overflow": null,
       "overflow_x": null,
       "overflow_y": null,
       "padding": null,
       "right": null,
       "top": null,
       "visibility": null,
       "width": null
      }
     },
     "d2736a84e15e42eaa52066eb4d874608": {
      "model_module": "@jupyter-widgets/controls",
      "model_module_version": "1.5.0",
      "model_name": "DescriptionStyleModel",
      "state": {
       "_model_module": "@jupyter-widgets/controls",
       "_model_module_version": "1.5.0",
       "_model_name": "DescriptionStyleModel",
       "_view_count": null,
       "_view_module": "@jupyter-widgets/base",
       "_view_module_version": "1.2.0",
       "_view_name": "StyleView",
       "description_width": ""
      }
     },
     "ddd981978a664ca6a788798d412d3a24": {
      "model_module": "@jupyter-widgets/controls",
      "model_module_version": "1.5.0",
      "model_name": "ProgressStyleModel",
      "state": {
       "_model_module": "@jupyter-widgets/controls",
       "_model_module_version": "1.5.0",
       "_model_name": "ProgressStyleModel",
       "_view_count": null,
       "_view_module": "@jupyter-widgets/base",
       "_view_module_version": "1.2.0",
       "_view_name": "StyleView",
       "bar_color": null,
       "description_width": "initial"
      }
     },
     "e199daaf6ee7478387da93c4a620319b": {
      "model_module": "@jupyter-widgets/controls",
      "model_module_version": "1.5.0",
      "model_name": "HTMLModel",
      "state": {
       "_dom_classes": [],
       "_model_module": "@jupyter-widgets/controls",
       "_model_module_version": "1.5.0",
       "_model_name": "HTMLModel",
       "_view_count": null,
       "_view_module": "@jupyter-widgets/controls",
       "_view_module_version": "1.5.0",
       "_view_name": "HTMLView",
       "description": "",
       "description_tooltip": null,
       "layout": "IPY_MODEL_351167995fd04b56bf02e060eaae72e0",
       "placeholder": "​",
       "style": "IPY_MODEL_d2736a84e15e42eaa52066eb4d874608",
       "value": " 3/3 [00:00&lt;00:00, 44.23it/s]"
      }
     },
     "e55d4bc4b5dc4453aa502322d917a83d": {
      "model_module": "@jupyter-widgets/controls",
      "model_module_version": "1.5.0",
      "model_name": "DescriptionStyleModel",
      "state": {
       "_model_module": "@jupyter-widgets/controls",
       "_model_module_version": "1.5.0",
       "_model_name": "DescriptionStyleModel",
       "_view_count": null,
       "_view_module": "@jupyter-widgets/base",
       "_view_module_version": "1.2.0",
       "_view_name": "StyleView",
       "description_width": ""
      }
     },
     "e7128092b0d9495fa9364c019aec9bd6": {
      "model_module": "@jupyter-widgets/controls",
      "model_module_version": "1.5.0",
      "model_name": "ProgressStyleModel",
      "state": {
       "_model_module": "@jupyter-widgets/controls",
       "_model_module_version": "1.5.0",
       "_model_name": "ProgressStyleModel",
       "_view_count": null,
       "_view_module": "@jupyter-widgets/base",
       "_view_module_version": "1.2.0",
       "_view_name": "StyleView",
       "bar_color": null,
       "description_width": "initial"
      }
     },
     "e72125fe5d6a43f58803eb5496423023": {
      "model_module": "@jupyter-widgets/controls",
      "model_module_version": "1.5.0",
      "model_name": "HTMLModel",
      "state": {
       "_dom_classes": [],
       "_model_module": "@jupyter-widgets/controls",
       "_model_module_version": "1.5.0",
       "_model_name": "HTMLModel",
       "_view_count": null,
       "_view_module": "@jupyter-widgets/controls",
       "_view_module_version": "1.5.0",
       "_view_name": "HTMLView",
       "description": "",
       "description_tooltip": null,
       "layout": "IPY_MODEL_d238ad63cabb4773b5f00f49f67431d0",
       "placeholder": "​",
       "style": "IPY_MODEL_e55d4bc4b5dc4453aa502322d917a83d",
       "value": " 196/196 [00:42&lt;00:00,  4.56it/s]"
      }
     },
     "e7c33c98ffcd4de1b98213b5441ca778": {
      "model_module": "@jupyter-widgets/controls",
      "model_module_version": "1.5.0",
      "model_name": "ProgressStyleModel",
      "state": {
       "_model_module": "@jupyter-widgets/controls",
       "_model_module_version": "1.5.0",
       "_model_name": "ProgressStyleModel",
       "_view_count": null,
       "_view_module": "@jupyter-widgets/base",
       "_view_module_version": "1.2.0",
       "_view_name": "StyleView",
       "bar_color": null,
       "description_width": "initial"
      }
     },
     "e9422e7b6e184e85948440b8abb95931": {
      "model_module": "@jupyter-widgets/controls",
      "model_module_version": "1.5.0",
      "model_name": "FloatProgressModel",
      "state": {
       "_dom_classes": [],
       "_model_module": "@jupyter-widgets/controls",
       "_model_module_version": "1.5.0",
       "_model_name": "FloatProgressModel",
       "_view_count": null,
       "_view_module": "@jupyter-widgets/controls",
       "_view_module_version": "1.5.0",
       "_view_name": "ProgressView",
       "bar_style": "success",
       "description": "build report structure: 100%",
       "description_tooltip": null,
       "layout": "IPY_MODEL_aec1d680df6a4feabf5a2df59f528bf7",
       "max": 1,
       "min": 0,
       "orientation": "horizontal",
       "style": "IPY_MODEL_e7128092b0d9495fa9364c019aec9bd6",
       "value": 1
      }
     },
     "ee3e6d074c754b48a167a6a0e755a970": {
      "model_module": "@jupyter-widgets/controls",
      "model_module_version": "1.5.0",
      "model_name": "ProgressStyleModel",
      "state": {
       "_model_module": "@jupyter-widgets/controls",
       "_model_module_version": "1.5.0",
       "_model_name": "ProgressStyleModel",
       "_view_count": null,
       "_view_module": "@jupyter-widgets/base",
       "_view_module_version": "1.2.0",
       "_view_name": "StyleView",
       "bar_color": null,
       "description_width": "initial"
      }
     },
     "fb2af1552d2d40d7832a5f33cbf71672": {
      "model_module": "@jupyter-widgets/controls",
      "model_module_version": "1.5.0",
      "model_name": "DescriptionStyleModel",
      "state": {
       "_model_module": "@jupyter-widgets/controls",
       "_model_module_version": "1.5.0",
       "_model_name": "DescriptionStyleModel",
       "_view_count": null,
       "_view_module": "@jupyter-widgets/base",
       "_view_module_version": "1.2.0",
       "_view_name": "StyleView",
       "description_width": ""
      }
     },
     "fc3315554fcb4ed4b54855317f340ffb": {
      "model_module": "@jupyter-widgets/base",
      "model_module_version": "1.2.0",
      "model_name": "LayoutModel",
      "state": {
       "_model_module": "@jupyter-widgets/base",
       "_model_module_version": "1.2.0",
       "_model_name": "LayoutModel",
       "_view_count": null,
       "_view_module": "@jupyter-widgets/base",
       "_view_module_version": "1.2.0",
       "_view_name": "LayoutView",
       "align_content": null,
       "align_items": null,
       "align_self": null,
       "border": null,
       "bottom": null,
       "display": null,
       "flex": null,
       "flex_flow": null,
       "grid_area": null,
       "grid_auto_columns": null,
       "grid_auto_flow": null,
       "grid_auto_rows": null,
       "grid_column": null,
       "grid_gap": null,
       "grid_row": null,
       "grid_template_areas": null,
       "grid_template_columns": null,
       "grid_template_rows": null,
       "height": null,
       "justify_content": null,
       "justify_items": null,
       "left": null,
       "margin": null,
       "max_height": null,
       "max_width": null,
       "min_height": null,
       "min_width": null,
       "object_fit": null,
       "object_position": null,
       "order": null,
       "overflow": null,
       "overflow_x": null,
       "overflow_y": null,
       "padding": null,
       "right": null,
       "top": null,
       "visibility": null,
       "width": null
      }
     }
    },
    "version_major": 2,
    "version_minor": 0
   }
  }
 },
 "nbformat": 4,
 "nbformat_minor": 4
}
