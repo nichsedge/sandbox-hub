{
 "cells": [
  {
   "attachments": {},
   "cell_type": "markdown",
   "metadata": {},
   "source": [
    "Import"
   ]
  },
  {
   "cell_type": "code",
   "execution_count": null,
   "metadata": {},
   "outputs": [],
   "source": [
    "import pandas as pd\n",
    "import seaborn as sns\n",
    "import matplotlib.pyplot as plt\n",
    "\n",
    "from scipy import stats"
   ]
  },
  {
   "attachments": {},
   "cell_type": "markdown",
   "metadata": {},
   "source": [
    "Data sebelumnya dilakukan dengan join semua table berdasarkan id nya, dari mulai category, education, marital, dan status, ke table customer_data_history. sehingga menghasilkan csv `CLEAN_customer_data_history`."
   ]
  },
  {
   "cell_type": "code",
   "execution_count": null,
   "metadata": {},
   "outputs": [],
   "source": [
    "df = pd.read_csv(\"CLEAN_customer_data_history.csv\")\n",
    "df.head()"
   ]
  },
  {
   "cell_type": "code",
   "execution_count": null,
   "metadata": {},
   "outputs": [],
   "source": [
    "df.columns"
   ]
  },
  {
   "cell_type": "code",
   "execution_count": null,
   "metadata": {},
   "outputs": [],
   "source": [
    "df.info()"
   ]
  },
  {
   "cell_type": "code",
   "execution_count": null,
   "metadata": {},
   "outputs": [],
   "source": [
    "df.describe()"
   ]
  },
  {
   "cell_type": "code",
   "execution_count": null,
   "metadata": {},
   "outputs": [],
   "source": [
    "df = df.drop([\"Clientnum\"], axis=1)"
   ]
  },
  {
   "cell_type": "code",
   "execution_count": null,
   "metadata": {},
   "outputs": [],
   "source": [
    "object_columns = df.select_dtypes(include=\"object\").columns\n",
    "\n",
    "for column in object_columns:\n",
    "    unique_values = df[column].unique()\n",
    "    print(f\"Unique values in {column}:\")\n",
    "    print(unique_values)\n",
    "    print()"
   ]
  },
  {
   "attachments": {},
   "cell_type": "markdown",
   "metadata": {},
   "source": [
    "Feature Engineering"
   ]
  },
  {
   "cell_type": "code",
   "execution_count": null,
   "metadata": {},
   "outputs": [],
   "source": [
    "df[\"Status_int\"] = df[\"Status\"].replace(\n",
    "    {\"Existing Customer\": 1, \"Attrited Customer\": 0}\n",
    ")"
   ]
  },
  {
   "cell_type": "code",
   "execution_count": null,
   "metadata": {},
   "outputs": [],
   "source": [
    "age_ranges = {\n",
    "    \"Gen Z\": (0, 24),\n",
    "    \"Millennial\": (25, 40),\n",
    "    \"Gen X\": (41, 55),\n",
    "    \"Baby Boomer\": (56, 75),\n",
    "    \"Silent Generation\": (76, 100),\n",
    "}\n",
    "\n",
    "df[\"Generation\"] = pd.cut(\n",
    "    df[\"Customer Age\"],\n",
    "    bins=[range[0] - 1 for range in age_ranges.values()]\n",
    "    + [max(range[1] for range in age_ranges.values()) + 1],\n",
    "    labels=[generation for generation in age_ranges.keys()],\n",
    ")"
   ]
  },
  {
   "attachments": {},
   "cell_type": "markdown",
   "metadata": {},
   "source": [
    "EDA"
   ]
  },
  {
   "cell_type": "code",
   "execution_count": null,
   "metadata": {},
   "outputs": [],
   "source": [
    "# Count the number of 'Attrited Customer' and 'Existing Customer'\n",
    "attrited_count = df[df[\"Status\"] == \"Attrited Customer\"].shape[0]\n",
    "existing_count = df[df[\"Status\"] == \"Existing Customer\"].shape[0]\n",
    "\n",
    "# Create labels and counts for the pie chart\n",
    "labels = [\"Attrited Customer\", \"Existing Customer\"]\n",
    "counts = [attrited_count, existing_count]\n",
    "\n",
    "# Create the pie chart\n",
    "plt.figure(figsize=(6, 6))\n",
    "plt.pie(counts, labels=labels, autopct=\"%1.1f%%\", startangle=90)\n",
    "plt.title(\"Distribution of Customer Status\")\n",
    "plt.axis(\"equal\")  # Equal aspect ratio ensures that pie is drawn as a circle\n",
    "plt.show()"
   ]
  },
  {
   "cell_type": "code",
   "execution_count": null,
   "metadata": {},
   "outputs": [],
   "source": [
    "df.Clientnum"
   ]
  },
  {
   "cell_type": "code",
   "execution_count": null,
   "metadata": {},
   "outputs": [],
   "source": [
    "# Filter the dataframe to include only columns of numerical data type\n",
    "# numerical_columns = df.select_dtypes(include='number').columns\n",
    "numerical_columns = [\n",
    "    \"Avg Open To Buy\",\n",
    "    \"Avg Utilization Ratio\",\n",
    "    \"Contacts Count 12 mon\",\n",
    "    \"Credit Limit\",\n",
    "    \"Customer Age\",\n",
    "    \"Dependent count\",\n",
    "    \"Months Inactive 12 mon\",\n",
    "    \"Months on book\",\n",
    "    \"Total Relationship Count\",\n",
    "    \"Total Revolving Bal\",\n",
    "    \"Total Trans Amt\",\n",
    "    \"Total Trans Ct\",\n",
    "]\n",
    "\n",
    "# Set the number of columns for subplots\n",
    "num_cols = 3\n",
    "\n",
    "# Calculate the number of rows needed based on the number of numerical columns and the number of columns for subplots\n",
    "num_rows = (len(numerical_columns) + num_cols - 1) // num_cols\n",
    "\n",
    "# Create subplots for histogram plots\n",
    "fig, axes = plt.subplots(num_rows, num_cols, figsize=(15, 10))\n",
    "axes = axes.flatten()  # Flatten the axes array for easy iteration\n",
    "\n",
    "# Iterate over numerical columns and create histogram plots with KDE\n",
    "for i, col in enumerate(numerical_columns):\n",
    "    ax = axes[i]  # Select the current subplot\n",
    "    sns.histplot(data=df, x=col, hue=\"Status\", kde=True, ax=ax)\n",
    "    ax.set_title(f\"Distribution of {col} by Status\")\n",
    "    ax.set_xlabel(col)\n",
    "    ax.set_ylabel(\"Count\")\n",
    "\n",
    "# Remove any unused subplots\n",
    "if len(numerical_columns) < num_rows * num_cols:\n",
    "    for j in range(len(numerical_columns), num_rows * num_cols):\n",
    "        fig.delaxes(axes[j])\n",
    "\n",
    "plt.tight_layout()\n",
    "plt.show()"
   ]
  },
  {
   "cell_type": "code",
   "execution_count": null,
   "metadata": {},
   "outputs": [],
   "source": [
    "# Calculate the correlation matrix\n",
    "correlation_matrix = df.corr()\n",
    "\n",
    "# Create a heatmap of the correlation matrix\n",
    "plt.figure(figsize=(10, 8))\n",
    "sns.heatmap(correlation_matrix, annot=True, cmap=\"coolwarm\", fmt=\".2f\", linewidths=0.5)\n",
    "plt.title(\"Correlation Matrix\")\n",
    "plt.show()"
   ]
  },
  {
   "cell_type": "code",
   "execution_count": null,
   "metadata": {},
   "outputs": [],
   "source": [
    "# Select the columns for feature analysis\n",
    "selected_columns = [\n",
    "    \"Generation\",\n",
    "    \"Card Category\",\n",
    "    \"Education Level\",\n",
    "    \"Gender\",\n",
    "    \"Income Category\",\n",
    "    \"Marital Status\",\n",
    "]\n",
    "\n",
    "# Calculate the summary statistics of selected features\n",
    "feature_summary = df[selected_columns].describe(include=\"all\")\n",
    "feature_summary"
   ]
  },
  {
   "cell_type": "code",
   "execution_count": null,
   "metadata": {},
   "outputs": [],
   "source": [
    "# # Visualize the distribution of numeric features\n",
    "# numeric_columns = ['Avg Open To Buy', 'Avg Utilization Ratio', 'Credit Limit', 'Customer Age', 'Dependent count',\n",
    "#                    'Months Inactive 12 mon', 'Months on book', 'Total Relationship Count', 'Total Revolving Bal',\n",
    "#                    'Total Trans Amt', 'Total Trans Ct']\n",
    "# sns.set(style='ticks')\n",
    "# sns.pairplot(df[numeric_columns])\n",
    "# plt.show()"
   ]
  },
  {
   "cell_type": "code",
   "execution_count": null,
   "metadata": {},
   "outputs": [],
   "source": [
    "categorical_columns = [\n",
    "    \"Generation\",\n",
    "    \"Card Category\",\n",
    "    \"Education Level\",\n",
    "    \"Gender\",\n",
    "    \"Income Category\",\n",
    "    \"Marital Status\",\n",
    "]\n",
    "num_plots = len(categorical_columns)\n",
    "num_rows = 2\n",
    "num_cols = 3\n",
    "\n",
    "fig, axes = plt.subplots(num_rows, num_cols, figsize=(15, 10))\n",
    "\n",
    "# Flatten the axes array to easily iterate over subplots\n",
    "axes = axes.flatten()\n",
    "\n",
    "for i, col in enumerate(categorical_columns):\n",
    "    ax = axes[i]\n",
    "    sns.countplot(x=col, data=df, hue=\"Status\", ax=ax)\n",
    "    ax.set_title(f\"Distribution of {col}\")\n",
    "    ax.legend(title=\"Status\")\n",
    "    ax.set_xlabel(col)\n",
    "    ax.set_ylabel(\"Count\")\n",
    "    ax.tick_params(axis=\"x\", rotation=45)  # Rotate x-axis labels by 45 degrees\n",
    "\n",
    "# Remove any unused subplots\n",
    "if num_plots < num_rows * num_cols:\n",
    "    for j in range(num_plots, num_rows * num_cols):\n",
    "        fig.delaxes(axes[j])\n",
    "\n",
    "plt.tight_layout()\n",
    "plt.show()"
   ]
  },
  {
   "cell_type": "code",
   "execution_count": null,
   "metadata": {},
   "outputs": [],
   "source": [
    "# # Visualize the distribution of categorical features\n",
    "# categorical_columns = ['Generation', 'Card Category', 'Education Level', 'Gender', 'Income Category', 'Marital Status']\n",
    "# for col in categorical_columns:\n",
    "#     plt.figure(figsize=(8, 6))\n",
    "#     sns.countplot(x=col, data=df, hue='Status')\n",
    "#     plt.title(f'Distribution of {col}')\n",
    "#     plt.show()"
   ]
  },
  {
   "cell_type": "code",
   "execution_count": null,
   "metadata": {},
   "outputs": [],
   "source": [
    "def compare_kdeplots(df, col, hue=None):\n",
    "    plt.figure(figsize=(8, 6))\n",
    "    sns.histplot(\n",
    "        df[df[\"Status\"] == \"Existing Customer\"][col],\n",
    "        label=\"Existing Customer\",\n",
    "        kde=True,\n",
    "        hue=hue,\n",
    "    )\n",
    "    sns.histplot(\n",
    "        df[df[\"Status\"] == \"Attrited Customer\"][col],\n",
    "        label=\"Attrited Customer\",\n",
    "        kde=True,\n",
    "        hue=hue,\n",
    "    )\n",
    "    plt.title(f\"Distribution of {col} by Customer Status\")\n",
    "    plt.xlabel(col)\n",
    "    plt.ylabel(\"Count\")\n",
    "    plt.legend()\n",
    "    plt.show()"
   ]
  },
  {
   "cell_type": "code",
   "execution_count": null,
   "metadata": {},
   "outputs": [],
   "source": [
    "for col in [\"Months Inactive 12 mon\", \"Total Trans Ct\", \"Avg Utilization Ratio\"]:\n",
    "    compare_kdeplots(df, col)"
   ]
  }
 ],
 "metadata": {
  "kernelspec": {
   "display_name": "base",
   "language": "python",
   "name": "python3"
  },
  "language_info": {
   "codemirror_mode": {
    "name": "ipython",
    "version": 3
   },
   "file_extension": ".py",
   "mimetype": "text/x-python",
   "name": "python",
   "nbconvert_exporter": "python",
   "pygments_lexer": "ipython3",
   "version": "3.9.16"
  }
 },
 "nbformat": 4,
 "nbformat_minor": 2
}
