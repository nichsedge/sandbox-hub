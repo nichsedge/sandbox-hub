{
 "cells": [
  {
   "cell_type": "code",
   "execution_count": null,
   "metadata": {},
   "outputs": [],
   "source": [
    "from sklearn.linear_model import LogisticRegression\n",
    "from sklearn import metrics\n",
    "import numpy as np\n",
    "import pandas as pd\n",
    "\n",
    "# Read in loan data from a CSV file\n",
    "data = \"../data/Loan_Data.csv\"\n",
    "df = pd.read_csv(data)\n",
    "\n",
    "# Define the variable features\n",
    "features = [\n",
    "    \"credit_lines_outstanding\",\n",
    "    \"debt_to_income\",\n",
    "    \"payment_to_income\",\n",
    "    \"years_employed\",\n",
    "    \"fico_score\",\n",
    "]\n",
    "\n",
    "# Calculate the payment_to_income ratio\n",
    "df[\"payment_to_income\"] = df[\"loan_amt_outstanding\"] / df[\"income\"]\n",
    "\n",
    "# Calculate the debt_to_income ratio\n",
    "df[\"debt_to_income\"] = df[\"total_debt_outstanding\"] / df[\"income\"]\n",
    "\n",
    "clf = LogisticRegression(\n",
    "    random_state=0, solver=\"liblinear\", tol=1e-5, max_iter=10000\n",
    ").fit(df[features], df[\"default\"])\n",
    "print(clf.coef_, clf.intercept_)\n",
    "\n",
    "# Use the following code to check yourself\n",
    "y_pred = clf.predict(df[features])\n",
    "\n",
    "fpr, tpr, thresholds = metrics.roc_curve(df[\"default\"], y_pred)\n",
    "print((1.0 * (abs(df[\"default\"] - y_pred)).sum()) / len(df))\n",
    "print(metrics.auc(fpr, tpr))"
   ]
  }
 ],
 "metadata": {
  "kernelspec": {
   "display_name": "base",
   "language": "python",
   "name": "python3"
  },
  "language_info": {
   "codemirror_mode": {
    "name": "ipython",
    "version": 3
   },
   "file_extension": ".py",
   "mimetype": "text/x-python",
   "name": "python",
   "nbconvert_exporter": "python",
   "pygments_lexer": "ipython3",
   "version": "3.11.5"
  }
 },
 "nbformat": 4,
 "nbformat_minor": 2
}
