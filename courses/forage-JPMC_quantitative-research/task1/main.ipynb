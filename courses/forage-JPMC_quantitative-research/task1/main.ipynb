{
 "cells": [
  {
   "cell_type": "markdown",
   "metadata": {},
   "source": [
    "## Background Information\n",
    "\n",
    "As a quantitative researcher within a commodity trading desk, you've been tasked with addressing a request from Alex, a Vice President (VP) on the desk. Alex intends to initiate trading in natural gas storage contracts. However, the current available market data needs enhancement to ensure accurate pricing of this financial instrument. Alex has contacted you via email seeking assistance in extrapolating the existing data obtained from external feeds. The goal is to provide more detailed granularity while considering the seasonal trends in pricing concerning different months of the year. The objective is to gather historical data and formulate an estimation model for the future price of gas at any given date.\n",
    "\n",
    "## Commodity Storage Contracts Overview\n",
    "\n",
    "Commodity storage contracts typically involve agreements between warehouse (storage) owners and various participants in the commodity supply chain, including refineries, transporters, distributors, among others. These contracts entail storing a specified quantity of a physical commodity (such as oil, natural gas, or agricultural products) in a warehouse for a predetermined duration. The crucial terms of such contracts, such as periodic storage fees and limitations on withdrawals or injections of the commodity, are established at the inception of the agreement between the warehouse owner and the client.\n",
    "\n",
    "The injection date marks when the commodity is purchased and stored, while the withdrawal date denotes when the stored commodity is withdrawn and sold.\n",
    "\n",
    "## Participants in Commodity Storage Contracts\n",
    "\n",
    "Clients involved in commodity storage contracts encompass various entities within the commodities supply chain. This includes but is not limited to producers, refiners, transporters, and distributors. Additionally, this group encompasses firms engaged in commodities trading, hedge funds, and other entities whose primary objective revolves around leveraging seasonal or intra-day price differentials in physical commodities.\n",
    "\n",
    "For instance, a firm seeking to purchase physical natural gas during the summer months to sell it during winter aims to capitalize on the seasonal price differentials mentioned earlier. To execute this strategy effectively, the firm would require the services of an underground storage facility to stockpile the purchased inventory and realize profits.\n",
    "\n",
    "\n",
    "# Task Description\n",
    "\n",
    "Here is your task:\n",
    "\n",
    "After asking around for the source of the existing data, you learn that the current process is to take a monthly snapshot of prices from a market data provider, which represents the market price of natural gas delivered at the end of each calendar month. This data is available for roughly the next 18 months and is combined with historical prices in a time series database. After gaining access, you are able to download the data in a CSV file.\n",
    "\n",
    "- Download the monthly natural gas price data.\n",
    "- Each point in the data set corresponds to the purchase price of natural gas at the end of a month, from 31st October 2020 to 30th September 2024.\n",
    "- Analyze the data to estimate the purchase price of gas at any date in the past and extrapolate it for one year into the future. \n",
    "- Your code should take a date as input and return a price estimate.\n",
    "- Try to visualize the data to find patterns and consider what factors might cause the price of natural gas to vary. This can include looking at months of the year for seasonal trends that affect the prices, but market holidays, weekends, and bank holidays need not be accounted for. Submit your completed code below.\n",
    "\n",
    "**Note:** This role often requires the knowledge and utilization of data analysis and machine learning. Python is a useful tool and one that JPMorgan Chase uses a lot in quantitative research since it’s capable of completing complex tasks.\n",
    "\n",
    "Moving forward in this program, the example answers are given in Python code. (If Python is not downloaded on your system, you can execute Python code in Jupyter Notebook online for free.)\n"
   ]
  },
  {
   "cell_type": "code",
   "execution_count": null,
   "metadata": {},
   "outputs": [],
   "source": [
    "import pandas as pd\n",
    "from datetime import datetime, timedelta\n",
    "import matplotlib.pyplot as plt\n",
    "from sklearn.linear_model import LinearRegression"
   ]
  },
  {
   "cell_type": "code",
   "execution_count": null,
   "metadata": {},
   "outputs": [],
   "source": [
    "data = pd.read_csv(\"./../data/Loan_data.csv\")\n",
    "\n",
    "# Convert 'Dates' column to datetime format\n",
    "data[\"Dates\"] = pd.to_datetime(data[\"Dates\"], format=\"%m/%d/%y\")\n",
    "\n",
    "# Sort data by date\n",
    "data = data.sort_values(by=\"Dates\")"
   ]
  },
  {
   "cell_type": "code",
   "execution_count": null,
   "metadata": {},
   "outputs": [],
   "source": [
    "# Visualize the data\n",
    "plt.figure(figsize=(10, 6))\n",
    "plt.plot(data[\"Dates\"], data[\"Prices\"], marker=\"o\", linestyle=\"-\")\n",
    "plt.title(\"Natural Gas Prices Over Time\")\n",
    "plt.xlabel(\"Date\")\n",
    "plt.ylabel(\"Price\")\n",
    "plt.grid(True)\n",
    "plt.show()"
   ]
  },
  {
   "cell_type": "code",
   "execution_count": null,
   "metadata": {},
   "outputs": [],
   "source": [
    "def estimate_price_for_date(date):\n",
    "    # Fit a linear regression model\n",
    "    X = data[\"Dates\"].apply(lambda x: x.timestamp()).values.reshape(-1, 1)\n",
    "    y = data[\"Prices\"].values.reshape(-1, 1)\n",
    "    model = LinearRegression()\n",
    "    model.fit(X, y)\n",
    "\n",
    "    # Convert input date to timestamp\n",
    "    date_timestamp = datetime.timestamp(date)\n",
    "\n",
    "    # Predict price for the given date and extrapolate for one year into the future\n",
    "    future_date_timestamp = (\n",
    "        date_timestamp + 365 * 24 * 60 * 60\n",
    "    )  # Add one year in seconds\n",
    "    price_estimate = model.predict([[date_timestamp], [future_date_timestamp]])\n",
    "\n",
    "    return price_estimate[0][0], price_estimate[1][0]"
   ]
  },
  {
   "cell_type": "code",
   "execution_count": null,
   "metadata": {},
   "outputs": [],
   "source": [
    "# Example usage\n",
    "input_date = datetime.strptime(\"2023-05-15\", \"%Y-%m-%d\")\n",
    "estimated_price, extrapolated_price = estimate_price_for_date(input_date)\n",
    "print(f\"Estimated price for {input_date.date()}: {estimated_price}\")\n",
    "print(f\"Extrapolated price for one year ahead: {extrapolated_price}\")"
   ]
  }
 ],
 "metadata": {
  "kernelspec": {
   "display_name": "base",
   "language": "python",
   "name": "python3"
  },
  "language_info": {
   "codemirror_mode": {
    "name": "ipython",
    "version": 3
   },
   "file_extension": ".py",
   "mimetype": "text/x-python",
   "name": "python",
   "nbconvert_exporter": "python",
   "pygments_lexer": "ipython3",
   "version": "3.11.5"
  }
 },
 "nbformat": 4,
 "nbformat_minor": 2
}
