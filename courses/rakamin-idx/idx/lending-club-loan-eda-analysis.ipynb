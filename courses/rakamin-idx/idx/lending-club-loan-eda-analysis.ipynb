{
 "cells": [
  {
   "attachments": {},
   "cell_type": "markdown",
   "id": "8452de30",
   "metadata": {
    "papermill": {
     "duration": 0.033102,
     "end_time": "2022-11-18T11:08:37.145090",
     "exception": false,
     "start_time": "2022-11-18T11:08:37.111988",
     "status": "completed"
    },
    "tags": []
   },
   "source": [
    "### CONTENT"
   ]
  },
  {
   "attachments": {},
   "cell_type": "markdown",
   "id": "699d398b",
   "metadata": {},
   "source": [
    "1. Business Objective & Problem Statement\n",
    "\n",
    "2. Importing Required Libraries\n",
    "\n",
    "3. Data Review and Cleansing\n",
    "    \n",
    "4. Data Analysis\n",
    "     \n",
    "5. Conclusions & Recommendations"
   ]
  },
  {
   "attachments": {},
   "cell_type": "markdown",
   "id": "43e268d5",
   "metadata": {
    "papermill": {
     "duration": 0.033844,
     "end_time": "2022-11-18T11:08:37.278939",
     "exception": false,
     "start_time": "2022-11-18T11:08:37.245095",
     "status": "completed"
    },
    "tags": []
   },
   "source": [
    "###  BUSINESS OBJECTIVE & PROBLEM STATEMENT"
   ]
  },
  {
   "attachments": {},
   "cell_type": "markdown",
   "id": "81998bf3",
   "metadata": {
    "papermill": {
     "duration": 0.033266,
     "end_time": "2022-11-18T11:08:37.347614",
     "exception": false,
     "start_time": "2022-11-18T11:08:37.314348",
     "status": "completed"
    },
    "tags": []
   },
   "source": [
    "Problem Statement:\n",
    "Identify these risky df applicants, then such loans can be reduced thereby cutting down the amount of credit loss. Identification of such applicants using EDA is the aim of this case study."
   ]
  },
  {
   "attachments": {},
   "cell_type": "markdown",
   "id": "a142b76d",
   "metadata": {
    "papermill": {
     "duration": 0.033065,
     "end_time": "2022-11-18T11:08:37.414103",
     "exception": false,
     "start_time": "2022-11-18T11:08:37.381038",
     "status": "completed"
    },
    "tags": []
   },
   "source": [
    "### IMPORTING REQUIRED LIBRARIES"
   ]
  },
  {
   "cell_type": "code",
   "execution_count": null,
   "id": "542d630f",
   "metadata": {
    "execution": {
     "iopub.execute_input": "2022-11-18T11:08:37.484577Z",
     "iopub.status.busy": "2022-11-18T11:08:37.484033Z",
     "iopub.status.idle": "2022-11-18T11:08:38.573225Z",
     "shell.execute_reply": "2022-11-18T11:08:38.572019Z"
    },
    "papermill": {
     "duration": 1.127867,
     "end_time": "2022-11-18T11:08:38.576540",
     "exception": false,
     "start_time": "2022-11-18T11:08:37.448673",
     "status": "completed"
    },
    "tags": []
   },
   "outputs": [],
   "source": [
    "import pandas as pd\n",
    "import numpy as np\n",
    "import seaborn as sns\n",
    "import matplotlib.pyplot as plt\n",
    "\n",
    "%matplotlib inline\n",
    "import warnings\n",
    "\n",
    "warnings.filterwarnings(\"ignore\")\n",
    "pd.set_option(\"display.max_columns\", 120)\n",
    "pd.set_option(\"display.max_rows\", 500)"
   ]
  },
  {
   "cell_type": "code",
   "execution_count": null,
   "id": "c92c269e",
   "metadata": {
    "execution": {
     "iopub.execute_input": "2022-11-18T11:08:38.762783Z",
     "iopub.status.busy": "2022-11-18T11:08:38.762294Z",
     "iopub.status.idle": "2022-11-18T11:08:40.770542Z",
     "shell.execute_reply": "2022-11-18T11:08:40.769146Z"
    },
    "papermill": {
     "duration": 2.04602,
     "end_time": "2022-11-18T11:08:40.773474",
     "exception": false,
     "start_time": "2022-11-18T11:08:38.727454",
     "status": "completed"
    },
    "tags": []
   },
   "outputs": [],
   "source": [
    "df = pd.read_csv(\"loan_data_2007_2014.csv\", index_col=0, low_memory=False)"
   ]
  },
  {
   "attachments": {},
   "cell_type": "markdown",
   "id": "757efad2",
   "metadata": {
    "papermill": {
     "duration": 0.032939,
     "end_time": "2022-11-18T11:08:40.839791",
     "exception": false,
     "start_time": "2022-11-18T11:08:40.806852",
     "status": "completed"
    },
    "tags": []
   },
   "source": [
    "### DATA REVIEW & CLEANSING"
   ]
  },
  {
   "cell_type": "raw",
   "id": "bddc5236",
   "metadata": {
    "papermill": {
     "duration": 0.032736,
     "end_time": "2022-11-18T11:08:40.905734",
     "exception": false,
     "start_time": "2022-11-18T11:08:40.872998",
     "status": "completed"
    },
    "tags": []
   },
   "source": [
    "# Fixing Rows and Columns\n",
    "# Fixing Missing Values\n",
    "# Standardizing Values\n",
    "# Fixing Invalid Values\n",
    "# Filtering Data"
   ]
  },
  {
   "cell_type": "code",
   "execution_count": null,
   "id": "1481b81d",
   "metadata": {
    "execution": {
     "iopub.execute_input": "2022-11-18T11:08:40.974561Z",
     "iopub.status.busy": "2022-11-18T11:08:40.973777Z",
     "iopub.status.idle": "2022-11-18T11:08:41.066241Z",
     "shell.execute_reply": "2022-11-18T11:08:41.065043Z"
    },
    "papermill": {
     "duration": 0.130215,
     "end_time": "2022-11-18T11:08:41.069104",
     "exception": false,
     "start_time": "2022-11-18T11:08:40.938889",
     "status": "completed"
    },
    "tags": []
   },
   "outputs": [],
   "source": [
    "df.head()"
   ]
  },
  {
   "cell_type": "code",
   "execution_count": null,
   "id": "915fc248",
   "metadata": {
    "execution": {
     "iopub.execute_input": "2022-11-18T11:08:41.372400Z",
     "iopub.status.busy": "2022-11-18T11:08:41.371948Z",
     "iopub.status.idle": "2022-11-18T11:08:41.403241Z",
     "shell.execute_reply": "2022-11-18T11:08:41.402029Z"
    },
    "papermill": {
     "duration": 0.071137,
     "end_time": "2022-11-18T11:08:41.406004",
     "exception": false,
     "start_time": "2022-11-18T11:08:41.334867",
     "status": "completed"
    },
    "tags": []
   },
   "outputs": [],
   "source": [
    "df.info(verbose=True)"
   ]
  },
  {
   "cell_type": "code",
   "execution_count": null,
   "id": "76ae5814",
   "metadata": {
    "execution": {
     "iopub.execute_input": "2022-11-18T11:08:41.481124Z",
     "iopub.status.busy": "2022-11-18T11:08:41.480690Z",
     "iopub.status.idle": "2022-11-18T11:08:41.849886Z",
     "shell.execute_reply": "2022-11-18T11:08:41.848557Z"
    },
    "papermill": {
     "duration": 0.409933,
     "end_time": "2022-11-18T11:08:41.853031",
     "exception": false,
     "start_time": "2022-11-18T11:08:41.443098",
     "status": "completed"
    },
    "tags": []
   },
   "outputs": [],
   "source": [
    "df.describe()"
   ]
  },
  {
   "attachments": {},
   "cell_type": "markdown",
   "id": "8f0afa9c",
   "metadata": {},
   "source": [
    "Data Observations"
   ]
  },
  {
   "attachments": {},
   "cell_type": "markdown",
   "id": "988416b6",
   "metadata": {},
   "source": [
    "Data Type Observations\n",
    "\n",
    "1. Term, zip_code are objects. Upon review of the data , there appears no value in \n",
    "converting this to a numeric variable They can continue to be considered as a categorical variables. \n",
    "Clean up necessary for additional signs / words\n",
    "\n",
    "2. int_rate, emp_length are objects and will need to be converted to floats \n",
    "\n",
    "3. issue_d app, earliest_cr_line,  last_pymnt_d, next_pymnt_d ,last_credit_pull_d  are objects and will\n",
    "   need to be converted to dates"
   ]
  },
  {
   "cell_type": "code",
   "execution_count": null,
   "id": "f32cac05",
   "metadata": {
    "execution": {
     "iopub.execute_input": "2022-11-18T11:08:42.081511Z",
     "iopub.status.busy": "2022-11-18T11:08:42.081059Z",
     "iopub.status.idle": "2022-11-18T11:08:42.144480Z",
     "shell.execute_reply": "2022-11-18T11:08:42.143301Z"
    },
    "papermill": {
     "duration": 0.106468,
     "end_time": "2022-11-18T11:08:42.147093",
     "exception": false,
     "start_time": "2022-11-18T11:08:42.040625",
     "status": "completed"
    },
    "tags": []
   },
   "outputs": [],
   "source": [
    "# Review the Null value %\n",
    "round(df.isnull().sum() / len(df) * 100, 2)"
   ]
  },
  {
   "attachments": {},
   "cell_type": "markdown",
   "id": "27027666",
   "metadata": {},
   "source": [
    "### Null Value Observations"
   ]
  },
  {
   "cell_type": "code",
   "execution_count": null,
   "id": "271b0a23",
   "metadata": {
    "execution": {
     "iopub.execute_input": "2022-11-18T11:08:42.301833Z",
     "iopub.status.busy": "2022-11-18T11:08:42.300756Z",
     "iopub.status.idle": "2022-11-18T11:08:42.358285Z",
     "shell.execute_reply": "2022-11-18T11:08:42.357065Z"
    },
    "papermill": {
     "duration": 0.099466,
     "end_time": "2022-11-18T11:08:42.360933",
     "exception": false,
     "start_time": "2022-11-18T11:08:42.261467",
     "status": "completed"
    },
    "tags": []
   },
   "outputs": [],
   "source": [
    "null_df = pd.DataFrame(df.isnull().sum() / len(df)).reset_index()"
   ]
  },
  {
   "cell_type": "code",
   "execution_count": null,
   "id": "788db282",
   "metadata": {
    "execution": {
     "iopub.execute_input": "2022-11-18T11:08:42.539050Z",
     "iopub.status.busy": "2022-11-18T11:08:42.538354Z",
     "iopub.status.idle": "2022-11-18T11:08:42.599200Z",
     "shell.execute_reply": "2022-11-18T11:08:42.598099Z"
    },
    "papermill": {
     "duration": 0.103764,
     "end_time": "2022-11-18T11:08:42.601876",
     "exception": false,
     "start_time": "2022-11-18T11:08:42.498112",
     "status": "completed"
    },
    "tags": []
   },
   "outputs": [],
   "source": [
    "# remove the null values above 75% from df dataframe\n",
    "null_df = pd.DataFrame(df.isnull().sum() / len(df)).reset_index()\n",
    "null_list = list(null_df[\"index\"][null_df[0] >= 0.75])\n",
    "null_list"
   ]
  },
  {
   "cell_type": "code",
   "execution_count": null,
   "id": "133137de",
   "metadata": {
    "execution": {
     "iopub.execute_input": "2022-11-18T11:08:42.682492Z",
     "iopub.status.busy": "2022-11-18T11:08:42.681395Z",
     "iopub.status.idle": "2022-11-18T11:08:42.699014Z",
     "shell.execute_reply": "2022-11-18T11:08:42.697541Z"
    },
    "papermill": {
     "duration": 0.061323,
     "end_time": "2022-11-18T11:08:42.701960",
     "exception": false,
     "start_time": "2022-11-18T11:08:42.640637",
     "status": "completed"
    },
    "tags": []
   },
   "outputs": [],
   "source": [
    "df.drop(null_list, axis=1, inplace=True)"
   ]
  },
  {
   "cell_type": "code",
   "execution_count": null,
   "id": "31c4aa1c",
   "metadata": {
    "execution": {
     "iopub.execute_input": "2022-11-18T11:08:42.782731Z",
     "iopub.status.busy": "2022-11-18T11:08:42.782266Z",
     "iopub.status.idle": "2022-11-18T11:08:42.838347Z",
     "shell.execute_reply": "2022-11-18T11:08:42.837251Z"
    },
    "papermill": {
     "duration": 0.099539,
     "end_time": "2022-11-18T11:08:42.840575",
     "exception": false,
     "start_time": "2022-11-18T11:08:42.741036",
     "status": "completed"
    },
    "tags": []
   },
   "outputs": [],
   "source": [
    "round(df.isnull().sum() / len(df) * 100, 2)"
   ]
  },
  {
   "cell_type": "code",
   "execution_count": null,
   "id": "276d1789",
   "metadata": {
    "execution": {
     "iopub.execute_input": "2022-11-18T11:08:42.920761Z",
     "iopub.status.busy": "2022-11-18T11:08:42.919638Z",
     "iopub.status.idle": "2022-11-18T11:08:42.939571Z",
     "shell.execute_reply": "2022-11-18T11:08:42.938398Z"
    },
    "papermill": {
     "duration": 0.062685,
     "end_time": "2022-11-18T11:08:42.942218",
     "exception": false,
     "start_time": "2022-11-18T11:08:42.879533",
     "status": "completed"
    },
    "tags": []
   },
   "outputs": [],
   "source": [
    "df.drop([\"desc\"], axis=1, inplace=True)"
   ]
  },
  {
   "cell_type": "raw",
   "id": "125cfeef",
   "metadata": {
    "papermill": {
     "duration": 0.038524,
     "end_time": "2022-11-18T11:08:43.021319",
     "exception": false,
     "start_time": "2022-11-18T11:08:42.982795",
     "status": "completed"
    },
    "tags": []
   },
   "source": [
    "#Categorizing columns based on data points available pre df and post df and removing the post df \n",
    "#variables for our analysis on drivers for df acceptance. In addition dropping columns which arent\n",
    "# useful (id, url, title)"
   ]
  },
  {
   "cell_type": "code",
   "execution_count": null,
   "id": "8a69d97e",
   "metadata": {
    "execution": {
     "iopub.execute_input": "2022-11-18T11:08:43.101500Z",
     "iopub.status.busy": "2022-11-18T11:08:43.100924Z",
     "iopub.status.idle": "2022-11-18T11:08:43.117278Z",
     "shell.execute_reply": "2022-11-18T11:08:43.116265Z"
    },
    "papermill": {
     "duration": 0.05898,
     "end_time": "2022-11-18T11:08:43.119704",
     "exception": false,
     "start_time": "2022-11-18T11:08:43.060724",
     "status": "completed"
    },
    "tags": []
   },
   "outputs": [],
   "source": [
    "customer_behavior_var = [\n",
    "    \"delinq_2yrs\",\n",
    "    \"earliest_cr_line\",\n",
    "    \"inq_last_6mths\",\n",
    "    \"open_acc\",\n",
    "    \"pub_rec\",\n",
    "    \"revol_bal\",\n",
    "    \"revol_util\",\n",
    "    \"total_acc\",\n",
    "    \"out_prncp\",\n",
    "    \"out_prncp_inv\",\n",
    "    \"total_pymnt\",\n",
    "    \"total_pymnt_inv\",\n",
    "    \"total_rec_prncp\",\n",
    "    \"total_rec_int\",\n",
    "    \"total_rec_late_fee\",\n",
    "    \"recoveries\",\n",
    "    \"collection_recovery_fee\",\n",
    "    \"last_pymnt_d\",\n",
    "    \"last_pymnt_amnt\",\n",
    "    \"last_credit_pull_d\",\n",
    "    \"mths_since_last_delinq\",\n",
    "    \"id\",\n",
    "    \"url\",\n",
    "    \"title\",\n",
    "]\n",
    "df = df.drop(customer_behavior_var, axis=1)"
   ]
  },
  {
   "cell_type": "code",
   "execution_count": null,
   "id": "92a41633",
   "metadata": {
    "execution": {
     "iopub.execute_input": "2022-11-18T11:08:43.199602Z",
     "iopub.status.busy": "2022-11-18T11:08:43.198883Z",
     "iopub.status.idle": "2022-11-18T11:08:43.204956Z",
     "shell.execute_reply": "2022-11-18T11:08:43.203846Z"
    },
    "papermill": {
     "duration": 0.04852,
     "end_time": "2022-11-18T11:08:43.207072",
     "exception": false,
     "start_time": "2022-11-18T11:08:43.158552",
     "status": "completed"
    },
    "tags": []
   },
   "outputs": [],
   "source": [
    "df.shape"
   ]
  },
  {
   "cell_type": "raw",
   "id": "b97f3b44",
   "metadata": {
    "papermill": {
     "duration": 0.038826,
     "end_time": "2022-11-18T11:08:43.286229",
     "exception": false,
     "start_time": "2022-11-18T11:08:43.247403",
     "status": "completed"
    },
    "tags": []
   },
   "source": [
    "# Data cleansing result\n",
    "# Post dropping of columns with null values and removal of customer behavior variables, we have reduced\n",
    "# variable count to 30. Proceeding to review data types to fix the same for analysis"
   ]
  },
  {
   "attachments": {},
   "cell_type": "markdown",
   "id": "00f4af7b",
   "metadata": {
    "papermill": {
     "duration": 0.038416,
     "end_time": "2022-11-18T11:08:43.363872",
     "exception": false,
     "start_time": "2022-11-18T11:08:43.325456",
     "status": "completed"
    },
    "tags": []
   },
   "source": [
    "##### Data Type Review"
   ]
  },
  {
   "cell_type": "code",
   "execution_count": null,
   "id": "0f61fd5e",
   "metadata": {
    "execution": {
     "iopub.execute_input": "2022-11-18T11:08:43.443865Z",
     "iopub.status.busy": "2022-11-18T11:08:43.443194Z",
     "iopub.status.idle": "2022-11-18T11:08:43.484738Z",
     "shell.execute_reply": "2022-11-18T11:08:43.483522Z"
    },
    "papermill": {
     "duration": 0.084809,
     "end_time": "2022-11-18T11:08:43.487409",
     "exception": false,
     "start_time": "2022-11-18T11:08:43.402600",
     "status": "completed"
    },
    "tags": []
   },
   "outputs": [],
   "source": [
    "df.info()"
   ]
  },
  {
   "cell_type": "code",
   "execution_count": null,
   "id": "446b847b",
   "metadata": {
    "execution": {
     "iopub.execute_input": "2022-11-18T11:08:43.568656Z",
     "iopub.status.busy": "2022-11-18T11:08:43.567947Z",
     "iopub.status.idle": "2022-11-18T11:08:43.613069Z",
     "shell.execute_reply": "2022-11-18T11:08:43.611900Z"
    },
    "papermill": {
     "duration": 0.088751,
     "end_time": "2022-11-18T11:08:43.615629",
     "exception": false,
     "start_time": "2022-11-18T11:08:43.526878",
     "status": "completed"
    },
    "tags": []
   },
   "outputs": [],
   "source": [
    "# Review term . Since the terms are only in two categories, they can be kept as a categorical variable as is.\n",
    "# Cleaning up data to remove word 'months'\n",
    "df[\"term\"] = df[\"term\"].str.replace(\"months\", \"\")\n",
    "df[\"term\"].value_counts()"
   ]
  },
  {
   "cell_type": "code",
   "execution_count": null,
   "id": "bebab9d6",
   "metadata": {
    "execution": {
     "iopub.execute_input": "2022-11-18T11:08:43.696220Z",
     "iopub.status.busy": "2022-11-18T11:08:43.695812Z",
     "iopub.status.idle": "2022-11-18T11:08:43.710785Z",
     "shell.execute_reply": "2022-11-18T11:08:43.709515Z"
    },
    "papermill": {
     "duration": 0.057978,
     "end_time": "2022-11-18T11:08:43.713070",
     "exception": false,
     "start_time": "2022-11-18T11:08:43.655092",
     "status": "completed"
    },
    "tags": []
   },
   "outputs": [],
   "source": [
    "# Review interest rate\n",
    "df[\"int_rate\"].value_counts()"
   ]
  },
  {
   "cell_type": "code",
   "execution_count": null,
   "id": "a2394fe9",
   "metadata": {
    "execution": {
     "iopub.execute_input": "2022-11-18T11:08:44.110922Z",
     "iopub.status.busy": "2022-11-18T11:08:44.109930Z",
     "iopub.status.idle": "2022-11-18T11:08:44.231756Z",
     "shell.execute_reply": "2022-11-18T11:08:44.230546Z"
    },
    "papermill": {
     "duration": 0.166181,
     "end_time": "2022-11-18T11:08:44.234793",
     "exception": false,
     "start_time": "2022-11-18T11:08:44.068612",
     "status": "completed"
    },
    "tags": []
   },
   "outputs": [],
   "source": [
    "# Removing the word 'Years' , < and+ signs.\n",
    "df[\"emp_length\"] = df[\"emp_length\"].str.replace(\"years\", \"\")\n",
    "df[\"emp_length\"] = df[\"emp_length\"].str.replace(\"+\", \"\").str.replace(\"< 1\", \"0.5\")\n",
    "df[\"emp_length\"] = df[\"emp_length\"].str.replace(\"year\", \"\")\n",
    "df[\"emp_length\"] = df[\"emp_length\"].astype(\"float64\")"
   ]
  },
  {
   "cell_type": "code",
   "execution_count": null,
   "id": "5ce986bc",
   "metadata": {
    "execution": {
     "iopub.execute_input": "2022-11-18T11:08:44.415039Z",
     "iopub.status.busy": "2022-11-18T11:08:44.413945Z",
     "iopub.status.idle": "2022-11-18T11:08:44.427382Z",
     "shell.execute_reply": "2022-11-18T11:08:44.426464Z"
    },
    "papermill": {
     "duration": 0.057675,
     "end_time": "2022-11-18T11:08:44.429844",
     "exception": false,
     "start_time": "2022-11-18T11:08:44.372169",
     "status": "completed"
    },
    "tags": []
   },
   "outputs": [],
   "source": [
    "# Retaining emp_length as a categorical variable. There are 1075 missing values.\n",
    "# These will be replaced with the mode of 10 + years\n",
    "mode_emplength = df[\"emp_length\"].mode()\n",
    "df[\"emp_length\"] = df[\"emp_length\"].fillna(mode_emplength[0])"
   ]
  },
  {
   "cell_type": "raw",
   "id": "aca39c3d",
   "metadata": {
    "papermill": {
     "duration": 0.040673,
     "end_time": "2022-11-18T11:08:44.609385",
     "exception": false,
     "start_time": "2022-11-18T11:08:44.568712",
     "status": "completed"
    },
    "tags": []
   },
   "source": [
    "# issue_d . Year is missing in the format. adding year\n",
    "\n",
    "# Since there is no further analysis on the data other than month and year, we dont need to convert this to \n",
    "# date /time format. For practical purposes, we will use issue month as a categorical variable."
   ]
  },
  {
   "cell_type": "code",
   "execution_count": null,
   "id": "ab638dea",
   "metadata": {
    "execution": {
     "iopub.execute_input": "2022-11-18T11:08:44.693411Z",
     "iopub.status.busy": "2022-11-18T11:08:44.692667Z",
     "iopub.status.idle": "2022-11-18T11:08:44.716696Z",
     "shell.execute_reply": "2022-11-18T11:08:44.715391Z"
    },
    "papermill": {
     "duration": 0.069276,
     "end_time": "2022-11-18T11:08:44.719518",
     "exception": false,
     "start_time": "2022-11-18T11:08:44.650242",
     "status": "completed"
    },
    "tags": []
   },
   "outputs": [],
   "source": [
    "df[\"issuemonth\"] = df[\"issue_d\"].str[:3]"
   ]
  },
  {
   "cell_type": "code",
   "execution_count": null,
   "id": "ceb17fe9",
   "metadata": {
    "execution": {
     "iopub.execute_input": "2022-11-18T11:08:44.803055Z",
     "iopub.status.busy": "2022-11-18T11:08:44.802636Z",
     "iopub.status.idle": "2022-11-18T11:08:44.814558Z",
     "shell.execute_reply": "2022-11-18T11:08:44.813498Z"
    },
    "papermill": {
     "duration": 0.056804,
     "end_time": "2022-11-18T11:08:44.817041",
     "exception": false,
     "start_time": "2022-11-18T11:08:44.760237",
     "status": "completed"
    },
    "scrolled": true,
    "tags": []
   },
   "outputs": [],
   "source": [
    "df.issuemonth.value_counts()"
   ]
  },
  {
   "cell_type": "raw",
   "id": "baa1e68c",
   "metadata": {
    "papermill": {
     "duration": 0.040491,
     "end_time": "2022-11-18T11:08:44.898308",
     "exception": false,
     "start_time": "2022-11-18T11:08:44.857817",
     "status": "completed"
    },
    "tags": []
   },
   "source": [
    "# We are addng a issue month column for better analysis. From the csv file, we learn that the data is for 2021 only."
   ]
  },
  {
   "cell_type": "code",
   "execution_count": null,
   "id": "699b2290",
   "metadata": {
    "execution": {
     "iopub.execute_input": "2022-11-18T11:08:45.139881Z",
     "iopub.status.busy": "2022-11-18T11:08:45.139470Z",
     "iopub.status.idle": "2022-11-18T11:08:45.150293Z",
     "shell.execute_reply": "2022-11-18T11:08:45.149113Z"
    },
    "papermill": {
     "duration": 0.055445,
     "end_time": "2022-11-18T11:08:45.152648",
     "exception": false,
     "start_time": "2022-11-18T11:08:45.097203",
     "status": "completed"
    },
    "tags": []
   },
   "outputs": [],
   "source": [
    "df[\"pymnt_plan\"].value_counts(dropna=False)"
   ]
  },
  {
   "cell_type": "code",
   "execution_count": null,
   "id": "72b27a20",
   "metadata": {
    "execution": {
     "iopub.execute_input": "2022-11-18T11:08:45.237354Z",
     "iopub.status.busy": "2022-11-18T11:08:45.236104Z",
     "iopub.status.idle": "2022-11-18T11:08:45.245598Z",
     "shell.execute_reply": "2022-11-18T11:08:45.244673Z"
    },
    "papermill": {
     "duration": 0.054079,
     "end_time": "2022-11-18T11:08:45.247848",
     "exception": false,
     "start_time": "2022-11-18T11:08:45.193769",
     "status": "completed"
    },
    "tags": []
   },
   "outputs": [],
   "source": [
    "df[\"policy_code\"].value_counts()"
   ]
  },
  {
   "cell_type": "code",
   "execution_count": null,
   "id": "98900369",
   "metadata": {
    "execution": {
     "iopub.execute_input": "2022-11-18T11:08:45.428260Z",
     "iopub.status.busy": "2022-11-18T11:08:45.427486Z",
     "iopub.status.idle": "2022-11-18T11:08:45.436721Z",
     "shell.execute_reply": "2022-11-18T11:08:45.435723Z"
    },
    "papermill": {
     "duration": 0.054112,
     "end_time": "2022-11-18T11:08:45.439018",
     "exception": false,
     "start_time": "2022-11-18T11:08:45.384906",
     "status": "completed"
    },
    "tags": []
   },
   "outputs": [],
   "source": [
    "df[\"collections_12_mths_ex_med\"].value_counts()"
   ]
  },
  {
   "cell_type": "code",
   "execution_count": null,
   "id": "9caf6931",
   "metadata": {
    "execution": {
     "iopub.execute_input": "2022-11-18T11:08:45.524196Z",
     "iopub.status.busy": "2022-11-18T11:08:45.523463Z",
     "iopub.status.idle": "2022-11-18T11:08:45.534051Z",
     "shell.execute_reply": "2022-11-18T11:08:45.532941Z"
    },
    "papermill": {
     "duration": 0.055549,
     "end_time": "2022-11-18T11:08:45.536563",
     "exception": false,
     "start_time": "2022-11-18T11:08:45.481014",
     "status": "completed"
    },
    "tags": []
   },
   "outputs": [],
   "source": [
    "df[\"application_type\"].value_counts()"
   ]
  },
  {
   "cell_type": "code",
   "execution_count": null,
   "id": "af75b412",
   "metadata": {
    "execution": {
     "iopub.execute_input": "2022-11-18T11:08:45.622739Z",
     "iopub.status.busy": "2022-11-18T11:08:45.622261Z",
     "iopub.status.idle": "2022-11-18T11:08:45.633030Z",
     "shell.execute_reply": "2022-11-18T11:08:45.631873Z"
    },
    "papermill": {
     "duration": 0.057067,
     "end_time": "2022-11-18T11:08:45.635505",
     "exception": false,
     "start_time": "2022-11-18T11:08:45.578438",
     "status": "completed"
    },
    "tags": []
   },
   "outputs": [],
   "source": [
    "df[\"initial_list_status\"].value_counts()"
   ]
  },
  {
   "cell_type": "code",
   "execution_count": null,
   "id": "89f37877",
   "metadata": {
    "execution": {
     "iopub.execute_input": "2022-11-18T11:08:45.817057Z",
     "iopub.status.busy": "2022-11-18T11:08:45.816350Z",
     "iopub.status.idle": "2022-11-18T11:08:45.825911Z",
     "shell.execute_reply": "2022-11-18T11:08:45.824948Z"
    },
    "papermill": {
     "duration": 0.054984,
     "end_time": "2022-11-18T11:08:45.828158",
     "exception": false,
     "start_time": "2022-11-18T11:08:45.773174",
     "status": "completed"
    },
    "tags": []
   },
   "outputs": [],
   "source": [
    "df[\"initial_list_status\"].value_counts()"
   ]
  },
  {
   "cell_type": "raw",
   "id": "22775369",
   "metadata": {
    "papermill": {
     "duration": 0.041393,
     "end_time": "2022-11-18T11:08:46.006794",
     "exception": false,
     "start_time": "2022-11-18T11:08:45.965401",
     "status": "completed"
    },
    "tags": []
   },
   "source": [
    "## Deleting columns with 1 unique value since they do not provide any value for the overall data analysis as \n",
    "# such .Noted that the applications statuses are 'f' for individual application types with n payment plan and \n",
    "# 0 values for tax liens, collections in 12 mo , charge off within 12 mo and delinq amounts\n",
    "# initial list status has one value . to be dropped from the dataframe\n",
    "# since all values are n, we will be removing this column\n"
   ]
  },
  {
   "cell_type": "code",
   "execution_count": null,
   "id": "f2d4638f",
   "metadata": {
    "execution": {
     "iopub.execute_input": "2022-11-18T11:08:46.092392Z",
     "iopub.status.busy": "2022-11-18T11:08:46.091956Z",
     "iopub.status.idle": "2022-11-18T11:08:46.116259Z",
     "shell.execute_reply": "2022-11-18T11:08:46.115299Z"
    },
    "papermill": {
     "duration": 0.070142,
     "end_time": "2022-11-18T11:08:46.118829",
     "exception": false,
     "start_time": "2022-11-18T11:08:46.048687",
     "status": "completed"
    },
    "tags": []
   },
   "outputs": [],
   "source": [
    "# Creating a list of variables to drop from the dataframe\n",
    "unique_col_list = [\n",
    "    \"policy_code\",\n",
    "    \"pymnt_plan\",\n",
    "    \"collections_12_mths_ex_med\",\n",
    "    \"application_type\",\n",
    "    \"initial_list_status\",\n",
    "    \"acc_now_delinq\",\n",
    "]\n",
    "df.drop(unique_col_list, axis=1, inplace=True)"
   ]
  },
  {
   "cell_type": "raw",
   "id": "5e30b035",
   "metadata": {
    "papermill": {
     "duration": 0.041576,
     "end_time": "2022-11-18T11:08:46.330563",
     "exception": false,
     "start_time": "2022-11-18T11:08:46.288987",
     "status": "completed"
    },
    "tags": []
   },
   "source": [
    "## 1. Variables with signs need to be removed (done)\n",
    "## 2. Need to identify imputation logic for missing values. Actual imputation is optional \n",
    "## 3. Target variable is df status. Need to analyze charged off and fully paid variables\n",
    "## 4. Based on grade and subgrade interest rate varies\n",
    "## 5. Need to only consider pre df data points not post df since we are finding drivers for df acceptance not paymnt\n",
    "## 6. Can consider prior df data where available but not post df\n",
    "## 7. Need to identify default rate variables - top 5 /10 , Provide recommendations to reduce default in PPT & Jupyter"
   ]
  },
  {
   "cell_type": "code",
   "execution_count": null,
   "id": "5a2845dd",
   "metadata": {
    "execution": {
     "iopub.execute_input": "2022-11-18T11:08:46.416393Z",
     "iopub.status.busy": "2022-11-18T11:08:46.415736Z",
     "iopub.status.idle": "2022-11-18T11:08:46.423600Z",
     "shell.execute_reply": "2022-11-18T11:08:46.422321Z"
    },
    "papermill": {
     "duration": 0.053781,
     "end_time": "2022-11-18T11:08:46.426230",
     "exception": false,
     "start_time": "2022-11-18T11:08:46.372449",
     "status": "completed"
    },
    "tags": []
   },
   "outputs": [],
   "source": [
    "df[\"emp_title\"].fillna(\"Unknown\", inplace=True)"
   ]
  },
  {
   "cell_type": "code",
   "execution_count": null,
   "id": "f4838a12",
   "metadata": {
    "execution": {
     "iopub.execute_input": "2022-11-18T11:08:46.605818Z",
     "iopub.status.busy": "2022-11-18T11:08:46.605051Z",
     "iopub.status.idle": "2022-11-18T11:08:46.635248Z",
     "shell.execute_reply": "2022-11-18T11:08:46.634084Z"
    },
    "papermill": {
     "duration": 0.075756,
     "end_time": "2022-11-18T11:08:46.637582",
     "exception": false,
     "start_time": "2022-11-18T11:08:46.561826",
     "status": "completed"
    },
    "tags": []
   },
   "outputs": [],
   "source": [
    "df.isnull().sum()"
   ]
  },
  {
   "cell_type": "raw",
   "id": "4562b5ca",
   "metadata": {
    "papermill": {
     "duration": 0.041582,
     "end_time": "2022-11-18T11:08:46.721256",
     "exception": false,
     "start_time": "2022-11-18T11:08:46.679674",
     "status": "completed"
    },
    "tags": []
   },
   "source": [
    "# Filling missing values for emp_title and pub_rec_bankruptcies\n",
    "# At this point we have fixed columns, dropped unwanted columns, filled missing values with mode where a \n",
    "# categorical variable is involved.\n",
    "# In case of 'emp_title' we have imputed with 'unknown' rather than mode because imputing the most repeated \n",
    "# employer can lead to undesirable decision making on account of weightage for a specific employer for granting a\n",
    "# df. Similarly, bankurupticies unavailable would be considered as having no bankruptcies,hence imputed as zero"
   ]
  },
  {
   "cell_type": "raw",
   "id": "b8e6b3f9",
   "metadata": {
    "papermill": {
     "duration": 0.041318,
     "end_time": "2022-11-18T11:08:46.804726",
     "exception": false,
     "start_time": "2022-11-18T11:08:46.763408",
     "status": "completed"
    },
    "tags": []
   },
   "source": [
    "# Creating a new dataframe for subsetting loans which either are chargeoffs or fully paid."
   ]
  },
  {
   "cell_type": "code",
   "execution_count": null,
   "id": "6e74259a",
   "metadata": {
    "execution": {
     "iopub.execute_input": "2022-11-18T11:08:46.890160Z",
     "iopub.status.busy": "2022-11-18T11:08:46.889740Z",
     "iopub.status.idle": "2022-11-18T11:08:46.905685Z",
     "shell.execute_reply": "2022-11-18T11:08:46.904541Z"
    },
    "papermill": {
     "duration": 0.061815,
     "end_time": "2022-11-18T11:08:46.908310",
     "exception": false,
     "start_time": "2022-11-18T11:08:46.846495",
     "status": "completed"
    },
    "tags": []
   },
   "outputs": [],
   "source": [
    "loan_new = df[df[\"loan_status\"] in []]"
   ]
  },
  {
   "cell_type": "code",
   "execution_count": null,
   "id": "8f27d343",
   "metadata": {},
   "outputs": [],
   "source": [
    "loan_new"
   ]
  },
  {
   "attachments": {},
   "cell_type": "markdown",
   "id": "6c1d1c3c",
   "metadata": {
    "papermill": {
     "duration": 0.04135,
     "end_time": "2022-11-18T11:08:46.991559",
     "exception": false,
     "start_time": "2022-11-18T11:08:46.950209",
     "status": "completed"
    },
    "tags": []
   },
   "source": [
    "## DATA ANALYSIS"
   ]
  },
  {
   "attachments": {},
   "cell_type": "markdown",
   "id": "48076745",
   "metadata": {
    "papermill": {
     "duration": 0.041887,
     "end_time": "2022-11-18T11:08:47.075049",
     "exception": false,
     "start_time": "2022-11-18T11:08:47.033162",
     "status": "completed"
    },
    "tags": []
   },
   "source": [
    "#### UNIVARIATE ANALYSIS"
   ]
  },
  {
   "cell_type": "code",
   "execution_count": null,
   "id": "d3f94dd2",
   "metadata": {
    "execution": {
     "iopub.execute_input": "2022-11-18T11:08:47.161387Z",
     "iopub.status.busy": "2022-11-18T11:08:47.160590Z",
     "iopub.status.idle": "2022-11-18T11:08:47.195068Z",
     "shell.execute_reply": "2022-11-18T11:08:47.193790Z"
    },
    "papermill": {
     "duration": 0.080429,
     "end_time": "2022-11-18T11:08:47.197630",
     "exception": false,
     "start_time": "2022-11-18T11:08:47.117201",
     "status": "completed"
    },
    "tags": []
   },
   "outputs": [],
   "source": [
    "loan_new.info()"
   ]
  },
  {
   "cell_type": "code",
   "execution_count": null,
   "id": "4972be45",
   "metadata": {
    "execution": {
     "iopub.execute_input": "2022-11-18T11:08:47.284619Z",
     "iopub.status.busy": "2022-11-18T11:08:47.284168Z",
     "iopub.status.idle": "2022-11-18T11:08:47.339536Z",
     "shell.execute_reply": "2022-11-18T11:08:47.338511Z"
    },
    "papermill": {
     "duration": 0.102147,
     "end_time": "2022-11-18T11:08:47.341819",
     "exception": false,
     "start_time": "2022-11-18T11:08:47.239672",
     "status": "completed"
    },
    "tags": []
   },
   "outputs": [],
   "source": [
    "loan_new.describe()"
   ]
  },
  {
   "cell_type": "raw",
   "id": "b8dd682b",
   "metadata": {
    "papermill": {
     "duration": 0.042056,
     "end_time": "2022-11-18T11:08:47.426085",
     "exception": false,
     "start_time": "2022-11-18T11:08:47.384029",
     "status": "completed"
    },
    "tags": []
   },
   "source": [
    "# Observations\n",
    "# Loan amnt, funded amnt, funded amnt inv are close in terms  of mean and median values\n",
    "# The median is consistently lower than the mean for the df amnt and the other two funded amnt categories\n",
    "# implying there is an effect of outliers driving the mean higher. \n",
    "# The annual Income field also displays the same behaviour and might have outliers increasing the mean\n",
    "# The interest rate median and mean are close indicating a normally distributed sample without many outliers"
   ]
  },
  {
   "cell_type": "code",
   "execution_count": null,
   "id": "00ddcac1",
   "metadata": {
    "execution": {
     "iopub.execute_input": "2022-11-18T11:08:47.514580Z",
     "iopub.status.busy": "2022-11-18T11:08:47.514096Z",
     "iopub.status.idle": "2022-11-18T11:08:47.521502Z",
     "shell.execute_reply": "2022-11-18T11:08:47.520538Z"
    },
    "papermill": {
     "duration": 0.053399,
     "end_time": "2022-11-18T11:08:47.523668",
     "exception": false,
     "start_time": "2022-11-18T11:08:47.470269",
     "status": "completed"
    },
    "tags": []
   },
   "outputs": [],
   "source": [
    "# Function for numerical univariate analysis\n",
    "def univariate_num(col, loan_new):\n",
    "    sns.set(font_scale=2)\n",
    "    fig, axes = plt.subplots(1, 2, figsize=(30, 10), dpi=50)\n",
    "    sns.boxplot(ax=axes[0], x=loan_new[col])\n",
    "    axes[0].set_title(col + \" distribution\")\n",
    "\n",
    "    sns.histplot(ax=axes[1], x=loan_new[col], kde=True)\n",
    "    axes[1].set_title(col + \" distribution and density\")\n",
    "\n",
    "    locs, labels = plt.xticks()\n",
    "    plt.show()"
   ]
  },
  {
   "cell_type": "code",
   "execution_count": null,
   "id": "6696fcbb",
   "metadata": {
    "execution": {
     "iopub.execute_input": "2022-11-18T11:08:47.611184Z",
     "iopub.status.busy": "2022-11-18T11:08:47.610398Z",
     "iopub.status.idle": "2022-11-18T11:08:48.324193Z",
     "shell.execute_reply": "2022-11-18T11:08:48.323359Z"
    },
    "papermill": {
     "duration": 0.760326,
     "end_time": "2022-11-18T11:08:48.326640",
     "exception": false,
     "start_time": "2022-11-18T11:08:47.566314",
     "status": "completed"
    },
    "tags": []
   },
   "outputs": [],
   "source": [
    "univariate_num(\"loan_amnt\", loan_new)"
   ]
  },
  {
   "cell_type": "code",
   "execution_count": null,
   "id": "d70d1869",
   "metadata": {
    "execution": {
     "iopub.execute_input": "2022-11-18T11:08:48.416226Z",
     "iopub.status.busy": "2022-11-18T11:08:48.415608Z",
     "iopub.status.idle": "2022-11-18T11:08:48.419445Z",
     "shell.execute_reply": "2022-11-18T11:08:48.418623Z"
    },
    "papermill": {
     "duration": 0.051078,
     "end_time": "2022-11-18T11:08:48.421680",
     "exception": false,
     "start_time": "2022-11-18T11:08:48.370602",
     "status": "completed"
    },
    "tags": []
   },
   "outputs": [],
   "source": [
    "# Observations\n",
    "# Loan Amount\n",
    "# 1. Median df amount application is 10K 75% of values lie under 15K. We do notice outliers beyond 30K\n",
    "# 2. Right skewed distribution with mean around 11K"
   ]
  },
  {
   "cell_type": "code",
   "execution_count": null,
   "id": "fa1cd946",
   "metadata": {
    "execution": {
     "iopub.execute_input": "2022-11-18T11:08:48.512952Z",
     "iopub.status.busy": "2022-11-18T11:08:48.512348Z",
     "iopub.status.idle": "2022-11-18T11:08:49.228748Z",
     "shell.execute_reply": "2022-11-18T11:08:49.227790Z"
    },
    "papermill": {
     "duration": 0.76416,
     "end_time": "2022-11-18T11:08:49.230993",
     "exception": false,
     "start_time": "2022-11-18T11:08:48.466833",
     "status": "completed"
    },
    "tags": []
   },
   "outputs": [],
   "source": [
    "univariate_num(\"funded_amnt\", loan_new)"
   ]
  },
  {
   "cell_type": "code",
   "execution_count": null,
   "id": "57dbe035",
   "metadata": {
    "execution": {
     "iopub.execute_input": "2022-11-18T11:08:49.322100Z",
     "iopub.status.busy": "2022-11-18T11:08:49.321501Z",
     "iopub.status.idle": "2022-11-18T11:08:50.029475Z",
     "shell.execute_reply": "2022-11-18T11:08:50.028244Z"
    },
    "papermill": {
     "duration": 0.756518,
     "end_time": "2022-11-18T11:08:50.032158",
     "exception": false,
     "start_time": "2022-11-18T11:08:49.275640",
     "status": "completed"
    },
    "tags": []
   },
   "outputs": [],
   "source": [
    "univariate_num(\"funded_amnt_inv\", loan_new)"
   ]
  },
  {
   "cell_type": "raw",
   "id": "68f8ee4c",
   "metadata": {
    "papermill": {
     "duration": 0.044611,
     "end_time": "2022-11-18T11:08:50.121545",
     "exception": false,
     "start_time": "2022-11-18T11:08:50.076934",
     "status": "completed"
    },
    "tags": []
   },
   "source": [
    "#Funded Amount & Funded Amount Investors\n",
    "# 1. Median amounts recommended and disbursed quite close to the df amount\n",
    "# 2. Right skewed distributions\n",
    "# 3. The funding amount investors is never higher than the df amount and there are loans which appear to have not \n",
    "#    been funded by investors\n",
    "# 4. Given the nature of data, we will consider df amount as the independent variable among the three as there appear to be missing values where investors chose not to fund a df"
   ]
  },
  {
   "cell_type": "code",
   "execution_count": null,
   "id": "30127413",
   "metadata": {
    "execution": {
     "iopub.execute_input": "2022-11-18T11:08:50.214103Z",
     "iopub.status.busy": "2022-11-18T11:08:50.213692Z",
     "iopub.status.idle": "2022-11-18T11:08:50.959882Z",
     "shell.execute_reply": "2022-11-18T11:08:50.959041Z"
    },
    "papermill": {
     "duration": 0.795949,
     "end_time": "2022-11-18T11:08:50.962040",
     "exception": false,
     "start_time": "2022-11-18T11:08:50.166091",
     "status": "completed"
    },
    "tags": []
   },
   "outputs": [],
   "source": [
    "univariate_num(\"int_rate\", loan_new)"
   ]
  },
  {
   "cell_type": "raw",
   "id": "0768cdc2",
   "metadata": {
    "papermill": {
     "duration": 0.046211,
     "end_time": "2022-11-18T11:08:51.055748",
     "exception": false,
     "start_time": "2022-11-18T11:08:51.009537",
     "status": "completed"
    },
    "tags": []
   },
   "source": [
    "# Observations\n",
    "# Interest Rate\n",
    "# 1. Median interest rate for an application is 11.7% 75% of values lie under 14.3%. We do notice outliers beyond 20.5% upto  #    24%. The 25% is in the 8.9% range. The high variability indicates the variability in risk associated with the loans and #    the influence of the df term (we will verify this during our bivariate analysis)\n",
    "# 2. Right skewed distribution with mean around 11.9% "
   ]
  },
  {
   "cell_type": "code",
   "execution_count": null,
   "id": "f91b5ff7",
   "metadata": {
    "execution": {
     "iopub.execute_input": "2022-11-18T11:08:51.150195Z",
     "iopub.status.busy": "2022-11-18T11:08:51.149514Z",
     "iopub.status.idle": "2022-11-18T11:08:51.904886Z",
     "shell.execute_reply": "2022-11-18T11:08:51.903696Z"
    },
    "papermill": {
     "duration": 0.805819,
     "end_time": "2022-11-18T11:08:51.907357",
     "exception": false,
     "start_time": "2022-11-18T11:08:51.101538",
     "status": "completed"
    },
    "tags": []
   },
   "outputs": [],
   "source": [
    "univariate_num(\"installment\", loan_new)"
   ]
  },
  {
   "cell_type": "raw",
   "id": "130c06bd",
   "metadata": {
    "papermill": {
     "duration": 0.046239,
     "end_time": "2022-11-18T11:08:52.000707",
     "exception": false,
     "start_time": "2022-11-18T11:08:51.954468",
     "status": "completed"
    },
    "tags": []
   },
   "source": [
    "# Observations\n",
    "# Installment amount / month\n",
    "# 1. Median installments paid for an application is 277 75% of values lie under 422. We do notice outliers beyond 500\n",
    "#    upto 1300 and the 25% is 167 range\n",
    "# 2. Right skewed distribution with mean around 322"
   ]
  },
  {
   "cell_type": "code",
   "execution_count": 135,
   "id": "64791825",
   "metadata": {
    "execution": {
     "iopub.execute_input": "2022-11-18T11:08:52.097392Z",
     "iopub.status.busy": "2022-11-18T11:08:52.096964Z",
     "iopub.status.idle": "2022-11-18T11:08:56.846437Z",
     "shell.execute_reply": "2022-11-18T11:08:56.845314Z"
    },
    "papermill": {
     "duration": 4.801265,
     "end_time": "2022-11-18T11:08:56.848843",
     "exception": false,
     "start_time": "2022-11-18T11:08:52.047578",
     "status": "completed"
    },
    "scrolled": true,
    "tags": []
   },
   "outputs": [],
   "source": [
    "univariate_num(\"annual_inc\", loan_new)"
   ]
  },
  {
   "cell_type": "raw",
   "id": "f7552e6b",
   "metadata": {
    "papermill": {
     "duration": 0.046998,
     "end_time": "2022-11-18T11:08:56.943571",
     "exception": false,
     "start_time": "2022-11-18T11:08:56.896573",
     "status": "completed"
    },
    "tags": []
   },
   "source": [
    "# Data is right skewed and has a couple of outliers. \n",
    "# Need to convert the annual income into ranges for better analysis\n"
   ]
  },
  {
   "cell_type": "code",
   "execution_count": null,
   "id": "c3da071d",
   "metadata": {
    "execution": {
     "iopub.execute_input": "2022-11-18T11:08:57.040010Z",
     "iopub.status.busy": "2022-11-18T11:08:57.039391Z",
     "iopub.status.idle": "2022-11-18T11:08:57.062678Z",
     "shell.execute_reply": "2022-11-18T11:08:57.061384Z"
    },
    "papermill": {
     "duration": 0.074243,
     "end_time": "2022-11-18T11:08:57.064941",
     "exception": false,
     "start_time": "2022-11-18T11:08:56.990698",
     "status": "completed"
    },
    "tags": []
   },
   "outputs": [],
   "source": [
    "# Reviewing the outliers in income\n",
    "loan_new[loan_new[\"annual_inc\"] >= 3000000]"
   ]
  },
  {
   "cell_type": "code",
   "execution_count": null,
   "id": "a3e6ff40",
   "metadata": {
    "execution": {
     "iopub.execute_input": "2022-11-18T11:08:57.162634Z",
     "iopub.status.busy": "2022-11-18T11:08:57.161812Z",
     "iopub.status.idle": "2022-11-18T11:08:57.177272Z",
     "shell.execute_reply": "2022-11-18T11:08:57.176394Z"
    },
    "papermill": {
     "duration": 0.067097,
     "end_time": "2022-11-18T11:08:57.179855",
     "exception": false,
     "start_time": "2022-11-18T11:08:57.112758",
     "status": "completed"
    },
    "tags": []
   },
   "outputs": [],
   "source": [
    "# Removing outlier records > 3M. There seem to be additional outliers that said, eliminating high values will\n",
    "# compromise our ability to evaluate loans for high income customers\n",
    "loan_new = loan_new[loan_new[\"annual_inc\"] <= 3000000]"
   ]
  },
  {
   "cell_type": "code",
   "execution_count": null,
   "id": "2b9af6e5",
   "metadata": {
    "execution": {
     "iopub.execute_input": "2022-11-18T11:08:57.277598Z",
     "iopub.status.busy": "2022-11-18T11:08:57.276664Z",
     "iopub.status.idle": "2022-11-18T11:08:59.439112Z",
     "shell.execute_reply": "2022-11-18T11:08:59.437883Z"
    },
    "papermill": {
     "duration": 2.214402,
     "end_time": "2022-11-18T11:08:59.441803",
     "exception": false,
     "start_time": "2022-11-18T11:08:57.227401",
     "status": "completed"
    },
    "tags": []
   },
   "outputs": [],
   "source": [
    "univariate_num(\"annual_inc\", loan_new)"
   ]
  },
  {
   "cell_type": "code",
   "execution_count": null,
   "id": "e885ce79",
   "metadata": {
    "execution": {
     "iopub.execute_input": "2022-11-18T11:08:59.540213Z",
     "iopub.status.busy": "2022-11-18T11:08:59.539570Z",
     "iopub.status.idle": "2022-11-18T11:09:00.166022Z",
     "shell.execute_reply": "2022-11-18T11:09:00.164814Z"
    },
    "papermill": {
     "duration": 0.67935,
     "end_time": "2022-11-18T11:09:00.168688",
     "exception": false,
     "start_time": "2022-11-18T11:08:59.489338",
     "status": "completed"
    },
    "tags": []
   },
   "outputs": [],
   "source": [
    "univariate_num(\"dti\", loan_new)"
   ]
  },
  {
   "cell_type": "raw",
   "id": "d36002fa",
   "metadata": {
    "papermill": {
     "duration": 0.048909,
     "end_time": "2022-11-18T11:09:00.267696",
     "exception": false,
     "start_time": "2022-11-18T11:09:00.218787",
     "status": "completed"
    },
    "tags": []
   },
   "source": [
    "# debt to income ratio appears to closer to a normal distribution with no outliers as such."
   ]
  },
  {
   "cell_type": "code",
   "execution_count": null,
   "id": "5e1bcff7",
   "metadata": {
    "execution": {
     "iopub.execute_input": "2022-11-18T11:09:00.369010Z",
     "iopub.status.busy": "2022-11-18T11:09:00.367909Z",
     "iopub.status.idle": "2022-11-18T11:09:00.920104Z",
     "shell.execute_reply": "2022-11-18T11:09:00.919125Z"
    },
    "papermill": {
     "duration": 0.604923,
     "end_time": "2022-11-18T11:09:00.922274",
     "exception": false,
     "start_time": "2022-11-18T11:09:00.317351",
     "status": "completed"
    },
    "tags": []
   },
   "outputs": [],
   "source": [
    "univariate_num(\"emp_length\", loan_new)"
   ]
  },
  {
   "cell_type": "raw",
   "id": "86048fc7",
   "metadata": {
    "papermill": {
     "duration": 0.04917,
     "end_time": "2022-11-18T11:09:01.021458",
     "exception": false,
     "start_time": "2022-11-18T11:09:00.972288",
     "status": "completed"
    },
    "tags": []
   },
   "source": [
    "# Emp length category 10 is an aggregate category of employees > 10 years of work experience.hence could be \n",
    "# overstated.\n",
    "\n",
    "# The numeric categorical variable is highest for above 10 years followed by 0 - 1 yrs combined. It is perhaps\n",
    "# the membership profile of the lending club which is skewed towards young employees or older ones."
   ]
  },
  {
   "cell_type": "raw",
   "id": "09279944",
   "metadata": {
    "papermill": {
     "duration": 0.049308,
     "end_time": "2022-11-18T11:09:01.870031",
     "exception": false,
     "start_time": "2022-11-18T11:09:01.820723",
     "status": "completed"
    },
    "tags": []
   },
   "source": [
    "# This is also a numeric categorical variable where most of the members do not have a history of bankruptcy"
   ]
  },
  {
   "cell_type": "raw",
   "id": "9c045374",
   "metadata": {
    "papermill": {
     "duration": 0.049278,
     "end_time": "2022-11-18T11:09:01.969322",
     "exception": false,
     "start_time": "2022-11-18T11:09:01.920044",
     "status": "completed"
    },
    "tags": []
   },
   "source": [
    "# Completed the review of the numeric variable univariate analysis\n",
    "# Reviewing categorical variables\n",
    "#Variables to be converted to categorical for further analysis: \n",
    "# a)annual_inc b) emp_length c) int_rate and d) loan_amnt"
   ]
  },
  {
   "cell_type": "code",
   "execution_count": null,
   "id": "623e02a6",
   "metadata": {
    "execution": {
     "iopub.execute_input": "2022-11-18T11:09:02.071273Z",
     "iopub.status.busy": "2022-11-18T11:09:02.070890Z",
     "iopub.status.idle": "2022-11-18T11:09:02.089089Z",
     "shell.execute_reply": "2022-11-18T11:09:02.087747Z"
    },
    "papermill": {
     "duration": 0.072089,
     "end_time": "2022-11-18T11:09:02.091748",
     "exception": false,
     "start_time": "2022-11-18T11:09:02.019659",
     "status": "completed"
    },
    "tags": []
   },
   "outputs": [],
   "source": [
    "loan_new[\"annual_inc_cat\"] = pd.qcut(loan_new[\"annual_inc\"], q=5)"
   ]
  },
  {
   "cell_type": "code",
   "execution_count": null,
   "id": "f277df7b",
   "metadata": {
    "execution": {
     "iopub.execute_input": "2022-11-18T11:09:02.195750Z",
     "iopub.status.busy": "2022-11-18T11:09:02.195346Z",
     "iopub.status.idle": "2022-11-18T11:09:02.205447Z",
     "shell.execute_reply": "2022-11-18T11:09:02.204455Z"
    },
    "papermill": {
     "duration": 0.06525,
     "end_time": "2022-11-18T11:09:02.207976",
     "exception": false,
     "start_time": "2022-11-18T11:09:02.142726",
     "status": "completed"
    },
    "tags": []
   },
   "outputs": [],
   "source": [
    "loan_new[\"emp_length_cat\"] = pd.cut(loan_new[\"emp_length\"], bins=5)"
   ]
  },
  {
   "cell_type": "code",
   "execution_count": null,
   "id": "ff8fcc80",
   "metadata": {
    "execution": {
     "iopub.execute_input": "2022-11-18T11:09:02.311435Z",
     "iopub.status.busy": "2022-11-18T11:09:02.311018Z",
     "iopub.status.idle": "2022-11-18T11:09:02.320360Z",
     "shell.execute_reply": "2022-11-18T11:09:02.319410Z"
    },
    "papermill": {
     "duration": 0.063616,
     "end_time": "2022-11-18T11:09:02.322546",
     "exception": false,
     "start_time": "2022-11-18T11:09:02.258930",
     "status": "completed"
    },
    "tags": []
   },
   "outputs": [],
   "source": [
    "loan_new[\"int_rate_cat\"] = pd.cut(loan_new[\"int_rate\"], bins=5)"
   ]
  },
  {
   "cell_type": "code",
   "execution_count": null,
   "id": "f3cbacc9",
   "metadata": {
    "execution": {
     "iopub.execute_input": "2022-11-18T11:09:02.424716Z",
     "iopub.status.busy": "2022-11-18T11:09:02.423597Z",
     "iopub.status.idle": "2022-11-18T11:09:02.436933Z",
     "shell.execute_reply": "2022-11-18T11:09:02.434891Z"
    },
    "papermill": {
     "duration": 0.067568,
     "end_time": "2022-11-18T11:09:02.440409",
     "exception": false,
     "start_time": "2022-11-18T11:09:02.372841",
     "status": "completed"
    },
    "tags": []
   },
   "outputs": [],
   "source": [
    "loan_new[\"loan_amnt_cat\"] = pd.cut(loan_new[\"loan_amnt\"], bins=5)"
   ]
  },
  {
   "cell_type": "code",
   "execution_count": null,
   "id": "7f46e4a5",
   "metadata": {
    "execution": {
     "iopub.execute_input": "2022-11-18T11:09:02.561412Z",
     "iopub.status.busy": "2022-11-18T11:09:02.560304Z",
     "iopub.status.idle": "2022-11-18T11:09:02.593692Z",
     "shell.execute_reply": "2022-11-18T11:09:02.592499Z"
    },
    "papermill": {
     "duration": 0.09361,
     "end_time": "2022-11-18T11:09:02.596031",
     "exception": false,
     "start_time": "2022-11-18T11:09:02.502421",
     "status": "completed"
    },
    "tags": []
   },
   "outputs": [],
   "source": [
    "loan_new.head()"
   ]
  },
  {
   "cell_type": "code",
   "execution_count": null,
   "id": "c1a14f63",
   "metadata": {
    "execution": {
     "iopub.execute_input": "2022-11-18T11:09:02.700056Z",
     "iopub.status.busy": "2022-11-18T11:09:02.699122Z",
     "iopub.status.idle": "2022-11-18T11:09:02.714946Z",
     "shell.execute_reply": "2022-11-18T11:09:02.714108Z"
    },
    "papermill": {
     "duration": 0.069627,
     "end_time": "2022-11-18T11:09:02.717105",
     "exception": false,
     "start_time": "2022-11-18T11:09:02.647478",
     "status": "completed"
    },
    "tags": []
   },
   "outputs": [],
   "source": [
    "# extracting a list of objects\n",
    "dtype_object = loan_new.select_dtypes(include=[\"object\"]).columns.tolist()\n",
    "dtype_object"
   ]
  },
  {
   "cell_type": "code",
   "execution_count": null,
   "id": "2c9a6428",
   "metadata": {
    "execution": {
     "iopub.execute_input": "2022-11-18T11:09:02.821838Z",
     "iopub.status.busy": "2022-11-18T11:09:02.820961Z",
     "iopub.status.idle": "2022-11-18T11:09:02.826624Z",
     "shell.execute_reply": "2022-11-18T11:09:02.825810Z"
    },
    "papermill": {
     "duration": 0.060224,
     "end_time": "2022-11-18T11:09:02.828849",
     "exception": false,
     "start_time": "2022-11-18T11:09:02.768625",
     "status": "completed"
    },
    "tags": []
   },
   "outputs": [],
   "source": [
    "# Building a function to generate univariate categroies\n",
    "def univariate_cat(col, loan_new):\n",
    "    sns.set(font_scale=1)\n",
    "    plt.figure(figsize=[10, 5])\n",
    "    ax = sns.countplot(x=loan_new[col], data=loan_new)\n",
    "    plt.title(col + \" distribution\")\n",
    "    # add_value_labels(ax)\n",
    "    plt.xticks(rotation=90)\n",
    "    plt.show()"
   ]
  },
  {
   "cell_type": "code",
   "execution_count": null,
   "id": "27a8815d",
   "metadata": {
    "execution": {
     "iopub.execute_input": "2022-11-18T11:09:02.933923Z",
     "iopub.status.busy": "2022-11-18T11:09:02.933263Z",
     "iopub.status.idle": "2022-11-18T11:09:03.118645Z",
     "shell.execute_reply": "2022-11-18T11:09:03.117319Z"
    },
    "papermill": {
     "duration": 0.241153,
     "end_time": "2022-11-18T11:09:03.121974",
     "exception": false,
     "start_time": "2022-11-18T11:09:02.880821",
     "status": "completed"
    },
    "tags": []
   },
   "outputs": [],
   "source": [
    "univariate_cat(\"loan_status\", loan_new)"
   ]
  },
  {
   "cell_type": "raw",
   "id": "8f5a933d",
   "metadata": {
    "papermill": {
     "duration": 0.050549,
     "end_time": "2022-11-18T11:09:03.229697",
     "exception": false,
     "start_time": "2022-11-18T11:09:03.179148",
     "status": "completed"
    },
    "tags": []
   },
   "source": [
    "% of charge offs appears to be 15.3% of Fully paid applications and about 13% of the overall applications"
   ]
  },
  {
   "cell_type": "code",
   "execution_count": null,
   "id": "7212b21f",
   "metadata": {
    "execution": {
     "iopub.execute_input": "2022-11-18T11:09:03.401220Z",
     "iopub.status.busy": "2022-11-18T11:09:03.400574Z",
     "iopub.status.idle": "2022-11-18T11:09:03.617240Z",
     "shell.execute_reply": "2022-11-18T11:09:03.616120Z"
    },
    "papermill": {
     "duration": 0.271286,
     "end_time": "2022-11-18T11:09:03.619597",
     "exception": false,
     "start_time": "2022-11-18T11:09:03.348311",
     "status": "completed"
    },
    "tags": []
   },
   "outputs": [],
   "source": [
    "univariate_cat(\"term\", loan_new)"
   ]
  },
  {
   "cell_type": "raw",
   "id": "609448f0",
   "metadata": {
    "papermill": {
     "duration": 0.051528,
     "end_time": "2022-11-18T11:09:03.722595",
     "exception": false,
     "start_time": "2022-11-18T11:09:03.671067",
     "status": "completed"
    },
    "tags": []
   },
   "source": [
    "In general, there is a higher %age of applications with a shorter term 73% and longer term loans roughly account for 1/4th of the loans"
   ]
  },
  {
   "cell_type": "code",
   "execution_count": null,
   "id": "41413796",
   "metadata": {
    "execution": {
     "iopub.execute_input": "2022-11-18T11:09:03.828278Z",
     "iopub.status.busy": "2022-11-18T11:09:03.827867Z",
     "iopub.status.idle": "2022-11-18T11:09:04.077778Z",
     "shell.execute_reply": "2022-11-18T11:09:04.076589Z"
    },
    "papermill": {
     "duration": 0.306171,
     "end_time": "2022-11-18T11:09:04.080297",
     "exception": false,
     "start_time": "2022-11-18T11:09:03.774126",
     "status": "completed"
    },
    "tags": []
   },
   "outputs": [],
   "source": [
    "univariate_cat(\"grade\", loan_new)"
   ]
  },
  {
   "cell_type": "raw",
   "id": "d3816efc",
   "metadata": {
    "papermill": {
     "duration": 0.053622,
     "end_time": "2022-11-18T11:09:04.187415",
     "exception": false,
     "start_time": "2022-11-18T11:09:04.133793",
     "status": "completed"
    },
    "tags": []
   },
   "source": [
    "In general, most of the df accounts comprise of the top 3 grades (A-C) spanning about 75% of loans given.\n",
    "Top quality df applicants are relatively fewer than the B grade applicants"
   ]
  },
  {
   "cell_type": "code",
   "execution_count": null,
   "id": "1476842d",
   "metadata": {
    "execution": {
     "iopub.execute_input": "2022-11-18T11:09:04.295632Z",
     "iopub.status.busy": "2022-11-18T11:09:04.294885Z",
     "iopub.status.idle": "2022-11-18T11:09:04.775990Z",
     "shell.execute_reply": "2022-11-18T11:09:04.774673Z"
    },
    "papermill": {
     "duration": 0.538392,
     "end_time": "2022-11-18T11:09:04.778488",
     "exception": false,
     "start_time": "2022-11-18T11:09:04.240096",
     "status": "completed"
    },
    "tags": []
   },
   "outputs": [],
   "source": [
    "univariate_cat(\"sub_grade\", loan_new)"
   ]
  },
  {
   "cell_type": "raw",
   "id": "8f2a9683",
   "metadata": {
    "papermill": {
     "duration": 0.052184,
     "end_time": "2022-11-18T11:09:04.882930",
     "exception": false,
     "start_time": "2022-11-18T11:09:04.830746",
     "status": "completed"
    },
    "tags": []
   },
   "source": [
    "There is a further gradation of the grades into sub grades displaying no specific pattern of occurence as such"
   ]
  },
  {
   "cell_type": "code",
   "execution_count": null,
   "id": "5e292040",
   "metadata": {
    "execution": {
     "iopub.execute_input": "2022-11-18T11:09:04.989571Z",
     "iopub.status.busy": "2022-11-18T11:09:04.988806Z",
     "iopub.status.idle": "2022-11-18T11:09:05.011383Z",
     "shell.execute_reply": "2022-11-18T11:09:05.010050Z"
    },
    "papermill": {
     "duration": 0.079067,
     "end_time": "2022-11-18T11:09:05.014037",
     "exception": false,
     "start_time": "2022-11-18T11:09:04.934970",
     "status": "completed"
    },
    "tags": []
   },
   "outputs": [],
   "source": [
    "print(loan_new[\"emp_title\"].value_counts())\n",
    "# univariate_cat('emp_title',loan_new)"
   ]
  },
  {
   "cell_type": "raw",
   "id": "870043f5",
   "metadata": {
    "papermill": {
     "duration": 0.052151,
     "end_time": "2022-11-18T11:09:05.118848",
     "exception": false,
     "start_time": "2022-11-18T11:09:05.066697",
     "status": "completed"
    },
    "tags": []
   },
   "source": [
    "We will not visualize emp title and zip code categories given the large size of the elements"
   ]
  },
  {
   "cell_type": "code",
   "execution_count": null,
   "id": "e7a9de80",
   "metadata": {
    "execution": {
     "iopub.execute_input": "2022-11-18T11:09:05.226991Z",
     "iopub.status.busy": "2022-11-18T11:09:05.226586Z",
     "iopub.status.idle": "2022-11-18T11:09:05.463184Z",
     "shell.execute_reply": "2022-11-18T11:09:05.462290Z"
    },
    "papermill": {
     "duration": 0.293072,
     "end_time": "2022-11-18T11:09:05.465548",
     "exception": false,
     "start_time": "2022-11-18T11:09:05.172476",
     "status": "completed"
    },
    "tags": []
   },
   "outputs": [],
   "source": [
    "univariate_cat(\"verification_status\", loan_new)"
   ]
  },
  {
   "cell_type": "raw",
   "id": "f010c98b",
   "metadata": {
    "papermill": {
     "duration": 0.053121,
     "end_time": "2022-11-18T11:09:05.573921",
     "exception": false,
     "start_time": "2022-11-18T11:09:05.520800",
     "status": "completed"
    },
    "tags": []
   },
   "source": [
    "A large chunk of the df applications appear to be in the unverified status and represents risk of posing data quality and reliability of df data to accurately evaluate members ability to pay up the df"
   ]
  },
  {
   "cell_type": "code",
   "execution_count": null,
   "id": "1fbecdac",
   "metadata": {
    "execution": {
     "iopub.execute_input": "2022-11-18T11:09:05.682953Z",
     "iopub.status.busy": "2022-11-18T11:09:05.681050Z",
     "iopub.status.idle": "2022-11-18T11:09:06.111099Z",
     "shell.execute_reply": "2022-11-18T11:09:06.109847Z"
    },
    "papermill": {
     "duration": 0.487357,
     "end_time": "2022-11-18T11:09:06.113790",
     "exception": false,
     "start_time": "2022-11-18T11:09:05.626433",
     "status": "completed"
    },
    "tags": []
   },
   "outputs": [],
   "source": [
    "univariate_cat(\"home_ownership\", loan_new)"
   ]
  },
  {
   "cell_type": "raw",
   "id": "dd0de014",
   "metadata": {
    "papermill": {
     "duration": 0.053174,
     "end_time": "2022-11-18T11:09:06.220343",
     "exception": false,
     "start_time": "2022-11-18T11:09:06.167169",
     "status": "completed"
    },
    "tags": []
   },
   "source": [
    "About 90% of the df applicants either have a mortgage or are on rent and about 6% are home owners"
   ]
  },
  {
   "cell_type": "code",
   "execution_count": null,
   "id": "fa99f479",
   "metadata": {
    "execution": {
     "iopub.execute_input": "2022-11-18T11:09:06.329298Z",
     "iopub.status.busy": "2022-11-18T11:09:06.328902Z",
     "iopub.status.idle": "2022-11-18T11:09:06.337810Z",
     "shell.execute_reply": "2022-11-18T11:09:06.336604Z"
    },
    "papermill": {
     "duration": 0.067013,
     "end_time": "2022-11-18T11:09:06.340714",
     "exception": false,
     "start_time": "2022-11-18T11:09:06.273701",
     "status": "completed"
    },
    "tags": []
   },
   "outputs": [],
   "source": [
    "print(loan_new[\"purpose\"].value_counts())"
   ]
  },
  {
   "cell_type": "code",
   "execution_count": null,
   "id": "a0e2c991",
   "metadata": {
    "execution": {
     "iopub.execute_input": "2022-11-18T11:09:06.465759Z",
     "iopub.status.busy": "2022-11-18T11:09:06.464805Z",
     "iopub.status.idle": "2022-11-18T11:09:06.790317Z",
     "shell.execute_reply": "2022-11-18T11:09:06.789120Z"
    },
    "papermill": {
     "duration": 0.383997,
     "end_time": "2022-11-18T11:09:06.793100",
     "exception": false,
     "start_time": "2022-11-18T11:09:06.409103",
     "status": "completed"
    },
    "tags": []
   },
   "outputs": [],
   "source": [
    "univariate_cat(\"purpose\", loan_new)"
   ]
  },
  {
   "cell_type": "code",
   "execution_count": null,
   "id": "ffb9e79f",
   "metadata": {
    "execution": {
     "iopub.execute_input": "2022-11-18T11:09:07.011121Z",
     "iopub.status.busy": "2022-11-18T11:09:07.010719Z",
     "iopub.status.idle": "2022-11-18T11:09:07.285253Z",
     "shell.execute_reply": "2022-11-18T11:09:07.284047Z"
    },
    "papermill": {
     "duration": 0.332519,
     "end_time": "2022-11-18T11:09:07.288211",
     "exception": false,
     "start_time": "2022-11-18T11:09:06.955692",
     "status": "completed"
    },
    "tags": []
   },
   "outputs": [],
   "source": [
    "univariate_cat(\"issuemonth\", loan_new)"
   ]
  },
  {
   "cell_type": "code",
   "execution_count": null,
   "id": "a68d4579",
   "metadata": {
    "execution": {
     "iopub.execute_input": "2022-11-18T11:09:07.507038Z",
     "iopub.status.busy": "2022-11-18T11:09:07.506473Z",
     "iopub.status.idle": "2022-11-18T11:09:07.880216Z",
     "shell.execute_reply": "2022-11-18T11:09:07.879055Z"
    },
    "papermill": {
     "duration": 0.431594,
     "end_time": "2022-11-18T11:09:07.882655",
     "exception": false,
     "start_time": "2022-11-18T11:09:07.451061",
     "status": "completed"
    },
    "tags": []
   },
   "outputs": [],
   "source": [
    "loan_new[\"zip_code\"].value_counts().nlargest(20).plot.bar()"
   ]
  },
  {
   "cell_type": "raw",
   "id": "502708d3",
   "metadata": {
    "papermill": {
     "duration": 0.053684,
     "end_time": "2022-11-18T11:09:07.991856",
     "exception": false,
     "start_time": "2022-11-18T11:09:07.938172",
     "status": "completed"
    },
    "tags": []
   },
   "source": [
    "Specific zip codes will tend to have higher consumption, disposable incomes versus certain others. There could be a direct or an inverse correlation based on necessity for df vs. using the df for discretionary spending"
   ]
  },
  {
   "cell_type": "code",
   "execution_count": null,
   "id": "be9c6cb0",
   "metadata": {
    "execution": {
     "iopub.execute_input": "2022-11-18T11:09:08.104230Z",
     "iopub.status.busy": "2022-11-18T11:09:08.103575Z",
     "iopub.status.idle": "2022-11-18T11:09:09.275375Z",
     "shell.execute_reply": "2022-11-18T11:09:09.274233Z"
    },
    "papermill": {
     "duration": 1.231907,
     "end_time": "2022-11-18T11:09:09.277940",
     "exception": false,
     "start_time": "2022-11-18T11:09:08.046033",
     "status": "completed"
    },
    "tags": []
   },
   "outputs": [],
   "source": [
    "# loan_new['addr_state'].value_counts().nlargest(20).plot.bar()#\n",
    "univariate_cat(\"addr_state\", loan_new)"
   ]
  },
  {
   "cell_type": "raw",
   "id": "8d2979d5",
   "metadata": {
    "papermill": {
     "duration": 0.054838,
     "end_time": "2022-11-18T11:09:09.388340",
     "exception": false,
     "start_time": "2022-11-18T11:09:09.333502",
     "status": "completed"
    },
    "tags": []
   },
   "source": [
    "Top df accounts originate from well known progressive states such as CA, NY, FL, TX with larger degree of urbanization, tax rates and higher than average income levels."
   ]
  },
  {
   "cell_type": "code",
   "execution_count": null,
   "id": "59486b7f",
   "metadata": {
    "execution": {
     "iopub.execute_input": "2022-11-18T11:09:09.501043Z",
     "iopub.status.busy": "2022-11-18T11:09:09.500363Z",
     "iopub.status.idle": "2022-11-18T11:09:10.392060Z",
     "shell.execute_reply": "2022-11-18T11:09:10.391177Z"
    },
    "papermill": {
     "duration": 0.950796,
     "end_time": "2022-11-18T11:09:10.394509",
     "exception": false,
     "start_time": "2022-11-18T11:09:09.443713",
     "status": "completed"
    },
    "tags": []
   },
   "outputs": [],
   "source": [
    "univariate_cat(\"annual_inc_cat\", loan_new)"
   ]
  },
  {
   "cell_type": "raw",
   "id": "bc030f86",
   "metadata": {
    "papermill": {
     "duration": 0.056231,
     "end_time": "2022-11-18T11:09:10.508050",
     "exception": false,
     "start_time": "2022-11-18T11:09:10.451819",
     "status": "completed"
    },
    "tags": []
   },
   "source": [
    "We segmented annual income distributed across 5 buckets after outlier removal (atleast the largest two) While outliers still exist the quantum of loans appears evenly distributed across income levels."
   ]
  },
  {
   "cell_type": "code",
   "execution_count": null,
   "id": "10935860",
   "metadata": {
    "execution": {
     "iopub.execute_input": "2022-11-18T11:09:10.621930Z",
     "iopub.status.busy": "2022-11-18T11:09:10.620954Z",
     "iopub.status.idle": "2022-11-18T11:09:11.361983Z",
     "shell.execute_reply": "2022-11-18T11:09:11.361098Z"
    },
    "papermill": {
     "duration": 0.799852,
     "end_time": "2022-11-18T11:09:11.364362",
     "exception": false,
     "start_time": "2022-11-18T11:09:10.564510",
     "status": "completed"
    },
    "tags": []
   },
   "outputs": [],
   "source": [
    "univariate_cat(\"emp_length_cat\", loan_new)"
   ]
  },
  {
   "cell_type": "raw",
   "id": "f1ee9c7f",
   "metadata": {
    "papermill": {
     "duration": 0.05606,
     "end_time": "2022-11-18T11:09:11.475841",
     "exception": false,
     "start_time": "2022-11-18T11:09:11.419781",
     "status": "completed"
    },
    "tags": []
   },
   "source": [
    "We segmented employee experience under 5 categories, in general people with lowest and highest experience tended to account for 50% of all loans taken.\n",
    "This is interesting and could be something to do with the demographic mix that tend to like the features of lending club: those who are starting off in their careers as well as those that are well settled.\n",
    "This merits further investigation for lending club to deepen engagement with such cohorts as well as expand the net to target the needs of those on their way to become established in their careers\n",
    "Further analysis required to understand the purposes for which the 1 year and 10 year olds take loans for"
   ]
  },
  {
   "cell_type": "code",
   "execution_count": null,
   "id": "484c2a61",
   "metadata": {
    "execution": {
     "iopub.execute_input": "2022-11-18T11:09:11.590537Z",
     "iopub.status.busy": "2022-11-18T11:09:11.589882Z",
     "iopub.status.idle": "2022-11-18T11:09:12.338350Z",
     "shell.execute_reply": "2022-11-18T11:09:12.337163Z"
    },
    "papermill": {
     "duration": 0.80934,
     "end_time": "2022-11-18T11:09:12.341163",
     "exception": false,
     "start_time": "2022-11-18T11:09:11.531823",
     "status": "completed"
    },
    "tags": []
   },
   "outputs": [],
   "source": [
    "univariate_cat(\"int_rate_cat\", loan_new)"
   ]
  },
  {
   "cell_type": "raw",
   "id": "f3978f59",
   "metadata": {
    "papermill": {
     "duration": 0.060812,
     "end_time": "2022-11-18T11:09:12.459754",
     "exception": false,
     "start_time": "2022-11-18T11:09:12.398942",
     "status": "completed"
    },
    "tags": []
   },
   "source": [
    "We segmented interest rate under 5 categories and observed about 25% of the loans being given at lower interest rates\n",
    "the second tier beween 9 and 13% loans were the second highest representing about 37% of the loans given the third tier at another 25%  share were the largest 3 tiers where loans were given out\n",
    "In general it is interesting to further explore the df grade versus the interest rate and it is an assumption they could be inversely related. As in the grade goes up and the interest rate may go down depending on how the grades and sub grades were computed."
   ]
  },
  {
   "cell_type": "code",
   "execution_count": null,
   "id": "54f7e30d",
   "metadata": {
    "execution": {
     "iopub.execute_input": "2022-11-18T11:09:12.574528Z",
     "iopub.status.busy": "2022-11-18T11:09:12.573773Z",
     "iopub.status.idle": "2022-11-18T11:09:13.441197Z",
     "shell.execute_reply": "2022-11-18T11:09:13.438662Z"
    },
    "papermill": {
     "duration": 0.928049,
     "end_time": "2022-11-18T11:09:13.444111",
     "exception": false,
     "start_time": "2022-11-18T11:09:12.516062",
     "status": "completed"
    },
    "tags": []
   },
   "outputs": [],
   "source": [
    "univariate_cat(\"loan_amnt_cat\", loan_new)"
   ]
  },
  {
   "cell_type": "raw",
   "id": "9a1faf79",
   "metadata": {
    "papermill": {
     "duration": 0.059279,
     "end_time": "2022-11-18T11:09:13.568351",
     "exception": false,
     "start_time": "2022-11-18T11:09:13.509072",
     "status": "completed"
    },
    "tags": []
   },
   "source": [
    "We segmented df amount under 5 categories to understand the need. Appeared like the sub 7400 loans constituted about 37% of the hand outs and the second tier contributed to another 30+ %\n",
    "All in all the top three tiers < 21K constituted 80% of the df operation advances made."
   ]
  },
  {
   "attachments": {},
   "cell_type": "markdown",
   "id": "d6f3613c",
   "metadata": {
    "papermill": {
     "duration": 0.056498,
     "end_time": "2022-11-18T11:09:13.682548",
     "exception": false,
     "start_time": "2022-11-18T11:09:13.626050",
     "status": "completed"
    },
    "tags": []
   },
   "source": [
    "# BIVARIATE ANALYSIS"
   ]
  },
  {
   "cell_type": "raw",
   "id": "820527f6",
   "metadata": {
    "papermill": {
     "duration": 0.056659,
     "end_time": "2022-11-18T11:09:13.795889",
     "exception": false,
     "start_time": "2022-11-18T11:09:13.739230",
     "status": "completed"
    },
    "tags": []
   },
   "source": [
    "Analyzing Numeric Variables"
   ]
  },
  {
   "cell_type": "code",
   "execution_count": null,
   "id": "ce377ee8",
   "metadata": {
    "execution": {
     "iopub.execute_input": "2022-11-18T11:09:13.911529Z",
     "iopub.status.busy": "2022-11-18T11:09:13.910253Z",
     "iopub.status.idle": "2022-11-18T11:09:13.922830Z",
     "shell.execute_reply": "2022-11-18T11:09:13.921707Z"
    },
    "papermill": {
     "duration": 0.072831,
     "end_time": "2022-11-18T11:09:13.925261",
     "exception": false,
     "start_time": "2022-11-18T11:09:13.852430",
     "status": "completed"
    },
    "tags": []
   },
   "outputs": [],
   "source": [
    "# Defining a function to generate bi variate analyses between the target and the chosen categorical variables\n",
    "def plot_stats(feature, label_rotation=False, horizontal_layout=True):\n",
    "    sns.set(font_scale=1)\n",
    "    temp = loan_new[feature].value_counts()\n",
    "    df1 = pd.DataFrame({feature: temp.index, \"Number of Applications\": temp.values})\n",
    "\n",
    "    # Calculate the percentage of loan_status_new =1 per category value\n",
    "    cat_perc = (\n",
    "        loan_new[[feature, \"loan_status_new\"]].groupby([feature], as_index=False).mean()\n",
    "    )\n",
    "    cat_perc.sort_values(by=\"loan_status_new\", ascending=False, inplace=True)\n",
    "    sns.set_style(\"whitegrid\")\n",
    "\n",
    "    if horizontal_layout:\n",
    "        sns.set(font_scale=1.5)\n",
    "        fig, (ax1, ax2) = plt.subplots(ncols=2, figsize=(20, 5))\n",
    "    else:\n",
    "        sns.set(font_scale=1.5)\n",
    "        fig, (ax1, ax2) = plt.subplots(nrows=2, figsize=(20, 10))\n",
    "\n",
    "    sns.set_color_codes(\"pastel\")\n",
    "    sns.set_style(\"whitegrid\")\n",
    "\n",
    "    s = sns.barplot(ax=ax1, x=feature, y=\"Number of Applications\", data=df1)\n",
    "\n",
    "    if label_rotation:\n",
    "        s.set_xticklabels(s.get_xticklabels(), rotation=90)\n",
    "\n",
    "    # s = sns.barplot(ax=ax2, x = feature, y='TARGET', order=cat_perc[feature], data=cat_perc)\n",
    "    s = sns.barplot(ax=ax2, x=feature, y=\"loan_status_new\", data=cat_perc)\n",
    "\n",
    "    if label_rotation:\n",
    "        s.set_xticklabels(s.get_xticklabels(), rotation=90)\n",
    "\n",
    "    plt.ylabel(\"Percent of charged Off [%]\")\n",
    "\n",
    "    plt.tick_params(axis=\"both\", which=\"major\")\n",
    "    plt.subplots_adjust(wspace=0.2, top=0.9)\n",
    "    plt.show()"
   ]
  },
  {
   "cell_type": "code",
   "execution_count": null,
   "id": "9be15300",
   "metadata": {
    "execution": {
     "iopub.execute_input": "2022-11-18T11:09:14.039941Z",
     "iopub.status.busy": "2022-11-18T11:09:14.039513Z",
     "iopub.status.idle": "2022-11-18T11:09:14.047014Z",
     "shell.execute_reply": "2022-11-18T11:09:14.045861Z"
    },
    "papermill": {
     "duration": 0.067573,
     "end_time": "2022-11-18T11:09:14.049282",
     "exception": false,
     "start_time": "2022-11-18T11:09:13.981709",
     "status": "completed"
    },
    "tags": []
   },
   "outputs": [],
   "source": [
    "loan_new.columns"
   ]
  },
  {
   "cell_type": "code",
   "execution_count": null,
   "id": "7ca61ee7",
   "metadata": {
    "execution": {
     "iopub.execute_input": "2022-11-18T11:09:14.164261Z",
     "iopub.status.busy": "2022-11-18T11:09:14.163884Z",
     "iopub.status.idle": "2022-11-18T11:09:14.172363Z",
     "shell.execute_reply": "2022-11-18T11:09:14.171532Z"
    },
    "papermill": {
     "duration": 0.068242,
     "end_time": "2022-11-18T11:09:14.174484",
     "exception": false,
     "start_time": "2022-11-18T11:09:14.106242",
     "status": "completed"
    },
    "tags": []
   },
   "outputs": [],
   "source": [
    "# New column addition to display the target variable as a numeric value\n",
    "loan_new[\"loan_status_new\"] = loan_new[\"loan_status\"].map(\n",
    "    {\"Charged Off\": 1, \"Fully Paid\": 0}\n",
    ")"
   ]
  },
  {
   "cell_type": "code",
   "execution_count": null,
   "id": "2d7b0648",
   "metadata": {
    "execution": {
     "iopub.execute_input": "2022-11-18T11:09:14.289474Z",
     "iopub.status.busy": "2022-11-18T11:09:14.288690Z",
     "iopub.status.idle": "2022-11-18T11:09:15.690291Z",
     "shell.execute_reply": "2022-11-18T11:09:15.689257Z"
    },
    "papermill": {
     "duration": 1.462325,
     "end_time": "2022-11-18T11:09:15.693073",
     "exception": false,
     "start_time": "2022-11-18T11:09:14.230748",
     "status": "completed"
    },
    "tags": []
   },
   "outputs": [],
   "source": [
    "##plot the Box plot to check for the possible option to check the outliers\n",
    "sns.set(style=\"whitegrid\")\n",
    "f, axs = plt.subplots(3, 3, figsize=(15, 20))\n",
    "plt.subplot(3, 3, 1)\n",
    "sns.boxplot(x=\"loan_status_new\", y=\"loan_amnt\", data=loan_new)\n",
    "plt.title(\"loan_amt\")\n",
    "plt.subplot(3, 3, 2)\n",
    "sns.boxplot(x=\"loan_status_new\", y=\"funded_amnt\", data=loan_new)\n",
    "plt.title(\"funded_amnt\")\n",
    "plt.subplot(3, 3, 3)\n",
    "sns.boxplot(x=\"loan_status_new\", y=\"funded_amnt_inv\", data=loan_new)\n",
    "plt.title(\"funded_amnt_inv\")\n",
    "plt.subplot(3, 3, 4)\n",
    "sns.boxplot(x=\"loan_status_new\", y=\"int_rate\", data=loan_new)\n",
    "plt.title(\"int_rate\")\n",
    "\n",
    "plt.subplot(3, 3, 5)\n",
    "sns.boxplot(x=\"loan_status_new\", y=\"installment\", data=loan_new)\n",
    "plt.title(\"installment\")\n",
    "\n",
    "plt.subplot(3, 3, 6)\n",
    "sns.boxplot(x=\"loan_status_new\", y=\"annual_inc\", data=loan_new)\n",
    "plt.title(\"annual_inc\")\n",
    "\n",
    "plt.subplot(3, 3, 7)\n",
    "sns.boxplot(x=\"loan_status_new\", y=\"dti\", data=loan_new)\n",
    "plt.title(\"dti\")\n",
    "\n",
    "plt.show()"
   ]
  },
  {
   "cell_type": "raw",
   "id": "56c6d60f",
   "metadata": {
    "papermill": {
     "duration": 0.057994,
     "end_time": "2022-11-18T11:09:15.811434",
     "exception": false,
     "start_time": "2022-11-18T11:09:15.753440",
     "status": "completed"
    },
    "tags": []
   },
   "source": [
    "Observations\n",
    "\n",
    "1. We find similar number of deafaulters as fully paid based on df amount except that there is a slightly higher default above 15K. The threshold is slightly lower for amount funded by investors if looking at actual disbursements vs. defaults this stands at 14.5K approximately\n",
    "2. The median for defaulters in terms of interest rate is higher. There is an elevated chance of default over 14% \n",
    "3. The median values and the 75th percentile range for fully paid and defaulters appears to be similar. Given the percentage mix of data(imbalanced)we can infer that the higher income levels have lower propensity to default with a few exceptions.\n",
    "4. The debt to income levels are largely close in terms of the median ranges except a slightly higher DTI can be observed for charge offs\n",
    "5. While the box plot isnt very clear, we have observed in general multiple bankrupcies indicate higher chance for default\n"
   ]
  },
  {
   "cell_type": "code",
   "execution_count": null,
   "id": "37d7a2bf",
   "metadata": {
    "execution": {
     "iopub.execute_input": "2022-11-18T11:09:15.930129Z",
     "iopub.status.busy": "2022-11-18T11:09:15.929354Z",
     "iopub.status.idle": "2022-11-18T11:12:12.376541Z",
     "shell.execute_reply": "2022-11-18T11:12:12.375305Z"
    },
    "papermill": {
     "duration": 176.634633,
     "end_time": "2022-11-18T11:12:12.504418",
     "exception": false,
     "start_time": "2022-11-18T11:09:15.869785",
     "status": "completed"
    },
    "tags": []
   },
   "outputs": [],
   "source": [
    "# numericvariables = ['loan_amnt', 'funded_amnt', 'funded_amnt_inv', 'int_rate', 'installment', 'annual_inc', 'dti',\n",
    "#        'emp_length','loan_status_new']\n",
    "# sns.pairplot(data=loan_new[numericvariables],hue=\"loan_status_new\")"
   ]
  },
  {
   "cell_type": "raw",
   "id": "273d2e18",
   "metadata": {
    "papermill": {
     "duration": 0.091323,
     "end_time": "2022-11-18T11:12:12.690032",
     "exception": false,
     "start_time": "2022-11-18T11:12:12.598709",
     "status": "completed"
    },
    "tags": []
   },
   "source": [
    "1.Loan amnt vs. funded by inv - Not all df amounts are funded by investors\n",
    "2.Loan amt vs. int rate - No clear pattern observed in the pair plot for default rate. However, in the in the interest rate KDE we can observe the area of default is larger when the interest rate goes up.\n",
    "3.Loan amt vs. installment - On the top right hand side, where the df amnt is high and installment is high we dont observe many charge offs\n",
    "4.Lower interest rate with lower annual incomes have a lower default same is the case with lower interest rate and lower DTI\n",
    "5.As the df amount increases, there is an increase in stallment. Lesser defaults observed for higher installments top RHS\n",
    "6.Low annual income and high interest rates mean higher defaults"
   ]
  },
  {
   "cell_type": "code",
   "execution_count": null,
   "id": "24fea8f8",
   "metadata": {
    "execution": {
     "iopub.execute_input": "2022-11-18T11:12:12.877115Z",
     "iopub.status.busy": "2022-11-18T11:12:12.876078Z",
     "iopub.status.idle": "2022-11-18T11:12:12.922148Z",
     "shell.execute_reply": "2022-11-18T11:12:12.920856Z"
    },
    "papermill": {
     "duration": 0.142353,
     "end_time": "2022-11-18T11:12:12.924715",
     "exception": false,
     "start_time": "2022-11-18T11:12:12.782362",
     "status": "completed"
    },
    "tags": []
   },
   "outputs": [],
   "source": [
    "corr = loan_new.corr()\n",
    "corr = corr.where(np.triu(np.ones(corr.shape), k=1).astype(np.bool))\n",
    "corrdf0 = corr.unstack().reset_index()\n",
    "corrdf0.columns = [\"VAR1\", \"VAR2\", \"Correlation\"]\n",
    "corrdf0.dropna(subset=[\"Correlation\"], inplace=True)\n",
    "corrdf0[\"Correlation\"] = round(corrdf0[\"Correlation\"], 2)\n",
    "# Since we see correlation as an absolute value, we are converting it into absolute value\n",
    "corrdf0[\"Correlation_abs\"] = corrdf0[\"Correlation\"].abs()\n",
    "corrdf0.sort_values(by=\"Correlation_abs\", ascending=False).head(40)"
   ]
  },
  {
   "cell_type": "raw",
   "id": "b0a511a7",
   "metadata": {
    "papermill": {
     "duration": 0.092052,
     "end_time": "2022-11-18T11:12:13.108277",
     "exception": false,
     "start_time": "2022-11-18T11:12:13.016225",
     "status": "completed"
    },
    "tags": []
   },
   "source": [
    "Correlation between independent variables\n",
    "\n",
    "Highest correlations displayed can be disregarded >.91.since they are related (funding amount vs.df amt)\n",
    "The correlations shown in general arent strong for other variables.\n",
    "\n",
    "Expected correlation between annual income and interest rate was high but actually it is quite weak 6%\n",
    "\n",
    "None of the relevant relationships have a correlation above 60%\n"
   ]
  },
  {
   "cell_type": "code",
   "execution_count": null,
   "id": "56f467c2",
   "metadata": {
    "execution": {
     "iopub.execute_input": "2022-11-18T11:12:13.296350Z",
     "iopub.status.busy": "2022-11-18T11:12:13.295066Z",
     "iopub.status.idle": "2022-11-18T11:12:13.824273Z",
     "shell.execute_reply": "2022-11-18T11:12:13.823106Z"
    },
    "papermill": {
     "duration": 0.625143,
     "end_time": "2022-11-18T11:12:13.826829",
     "exception": false,
     "start_time": "2022-11-18T11:12:13.201686",
     "status": "completed"
    },
    "tags": []
   },
   "outputs": [],
   "source": [
    "plot_stats(\"loan_status\", True)"
   ]
  },
  {
   "cell_type": "raw",
   "id": "a0ff087f",
   "metadata": {
    "papermill": {
     "duration": 0.103523,
     "end_time": "2022-11-18T11:12:14.021074",
     "exception": false,
     "start_time": "2022-11-18T11:12:13.917551",
     "status": "completed"
    },
    "tags": []
   },
   "source": [
    "About 13% charge offs exist when comparing fully paid and chargeoffs alone. This is at about 12% when compared with the current loans included."
   ]
  },
  {
   "cell_type": "code",
   "execution_count": null,
   "id": "cebdf7ab",
   "metadata": {
    "execution": {
     "iopub.execute_input": "2022-11-18T11:12:14.221865Z",
     "iopub.status.busy": "2022-11-18T11:12:14.220942Z",
     "iopub.status.idle": "2022-11-18T11:12:14.563821Z",
     "shell.execute_reply": "2022-11-18T11:12:14.562674Z"
    },
    "papermill": {
     "duration": 0.44446,
     "end_time": "2022-11-18T11:12:14.567453",
     "exception": false,
     "start_time": "2022-11-18T11:12:14.122993",
     "status": "completed"
    },
    "tags": []
   },
   "outputs": [],
   "source": [
    "plot_stats(\"term\", True)"
   ]
  },
  {
   "cell_type": "raw",
   "id": "6e5a61e3",
   "metadata": {
    "papermill": {
     "duration": 0.093798,
     "end_time": "2022-11-18T11:12:14.764482",
     "exception": false,
     "start_time": "2022-11-18T11:12:14.670684",
     "status": "completed"
    },
    "tags": []
   },
   "source": [
    "As the term goes up the default risks increase. This is when we observe at a high level. There could be micro patterns contributing to this effect which need further investigation."
   ]
  },
  {
   "cell_type": "code",
   "execution_count": null,
   "id": "87a648b5",
   "metadata": {
    "execution": {
     "iopub.execute_input": "2022-11-18T11:12:14.953116Z",
     "iopub.status.busy": "2022-11-18T11:12:14.952738Z",
     "iopub.status.idle": "2022-11-18T11:12:15.346889Z",
     "shell.execute_reply": "2022-11-18T11:12:15.346013Z"
    },
    "papermill": {
     "duration": 0.492672,
     "end_time": "2022-11-18T11:12:15.349267",
     "exception": false,
     "start_time": "2022-11-18T11:12:14.856595",
     "status": "completed"
    },
    "tags": []
   },
   "outputs": [],
   "source": [
    "plot_stats(\"int_rate_cat\", True)"
   ]
  },
  {
   "cell_type": "raw",
   "id": "fb4e95a8",
   "metadata": {
    "papermill": {
     "duration": 0.093475,
     "end_time": "2022-11-18T11:12:15.538769",
     "exception": false,
     "start_time": "2022-11-18T11:12:15.445294",
     "status": "completed"
    },
    "tags": []
   },
   "source": [
    "Higher interest rates are clearly contributing to higher percentage of charge offs on lower df pools (number of applicants)."
   ]
  },
  {
   "cell_type": "code",
   "execution_count": null,
   "id": "be1c4eff",
   "metadata": {
    "execution": {
     "iopub.execute_input": "2022-11-18T11:12:15.730204Z",
     "iopub.status.busy": "2022-11-18T11:12:15.729750Z",
     "iopub.status.idle": "2022-11-18T11:12:16.148660Z",
     "shell.execute_reply": "2022-11-18T11:12:16.147337Z"
    },
    "papermill": {
     "duration": 0.51856,
     "end_time": "2022-11-18T11:12:16.151168",
     "exception": false,
     "start_time": "2022-11-18T11:12:15.632608",
     "status": "completed"
    },
    "tags": []
   },
   "outputs": [],
   "source": [
    "plot_stats(\"grade\", True)"
   ]
  },
  {
   "cell_type": "raw",
   "id": "1f00d065",
   "metadata": {
    "papermill": {
     "duration": 0.09369,
     "end_time": "2022-11-18T11:12:16.343051",
     "exception": false,
     "start_time": "2022-11-18T11:12:16.249361",
     "status": "completed"
    },
    "tags": []
   },
   "source": [
    "The lower investment grades have a higher charge off percentage. This shows that the investment grades are quite accurate as a predictor of df default\n",
    "This is also good from a lending club product standpoint that they are able to attract the right mix of df grades"
   ]
  },
  {
   "cell_type": "code",
   "execution_count": null,
   "id": "965f52c1",
   "metadata": {
    "execution": {
     "iopub.execute_input": "2022-11-18T11:12:16.531996Z",
     "iopub.status.busy": "2022-11-18T11:12:16.531570Z",
     "iopub.status.idle": "2022-11-18T11:12:17.590654Z",
     "shell.execute_reply": "2022-11-18T11:12:17.589419Z"
    },
    "papermill": {
     "duration": 1.156882,
     "end_time": "2022-11-18T11:12:17.593716",
     "exception": false,
     "start_time": "2022-11-18T11:12:16.436834",
     "status": "completed"
    },
    "tags": []
   },
   "outputs": [],
   "source": [
    "plot_stats(\"sub_grade\", True, False)"
   ]
  },
  {
   "cell_type": "raw",
   "id": "f2643d82",
   "metadata": {
    "papermill": {
     "duration": 0.100295,
     "end_time": "2022-11-18T11:12:17.789946",
     "exception": false,
     "start_time": "2022-11-18T11:12:17.689651",
     "status": "completed"
    },
    "tags": []
   },
   "source": [
    "The subgrades are quite accurate between A1 and C2. There is a bit of noise in classification of subgrades for default beyond C2"
   ]
  },
  {
   "cell_type": "code",
   "execution_count": null,
   "id": "3d0c1ad6",
   "metadata": {
    "execution": {
     "iopub.execute_input": "2022-11-18T11:12:17.988450Z",
     "iopub.status.busy": "2022-11-18T11:12:17.987756Z",
     "iopub.status.idle": "2022-11-18T11:12:18.390980Z",
     "shell.execute_reply": "2022-11-18T11:12:18.389742Z"
    },
    "papermill": {
     "duration": 0.505537,
     "end_time": "2022-11-18T11:12:18.393578",
     "exception": false,
     "start_time": "2022-11-18T11:12:17.888041",
     "status": "completed"
    },
    "tags": []
   },
   "outputs": [],
   "source": [
    "plot_stats(\"home_ownership\", True)"
   ]
  },
  {
   "cell_type": "raw",
   "id": "4323005a",
   "metadata": {
    "papermill": {
     "duration": 0.094566,
     "end_time": "2022-11-18T11:12:18.591045",
     "exception": false,
     "start_time": "2022-11-18T11:12:18.496479",
     "status": "completed"
    },
    "tags": []
   },
   "source": [
    "The category other is very small however has high default. The focus would be on Rent and Mortgage as areas to investigate nearly 30% of the chargeoffs that are in these categories.\n"
   ]
  },
  {
   "cell_type": "code",
   "execution_count": null,
   "id": "8c26dd81",
   "metadata": {
    "execution": {
     "iopub.execute_input": "2022-11-18T11:12:18.784045Z",
     "iopub.status.busy": "2022-11-18T11:12:18.783647Z",
     "iopub.status.idle": "2022-11-18T11:12:19.152829Z",
     "shell.execute_reply": "2022-11-18T11:12:19.151652Z"
    },
    "papermill": {
     "duration": 0.469248,
     "end_time": "2022-11-18T11:12:19.155568",
     "exception": false,
     "start_time": "2022-11-18T11:12:18.686320",
     "status": "completed"
    },
    "tags": []
   },
   "outputs": [],
   "source": [
    "plot_stats(\"verification_status\", True)"
   ]
  },
  {
   "cell_type": "raw",
   "id": "8b71e82b",
   "metadata": {
    "papermill": {
     "duration": 0.095293,
     "end_time": "2022-11-18T11:12:19.346396",
     "exception": false,
     "start_time": "2022-11-18T11:12:19.251103",
     "status": "completed"
    },
    "tags": []
   },
   "source": [
    "Not verified constitutes about 40% of the df pool representing 12.5% of charge offs addressing these could help arrest the default risk categories\n",
    "All categories have a close threshold of default under 5% which makes it harder to implement corrective measures."
   ]
  },
  {
   "cell_type": "code",
   "execution_count": null,
   "id": "831b5d3e",
   "metadata": {
    "execution": {
     "iopub.execute_input": "2022-11-18T11:12:19.541811Z",
     "iopub.status.busy": "2022-11-18T11:12:19.541096Z",
     "iopub.status.idle": "2022-11-18T11:12:19.937969Z",
     "shell.execute_reply": "2022-11-18T11:12:19.936842Z"
    },
    "papermill": {
     "duration": 0.496749,
     "end_time": "2022-11-18T11:12:19.940238",
     "exception": false,
     "start_time": "2022-11-18T11:12:19.443489",
     "status": "completed"
    },
    "tags": []
   },
   "outputs": [],
   "source": [
    "plot_stats(\"loan_amnt_cat\", True)"
   ]
  },
  {
   "cell_type": "raw",
   "id": "0a214d66",
   "metadata": {
    "papermill": {
     "duration": 0.096995,
     "end_time": "2022-11-18T11:12:20.141697",
     "exception": false,
     "start_time": "2022-11-18T11:12:20.044702",
     "status": "completed"
    },
    "tags": []
   },
   "source": [
    "We segmented the df amount  into 5 categories.\n",
    "Higher the df amount, smaller the df pool greater the default risk. Capping the df amounts < 20K can potentially reduce default risk at the surface but could spread the default risk to lower categories of df amounts\n"
   ]
  },
  {
   "cell_type": "code",
   "execution_count": null,
   "id": "9a6e8c79",
   "metadata": {
    "execution": {
     "iopub.execute_input": "2022-11-18T11:12:20.339618Z",
     "iopub.status.busy": "2022-11-18T11:12:20.338995Z",
     "iopub.status.idle": "2022-11-18T11:12:20.743356Z",
     "shell.execute_reply": "2022-11-18T11:12:20.742237Z"
    },
    "papermill": {
     "duration": 0.50782,
     "end_time": "2022-11-18T11:12:20.746274",
     "exception": false,
     "start_time": "2022-11-18T11:12:20.238454",
     "status": "completed"
    },
    "tags": []
   },
   "outputs": [],
   "source": [
    "plot_stats(\"annual_inc_cat\", True)"
   ]
  },
  {
   "cell_type": "raw",
   "id": "013eb06a",
   "metadata": {
    "papermill": {
     "duration": 0.098754,
     "end_time": "2022-11-18T11:12:20.950206",
     "exception": false,
     "start_time": "2022-11-18T11:12:20.851452",
     "status": "completed"
    },
    "tags": []
   },
   "source": [
    "We segmented the annual income  into 5 categories.\n",
    "The default risk is slighly lower as the income level goes up. That said the applicant df pool is equally spread out among all categories (lending club customer base)\n",
    "The risk of default threshold between income levels is mildly influential at 7.5% ( 17.5% - 10% at highest income bracket)"
   ]
  },
  {
   "cell_type": "code",
   "execution_count": null,
   "id": "07ea9167",
   "metadata": {
    "execution": {
     "iopub.execute_input": "2022-11-18T11:12:21.151025Z",
     "iopub.status.busy": "2022-11-18T11:12:21.150571Z",
     "iopub.status.idle": "2022-11-18T11:12:21.541235Z",
     "shell.execute_reply": "2022-11-18T11:12:21.540005Z"
    },
    "papermill": {
     "duration": 0.495892,
     "end_time": "2022-11-18T11:12:21.543935",
     "exception": false,
     "start_time": "2022-11-18T11:12:21.048043",
     "status": "completed"
    },
    "tags": []
   },
   "outputs": [],
   "source": [
    "plot_stats(\"emp_length_cat\", True)"
   ]
  },
  {
   "cell_type": "raw",
   "id": "e9b3e208",
   "metadata": {
    "papermill": {
     "duration": 0.099602,
     "end_time": "2022-11-18T11:12:21.742829",
     "exception": false,
     "start_time": "2022-11-18T11:12:21.643227",
     "status": "completed"
    },
    "tags": []
   },
   "source": [
    "We segmented the emp lengtyh  into 5 categories.\n",
    "As noted prior, the employees with higher experience and least experience have highest df applications comprising of 60% of the application pool.\n",
    "The combined default rate for these two categories is 27.5% which isnt proportionate to the pool make up.\n",
    "This means there is similar default rates across all emp lengths though their population share is low. Therefore the emp length may not be a significant parameter to judge default risk\n"
   ]
  },
  {
   "cell_type": "code",
   "execution_count": null,
   "id": "ff402729",
   "metadata": {
    "execution": {
     "iopub.execute_input": "2022-11-18T11:12:21.945515Z",
     "iopub.status.busy": "2022-11-18T11:12:21.944712Z",
     "iopub.status.idle": "2022-11-18T11:12:22.477679Z",
     "shell.execute_reply": "2022-11-18T11:12:22.476273Z"
    },
    "papermill": {
     "duration": 0.636946,
     "end_time": "2022-11-18T11:12:22.480616",
     "exception": false,
     "start_time": "2022-11-18T11:12:21.843670",
     "status": "completed"
    },
    "tags": []
   },
   "outputs": [],
   "source": [
    "plot_stats(\"issuemonth\", True)"
   ]
  },
  {
   "cell_type": "raw",
   "id": "ea56e276",
   "metadata": {
    "papermill": {
     "duration": 0.099655,
     "end_time": "2022-11-18T11:12:22.685128",
     "exception": false,
     "start_time": "2022-11-18T11:12:22.585473",
     "status": "completed"
    },
    "tags": []
   },
   "source": [
    "The charge off percentage variation between months is similar but slightly higher by 2.5% during the holiday months.\n",
    "This means that while there is a marginal default rate increases for loans taken during holiday months , the variable itself may not be a strong predictor of default\n"
   ]
  },
  {
   "cell_type": "code",
   "execution_count": null,
   "id": "6260462f",
   "metadata": {
    "execution": {
     "iopub.execute_input": "2022-11-18T11:12:23.698541Z",
     "iopub.status.busy": "2022-11-18T11:12:23.697819Z",
     "iopub.status.idle": "2022-11-18T11:12:24.296302Z",
     "shell.execute_reply": "2022-11-18T11:12:24.294722Z"
    },
    "papermill": {
     "duration": 0.70429,
     "end_time": "2022-11-18T11:12:24.298725",
     "exception": false,
     "start_time": "2022-11-18T11:12:23.594435",
     "status": "completed"
    },
    "tags": []
   },
   "outputs": [],
   "source": [
    "plot_stats(\"purpose\", True)"
   ]
  },
  {
   "cell_type": "raw",
   "id": "ded224ef",
   "metadata": {
    "papermill": {
     "duration": 0.102379,
     "end_time": "2022-11-18T11:12:24.512970",
     "exception": false,
     "start_time": "2022-11-18T11:12:24.410591",
     "status": "completed"
    },
    "tags": []
   },
   "source": [
    "The top two categories of loans represent 60% of loans. Small business loans also feature in the 6th position with the highest default rate.\n",
    "These could be further analyzed to identify specific patterns in default."
   ]
  },
  {
   "cell_type": "code",
   "execution_count": null,
   "id": "3483c2c3",
   "metadata": {
    "execution": {
     "iopub.execute_input": "2022-11-18T11:12:24.720392Z",
     "iopub.status.busy": "2022-11-18T11:12:24.719643Z",
     "iopub.status.idle": "2022-11-18T11:12:27.333637Z",
     "shell.execute_reply": "2022-11-18T11:12:27.332377Z"
    },
    "papermill": {
     "duration": 2.720701,
     "end_time": "2022-11-18T11:12:27.336236",
     "exception": false,
     "start_time": "2022-11-18T11:12:24.615535",
     "status": "completed"
    },
    "tags": []
   },
   "outputs": [],
   "source": [
    "plot_stats(\"addr_state\", True, False)"
   ]
  },
  {
   "cell_type": "raw",
   "id": "f0e86e9e",
   "metadata": {
    "papermill": {
     "duration": 0.102415,
     "end_time": "2022-11-18T11:12:27.547219",
     "exception": false,
     "start_time": "2022-11-18T11:12:27.444804",
     "status": "completed"
    },
    "tags": []
   },
   "source": [
    "The default rate pattern from a few states is high. Lending club could scrutinize applications from specific state and zip code combinations further.\n",
    "While NE has high default rate. relative to df volume, it isnt significant. Where has the top 5 high volume states\n",
    "could be further analyzed which have an average of 15% default rate (for e.g CA)"
   ]
  },
  {
   "attachments": {},
   "cell_type": "markdown",
   "id": "11dd5e90",
   "metadata": {
    "papermill": {
     "duration": 0.102884,
     "end_time": "2022-11-18T11:12:27.752538",
     "exception": false,
     "start_time": "2022-11-18T11:12:27.649654",
     "status": "completed"
    },
    "tags": []
   },
   "source": [
    "### CONCLUSIONS & RECOMMENDATIONS"
   ]
  },
  {
   "attachments": {},
   "cell_type": "markdown",
   "id": "b5e6020b",
   "metadata": {},
   "source": [
    "CONCLUSIONS\n",
    "\n",
    "MAJOR FACTOR INFLUENCING CHARGE OFFs\n",
    "\n",
    "1. Interest rate\n",
    "2. Loan amount\n",
    "3. Annual income\n",
    "4. Public record of bankruptcies\n",
    "5. Verification status is unverified\n",
    "6. Home ownership status of others, rent and mortgage\n",
    "7. Grade: lower grade tend to have higher default\n",
    "8. Term\n",
    "9. Top 5 states of applicant pool\n",
    "10.Purpose\n",
    "\n",
    "RECOMMENDATIONS FOR LENDING CLUB\n",
    "\n",
    "1. Prioritize high grade loans\n",
    "2. Scrutinize purpose, state and public bankruptcy record \n",
    "3. Cap df amounts beyond >20K where the charge off is higher. Similarly, cap interest rates in the default zone\n",
    "4. Offer reduced repayment terms such as 48 months etc\n",
    "5. Ensure verification is complete for all loans disbursed\n",
    "6. Engage more with employees with experience over 1 year and lesser than 10 to expand the pool by learning about their needs\n",
    "7. Improve df amount to funded_inv ratio by aligining investor needs. We observe not all investors choose to participate and some loans go unbacked\n",
    "8. For seasonal spending, spend additional time reviewing applications that are likely to default based on further analysis\n",
    "9. The subgrading system needs improvement to accurately show risk of default\n"
   ]
  },
  {
   "attachments": {},
   "cell_type": "markdown",
   "id": "36195d0b",
   "metadata": {},
   "source": []
  },
  {
   "attachments": {},
   "cell_type": "markdown",
   "id": "6f8673dc",
   "metadata": {},
   "source": []
  }
 ],
 "metadata": {
  "kernelspec": {
   "display_name": "Python 3",
   "language": "python",
   "name": "python3"
  },
  "language_info": {
   "codemirror_mode": {
    "name": "ipython",
    "version": 3
   },
   "file_extension": ".py",
   "mimetype": "text/x-python",
   "name": "python",
   "nbconvert_exporter": "python",
   "pygments_lexer": "ipython3",
   "version": "3.9.16"
  },
  "papermill": {
   "default_parameters": {},
   "duration": 241.052069,
   "end_time": "2022-11-18T11:12:29.294828",
   "environment_variables": {},
   "exception": null,
   "input_path": "__notebook__.ipynb",
   "output_path": "__notebook__.ipynb",
   "parameters": {},
   "start_time": "2022-11-18T11:08:28.242759",
   "version": "2.3.4"
  }
 },
 "nbformat": 4,
 "nbformat_minor": 5
}
