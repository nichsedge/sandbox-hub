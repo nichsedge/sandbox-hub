{
 "cells": [
  {
   "cell_type": "code",
   "execution_count": null,
   "id": "compressed-death",
   "metadata": {
    "execution": {
     "iopub.execute_input": "2021-05-23T13:53:57.876753Z",
     "iopub.status.busy": "2021-05-23T13:53:57.875788Z",
     "iopub.status.idle": "2021-05-23T13:53:58.690494Z",
     "shell.execute_reply": "2021-05-23T13:53:58.689838Z",
     "shell.execute_reply.started": "2021-05-23T10:04:37.769589Z"
    },
    "papermill": {
     "duration": 0.996724,
     "end_time": "2021-05-23T13:53:58.690629",
     "exception": false,
     "start_time": "2021-05-23T13:53:57.693905",
     "status": "completed"
    },
    "tags": []
   },
   "outputs": [],
   "source": [
    "# import all packages\n",
    "import numpy as np\n",
    "import pandas as pd\n",
    "import matplotlib.pyplot as plt\n",
    "import seaborn as sns\n",
    "import missingno as no\n",
    "import warnings\n",
    "\n",
    "warnings.filterwarnings(\"ignore\")\n",
    "pd.options.display.max_columns = 1000\n",
    "pd.options.display.max_rows = 1000"
   ]
  },
  {
   "cell_type": "code",
   "execution_count": null,
   "id": "naughty-junior",
   "metadata": {
    "execution": {
     "iopub.execute_input": "2021-05-23T13:53:59.079170Z",
     "iopub.status.busy": "2021-05-23T13:53:59.078308Z",
     "iopub.status.idle": "2021-05-23T13:54:00.494045Z",
     "shell.execute_reply": "2021-05-23T13:54:00.494514Z",
     "shell.execute_reply.started": "2021-05-23T10:04:38.672244Z"
    },
    "papermill": {
     "duration": 1.616539,
     "end_time": "2021-05-23T13:54:00.494661",
     "exception": false,
     "start_time": "2021-05-23T13:53:58.878122",
     "status": "completed"
    },
    "tags": []
   },
   "outputs": [],
   "source": [
    "# load in the dataset into a pandas dataframe\n",
    "df = pd.read_csv(\"loan_data_2007_2014.csv\", index_col=0, low_memory=False)\n",
    "df.head()"
   ]
  },
  {
   "cell_type": "code",
   "execution_count": null,
   "id": "honest-victor",
   "metadata": {
    "execution": {
     "iopub.execute_input": "2021-05-23T13:54:00.853377Z",
     "iopub.status.busy": "2021-05-23T13:54:00.852761Z",
     "iopub.status.idle": "2021-05-23T13:54:00.856581Z",
     "shell.execute_reply": "2021-05-23T13:54:00.856087Z",
     "shell.execute_reply.started": "2021-05-23T10:04:40.064965Z"
    },
    "papermill": {
     "duration": 0.185654,
     "end_time": "2021-05-23T13:54:00.856696",
     "exception": false,
     "start_time": "2021-05-23T13:54:00.671042",
     "status": "completed"
    },
    "scrolled": true,
    "tags": []
   },
   "outputs": [],
   "source": [
    "# Shape of the Original dataset\n",
    "print(\"Number of rows   :\", df.shape[0])\n",
    "print(\"Number of columns:\", df.shape[1])"
   ]
  },
  {
   "attachments": {},
   "cell_type": "markdown",
   "id": "dangerous-subject",
   "metadata": {
    "papermill": {
     "duration": 0.181346,
     "end_time": "2021-05-23T13:54:01.215528",
     "exception": false,
     "start_time": "2021-05-23T13:54:01.034182",
     "status": "completed"
    },
    "tags": []
   },
   "source": [
    "# Duplicate entries"
   ]
  },
  {
   "cell_type": "code",
   "execution_count": null,
   "id": "welsh-monkey",
   "metadata": {
    "execution": {
     "iopub.execute_input": "2021-05-23T13:54:01.573874Z",
     "iopub.status.busy": "2021-05-23T13:54:01.573218Z",
     "iopub.status.idle": "2021-05-23T13:54:01.578992Z",
     "shell.execute_reply": "2021-05-23T13:54:01.579803Z",
     "shell.execute_reply.started": "2021-05-23T10:04:40.073717Z"
    },
    "papermill": {
     "duration": 0.191703,
     "end_time": "2021-05-23T13:54:01.580059",
     "exception": false,
     "start_time": "2021-05-23T13:54:01.388356",
     "status": "completed"
    },
    "tags": []
   },
   "outputs": [],
   "source": [
    "if len(df) == len(df.member_id.unique()):\n",
    "    print(\"No duplicate data found\")\n",
    "else:\n",
    "    print(\"Some Duplicates are found\")"
   ]
  },
  {
   "attachments": {},
   "cell_type": "markdown",
   "id": "yellow-charleston",
   "metadata": {
    "papermill": {
     "duration": 0.177727,
     "end_time": "2021-05-23T13:54:01.935086",
     "exception": false,
     "start_time": "2021-05-23T13:54:01.757359",
     "status": "completed"
    },
    "tags": []
   },
   "source": [
    "# Removed all irrelevant columns"
   ]
  },
  {
   "cell_type": "code",
   "execution_count": null,
   "id": "welsh-crisis",
   "metadata": {
    "execution": {
     "iopub.execute_input": "2021-05-23T13:54:02.315608Z",
     "iopub.status.busy": "2021-05-23T13:54:02.314720Z",
     "iopub.status.idle": "2021-05-23T13:54:02.317565Z",
     "shell.execute_reply": "2021-05-23T13:54:02.317008Z",
     "shell.execute_reply.started": "2021-05-23T10:04:40.092488Z"
    },
    "papermill": {
     "duration": 0.202254,
     "end_time": "2021-05-23T13:54:02.317678",
     "exception": false,
     "start_time": "2021-05-23T13:54:02.115424",
     "status": "completed"
    },
    "tags": []
   },
   "outputs": [],
   "source": [
    "# post approval features -delinq_2yrs,revol_bal,out_prncp,total_pymnt,total_rec_prncp,total_rec_int,total_rec_late_fee,\n",
    "# recoveries,collection_recovery_fee,last_pymnt_d ,last_pymnt_amnt,next_pymnt_d ,chargeoff_within_12_mths\n",
    "\n",
    "# Around 13 features are there which are Post approval so these are not useful to predict whether the loan should be given\n",
    "# to particular applicat or not\n",
    "\n",
    "drop_cols = [\n",
    "    \"delinq_2yrs\",\n",
    "    \"revol_bal\",\n",
    "    \"out_prncp\",\n",
    "    \"total_pymnt\",\n",
    "    \"total_rec_prncp\",\n",
    "    \"total_rec_int\",\n",
    "    \"total_rec_late_fee\",\n",
    "    \"recoveries\",\n",
    "    \"collection_recovery_fee\",\n",
    "    \"last_pymnt_d\",\n",
    "    \"last_pymnt_amnt\",\n",
    "    \"next_pymnt_d\",\n",
    "]\n",
    "df.drop(drop_cols, axis=1, inplace=True)\n",
    "# print(\"Features we are left with\",list(df.columns))"
   ]
  },
  {
   "cell_type": "code",
   "execution_count": null,
   "id": "faced-interface",
   "metadata": {
    "execution": {
     "iopub.execute_input": "2021-05-23T13:54:02.704987Z",
     "iopub.status.busy": "2021-05-23T13:54:02.704047Z",
     "iopub.status.idle": "2021-05-23T13:54:02.712950Z",
     "shell.execute_reply": "2021-05-23T13:54:02.713394Z",
     "shell.execute_reply.started": "2021-05-23T10:04:40.123691Z"
    },
    "papermill": {
     "duration": 0.213226,
     "end_time": "2021-05-23T13:54:02.713555",
     "exception": false,
     "start_time": "2021-05-23T13:54:02.500329",
     "status": "completed"
    },
    "tags": []
   },
   "outputs": [],
   "source": [
    "# remove non-required columns\n",
    "# Not required : id,member_id ,emp_title,url,desc,title\n",
    "# zip_code : Complete zip code is not available\n",
    "# out_prncp_inv - not useful as its for investors\n",
    "# total_pymnt_inv - not useful as it is for investors\n",
    "# last_credit_pull_d - irrelevant for approval\n",
    "\n",
    "\n",
    "drop_cols = [\n",
    "    \"id\",\n",
    "    \"member_id\",\n",
    "    \"funded_amnt\",\n",
    "    \"emp_title\",\n",
    "    \"url\",\n",
    "    \"desc\",\n",
    "    \"title\",\n",
    "    \"zip_code\",\n",
    "    \"out_prncp_inv\",\n",
    "    \"total_pymnt_inv\",\n",
    "    \"last_credit_pull_d\",\n",
    "    \"pymnt_plan\",\n",
    "]\n",
    "df.drop(drop_cols, axis=1, inplace=True)\n",
    "# print(\"Features we have in Dataset: \",list(df.columns))"
   ]
  },
  {
   "cell_type": "code",
   "execution_count": null,
   "id": "laden-discrimination",
   "metadata": {
    "execution": {
     "iopub.execute_input": "2021-05-23T13:54:03.114256Z",
     "iopub.status.busy": "2021-05-23T13:54:03.113341Z",
     "iopub.status.idle": "2021-05-23T13:54:03.118185Z",
     "shell.execute_reply": "2021-05-23T13:54:03.117379Z",
     "shell.execute_reply.started": "2021-05-23T10:04:40.147677Z"
    },
    "papermill": {
     "duration": 0.218903,
     "end_time": "2021-05-23T13:54:03.118322",
     "exception": false,
     "start_time": "2021-05-23T13:54:02.899419",
     "status": "completed"
    },
    "tags": []
   },
   "outputs": [],
   "source": [
    "# Shape of dataframe after removing all irrelevant features\n",
    "print(\"Number of rows   :\", df.shape[0])\n",
    "print(\"Number of columns:\", df.shape[1])"
   ]
  },
  {
   "attachments": {},
   "cell_type": "markdown",
   "id": "close-wrapping",
   "metadata": {
    "papermill": {
     "duration": 0.18209,
     "end_time": "2021-05-23T13:54:03.534726",
     "exception": false,
     "start_time": "2021-05-23T13:54:03.352636",
     "status": "completed"
    },
    "tags": []
   },
   "source": [
    "# NULL Values analysis & treatment"
   ]
  },
  {
   "cell_type": "code",
   "execution_count": null,
   "id": "quantitative-tenant",
   "metadata": {
    "execution": {
     "iopub.execute_input": "2021-05-23T13:54:03.933588Z",
     "iopub.status.busy": "2021-05-23T13:54:03.932988Z",
     "iopub.status.idle": "2021-05-23T13:54:04.128092Z",
     "shell.execute_reply": "2021-05-23T13:54:04.127518Z",
     "shell.execute_reply.started": "2021-05-23T10:04:40.155370Z"
    },
    "papermill": {
     "duration": 0.387351,
     "end_time": "2021-05-23T13:54:04.128213",
     "exception": false,
     "start_time": "2021-05-23T13:54:03.740862",
     "status": "completed"
    },
    "tags": []
   },
   "outputs": [],
   "source": [
    "# Missing value analysis\n",
    "null_df = pd.DataFrame()\n",
    "null_df[\"Features\"] = df.isnull().sum().index\n",
    "null_df[\"Null values\"] = df.isnull().sum().values\n",
    "null_df[\"% Null values\"] = (df.isnull().sum().values / df.shape[0]) * 100\n",
    "null_df.sort_values(by=\"% Null values\", ascending=False)"
   ]
  },
  {
   "cell_type": "code",
   "execution_count": null,
   "id": "assisted-spray",
   "metadata": {
    "execution": {
     "iopub.execute_input": "2021-05-23T13:54:05.507031Z",
     "iopub.status.busy": "2021-05-23T13:54:05.506442Z",
     "iopub.status.idle": "2021-05-23T13:54:05.517510Z",
     "shell.execute_reply": "2021-05-23T13:54:05.517935Z",
     "shell.execute_reply.started": "2021-05-23T10:06:15.528487Z"
    },
    "papermill": {
     "duration": 0.196521,
     "end_time": "2021-05-23T13:54:05.518111",
     "exception": false,
     "start_time": "2021-05-23T13:54:05.321590",
     "status": "completed"
    },
    "tags": []
   },
   "outputs": [],
   "source": [
    "# We will drop the columns which are having more than 50% NULL Values\n",
    "null_columns = null_df[null_df[\"% Null values\"] >= 50][\"Features\"]\n",
    "df.drop(columns=null_columns, inplace=True)\n",
    "# df.columns                 ##Columns present in the dataset\n",
    "# np.array(null_columns)     ##Columns that are removed"
   ]
  },
  {
   "cell_type": "code",
   "execution_count": null,
   "id": "contained-internship",
   "metadata": {
    "execution": {
     "iopub.execute_input": "2021-05-23T13:54:05.877135Z",
     "iopub.status.busy": "2021-05-23T13:54:05.876565Z",
     "iopub.status.idle": "2021-05-23T13:54:05.953081Z",
     "shell.execute_reply": "2021-05-23T13:54:05.953568Z",
     "shell.execute_reply.started": "2021-05-23T10:06:17.251174Z"
    },
    "papermill": {
     "duration": 0.25719,
     "end_time": "2021-05-23T13:54:05.953728",
     "exception": false,
     "start_time": "2021-05-23T13:54:05.696538",
     "status": "completed"
    },
    "tags": []
   },
   "outputs": [],
   "source": [
    "# Dropping the rows which are having less tham 5% of null values in that column\n",
    "null_df_5 = null_df[null_df[\"% Null values\"] < 5][\"Features\"]\n",
    "df.dropna(subset=null_df_5, axis=0, inplace=True)"
   ]
  },
  {
   "cell_type": "code",
   "execution_count": null,
   "id": "simplified-handy",
   "metadata": {
    "execution": {
     "iopub.execute_input": "2021-05-23T13:54:06.319347Z",
     "iopub.status.busy": "2021-05-23T13:54:06.318743Z",
     "iopub.status.idle": "2021-05-23T13:54:06.325620Z",
     "shell.execute_reply": "2021-05-23T13:54:06.325180Z",
     "shell.execute_reply.started": "2021-05-23T10:06:18.857619Z"
    },
    "papermill": {
     "duration": 0.190986,
     "end_time": "2021-05-23T13:54:06.325736",
     "exception": false,
     "start_time": "2021-05-23T13:54:06.134750",
     "status": "completed"
    },
    "tags": []
   },
   "outputs": [],
   "source": [
    "# Imputation is done for the columns having more than 5% & less than 50% null values\n",
    "cols_null = np.array(\n",
    "    null_df[(null_df[\"% Null values\"] > 5) & (null_df[\"% Null values\"] < 50)][\n",
    "        \"Features\"\n",
    "    ]\n",
    ")\n",
    "cols_null\n",
    "\n",
    "# No column exists which is having null values between 5 to 50%"
   ]
  },
  {
   "cell_type": "code",
   "execution_count": null,
   "id": "speaking-argentina",
   "metadata": {
    "execution": {
     "iopub.execute_input": "2021-05-23T13:54:06.687128Z",
     "iopub.status.busy": "2021-05-23T13:54:06.686284Z",
     "iopub.status.idle": "2021-05-23T13:54:06.692739Z",
     "shell.execute_reply": "2021-05-23T13:54:06.693158Z",
     "shell.execute_reply.started": "2021-05-23T10:06:20.241492Z"
    },
    "papermill": {
     "duration": 0.188157,
     "end_time": "2021-05-23T13:54:06.693310",
     "exception": false,
     "start_time": "2021-05-23T13:54:06.505153",
     "status": "completed"
    },
    "tags": []
   },
   "outputs": [],
   "source": [
    "# Shape after removing the 100% null valued columns\n",
    "print(\"Number of rows   :\", df.shape[0])\n",
    "print(\"Number of columns:\", df.shape[1])"
   ]
  },
  {
   "attachments": {},
   "cell_type": "markdown",
   "id": "finnish-basement",
   "metadata": {
    "papermill": {
     "duration": 0.180834,
     "end_time": "2021-05-23T13:54:07.051607",
     "exception": false,
     "start_time": "2021-05-23T13:54:06.870773",
     "status": "completed"
    },
    "tags": []
   },
   "source": [
    "# Remove Single value Columns"
   ]
  },
  {
   "cell_type": "code",
   "execution_count": null,
   "id": "pacific-trunk",
   "metadata": {
    "execution": {
     "iopub.execute_input": "2021-05-23T13:54:07.423420Z",
     "iopub.status.busy": "2021-05-23T13:54:07.422799Z",
     "iopub.status.idle": "2021-05-23T13:54:07.644734Z",
     "shell.execute_reply": "2021-05-23T13:54:07.644130Z",
     "shell.execute_reply.started": "2021-05-23T10:06:23.056994Z"
    },
    "papermill": {
     "duration": 0.410088,
     "end_time": "2021-05-23T13:54:07.644883",
     "exception": false,
     "start_time": "2021-05-23T13:54:07.234795",
     "status": "completed"
    },
    "scrolled": true,
    "tags": []
   },
   "outputs": [],
   "source": [
    "# Checking number of unique values in each column. We should remove the columns that has single value.\n",
    "# Those columns will not give us meaningful information\n",
    "unique_val = pd.DataFrame()\n",
    "unique_val[\"Features\"] = df.nunique().index\n",
    "unique_val[\"Unique_Values\"] = df.nunique().values\n",
    "unique_val.sort_values(by=\"Unique_Values\")"
   ]
  },
  {
   "cell_type": "code",
   "execution_count": null,
   "id": "injured-payment",
   "metadata": {
    "execution": {
     "iopub.execute_input": "2021-05-23T13:54:08.024180Z",
     "iopub.status.busy": "2021-05-23T13:54:08.023535Z",
     "iopub.status.idle": "2021-05-23T13:54:08.031245Z",
     "shell.execute_reply": "2021-05-23T13:54:08.030641Z",
     "shell.execute_reply.started": "2021-05-23T10:06:24.051946Z"
    },
    "papermill": {
     "duration": 0.198563,
     "end_time": "2021-05-23T13:54:08.031377",
     "exception": false,
     "start_time": "2021-05-23T13:54:07.832814",
     "status": "completed"
    },
    "tags": []
   },
   "outputs": [],
   "source": [
    "# Columns that has single value are removed\n",
    "df.drop(columns=unique_val[unique_val.Unique_Values == 1][\"Features\"], inplace=True)"
   ]
  },
  {
   "cell_type": "code",
   "execution_count": null,
   "id": "figured-relations",
   "metadata": {
    "execution": {
     "iopub.execute_input": "2021-05-23T13:54:08.404143Z",
     "iopub.status.busy": "2021-05-23T13:54:08.403477Z",
     "iopub.status.idle": "2021-05-23T13:54:08.409368Z",
     "shell.execute_reply": "2021-05-23T13:54:08.409795Z",
     "shell.execute_reply.started": "2021-05-23T10:06:24.571727Z"
    },
    "papermill": {
     "duration": 0.190832,
     "end_time": "2021-05-23T13:54:08.409938",
     "exception": false,
     "start_time": "2021-05-23T13:54:08.219106",
     "status": "completed"
    },
    "tags": []
   },
   "outputs": [],
   "source": [
    "# Shape after removing all the unwanted columns\n",
    "print(\"Number of rows   :\", df.shape[0])\n",
    "print(\"Number of columns:\", df.shape[1])\n",
    "\n",
    "# Columns left in the dataset\n",
    "# df.columns\n",
    "\n",
    "df = df.reset_index(drop=True)  # Index are reset"
   ]
  },
  {
   "cell_type": "code",
   "execution_count": null,
   "id": "trying-secondary",
   "metadata": {
    "execution": {
     "iopub.execute_input": "2021-05-23T13:54:08.790494Z",
     "iopub.status.busy": "2021-05-23T13:54:08.789687Z",
     "iopub.status.idle": "2021-05-23T13:54:08.793698Z",
     "shell.execute_reply": "2021-05-23T13:54:08.793170Z",
     "shell.execute_reply.started": "2021-05-23T10:06:25.217261Z"
    },
    "papermill": {
     "duration": 0.204622,
     "end_time": "2021-05-23T13:54:08.793813",
     "exception": false,
     "start_time": "2021-05-23T13:54:08.589191",
     "status": "completed"
    },
    "scrolled": true,
    "tags": []
   },
   "outputs": [],
   "source": [
    "df.head()"
   ]
  },
  {
   "attachments": {},
   "cell_type": "markdown",
   "id": "planned-terrorism",
   "metadata": {
    "papermill": {
     "duration": 0.182669,
     "end_time": "2021-05-23T13:54:09.157678",
     "exception": false,
     "start_time": "2021-05-23T13:54:08.975009",
     "status": "completed"
    },
    "tags": []
   },
   "source": [
    "**Removing records with loan status as \"Current\", as the loan is currently running and we can't infer any information regarding default from such loans.**"
   ]
  },
  {
   "cell_type": "code",
   "execution_count": null,
   "id": "alpha-match",
   "metadata": {
    "execution": {
     "iopub.execute_input": "2021-05-23T13:54:09.540253Z",
     "iopub.status.busy": "2021-05-23T13:54:09.538671Z",
     "iopub.status.idle": "2021-05-23T13:54:09.543964Z",
     "shell.execute_reply": "2021-05-23T13:54:09.544435Z",
     "shell.execute_reply.started": "2021-05-23T10:06:26.118312Z"
    },
    "papermill": {
     "duration": 0.20569,
     "end_time": "2021-05-23T13:54:09.544595",
     "exception": false,
     "start_time": "2021-05-23T13:54:09.338905",
     "status": "completed"
    },
    "tags": []
   },
   "outputs": [],
   "source": [
    "# Target variable\n",
    "df[\"loan_status\"].value_counts()"
   ]
  },
  {
   "cell_type": "code",
   "execution_count": null,
   "id": "rolled-active",
   "metadata": {
    "execution": {
     "iopub.execute_input": "2021-05-23T13:54:09.934960Z",
     "iopub.status.busy": "2021-05-23T13:54:09.934372Z",
     "iopub.status.idle": "2021-05-23T13:54:09.951815Z",
     "shell.execute_reply": "2021-05-23T13:54:09.952338Z",
     "shell.execute_reply.started": "2021-05-23T10:06:26.609644Z"
    },
    "papermill": {
     "duration": 0.22275,
     "end_time": "2021-05-23T13:54:09.952514",
     "exception": false,
     "start_time": "2021-05-23T13:54:09.729764",
     "status": "completed"
    },
    "tags": []
   },
   "outputs": [],
   "source": [
    "# Removed those records which are having loan_status as 'Current' and it is irrelevant\n",
    "df = df[df[\"loan_status\"] != \"Current\"]\n",
    "\n",
    "# Checked for values count\n",
    "df[\"loan_status\"].value_counts()"
   ]
  },
  {
   "attachments": {},
   "cell_type": "markdown",
   "id": "racial-application",
   "metadata": {
    "papermill": {
     "duration": 0.182308,
     "end_time": "2021-05-23T13:54:10.317623",
     "exception": false,
     "start_time": "2021-05-23T13:54:10.135315",
     "status": "completed"
    },
    "tags": []
   },
   "source": [
    "# Change the Data format of some  columns"
   ]
  },
  {
   "cell_type": "code",
   "execution_count": null,
   "id": "neural-consciousness",
   "metadata": {
    "execution": {
     "iopub.execute_input": "2021-05-23T13:54:10.686379Z",
     "iopub.status.busy": "2021-05-23T13:54:10.685508Z",
     "iopub.status.idle": "2021-05-23T13:54:10.719061Z",
     "shell.execute_reply": "2021-05-23T13:54:10.719494Z",
     "shell.execute_reply.started": "2021-05-23T10:06:27.344854Z"
    },
    "papermill": {
     "duration": 0.218389,
     "end_time": "2021-05-23T13:54:10.719657",
     "exception": false,
     "start_time": "2021-05-23T13:54:10.501268",
     "status": "completed"
    },
    "tags": []
   },
   "outputs": [],
   "source": [
    "# Term is given in '36 months' format, changed it to 36\n",
    "df[\"term_months\"] = df[\"term\"].str.strip(\"months\")\n",
    "df.drop(columns=[\"term\"], inplace=True)"
   ]
  },
  {
   "cell_type": "code",
   "execution_count": null,
   "id": "amino-latest",
   "metadata": {
    "execution": {
     "iopub.execute_input": "2021-05-23T13:54:11.540205Z",
     "iopub.status.busy": "2021-05-23T13:54:11.539353Z",
     "iopub.status.idle": "2021-05-23T13:54:11.590298Z",
     "shell.execute_reply": "2021-05-23T13:54:11.589749Z",
     "shell.execute_reply.started": "2021-05-23T10:06:28.134957Z"
    },
    "papermill": {
     "duration": 0.239336,
     "end_time": "2021-05-23T13:54:11.590423",
     "exception": false,
     "start_time": "2021-05-23T13:54:11.351087",
     "status": "completed"
    },
    "tags": []
   },
   "outputs": [],
   "source": [
    "# Function to bring the data of emp_len in year only instead of 'n years'\n",
    "def func(x):\n",
    "    if \"<\" in x:\n",
    "        return 0\n",
    "    elif \"+\" in x:\n",
    "        year = int(x.split(\"+\")[0])\n",
    "        return year\n",
    "    else:\n",
    "        year = int(x.split(\" \")[0])\n",
    "        return year\n",
    "\n",
    "\n",
    "df[\"emp_length(years)\"] = df[\"emp_length\"].apply(lambda a: func(a))\n",
    "df.drop(columns=[\"emp_length\"], inplace=True)"
   ]
  },
  {
   "cell_type": "code",
   "execution_count": null,
   "id": "liberal-steam",
   "metadata": {
    "execution": {
     "iopub.execute_input": "2021-05-23T13:54:11.984886Z",
     "iopub.status.busy": "2021-05-23T13:54:11.984289Z",
     "iopub.status.idle": "2021-05-23T13:54:11.986922Z",
     "shell.execute_reply": "2021-05-23T13:54:11.987361Z",
     "shell.execute_reply.started": "2021-05-23T10:06:28.439851Z"
    },
    "papermill": {
     "duration": 0.210031,
     "end_time": "2021-05-23T13:54:11.987510",
     "exception": false,
     "start_time": "2021-05-23T13:54:11.777479",
     "status": "completed"
    },
    "tags": []
   },
   "outputs": [],
   "source": [
    "# Dataset after stripping\n",
    "df.head()"
   ]
  },
  {
   "cell_type": "code",
   "execution_count": null,
   "id": "british-chuck",
   "metadata": {
    "execution": {
     "iopub.execute_input": "2021-05-23T13:54:12.760072Z",
     "iopub.status.busy": "2021-05-23T13:54:12.759470Z",
     "iopub.status.idle": "2021-05-23T13:54:13.874975Z",
     "shell.execute_reply": "2021-05-23T13:54:13.874315Z",
     "shell.execute_reply.started": "2021-05-23T10:06:29.191722Z"
    },
    "papermill": {
     "duration": 1.313266,
     "end_time": "2021-05-23T13:54:13.875124",
     "exception": false,
     "start_time": "2021-05-23T13:54:12.561858",
     "status": "completed"
    },
    "tags": []
   },
   "outputs": [],
   "source": [
    "# year , month are saved in different columns\n",
    "df[\"earliest_cr_line_date\"] = pd.to_datetime(df[\"earliest_cr_line\"], format=\"%b-%y\")\n",
    "df[\"earliest_cr_line_month\"] = pd.to_datetime(\n",
    "    df[\"earliest_cr_line_date\"], format=\"%b-%y\"\n",
    ").dt.strftime(\"%m\")\n",
    "df[\"earliest_cr_line_year\"] = pd.to_datetime(\n",
    "    df[\"earliest_cr_line_date\"], format=\"%b-%y\"\n",
    ").dt.strftime(\"%Y\")\n",
    "df[\"issue_date\"] = pd.to_datetime(df[\"issue_d\"], format=\"%b-%y\")\n",
    "df[\"issue_date_month\"] = pd.to_datetime(df[\"issue_date\"], format=\"%b-%y\").dt.strftime(\n",
    "    \"%m\"\n",
    ")\n",
    "df[\"issue_date_year\"] = pd.to_datetime(df[\"issue_date\"], format=\"%b-%y\").dt.strftime(\n",
    "    \"%Y\"\n",
    ")\n",
    "df.drop(columns=[\"issue_d\", \"earliest_cr_line\"], axis=1, inplace=True)"
   ]
  },
  {
   "cell_type": "code",
   "execution_count": null,
   "id": "provincial-characteristic",
   "metadata": {
    "execution": {
     "iopub.execute_input": "2021-05-23T13:54:14.684666Z",
     "iopub.status.busy": "2021-05-23T13:54:14.683990Z",
     "iopub.status.idle": "2021-05-23T13:54:14.734875Z",
     "shell.execute_reply": "2021-05-23T13:54:14.734318Z",
     "shell.execute_reply.started": "2021-05-23T10:06:30.365350Z"
    },
    "papermill": {
     "duration": 0.2427,
     "end_time": "2021-05-23T13:54:14.734995",
     "exception": false,
     "start_time": "2021-05-23T13:54:14.492295",
     "status": "completed"
    },
    "tags": []
   },
   "outputs": [],
   "source": [
    "df.info()"
   ]
  },
  {
   "cell_type": "code",
   "execution_count": null,
   "id": "heard-projection",
   "metadata": {
    "execution": {
     "iopub.execute_input": "2021-05-23T13:54:15.120267Z",
     "iopub.status.busy": "2021-05-23T13:54:15.119325Z",
     "iopub.status.idle": "2021-05-23T13:54:15.122968Z",
     "shell.execute_reply": "2021-05-23T13:54:15.122483Z",
     "shell.execute_reply.started": "2021-05-23T10:06:31.545617Z"
    },
    "papermill": {
     "duration": 0.197709,
     "end_time": "2021-05-23T13:54:15.123124",
     "exception": false,
     "start_time": "2021-05-23T13:54:14.925415",
     "status": "completed"
    },
    "tags": []
   },
   "outputs": [],
   "source": [
    "df.shape"
   ]
  },
  {
   "attachments": {},
   "cell_type": "markdown",
   "id": "visible-check",
   "metadata": {
    "papermill": {
     "duration": 0.188524,
     "end_time": "2021-05-23T13:54:15.498674",
     "exception": false,
     "start_time": "2021-05-23T13:54:15.310150",
     "status": "completed"
    },
    "tags": []
   },
   "source": [
    "# Outlier treatement"
   ]
  },
  {
   "cell_type": "code",
   "execution_count": null,
   "id": "allied-examination",
   "metadata": {
    "execution": {
     "iopub.execute_input": "2021-05-23T13:54:15.882324Z",
     "iopub.status.busy": "2021-05-23T13:54:15.881073Z",
     "iopub.status.idle": "2021-05-23T13:54:17.127268Z",
     "shell.execute_reply": "2021-05-23T13:54:17.127644Z",
     "shell.execute_reply.started": "2021-05-23T10:06:32.713859Z"
    },
    "papermill": {
     "duration": 1.440066,
     "end_time": "2021-05-23T13:54:17.127791",
     "exception": false,
     "start_time": "2021-05-23T13:54:15.687725",
     "status": "completed"
    },
    "scrolled": true,
    "tags": []
   },
   "outputs": [],
   "source": [
    "# Individual Boxplot to check outliers in each feature\n",
    "\n",
    "df_num = df.select_dtypes(include=np.number)\n",
    "\n",
    "for i in range(len(df_num.columns)):\n",
    "    sns.boxplot(df_num.iloc[:, i])\n",
    "    plt.show()"
   ]
  },
  {
   "cell_type": "code",
   "execution_count": null,
   "id": "packed-account",
   "metadata": {
    "execution": {
     "iopub.execute_input": "2021-05-23T13:54:17.517604Z",
     "iopub.status.busy": "2021-05-23T13:54:17.517021Z",
     "iopub.status.idle": "2021-05-23T13:54:17.593423Z",
     "shell.execute_reply": "2021-05-23T13:54:17.592893Z",
     "shell.execute_reply.started": "2021-05-23T10:06:34.108101Z"
    },
    "papermill": {
     "duration": 0.275217,
     "end_time": "2021-05-23T13:54:17.593534",
     "exception": false,
     "start_time": "2021-05-23T13:54:17.318317",
     "status": "completed"
    },
    "tags": []
   },
   "outputs": [],
   "source": [
    "# Skewness is checked for each feature\n",
    "df.skew().sort_values(ascending=False)"
   ]
  },
  {
   "cell_type": "code",
   "execution_count": null,
   "id": "appreciated-mongolia",
   "metadata": {
    "execution": {
     "iopub.execute_input": "2021-05-23T13:54:17.984527Z",
     "iopub.status.busy": "2021-05-23T13:54:17.983864Z",
     "iopub.status.idle": "2021-05-23T13:54:18.233274Z",
     "shell.execute_reply": "2021-05-23T13:54:18.232802Z",
     "shell.execute_reply.started": "2021-05-23T10:06:34.194560Z"
    },
    "papermill": {
     "duration": 0.448838,
     "end_time": "2021-05-23T13:54:18.233397",
     "exception": false,
     "start_time": "2021-05-23T13:54:17.784559",
     "status": "completed"
    },
    "tags": []
   },
   "outputs": [],
   "source": [
    "# From the above boxplot & skewness values,\n",
    "# we should treat outliers in each feature having high skewness individually\n",
    "\n",
    "# Looking upon the quantile values of each features, we will treat outliers for the some features\n",
    "\n",
    "# Outlier treatment for Annual income\n",
    "print(\"Highest value in the annual income:\", df[\"annual_inc\"].max())\n",
    "print(\"75% quantile value in the annual income:\", df[\"annual_inc\"].quantile(0.75))\n",
    "print(\n",
    "    \"50% quantile (Mean) value in the annual income:\", df[\"annual_inc\"].quantile(0.50)\n",
    ")\n",
    "\n",
    "# Before removing outliers\n",
    "print(\"\\nSkewness Before:\", df[\"annual_inc\"].skew())\n",
    "plt.figure(figsize=(10, 4))\n",
    "sns.boxplot(df[\"annual_inc\"])\n",
    "plt.legend(labels=[\"Before removing Outliers\"])\n",
    "plt.show()\n",
    "\n",
    "# We will remove the values which lies between quantile 99% to 100%\n",
    "df = df[df[\"annual_inc\"] < df[\"annual_inc\"].quantile(0.99)]\n",
    "plt.figure(figsize=(10, 4))\n",
    "sns.boxplot(df[\"annual_inc\"])\n",
    "print(\"Skewness After:\", df[\"annual_inc\"].skew())\n",
    "plt.legend(labels=[\"After removing Outliers\"])\n",
    "plt.show()"
   ]
  },
  {
   "cell_type": "code",
   "execution_count": null,
   "id": "molecular-enhancement",
   "metadata": {
    "execution": {
     "iopub.execute_input": "2021-05-23T13:54:18.669301Z",
     "iopub.status.busy": "2021-05-23T13:54:18.668407Z",
     "iopub.status.idle": "2021-05-23T13:54:18.910875Z",
     "shell.execute_reply": "2021-05-23T13:54:18.910388Z",
     "shell.execute_reply.started": "2021-05-23T10:06:34.680221Z"
    },
    "papermill": {
     "duration": 0.482977,
     "end_time": "2021-05-23T13:54:18.910995",
     "exception": false,
     "start_time": "2021-05-23T13:54:18.428018",
     "status": "completed"
    },
    "tags": []
   },
   "outputs": [],
   "source": [
    "# total_acc:The total number of credit lines currently in the borrower's credit file\n",
    "print(\"Highest value in the total_acc:\", df[\"total_acc\"].max())\n",
    "print(\"75% quantile value in the total_acc:\", df[\"total_acc\"].quantile(0.75))\n",
    "print(\"50% quantile (Mean) value in the total_acc:\", df[\"total_acc\"].quantile(0.50))\n",
    "\n",
    "# Before removing outliers\n",
    "print(\"\\nSkewness Before:\", df[\"total_acc\"].skew())\n",
    "plt.figure(figsize=(10, 4))\n",
    "sns.boxplot(df[\"total_acc\"])\n",
    "plt.legend(labels=[\"Before removing Outliers\"])\n",
    "plt.show()\n",
    "\n",
    "# We will remove the values which lies between quantile 98% to 100%\n",
    "df = df[df[\"total_acc\"] < df[\"total_acc\"].quantile(0.98)]\n",
    "plt.figure(figsize=(10, 4))\n",
    "sns.boxplot(df[\"total_acc\"])\n",
    "plt.legend(labels=[\"After removing Outliers\"])\n",
    "print(\"Skewness After:\", df[\"total_acc\"].skew())\n",
    "plt.show()"
   ]
  },
  {
   "cell_type": "code",
   "execution_count": null,
   "id": "viral-bunny",
   "metadata": {
    "execution": {
     "iopub.execute_input": "2021-05-23T13:54:19.315344Z",
     "iopub.status.busy": "2021-05-23T13:54:19.314445Z",
     "iopub.status.idle": "2021-05-23T13:54:19.318309Z",
     "shell.execute_reply": "2021-05-23T13:54:19.317803Z",
     "shell.execute_reply.started": "2021-05-23T10:06:35.378823Z"
    },
    "papermill": {
     "duration": 0.206875,
     "end_time": "2021-05-23T13:54:19.318417",
     "exception": false,
     "start_time": "2021-05-23T13:54:19.111542",
     "status": "completed"
    },
    "tags": []
   },
   "outputs": [],
   "source": [
    "df.shape"
   ]
  },
  {
   "cell_type": "code",
   "execution_count": null,
   "id": "dramatic-librarian",
   "metadata": {
    "execution": {
     "iopub.execute_input": "2021-05-23T13:54:19.721650Z",
     "iopub.status.busy": "2021-05-23T13:54:19.721005Z",
     "iopub.status.idle": "2021-05-23T13:54:19.977672Z",
     "shell.execute_reply": "2021-05-23T13:54:19.977236Z",
     "shell.execute_reply.started": "2021-05-23T10:06:36.120029Z"
    },
    "papermill": {
     "duration": 0.46187,
     "end_time": "2021-05-23T13:54:19.977806",
     "exception": false,
     "start_time": "2021-05-23T13:54:19.515936",
     "status": "completed"
    },
    "tags": []
   },
   "outputs": [],
   "source": [
    "# open_acc : The number of open credit lines in the borrower's credit file.\n",
    "print(\"Highest value in the open_acc:\", df[\"open_acc\"].max())\n",
    "print(\"75% quantile value in the open_acc:\", df[\"open_acc\"].quantile(0.75))\n",
    "print(\"50% quantile (Mean) value in the open_acc:\", df[\"open_acc\"].quantile(0.50))\n",
    "\n",
    "# Before removing outliers\n",
    "print(\"\\nSkewness Before:\", df[\"open_acc\"].skew())\n",
    "plt.figure(figsize=(10, 4))\n",
    "sns.boxplot(df[\"open_acc\"])\n",
    "plt.legend(labels=[\"Before removing Outliers\"])\n",
    "plt.show()\n",
    "\n",
    "\n",
    "# We will remove the values which lies between quantile 99.9% to 100%\n",
    "df = df[df[\"open_acc\"] < df[\"open_acc\"].quantile(0.999)]\n",
    "plt.figure(figsize=(10, 4))\n",
    "sns.boxplot(df[\"open_acc\"])\n",
    "plt.legend(labels=[\"After removing Outliers\"])\n",
    "print(\"Skewness After:\", df[\"open_acc\"].skew())\n",
    "plt.show()"
   ]
  },
  {
   "cell_type": "code",
   "execution_count": null,
   "id": "acute-wound",
   "metadata": {
    "execution": {
     "iopub.execute_input": "2021-05-23T13:54:20.784059Z",
     "iopub.status.busy": "2021-05-23T13:54:20.783551Z",
     "iopub.status.idle": "2021-05-23T13:54:20.857233Z",
     "shell.execute_reply": "2021-05-23T13:54:20.857677Z",
     "shell.execute_reply.started": "2021-05-23T10:06:37.436265Z"
    },
    "papermill": {
     "duration": 0.275053,
     "end_time": "2021-05-23T13:54:20.857840",
     "exception": false,
     "start_time": "2021-05-23T13:54:20.582787",
     "status": "completed"
    },
    "scrolled": true,
    "tags": []
   },
   "outputs": [],
   "source": [
    "df.skew()"
   ]
  },
  {
   "cell_type": "code",
   "execution_count": null,
   "id": "grave-customer",
   "metadata": {
    "execution": {
     "iopub.execute_input": "2021-05-23T13:54:21.702614Z",
     "iopub.status.busy": "2021-05-23T13:54:21.701935Z",
     "iopub.status.idle": "2021-05-23T13:54:21.704906Z",
     "shell.execute_reply": "2021-05-23T13:54:21.705416Z",
     "shell.execute_reply.started": "2021-05-23T10:06:38.776547Z"
    },
    "papermill": {
     "duration": 0.231341,
     "end_time": "2021-05-23T13:54:21.705558",
     "exception": false,
     "start_time": "2021-05-23T13:54:21.474217",
     "status": "completed"
    },
    "tags": []
   },
   "outputs": [],
   "source": [
    "# Reset Index\n",
    "df.reset_index(drop=True, inplace=True)\n",
    "df.head()"
   ]
  },
  {
   "cell_type": "code",
   "execution_count": null,
   "id": "vocational-leone",
   "metadata": {
    "execution": {
     "iopub.execute_input": "2021-05-23T13:54:22.114724Z",
     "iopub.status.busy": "2021-05-23T13:54:22.114153Z",
     "iopub.status.idle": "2021-05-23T13:54:22.132992Z",
     "shell.execute_reply": "2021-05-23T13:54:22.133486Z",
     "shell.execute_reply.started": "2021-05-23T10:06:39.459122Z"
    },
    "papermill": {
     "duration": 0.224678,
     "end_time": "2021-05-23T13:54:22.133660",
     "exception": false,
     "start_time": "2021-05-23T13:54:21.908982",
     "status": "completed"
    },
    "tags": []
   },
   "outputs": [],
   "source": [
    "df[\"earliest_cr_line_month\"] = df[\"earliest_cr_line_month\"].astype(\"int64\")\n",
    "df[\"earliest_cr_line_year\"] = df[\"earliest_cr_line_year\"].astype(\"int64\")"
   ]
  },
  {
   "cell_type": "code",
   "execution_count": null,
   "id": "atlantic-communist",
   "metadata": {
    "execution": {
     "iopub.execute_input": "2021-05-23T13:54:22.546403Z",
     "iopub.status.busy": "2021-05-23T13:54:22.545843Z",
     "iopub.status.idle": "2021-05-23T13:54:22.563977Z",
     "shell.execute_reply": "2021-05-23T13:54:22.564508Z",
     "shell.execute_reply.started": "2021-05-23T10:06:40.124746Z"
    },
    "papermill": {
     "duration": 0.225575,
     "end_time": "2021-05-23T13:54:22.564669",
     "exception": false,
     "start_time": "2021-05-23T13:54:22.339094",
     "status": "completed"
    },
    "tags": []
   },
   "outputs": [],
   "source": [
    "df[\"issue_date_month\"] = df[\"issue_date_month\"].astype(\"int64\")\n",
    "df[\"issue_date_year\"] = df[\"issue_date_year\"].astype(\"int64\")"
   ]
  },
  {
   "cell_type": "code",
   "execution_count": null,
   "id": "rocky-somewhere",
   "metadata": {
    "execution": {
     "iopub.execute_input": "2021-05-23T13:54:22.973723Z",
     "iopub.status.busy": "2021-05-23T13:54:22.973119Z",
     "iopub.status.idle": "2021-05-23T13:54:23.013655Z",
     "shell.execute_reply": "2021-05-23T13:54:23.013206Z",
     "shell.execute_reply.started": "2021-05-23T10:06:40.743712Z"
    },
    "papermill": {
     "duration": 0.246521,
     "end_time": "2021-05-23T13:54:23.013777",
     "exception": false,
     "start_time": "2021-05-23T13:54:22.767256",
     "status": "completed"
    },
    "tags": []
   },
   "outputs": [],
   "source": [
    "df[\"pub_rec\"] = df[\"pub_rec\"].astype(\"int64\")\n",
    "df.info()"
   ]
  },
  {
   "attachments": {},
   "cell_type": "markdown",
   "id": "6be25981",
   "metadata": {},
   "source": [
    "Replace"
   ]
  },
  {
   "cell_type": "code",
   "execution_count": null,
   "id": "be5a7dc9",
   "metadata": {},
   "outputs": [],
   "source": [
    "df[\"loan_status\"] = df[\"loan_status\"].replace(\n",
    "    {\n",
    "        \"Does not meet the credit policy. Status:Fully Paid\": \"Fully Paid\",\n",
    "        \"Does not meet the credit policy. Status:Charged Off\": \"Charged Off\",\n",
    "        \"Late (31-120 days)\": \"Late\",\n",
    "        \"Late (16-30 days)\": \"Late\",\n",
    "    }\n",
    ")"
   ]
  },
  {
   "attachments": {},
   "cell_type": "markdown",
   "id": "unique-footwear",
   "metadata": {
    "papermill": {
     "duration": 0.202882,
     "end_time": "2021-05-23T13:54:23.420277",
     "exception": false,
     "start_time": "2021-05-23T13:54:23.217395",
     "status": "completed"
    },
    "tags": []
   },
   "source": [
    "## Copy of dataset till data cleaning"
   ]
  },
  {
   "cell_type": "code",
   "execution_count": null,
   "id": "detected-backup",
   "metadata": {
    "execution": {
     "iopub.execute_input": "2021-05-23T13:54:23.827935Z",
     "iopub.status.busy": "2021-05-23T13:54:23.827364Z",
     "iopub.status.idle": "2021-05-23T13:54:23.834482Z",
     "shell.execute_reply": "2021-05-23T13:54:23.834915Z",
     "shell.execute_reply.started": "2021-05-23T10:06:41.777388Z"
    },
    "papermill": {
     "duration": 0.214442,
     "end_time": "2021-05-23T13:54:23.835107",
     "exception": false,
     "start_time": "2021-05-23T13:54:23.620665",
     "status": "completed"
    },
    "tags": []
   },
   "outputs": [],
   "source": [
    "# We will use this df_after_data_cleaning dataset after EDA part again\n",
    "df_after_data_cleaning = df.copy()"
   ]
  },
  {
   "attachments": {},
   "cell_type": "markdown",
   "id": "wound-brisbane",
   "metadata": {
    "papermill": {
     "duration": 0.204151,
     "end_time": "2021-05-23T13:54:24.240864",
     "exception": false,
     "start_time": "2021-05-23T13:54:24.036713",
     "status": "completed"
    },
    "tags": []
   },
   "source": [
    "# UNIVARIATE & BIVARIATE ANALYSIS"
   ]
  },
  {
   "attachments": {},
   "cell_type": "markdown",
   "id": "random-phase",
   "metadata": {
    "papermill": {
     "duration": 0.200662,
     "end_time": "2021-05-23T13:54:24.643088",
     "exception": false,
     "start_time": "2021-05-23T13:54:24.442426",
     "status": "completed"
    },
    "tags": []
   },
   "source": [
    "### Categorical variables present after data cleaning"
   ]
  },
  {
   "cell_type": "code",
   "execution_count": null,
   "id": "regular-stake",
   "metadata": {
    "execution": {
     "iopub.execute_input": "2021-05-23T13:54:25.052889Z",
     "iopub.status.busy": "2021-05-23T13:54:25.051711Z",
     "iopub.status.idle": "2021-05-23T13:54:25.064470Z",
     "shell.execute_reply": "2021-05-23T13:54:25.064944Z",
     "shell.execute_reply.started": "2021-05-23T10:06:42.817923Z"
    },
    "papermill": {
     "duration": 0.221764,
     "end_time": "2021-05-23T13:54:25.065139",
     "exception": false,
     "start_time": "2021-05-23T13:54:24.843375",
     "status": "completed"
    },
    "tags": []
   },
   "outputs": [],
   "source": [
    "df.select_dtypes(\"object\").columns"
   ]
  },
  {
   "attachments": {},
   "cell_type": "markdown",
   "id": "greek-bahamas",
   "metadata": {
    "papermill": {
     "duration": 0.200619,
     "end_time": "2021-05-23T13:54:25.489608",
     "exception": false,
     "start_time": "2021-05-23T13:54:25.288989",
     "status": "completed"
    },
    "tags": []
   },
   "source": [
    "### Numerical variables present after data cleaning"
   ]
  },
  {
   "cell_type": "code",
   "execution_count": null,
   "id": "devoted-questionnaire",
   "metadata": {
    "execution": {
     "iopub.execute_input": "2021-05-23T13:54:25.896529Z",
     "iopub.status.busy": "2021-05-23T13:54:25.895938Z",
     "iopub.status.idle": "2021-05-23T13:54:25.904218Z",
     "shell.execute_reply": "2021-05-23T13:54:25.904744Z",
     "shell.execute_reply.started": "2021-05-23T10:06:43.655982Z"
    },
    "papermill": {
     "duration": 0.216222,
     "end_time": "2021-05-23T13:54:25.904902",
     "exception": false,
     "start_time": "2021-05-23T13:54:25.688680",
     "status": "completed"
    },
    "tags": []
   },
   "outputs": [],
   "source": [
    "df.select_dtypes(include=np.number).columns"
   ]
  },
  {
   "attachments": {},
   "cell_type": "markdown",
   "id": "changing-demand",
   "metadata": {
    "papermill": {
     "duration": 0.206472,
     "end_time": "2021-05-23T13:54:26.316744",
     "exception": false,
     "start_time": "2021-05-23T13:54:26.110272",
     "status": "completed"
    },
    "tags": []
   },
   "source": [
    "## Distribution of Target variable"
   ]
  },
  {
   "attachments": {},
   "cell_type": "markdown",
   "id": "given-netherlands",
   "metadata": {
    "papermill": {
     "duration": 0.204587,
     "end_time": "2021-05-23T13:54:27.366393",
     "exception": false,
     "start_time": "2021-05-23T13:54:27.161806",
     "status": "completed"
    },
    "tags": []
   },
   "source": [
    "1. From the above plot , we ca say that 14.46 % people are the loan defaulters.\n",
    "2. There are around 5232 people of total 36194 people who are loan defaulters."
   ]
  },
  {
   "cell_type": "code",
   "execution_count": null,
   "id": "89fb0158",
   "metadata": {},
   "outputs": [],
   "source": [
    "# Visualize payment status (next_pymnt_d)\n",
    "payment_status = df[\"loan_status\"].value_counts()\n",
    "\n",
    "plt.figure(figsize=(8, 6))\n",
    "payment_status.plot(kind=\"bar\")\n",
    "plt.title(\"Payment Status\")\n",
    "plt.xlabel(\"Payment Status\")\n",
    "plt.ylabel(\"Loan Count\")\n",
    "plt.show()"
   ]
  },
  {
   "cell_type": "code",
   "execution_count": null,
   "id": "32898621",
   "metadata": {},
   "outputs": [],
   "source": [
    "loan_status_counts = df[\"loan_status\"].value_counts()\n",
    "\n",
    "# Set up the figure and axis\n",
    "fig, ax = plt.subplots()\n",
    "\n",
    "# Plot the pie chart\n",
    "ax.pie(loan_status_counts, labels=loan_status_counts.index, autopct=\"%1.1f%%\")\n",
    "\n",
    "# Set the title\n",
    "ax.set_title(\"Loan Status Distribution\")\n",
    "\n",
    "# Display the chart\n",
    "plt.show()"
   ]
  },
  {
   "attachments": {},
   "cell_type": "markdown",
   "id": "racial-company",
   "metadata": {
    "papermill": {
     "duration": 0.207224,
     "end_time": "2021-05-23T13:54:27.780266",
     "exception": false,
     "start_time": "2021-05-23T13:54:27.573042",
     "status": "completed"
    },
    "tags": []
   },
   "source": [
    "## Convert target variable into numerical variable"
   ]
  },
  {
   "cell_type": "code",
   "execution_count": null,
   "id": "9cf70cc2",
   "metadata": {},
   "outputs": [],
   "source": [
    "df = df[df[\"loan_status\"].isin([\"Fully Paid\", \"Charged Off\"])]"
   ]
  },
  {
   "cell_type": "code",
   "execution_count": null,
   "id": "widespread-spectrum",
   "metadata": {
    "execution": {
     "iopub.execute_input": "2021-05-23T13:54:28.203143Z",
     "iopub.status.busy": "2021-05-23T13:54:28.201490Z",
     "iopub.status.idle": "2021-05-23T13:54:28.223206Z",
     "shell.execute_reply": "2021-05-23T13:54:28.222701Z",
     "shell.execute_reply.started": "2021-05-23T10:06:46.066174Z"
    },
    "papermill": {
     "duration": 0.232188,
     "end_time": "2021-05-23T13:54:28.223335",
     "exception": false,
     "start_time": "2021-05-23T13:54:27.991147",
     "status": "completed"
    },
    "tags": []
   },
   "outputs": [],
   "source": [
    "# target variable converted into 1's & 0''s\n",
    "# loan defaulters are charged off people therefore charged off=1\n",
    "# 0 : Fully paid\n",
    "# 1 : Charged off\n",
    "\n",
    "df[\"loan_status\"] = df[\"loan_status\"].replace({\"Fully Paid\": 0, \"Charged Off\": 1})"
   ]
  },
  {
   "attachments": {},
   "cell_type": "markdown",
   "id": "friendly-findings",
   "metadata": {
    "papermill": {
     "duration": 0.204438,
     "end_time": "2021-05-23T13:54:28.629539",
     "exception": false,
     "start_time": "2021-05-23T13:54:28.425101",
     "status": "completed"
    },
    "tags": []
   },
   "source": [
    "## Loan Purpose"
   ]
  },
  {
   "cell_type": "code",
   "execution_count": null,
   "id": "primary-correction",
   "metadata": {
    "execution": {
     "iopub.execute_input": "2021-05-23T13:54:29.041952Z",
     "iopub.status.busy": "2021-05-23T13:54:29.041094Z",
     "iopub.status.idle": "2021-05-23T13:54:30.389663Z",
     "shell.execute_reply": "2021-05-23T13:54:30.389180Z",
     "shell.execute_reply.started": "2021-05-23T10:06:47.045478Z"
    },
    "papermill": {
     "duration": 1.557568,
     "end_time": "2021-05-23T13:54:30.389776",
     "exception": false,
     "start_time": "2021-05-23T13:54:28.832208",
     "status": "completed"
    },
    "tags": []
   },
   "outputs": [],
   "source": [
    "# Loan purpose Vs Loan defaulters\n",
    "\n",
    "count = df[\"purpose\"].value_counts()\n",
    "labels = count.index\n",
    "values = count.values\n",
    "\n",
    "# Percentage of loan purpose\n",
    "plt.figure(figsize=(12, 10))\n",
    "plt.pie(x=values, labels=labels, autopct=\"%0.2f%%\")\n",
    "plt.title(\"\\nLoan Purpose Information\", fontsize=20)\n",
    "plt.legend(labels=labels, loc=(1.2, 0.7))\n",
    "plt.show()\n",
    "\n",
    "# Loan defaults w.r.t Purpose of loan\n",
    "plt.figure(figsize=(15, 6))\n",
    "sns.barplot(x=df[\"purpose\"], y=df[\"loan_status\"])\n",
    "plt.title(\"\\nLoan defaulters w.r.t Purpose\\n\", fontsize=15)\n",
    "plt.xticks(rotation=60)\n",
    "\n",
    "plt.show()"
   ]
  },
  {
   "attachments": {},
   "cell_type": "markdown",
   "id": "oriented-cannon",
   "metadata": {
    "papermill": {
     "duration": 0.223862,
     "end_time": "2021-05-23T13:54:30.845187",
     "exception": false,
     "start_time": "2021-05-23T13:54:30.621325",
     "status": "completed"
    },
    "tags": []
   },
   "source": [
    "1. Loans are taken for majority for debt consolidation, Other,Home improvement , major purchase & small buisiness purpose.\n",
    "2. From the bar plot, we can observe that the probability of persong being loan defaulter is more in small buisiness,\n",
    "Defaulter rate is more when person take loan for small business purpose.\n",
    "3. Defaulter Rate will depend on the Purpose of the loan"
   ]
  },
  {
   "attachments": {},
   "cell_type": "markdown",
   "id": "encouraging-craft",
   "metadata": {
    "papermill": {
     "duration": 0.209854,
     "end_time": "2021-05-23T13:54:31.266634",
     "exception": false,
     "start_time": "2021-05-23T13:54:31.056780",
     "status": "completed"
    },
    "tags": []
   },
   "source": [
    "## Term"
   ]
  },
  {
   "cell_type": "code",
   "execution_count": null,
   "id": "outside-lending",
   "metadata": {
    "execution": {
     "iopub.execute_input": "2021-05-23T13:54:31.711780Z",
     "iopub.status.busy": "2021-05-23T13:54:31.693179Z",
     "iopub.status.idle": "2021-05-23T13:54:32.320187Z",
     "shell.execute_reply": "2021-05-23T13:54:32.320631Z",
     "shell.execute_reply.started": "2021-05-23T10:06:48.374448Z"
    },
    "papermill": {
     "duration": 0.841356,
     "end_time": "2021-05-23T13:54:32.320776",
     "exception": false,
     "start_time": "2021-05-23T13:54:31.479420",
     "status": "completed"
    },
    "tags": []
   },
   "outputs": [],
   "source": [
    "# Term vs loan defaulters\n",
    "fig, ax = plt.subplots(1, 2, figsize=(10, 6))\n",
    "\n",
    "# Countplot for Term\n",
    "sns.countplot(df[\"term_months\"], ax=ax[0])\n",
    "# Loan defaults vs term\n",
    "sns.barplot(x=df[\"term_months\"], y=df[\"loan_status\"], ax=ax[1])\n",
    "ax[0].set_title(\"\\nTERM (in Months)\\n\", fontsize=15)\n",
    "ax[1].set_title(\"\\nLoan defaults % w.r.t TERM (in Months)\\n\", fontsize=15)\n",
    "fig.tight_layout()"
   ]
  },
  {
   "attachments": {},
   "cell_type": "markdown",
   "id": "hundred-valley",
   "metadata": {
    "papermill": {
     "duration": 0.204267,
     "end_time": "2021-05-23T13:54:32.729585",
     "exception": false,
     "start_time": "2021-05-23T13:54:32.525318",
     "status": "completed"
    },
    "tags": []
   },
   "source": [
    "1. In the givan dataset, we are having more number of people with term 36 months than 60 months.\n",
    "2. But The probability of loan getting defaulted is more for 60 months than 30 months."
   ]
  },
  {
   "attachments": {},
   "cell_type": "markdown",
   "id": "dated-underground",
   "metadata": {
    "papermill": {
     "duration": 0.208937,
     "end_time": "2021-05-23T13:54:33.145557",
     "exception": false,
     "start_time": "2021-05-23T13:54:32.936620",
     "status": "completed"
    },
    "tags": []
   },
   "source": [
    "## Grade"
   ]
  },
  {
   "cell_type": "code",
   "execution_count": null,
   "id": "9f066950",
   "metadata": {},
   "outputs": [],
   "source": [
    "sns.countplot(data=df, x=\"grade\", hue=\"loan_status\")"
   ]
  },
  {
   "attachments": {},
   "cell_type": "markdown",
   "id": "trying-nickel",
   "metadata": {
    "papermill": {
     "duration": 0.211346,
     "end_time": "2021-05-23T13:54:34.816476",
     "exception": false,
     "start_time": "2021-05-23T13:54:34.605130",
     "status": "completed"
    },
    "tags": []
   },
   "source": [
    "1. There are more number of people with grade B.\n",
    "2. Defaulter rate is high with the grade G and less for grade A."
   ]
  },
  {
   "attachments": {},
   "cell_type": "markdown",
   "id": "foreign-gather",
   "metadata": {
    "papermill": {
     "duration": 0.242471,
     "end_time": "2021-05-23T13:54:35.264866",
     "exception": false,
     "start_time": "2021-05-23T13:54:35.022395",
     "status": "completed"
    },
    "tags": []
   },
   "source": [
    "## Sub-Grade"
   ]
  },
  {
   "cell_type": "code",
   "execution_count": null,
   "id": "ongoing-causing",
   "metadata": {
    "execution": {
     "iopub.execute_input": "2021-05-23T13:54:35.679756Z",
     "iopub.status.busy": "2021-05-23T13:54:35.678870Z",
     "iopub.status.idle": "2021-05-23T13:54:37.793353Z",
     "shell.execute_reply": "2021-05-23T13:54:37.792908Z",
     "shell.execute_reply.started": "2021-05-23T10:06:50.042363Z"
    },
    "papermill": {
     "duration": 2.323691,
     "end_time": "2021-05-23T13:54:37.793471",
     "exception": false,
     "start_time": "2021-05-23T13:54:35.469780",
     "status": "completed"
    },
    "tags": []
   },
   "outputs": [],
   "source": [
    "# check for defaulters wrt subgrade in the data using countplot\n",
    "\n",
    "# Countplot for sub grade\n",
    "fig, ax = plt.subplots(2, 1, figsize=(15, 12))\n",
    "sns.countplot(x=df[\"sub_grade\"], ax=ax[0], order=df[\"sub_grade\"].value_counts().index)\n",
    "# Loan defaulter vs sub grade\n",
    "sns.barplot(\n",
    "    x=df[\"sub_grade\"],\n",
    "    y=df[\"loan_status\"],\n",
    "    ax=ax[1],\n",
    "    order=df[\"sub_grade\"].value_counts().index,\n",
    ")\n",
    "ax[0].set_title(\"\\n SUB GRADE\\n\", fontsize=20)\n",
    "ax[1].set_title(\"\\nLoan defaults % w.r.t SUB GRADE\\n\", fontsize=20)\n",
    "plt.tight_layout()\n",
    "plt.show()"
   ]
  },
  {
   "attachments": {},
   "cell_type": "markdown",
   "id": "daily-double",
   "metadata": {
    "papermill": {
     "duration": 0.205398,
     "end_time": "2021-05-23T13:54:38.204620",
     "exception": false,
     "start_time": "2021-05-23T13:54:37.999222",
     "status": "completed"
    },
    "tags": []
   },
   "source": [
    "1. There are more number of people with sub grade A4.\n",
    "2. Defaulter rate is increasing with the sub grade , loan defaulter rate is more for F5 grade  and less for grade A1.\n",
    "3. Sub Grade is useful for further analysis."
   ]
  },
  {
   "attachments": {},
   "cell_type": "markdown",
   "id": "copyrighted-incident",
   "metadata": {
    "papermill": {
     "duration": 0.203037,
     "end_time": "2021-05-23T13:54:38.613844",
     "exception": false,
     "start_time": "2021-05-23T13:54:38.410807",
     "status": "completed"
    },
    "tags": []
   },
   "source": [
    "## Home ownership"
   ]
  },
  {
   "cell_type": "code",
   "execution_count": null,
   "id": "encouraging-summer",
   "metadata": {
    "execution": {
     "iopub.execute_input": "2021-05-23T13:54:39.086819Z",
     "iopub.status.busy": "2021-05-23T13:54:39.069848Z",
     "iopub.status.idle": "2021-05-23T13:54:39.735930Z",
     "shell.execute_reply": "2021-05-23T13:54:39.736431Z",
     "shell.execute_reply.started": "2021-05-23T10:06:53.908557Z"
    },
    "papermill": {
     "duration": 0.92066,
     "end_time": "2021-05-23T13:54:39.736590",
     "exception": false,
     "start_time": "2021-05-23T13:54:38.815930",
     "status": "completed"
    },
    "tags": []
   },
   "outputs": [],
   "source": [
    "sns.countplot(data=df, x=\"home_ownership\", hue=\"loan_status\")"
   ]
  },
  {
   "attachments": {},
   "cell_type": "markdown",
   "id": "liable-associate",
   "metadata": {
    "papermill": {
     "duration": 0.207417,
     "end_time": "2021-05-23T13:54:40.152448",
     "exception": false,
     "start_time": "2021-05-23T13:54:39.945031",
     "status": "completed"
    },
    "tags": []
   },
   "source": [
    "1. Loan defaulter rate is almost constant for all the home ownerships, slightly more for OTHER home ownership.\n",
    "2. We can say that loan defaulters does not depends on home ownership.\n",
    "3. Home ownership is not useful for further analysis."
   ]
  },
  {
   "cell_type": "code",
   "execution_count": null,
   "id": "injured-clearance",
   "metadata": {
    "execution": {
     "iopub.execute_input": "2021-05-23T13:54:41.000952Z",
     "iopub.status.busy": "2021-05-23T13:54:41.000167Z",
     "iopub.status.idle": "2021-05-23T13:54:41.015288Z",
     "shell.execute_reply": "2021-05-23T13:54:41.015697Z",
     "shell.execute_reply.started": "2021-05-23T10:06:54.898730Z"
    },
    "papermill": {
     "duration": 0.228214,
     "end_time": "2021-05-23T13:54:41.015872",
     "exception": false,
     "start_time": "2021-05-23T13:54:40.787658",
     "status": "completed"
    },
    "tags": []
   },
   "outputs": [],
   "source": [
    "# we will remove home ownership NONE\n",
    "# Since Only one record is present for None category\n",
    "df = df[df[\"home_ownership\"] != \"NONE\"]\n",
    "\n",
    "# Again check for value counts\n",
    "# df['home_ownership'].value_counts()"
   ]
  },
  {
   "attachments": {},
   "cell_type": "markdown",
   "id": "boring-pierce",
   "metadata": {
    "papermill": {
     "duration": 0.20836,
     "end_time": "2021-05-23T13:54:41.440441",
     "exception": false,
     "start_time": "2021-05-23T13:54:41.232081",
     "status": "completed"
    },
    "tags": []
   },
   "source": [
    "## Verification Status"
   ]
  },
  {
   "cell_type": "code",
   "execution_count": null,
   "id": "forward-occupation",
   "metadata": {
    "execution": {
     "iopub.execute_input": "2021-05-23T13:54:41.855622Z",
     "iopub.status.busy": "2021-05-23T13:54:41.854835Z",
     "iopub.status.idle": "2021-05-23T13:54:42.529895Z",
     "shell.execute_reply": "2021-05-23T13:54:42.529312Z",
     "shell.execute_reply.started": "2021-05-23T10:06:55.596411Z"
    },
    "papermill": {
     "duration": 0.88461,
     "end_time": "2021-05-23T13:54:42.530039",
     "exception": false,
     "start_time": "2021-05-23T13:54:41.645429",
     "status": "completed"
    },
    "tags": []
   },
   "outputs": [],
   "source": [
    "sns.countplot(data=df, x=\"verification_status\", hue=\"loan_status\")"
   ]
  },
  {
   "attachments": {},
   "cell_type": "markdown",
   "id": "twenty-museum",
   "metadata": {
    "papermill": {
     "duration": 0.2127,
     "end_time": "2021-05-23T13:54:42.957289",
     "exception": false,
     "start_time": "2021-05-23T13:54:42.744589",
     "status": "completed"
    },
    "tags": []
   },
   "source": [
    "1. In the given data ,There are more records for which the ststus is non verified.\n",
    "2. but the defaulter rate is more for verified status."
   ]
  },
  {
   "attachments": {},
   "cell_type": "markdown",
   "id": "registered-stability",
   "metadata": {
    "papermill": {
     "duration": 0.215455,
     "end_time": "2021-05-23T13:54:43.382888",
     "exception": false,
     "start_time": "2021-05-23T13:54:43.167433",
     "status": "completed"
    },
    "tags": []
   },
   "source": [
    "# Numerical variables"
   ]
  },
  {
   "cell_type": "code",
   "execution_count": null,
   "id": "practical-casting",
   "metadata": {
    "execution": {
     "iopub.execute_input": "2021-05-23T13:54:43.819660Z",
     "iopub.status.busy": "2021-05-23T13:54:43.819106Z",
     "iopub.status.idle": "2021-05-23T13:54:43.821677Z",
     "shell.execute_reply": "2021-05-23T13:54:43.822238Z",
     "shell.execute_reply.started": "2021-05-23T10:06:56.403553Z"
    },
    "papermill": {
     "duration": 0.227169,
     "end_time": "2021-05-23T13:54:43.822380",
     "exception": false,
     "start_time": "2021-05-23T13:54:43.595211",
     "status": "completed"
    },
    "tags": []
   },
   "outputs": [],
   "source": [
    "df.select_dtypes(include=np.number).columns"
   ]
  },
  {
   "attachments": {},
   "cell_type": "markdown",
   "id": "overhead-probe",
   "metadata": {
    "papermill": {
     "duration": 0.211006,
     "end_time": "2021-05-23T13:54:44.250332",
     "exception": false,
     "start_time": "2021-05-23T13:54:44.039326",
     "status": "completed"
    },
    "tags": []
   },
   "source": [
    "## Interest rate"
   ]
  },
  {
   "cell_type": "code",
   "execution_count": null,
   "id": "df84dc4a",
   "metadata": {},
   "outputs": [],
   "source": [
    "sns.boxplot(data=df, y=\"int_rate\")\n",
    "\n",
    "# Display the plot\n",
    "plt.show()"
   ]
  },
  {
   "cell_type": "code",
   "execution_count": null,
   "id": "265cee37",
   "metadata": {},
   "outputs": [],
   "source": [
    "# Define the bin ranges\n",
    "bins = [0, 5, 10, 15, 20, 25, 30]\n",
    "\n",
    "# Create a new column 'interest_rate_group' with the grouped values\n",
    "df[\"int_rate_cat\"] = pd.cut(\n",
    "    df[\"int_rate\"],\n",
    "    bins=bins,\n",
    "    labels=[\"0-5\", \"5-10\", \"10-15\", \"15-20\", \"20-25\", \"25-30\"],\n",
    ")\n",
    "\n",
    "# Create the countplot\n",
    "sns.countplot(data=df, x=\"int_rate_cat\")\n",
    "\n",
    "# Set labels and title\n",
    "plt.xlabel(\"Interest Rate Group\")\n",
    "plt.ylabel(\"Count\")\n",
    "plt.title(\"Count of Loans by Interest Rate Group\")\n",
    "\n",
    "# Display the plot\n",
    "plt.show()"
   ]
  },
  {
   "cell_type": "code",
   "execution_count": null,
   "id": "german-emergency",
   "metadata": {
    "execution": {
     "iopub.execute_input": "2021-05-23T13:54:46.129350Z",
     "iopub.status.busy": "2021-05-23T13:54:46.128472Z",
     "iopub.status.idle": "2021-05-23T13:54:46.136110Z",
     "shell.execute_reply": "2021-05-23T13:54:46.136629Z",
     "shell.execute_reply.started": "2021-05-23T10:06:58.565059Z"
    },
    "papermill": {
     "duration": 0.226137,
     "end_time": "2021-05-23T13:54:46.136777",
     "exception": false,
     "start_time": "2021-05-23T13:54:45.910640",
     "status": "completed"
    },
    "tags": []
   },
   "outputs": [],
   "source": [
    "# Divide interest rate into groups based on intervals\n",
    "df[\"int_rate_cat\"] = pd.cut(\n",
    "    df[\"int_rate\"],\n",
    "    [0, 5, 10, 15, 20, 25, 30],\n",
    "    labels=[\"0-5\", \"5-10\", \"10-15\", \"15-20\", \"20-25\", \"25-30\"],\n",
    ")"
   ]
  },
  {
   "attachments": {},
   "cell_type": "markdown",
   "id": "streaming-spotlight",
   "metadata": {
    "papermill": {
     "duration": 0.214474,
     "end_time": "2021-05-23T13:54:47.838850",
     "exception": false,
     "start_time": "2021-05-23T13:54:47.624376",
     "status": "completed"
    },
    "tags": []
   },
   "source": [
    "1. There are more records with intrest rate between 10-15%\n",
    "2. The rate of loan defaulter is more for highest intrest rate & less for lowest intrest rate."
   ]
  },
  {
   "attachments": {},
   "cell_type": "markdown",
   "id": "banned-leone",
   "metadata": {
    "papermill": {
     "duration": 0.209767,
     "end_time": "2021-05-23T13:54:48.260266",
     "exception": false,
     "start_time": "2021-05-23T13:54:48.050499",
     "status": "completed"
    },
    "tags": []
   },
   "source": [
    "## Annual income"
   ]
  },
  {
   "cell_type": "code",
   "execution_count": null,
   "id": "passive-advancement",
   "metadata": {
    "execution": {
     "iopub.execute_input": "2021-05-23T13:54:49.134573Z",
     "iopub.status.busy": "2021-05-23T13:54:49.133752Z",
     "iopub.status.idle": "2021-05-23T13:54:49.268879Z",
     "shell.execute_reply": "2021-05-23T13:54:49.268365Z",
     "shell.execute_reply.started": "2021-05-23T10:06:59.781809Z"
    },
    "papermill": {
     "duration": 0.355039,
     "end_time": "2021-05-23T13:54:49.268992",
     "exception": false,
     "start_time": "2021-05-23T13:54:48.913953",
     "status": "completed"
    },
    "tags": []
   },
   "outputs": [],
   "source": [
    "# Boxplot for annual income\n",
    "plt.figure(figsize=(10, 6))\n",
    "df[\"annual_inc\"].plot(kind=\"box\")\n",
    "\n",
    "plt.text(1.1, df[\"annual_inc\"].max(), s=df[\"annual_inc\"].max())\n",
    "plt.text(1.1, df[\"annual_inc\"].min(), s=df[\"annual_inc\"].min())\n",
    "plt.text(1.1, df[\"annual_inc\"].quantile(0.25), s=df[\"annual_inc\"].quantile(0.25))\n",
    "plt.text(1.1, df[\"annual_inc\"].quantile(0.50), s=df[\"annual_inc\"].quantile(0.50))\n",
    "plt.text(1.1, df[\"annual_inc\"].quantile(0.75), s=df[\"annual_inc\"].quantile(0.75))\n",
    "\n",
    "plt.ylabel(\"Annual Income\", fontsize=15)\n",
    "plt.show()\n",
    "plt.show()"
   ]
  },
  {
   "attachments": {},
   "cell_type": "markdown",
   "id": "smooth-order",
   "metadata": {
    "papermill": {
     "duration": 0.211059,
     "end_time": "2021-05-23T13:54:49.695709",
     "exception": false,
     "start_time": "2021-05-23T13:54:49.484650",
     "status": "completed"
    },
    "tags": []
   },
   "source": [
    "1. The median income is 58000 ,the minum income is 4000 & the maximum income is 234996."
   ]
  },
  {
   "cell_type": "code",
   "execution_count": null,
   "id": "announced-liechtenstein",
   "metadata": {
    "execution": {
     "iopub.execute_input": "2021-05-23T13:54:50.125398Z",
     "iopub.status.busy": "2021-05-23T13:54:50.124657Z",
     "iopub.status.idle": "2021-05-23T13:54:50.154838Z",
     "shell.execute_reply": "2021-05-23T13:54:50.155250Z",
     "shell.execute_reply.started": "2021-05-23T10:07:00.663524Z"
    },
    "papermill": {
     "duration": 0.247791,
     "end_time": "2021-05-23T13:54:50.155400",
     "exception": false,
     "start_time": "2021-05-23T13:54:49.907609",
     "status": "completed"
    },
    "tags": []
   },
   "outputs": [],
   "source": [
    "# Divide annual income into groups based on intervals\n",
    "def annual_income(inc):\n",
    "    if inc <= 50000:\n",
    "        return \"low\"\n",
    "    elif inc > 50000 and inc <= 100000:\n",
    "        return \"medium\"\n",
    "    elif inc > 100000 and inc <= 150000:\n",
    "        return \"high\"\n",
    "    else:\n",
    "        return \"very high\"\n",
    "\n",
    "\n",
    "df[\"annual_inc_cat\"] = df[\"annual_inc\"].apply(lambda x: annual_income(x))\n",
    "df[\"annual_inc_cat\"].value_counts()"
   ]
  },
  {
   "attachments": {},
   "cell_type": "markdown",
   "id": "demonstrated-nation",
   "metadata": {
    "papermill": {
     "duration": 0.215927,
     "end_time": "2021-05-23T13:54:51.724061",
     "exception": false,
     "start_time": "2021-05-23T13:54:51.508134",
     "status": "completed"
    },
    "tags": []
   },
   "source": [
    "1. Defaulter rate is increasing with the annual income value, defaulter rate will depend on loan amount\n",
    "2. The annual income variable is useful for further analysis."
   ]
  },
  {
   "attachments": {},
   "cell_type": "markdown",
   "id": "final-category",
   "metadata": {
    "papermill": {
     "duration": 0.213624,
     "end_time": "2021-05-23T13:54:52.152551",
     "exception": false,
     "start_time": "2021-05-23T13:54:51.938927",
     "status": "completed"
    },
    "tags": []
   },
   "source": [
    "## Loan amount"
   ]
  },
  {
   "cell_type": "code",
   "execution_count": null,
   "id": "theoretical-airplane",
   "metadata": {
    "execution": {
     "iopub.execute_input": "2021-05-23T13:54:53.061167Z",
     "iopub.status.busy": "2021-05-23T13:54:53.058467Z",
     "iopub.status.idle": "2021-05-23T13:54:53.178168Z",
     "shell.execute_reply": "2021-05-23T13:54:53.178591Z",
     "shell.execute_reply.started": "2021-05-23T10:07:01.983811Z"
    },
    "papermill": {
     "duration": 0.365,
     "end_time": "2021-05-23T13:54:53.178744",
     "exception": false,
     "start_time": "2021-05-23T13:54:52.813744",
     "status": "completed"
    },
    "tags": []
   },
   "outputs": [],
   "source": [
    "# Boxplot for loan amount\n",
    "plt.figure(figsize=(10, 6))\n",
    "df[\"loan_amnt\"].plot(kind=\"box\")\n",
    "\n",
    "plt.text(1.1, df[\"loan_amnt\"].max(), s=df[\"loan_amnt\"].max())\n",
    "plt.text(1.1, df[\"loan_amnt\"].min(), s=df[\"loan_amnt\"].min())\n",
    "plt.text(1.1, df[\"loan_amnt\"].quantile(0.25), s=df[\"loan_amnt\"].quantile(0.25))\n",
    "plt.text(1.1, df[\"loan_amnt\"].quantile(0.50), s=df[\"loan_amnt\"].quantile(0.50))\n",
    "plt.text(1.1, df[\"loan_amnt\"].quantile(0.75), s=df[\"loan_amnt\"].quantile(0.75))\n",
    "\n",
    "plt.ylabel(\"Loan Amount\", fontsize=15)\n",
    "plt.show()\n",
    "plt.show()"
   ]
  },
  {
   "attachments": {},
   "cell_type": "markdown",
   "id": "widespread-duncan",
   "metadata": {
    "papermill": {
     "duration": 0.21014,
     "end_time": "2021-05-23T13:54:53.601073",
     "exception": false,
     "start_time": "2021-05-23T13:54:53.390933",
     "status": "completed"
    },
    "tags": []
   },
   "source": [
    "The median loan amount is 9600 , the minimum loan amount is 500, the maximum loan amount is 35000"
   ]
  },
  {
   "cell_type": "code",
   "execution_count": null,
   "id": "worthy-philosophy",
   "metadata": {
    "execution": {
     "iopub.execute_input": "2021-05-23T13:54:54.037840Z",
     "iopub.status.busy": "2021-05-23T13:54:54.037144Z",
     "iopub.status.idle": "2021-05-23T13:54:54.065802Z",
     "shell.execute_reply": "2021-05-23T13:54:54.066244Z",
     "shell.execute_reply.started": "2021-05-23T10:07:02.550338Z"
    },
    "papermill": {
     "duration": 0.25248,
     "end_time": "2021-05-23T13:54:54.066394",
     "exception": false,
     "start_time": "2021-05-23T13:54:53.813914",
     "status": "completed"
    },
    "tags": []
   },
   "outputs": [],
   "source": [
    "# Divide Loan amount into groups based on intervals\n",
    "def loan_amount(amt):\n",
    "    if amt <= 5500:\n",
    "        return \"low\"\n",
    "    elif amt > 5500 and amt <= 10000:\n",
    "        return \"medium\"\n",
    "    elif amt > 10000 and amt <= 15000:\n",
    "        return \"high\"\n",
    "    else:\n",
    "        return \"very high\"\n",
    "\n",
    "\n",
    "df[\"loan_amnt_cat\"] = df[\"loan_amnt\"].apply(lambda x: loan_amount(x))\n",
    "df[\"loan_amnt_cat\"].value_counts()"
   ]
  },
  {
   "cell_type": "code",
   "execution_count": null,
   "id": "d1adf69f",
   "metadata": {},
   "outputs": [],
   "source": [
    "sns.barplot(x=df[\"loan_amnt_cat\"], y=df[\"loan_status\"])"
   ]
  },
  {
   "attachments": {},
   "cell_type": "markdown",
   "id": "graduate-gardening",
   "metadata": {
    "papermill": {
     "duration": 0.212185,
     "end_time": "2021-05-23T13:54:55.671101",
     "exception": false,
     "start_time": "2021-05-23T13:54:55.458916",
     "status": "completed"
    },
    "tags": []
   },
   "source": [
    "1. loan defaulter rate is increasing as loan amount range .\n",
    "2. This feature is useful for further analysis"
   ]
  },
  {
   "attachments": {},
   "cell_type": "markdown",
   "id": "induced-electronics",
   "metadata": {
    "papermill": {
     "duration": 0.214135,
     "end_time": "2021-05-23T13:54:56.097087",
     "exception": false,
     "start_time": "2021-05-23T13:54:55.882952",
     "status": "completed"
    },
    "tags": []
   },
   "source": [
    "## Debt to Income ratio"
   ]
  },
  {
   "cell_type": "code",
   "execution_count": null,
   "id": "effective-dependence",
   "metadata": {
    "execution": {
     "iopub.execute_input": "2021-05-23T13:54:56.532434Z",
     "iopub.status.busy": "2021-05-23T13:54:56.531794Z",
     "iopub.status.idle": "2021-05-23T13:54:56.541892Z",
     "shell.execute_reply": "2021-05-23T13:54:56.541380Z",
     "shell.execute_reply.started": "2021-05-23T10:07:03.643056Z"
    },
    "papermill": {
     "duration": 0.230936,
     "end_time": "2021-05-23T13:54:56.542040",
     "exception": false,
     "start_time": "2021-05-23T13:54:56.311104",
     "status": "completed"
    },
    "tags": []
   },
   "outputs": [],
   "source": [
    "df[\"dti\"].describe()"
   ]
  },
  {
   "cell_type": "code",
   "execution_count": null,
   "id": "gross-founder",
   "metadata": {
    "execution": {
     "iopub.execute_input": "2021-05-23T13:54:56.982254Z",
     "iopub.status.busy": "2021-05-23T13:54:56.981590Z",
     "iopub.status.idle": "2021-05-23T13:54:56.987400Z",
     "shell.execute_reply": "2021-05-23T13:54:56.987828Z",
     "shell.execute_reply.started": "2021-05-23T10:07:03.766259Z"
    },
    "papermill": {
     "duration": 0.227531,
     "end_time": "2021-05-23T13:54:56.987987",
     "exception": false,
     "start_time": "2021-05-23T13:54:56.760456",
     "status": "completed"
    },
    "tags": []
   },
   "outputs": [],
   "source": [
    "# Divide interest rate into groups based on intervals\n",
    "df[\"dti_cat\"] = pd.cut(\n",
    "    df[\"dti\"],\n",
    "    [0, 5, 10, 15, 20, 25, 30],\n",
    "    labels=[\"0-5\", \"5-10\", \"10-15\", \"15-20\", \"20-25\", \"25-30\"],\n",
    ")\n",
    "# df.head()"
   ]
  },
  {
   "cell_type": "code",
   "execution_count": null,
   "id": "4f9c0cc0",
   "metadata": {},
   "outputs": [],
   "source": [
    "sns.barplot(x=df[\"dti_cat\"], y=df[\"loan_status\"])"
   ]
  },
  {
   "attachments": {},
   "cell_type": "markdown",
   "id": "burning-talent",
   "metadata": {
    "papermill": {
     "duration": 0.216642,
     "end_time": "2021-05-23T13:54:58.648247",
     "exception": false,
     "start_time": "2021-05-23T13:54:58.431605",
     "status": "completed"
    },
    "tags": []
   },
   "source": [
    "1. Loan defaulter rate is increasing with the debt to income ratio.\n",
    "2. Dti is useful for finding the loan defaulter."
   ]
  },
  {
   "attachments": {},
   "cell_type": "markdown",
   "id": "olive-rehabilitation",
   "metadata": {
    "papermill": {
     "duration": 0.218975,
     "end_time": "2021-05-23T13:54:59.084454",
     "exception": false,
     "start_time": "2021-05-23T13:54:58.865479",
     "status": "completed"
    },
    "tags": []
   },
   "source": [
    "## Revolving line utilization rate"
   ]
  },
  {
   "cell_type": "code",
   "execution_count": null,
   "id": "professional-brick",
   "metadata": {
    "execution": {
     "iopub.execute_input": "2021-05-23T13:54:59.549619Z",
     "iopub.status.busy": "2021-05-23T13:54:59.549044Z",
     "iopub.status.idle": "2021-05-23T13:54:59.659316Z",
     "shell.execute_reply": "2021-05-23T13:54:59.659820Z",
     "shell.execute_reply.started": "2021-05-23T10:07:04.953919Z"
    },
    "papermill": {
     "duration": 0.353648,
     "end_time": "2021-05-23T13:54:59.659966",
     "exception": false,
     "start_time": "2021-05-23T13:54:59.306318",
     "status": "completed"
    },
    "tags": []
   },
   "outputs": [],
   "source": [
    "# Boxplot for revol_util\n",
    "plt.figure(figsize=(10, 6))\n",
    "df[\"revol_util\"].plot(kind=\"box\")\n",
    "\n",
    "plt.text(1.1, df[\"revol_util\"].max(), s=df[\"revol_util\"].max())\n",
    "plt.text(1.1, df[\"revol_util\"].min(), s=df[\"revol_util\"].min())\n",
    "plt.text(1.1, df[\"revol_util\"].quantile(0.25), s=df[\"revol_util\"].quantile(0.25))\n",
    "plt.text(1.1, df[\"revol_util\"].quantile(0.50), s=df[\"revol_util\"].quantile(0.50))\n",
    "plt.text(1.1, df[\"revol_util\"].quantile(0.75), s=df[\"revol_util\"].quantile(0.75))\n",
    "\n",
    "plt.ylabel(\"revolving line utilization rate\", fontsize=15)\n",
    "plt.show()\n",
    "plt.show()"
   ]
  },
  {
   "cell_type": "code",
   "execution_count": null,
   "id": "vocal-fellowship",
   "metadata": {
    "execution": {
     "iopub.execute_input": "2021-05-23T13:55:00.101003Z",
     "iopub.status.busy": "2021-05-23T13:55:00.100420Z",
     "iopub.status.idle": "2021-05-23T13:55:00.107311Z",
     "shell.execute_reply": "2021-05-23T13:55:00.107828Z",
     "shell.execute_reply.started": "2021-05-23T10:07:05.271953Z"
    },
    "papermill": {
     "duration": 0.230998,
     "end_time": "2021-05-23T13:55:00.107982",
     "exception": false,
     "start_time": "2021-05-23T13:54:59.876984",
     "status": "completed"
    },
    "tags": []
   },
   "outputs": [],
   "source": [
    "# Divide revol utilization rate into groups based on intervals\n",
    "df[\"revol_util_cat\"] = pd.cut(\n",
    "    df[\"revol_util\"], [0, 25, 50, 75, 100], labels=[\"0-25\", \"25-50\", \"50-75\", \"75-100\"]\n",
    ")"
   ]
  },
  {
   "cell_type": "code",
   "execution_count": null,
   "id": "sunrise-classics",
   "metadata": {
    "execution": {
     "iopub.execute_input": "2021-05-23T13:55:00.568075Z",
     "iopub.status.busy": "2021-05-23T13:55:00.567455Z",
     "iopub.status.idle": "2021-05-23T13:55:01.131044Z",
     "shell.execute_reply": "2021-05-23T13:55:01.130516Z",
     "shell.execute_reply.started": "2021-05-23T10:07:05.307385Z"
    },
    "papermill": {
     "duration": 0.802583,
     "end_time": "2021-05-23T13:55:01.131177",
     "exception": false,
     "start_time": "2021-05-23T13:55:00.328594",
     "status": "completed"
    },
    "tags": []
   },
   "outputs": [],
   "source": [
    "sns.barplot(x=df[\"revol_util_cat\"], y=df[\"loan_status\"])"
   ]
  },
  {
   "attachments": {},
   "cell_type": "markdown",
   "id": "premium-austria",
   "metadata": {
    "papermill": {
     "duration": 0.232641,
     "end_time": "2021-05-23T13:55:01.594975",
     "exception": false,
     "start_time": "2021-05-23T13:55:01.362334",
     "status": "completed"
    },
    "tags": []
   },
   "source": [
    "1. Loan defaulter rate is increasing with the revolving line utilization rate.\n",
    "2. this is useful for finding the loan defaulter."
   ]
  },
  {
   "attachments": {},
   "cell_type": "markdown",
   "id": "shared-blade",
   "metadata": {
    "papermill": {
     "duration": 0.238444,
     "end_time": "2021-05-23T13:55:02.071102",
     "exception": false,
     "start_time": "2021-05-23T13:55:01.832658",
     "status": "completed"
    },
    "tags": []
   },
   "source": [
    "## Installments"
   ]
  },
  {
   "cell_type": "code",
   "execution_count": null,
   "id": "finished-entry",
   "metadata": {
    "execution": {
     "iopub.execute_input": "2021-05-23T13:55:02.540718Z",
     "iopub.status.busy": "2021-05-23T13:55:02.540192Z",
     "iopub.status.idle": "2021-05-23T13:55:02.547902Z",
     "shell.execute_reply": "2021-05-23T13:55:02.548443Z",
     "shell.execute_reply.started": "2021-05-23T10:07:06.311270Z"
    },
    "papermill": {
     "duration": 0.245396,
     "end_time": "2021-05-23T13:55:02.548610",
     "exception": false,
     "start_time": "2021-05-23T13:55:02.303214",
     "status": "completed"
    },
    "tags": []
   },
   "outputs": [],
   "source": [
    "df[\"installment\"].describe()"
   ]
  },
  {
   "cell_type": "code",
   "execution_count": null,
   "id": "enhanced-commercial",
   "metadata": {
    "execution": {
     "iopub.execute_input": "2021-05-23T13:55:03.038252Z",
     "iopub.status.busy": "2021-05-23T13:55:03.037332Z",
     "iopub.status.idle": "2021-05-23T13:55:03.064539Z",
     "shell.execute_reply": "2021-05-23T13:55:03.065323Z",
     "shell.execute_reply.started": "2021-05-23T10:07:06.808970Z"
    },
    "papermill": {
     "duration": 0.288047,
     "end_time": "2021-05-23T13:55:03.065568",
     "exception": false,
     "start_time": "2021-05-23T13:55:02.777521",
     "status": "completed"
    },
    "tags": []
   },
   "outputs": [],
   "source": [
    "# installment\n",
    "def installment(n):\n",
    "    if n <= 200:\n",
    "        return \"low\"\n",
    "    elif n > 200 and n <= 400:\n",
    "        return \"medium\"\n",
    "    elif n > 400 and n <= 600:\n",
    "        return \"high\"\n",
    "    else:\n",
    "        return \"very high\"\n",
    "\n",
    "\n",
    "df[\"installment_cat\"] = df[\"installment\"].apply(lambda x: installment(x))"
   ]
  },
  {
   "cell_type": "code",
   "execution_count": null,
   "id": "optional-listing",
   "metadata": {
    "execution": {
     "iopub.execute_input": "2021-05-23T13:55:03.566938Z",
     "iopub.status.busy": "2021-05-23T13:55:03.566325Z",
     "iopub.status.idle": "2021-05-23T13:55:04.379716Z",
     "shell.execute_reply": "2021-05-23T13:55:04.378528Z",
     "shell.execute_reply.started": "2021-05-23T10:07:07.226197Z"
    },
    "papermill": {
     "duration": 1.04934,
     "end_time": "2021-05-23T13:55:04.379889",
     "exception": false,
     "start_time": "2021-05-23T13:55:03.330549",
     "status": "completed"
    },
    "tags": []
   },
   "outputs": [],
   "source": [
    "sns.barplot(x=df[\"installment_cat\"], y=df[\"loan_status\"])"
   ]
  },
  {
   "attachments": {},
   "cell_type": "markdown",
   "id": "spectacular-skating",
   "metadata": {
    "papermill": {
     "duration": 0.233785,
     "end_time": "2021-05-23T13:55:04.852804",
     "exception": false,
     "start_time": "2021-05-23T13:55:04.619019",
     "status": "completed"
    },
    "tags": []
   },
   "source": [
    "1. Loan defaulter rate is increasing with the installment values.\n",
    "2. Dti is useful for finding the loan defaulter."
   ]
  },
  {
   "attachments": {},
   "cell_type": "markdown",
   "id": "close-dealer",
   "metadata": {
    "papermill": {
     "duration": 0.227377,
     "end_time": "2021-05-23T13:55:05.311294",
     "exception": false,
     "start_time": "2021-05-23T13:55:05.083917",
     "status": "completed"
    },
    "tags": []
   },
   "source": [
    "### Installments Vs Loan amount"
   ]
  },
  {
   "cell_type": "code",
   "execution_count": null,
   "id": "based-dating",
   "metadata": {
    "execution": {
     "iopub.execute_input": "2021-05-23T13:55:05.797238Z",
     "iopub.status.busy": "2021-05-23T13:55:05.796583Z",
     "iopub.status.idle": "2021-05-23T13:55:06.024431Z",
     "shell.execute_reply": "2021-05-23T13:55:06.024924Z",
     "shell.execute_reply.started": "2021-05-23T10:07:08.138938Z"
    },
    "papermill": {
     "duration": 0.474172,
     "end_time": "2021-05-23T13:55:06.025087",
     "exception": false,
     "start_time": "2021-05-23T13:55:05.550915",
     "status": "completed"
    },
    "tags": []
   },
   "outputs": [],
   "source": [
    "plt.figure(figsize=(10, 8))\n",
    "sns.scatterplot(data=df, x=\"loan_amnt\", y=\"installment\")\n",
    "plt.title(\"Installments Vs Loan amount\", fontsize=20)\n",
    "plt.show()"
   ]
  },
  {
   "attachments": {},
   "cell_type": "markdown",
   "id": "small-metallic",
   "metadata": {
    "papermill": {
     "duration": 0.231457,
     "end_time": "2021-05-23T13:55:06.493013",
     "exception": false,
     "start_time": "2021-05-23T13:55:06.261556",
     "status": "completed"
    },
    "tags": []
   },
   "source": [
    "1. It is obvious that if the loan amount is more, installment amount will also be more"
   ]
  },
  {
   "attachments": {},
   "cell_type": "markdown",
   "id": "contained-subscriber",
   "metadata": {
    "papermill": {
     "duration": 0.238132,
     "end_time": "2021-05-23T13:55:06.957605",
     "exception": false,
     "start_time": "2021-05-23T13:55:06.719473",
     "status": "completed"
    },
    "tags": []
   },
   "source": [
    "### Annual income VS LOAN AMOUNT"
   ]
  },
  {
   "cell_type": "code",
   "execution_count": null,
   "id": "urban-investing",
   "metadata": {
    "execution": {
     "iopub.execute_input": "2021-05-23T13:55:07.428038Z",
     "iopub.status.busy": "2021-05-23T13:55:07.427383Z",
     "iopub.status.idle": "2021-05-23T13:55:07.662373Z",
     "shell.execute_reply": "2021-05-23T13:55:07.662855Z",
     "shell.execute_reply.started": "2021-05-23T10:07:08.875005Z"
    },
    "papermill": {
     "duration": 0.463051,
     "end_time": "2021-05-23T13:55:07.662997",
     "exception": false,
     "start_time": "2021-05-23T13:55:07.199946",
     "status": "completed"
    },
    "tags": []
   },
   "outputs": [],
   "source": [
    "plt.figure(figsize=(10, 8))\n",
    "sns.scatterplot(data=df, x=\"annual_inc\", y=\"loan_amnt\")\n",
    "plt.title(\"Annual_inc Vs Loan amount\", fontsize=20)\n",
    "plt.show()"
   ]
  },
  {
   "attachments": {},
   "cell_type": "markdown",
   "id": "dirty-samuel",
   "metadata": {
    "papermill": {
     "duration": 0.232133,
     "end_time": "2021-05-23T13:55:08.124849",
     "exception": false,
     "start_time": "2021-05-23T13:55:07.892716",
     "status": "completed"
    },
    "tags": []
   },
   "source": [
    "1. People with annual income between 0 to 100000 tend to appply more for loan"
   ]
  },
  {
   "attachments": {},
   "cell_type": "markdown",
   "id": "capital-setting",
   "metadata": {
    "papermill": {
     "duration": 0.222973,
     "end_time": "2021-05-23T13:55:08.572009",
     "exception": false,
     "start_time": "2021-05-23T13:55:08.349036",
     "status": "completed"
    },
    "tags": []
   },
   "source": [
    "# MULTIVARIATE ANALYSIS"
   ]
  },
  {
   "cell_type": "code",
   "execution_count": null,
   "id": "synthetic-rouge",
   "metadata": {
    "execution": {
     "iopub.execute_input": "2021-05-23T13:55:09.029862Z",
     "iopub.status.busy": "2021-05-23T13:55:09.029268Z",
     "iopub.status.idle": "2021-05-23T13:55:10.683754Z",
     "shell.execute_reply": "2021-05-23T13:55:10.683296Z",
     "shell.execute_reply.started": "2021-05-23T10:07:10.108107Z"
    },
    "papermill": {
     "duration": 1.886083,
     "end_time": "2021-05-23T13:55:10.683878",
     "exception": false,
     "start_time": "2021-05-23T13:55:08.797795",
     "status": "completed"
    },
    "tags": []
   },
   "outputs": [],
   "source": [
    "# Correlation matrix\n",
    "plt.figure(figsize=(15, 8))\n",
    "sns.heatmap(df.corr(), annot=True)\n",
    "plt.show()"
   ]
  },
  {
   "attachments": {},
   "cell_type": "markdown",
   "id": "peripheral-british",
   "metadata": {
    "papermill": {
     "duration": 0.237497,
     "end_time": "2021-05-23T13:55:11.160564",
     "exception": false,
     "start_time": "2021-05-23T13:55:10.923067",
     "status": "completed"
    },
    "tags": []
   },
   "source": [
    "1. There is a strong correlation between loan amount and funded amount.\n",
    "2. There is a strong correlation between loan amount and installment.\n",
    "3. The columns total_acc, open_acc are having high correlation\n",
    "4. There are few cells having negative correlation"
   ]
  },
  {
   "attachments": {},
   "cell_type": "markdown",
   "id": "natural-river",
   "metadata": {
    "papermill": {
     "duration": 0.240527,
     "end_time": "2021-05-23T13:55:11.640839",
     "exception": false,
     "start_time": "2021-05-23T13:55:11.400312",
     "status": "completed"
    },
    "tags": []
   },
   "source": [
    "# Pairplot\n",
    "\n",
    "\n"
   ]
  },
  {
   "cell_type": "code",
   "execution_count": null,
   "id": "exact-tractor",
   "metadata": {
    "execution": {
     "iopub.execute_input": "2021-05-23T13:55:12.135737Z",
     "iopub.status.busy": "2021-05-23T13:55:12.135136Z",
     "iopub.status.idle": "2021-05-23T13:55:49.929930Z",
     "shell.execute_reply": "2021-05-23T13:55:49.929432Z",
     "shell.execute_reply.started": "2021-05-23T10:07:11.695862Z"
    },
    "papermill": {
     "duration": 38.048911,
     "end_time": "2021-05-23T13:55:49.930062",
     "exception": false,
     "start_time": "2021-05-23T13:55:11.881151",
     "status": "completed"
    },
    "tags": []
   },
   "outputs": [],
   "source": [
    "# sns.pairplot(df_num)"
   ]
  },
  {
   "attachments": {},
   "cell_type": "markdown",
   "id": "republican-option",
   "metadata": {
    "papermill": {
     "duration": 0.284905,
     "end_time": "2021-05-23T13:55:50.514170",
     "exception": false,
     "start_time": "2021-05-23T13:55:50.229265",
     "status": "completed"
    },
    "tags": []
   },
   "source": [
    "### Loan amount & Interest rate "
   ]
  },
  {
   "cell_type": "code",
   "execution_count": null,
   "id": "complimentary-addiction",
   "metadata": {
    "execution": {
     "iopub.execute_input": "2021-05-23T13:55:51.101253Z",
     "iopub.status.busy": "2021-05-23T13:55:51.100206Z",
     "iopub.status.idle": "2021-05-23T13:55:52.368079Z",
     "shell.execute_reply": "2021-05-23T13:55:52.367514Z",
     "shell.execute_reply.started": "2021-05-23T10:07:54.020485Z"
    },
    "papermill": {
     "duration": 1.566081,
     "end_time": "2021-05-23T13:55:52.368200",
     "exception": false,
     "start_time": "2021-05-23T13:55:50.802119",
     "status": "completed"
    },
    "tags": []
   },
   "outputs": [],
   "source": [
    "plt.figure(figsize=(10, 8))\n",
    "sns.scatterplot(x=df[\"loan_amnt\"], y=df[\"int_rate\"], hue=df[\"loan_status\"])\n",
    "plt.title(\"Interest rate  Vs Loan amount\", fontsize=20)\n",
    "plt.show()"
   ]
  },
  {
   "attachments": {},
   "cell_type": "markdown",
   "id": "controlling-least",
   "metadata": {
    "papermill": {
     "duration": 0.291557,
     "end_time": "2021-05-23T13:55:52.966255",
     "exception": false,
     "start_time": "2021-05-23T13:55:52.674698",
     "status": "completed"
    },
    "tags": []
   },
   "source": [
    "The defaulters are present at all the places"
   ]
  },
  {
   "attachments": {},
   "cell_type": "markdown",
   "id": "controversial-treasure",
   "metadata": {
    "papermill": {
     "duration": 0.29496,
     "end_time": "2021-05-23T13:55:53.580155",
     "exception": false,
     "start_time": "2021-05-23T13:55:53.285195",
     "status": "completed"
    },
    "tags": []
   },
   "source": [
    "## Loan defaulters w. r. t. Term & Purpose "
   ]
  },
  {
   "cell_type": "code",
   "execution_count": null,
   "id": "younger-thanks",
   "metadata": {
    "execution": {
     "iopub.execute_input": "2021-05-23T13:55:54.189031Z",
     "iopub.status.busy": "2021-05-23T13:55:54.187264Z",
     "iopub.status.idle": "2021-05-23T13:55:55.672861Z",
     "shell.execute_reply": "2021-05-23T13:55:55.673383Z",
     "shell.execute_reply.started": "2021-05-23T10:07:55.474526Z"
    },
    "papermill": {
     "duration": 1.796269,
     "end_time": "2021-05-23T13:55:55.673535",
     "exception": false,
     "start_time": "2021-05-23T13:55:53.877266",
     "status": "completed"
    },
    "tags": []
   },
   "outputs": [],
   "source": [
    "plt.figure(figsize=(15, 8))\n",
    "sns.barplot(x=df[\"term_months\"], y=df[\"loan_status\"], hue=df[\"purpose\"])\n",
    "plt.show()"
   ]
  },
  {
   "attachments": {},
   "cell_type": "markdown",
   "id": "victorian-insured",
   "metadata": {
    "papermill": {
     "duration": 0.302374,
     "end_time": "2021-05-23T13:55:56.282384",
     "exception": false,
     "start_time": "2021-05-23T13:55:55.980010",
     "status": "completed"
    },
    "tags": []
   },
   "source": [
    "1. From the above plot, we can infer out that default rate is increases for every purpose w.r.t term."
   ]
  },
  {
   "attachments": {},
   "cell_type": "markdown",
   "id": "introductory-monday",
   "metadata": {
    "papermill": {
     "duration": 0.304461,
     "end_time": "2021-05-23T13:55:56.888369",
     "exception": false,
     "start_time": "2021-05-23T13:55:56.583908",
     "status": "completed"
    },
    "tags": []
   },
   "source": [
    "## Loan defaulters w. r. t. Grade & Purpose "
   ]
  },
  {
   "cell_type": "code",
   "execution_count": null,
   "id": "saving-incidence",
   "metadata": {
    "execution": {
     "iopub.execute_input": "2021-05-23T13:55:57.516697Z",
     "iopub.status.busy": "2021-05-23T13:55:57.515038Z",
     "iopub.status.idle": "2021-05-23T13:56:01.172709Z",
     "shell.execute_reply": "2021-05-23T13:56:01.172141Z",
     "shell.execute_reply.started": "2021-05-23T10:07:57.472846Z"
    },
    "papermill": {
     "duration": 3.979464,
     "end_time": "2021-05-23T13:56:01.172848",
     "exception": false,
     "start_time": "2021-05-23T13:55:57.193384",
     "status": "completed"
    },
    "tags": []
   },
   "outputs": [],
   "source": [
    "plt.figure(figsize=(15, 8))\n",
    "sns.barplot(x=df[\"grade\"], y=df[\"loan_status\"], hue=df[\"purpose\"])\n",
    "plt.show()"
   ]
  },
  {
   "attachments": {},
   "cell_type": "markdown",
   "id": "twenty-instrument",
   "metadata": {
    "papermill": {
     "duration": 0.313702,
     "end_time": "2021-05-23T13:56:01.789956",
     "exception": false,
     "start_time": "2021-05-23T13:56:01.476254",
     "status": "completed"
    },
    "tags": []
   },
   "source": [
    "1. From the above plot, we can infer out that default rate is increases for every purpose w.r.t Grade.\n",
    "2. The more number of defaulters are present in the Grade G and less in Grade A"
   ]
  },
  {
   "attachments": {},
   "cell_type": "markdown",
   "id": "first-strap",
   "metadata": {
    "papermill": {
     "duration": 0.300701,
     "end_time": "2021-05-23T13:56:02.391597",
     "exception": false,
     "start_time": "2021-05-23T13:56:02.090896",
     "status": "completed"
    },
    "tags": []
   },
   "source": [
    "## Loan defaulters w. r. t. Term & Loan amount "
   ]
  },
  {
   "cell_type": "code",
   "execution_count": null,
   "id": "obvious-capital",
   "metadata": {
    "execution": {
     "iopub.execute_input": "2021-05-23T13:56:03.020824Z",
     "iopub.status.busy": "2021-05-23T13:56:03.019069Z",
     "iopub.status.idle": "2021-05-23T13:56:03.736258Z",
     "shell.execute_reply": "2021-05-23T13:56:03.736691Z",
     "shell.execute_reply.started": "2021-05-23T10:08:01.654222Z"
    },
    "papermill": {
     "duration": 1.038872,
     "end_time": "2021-05-23T13:56:03.736856",
     "exception": false,
     "start_time": "2021-05-23T13:56:02.697984",
     "status": "completed"
    },
    "tags": []
   },
   "outputs": [],
   "source": [
    "plt.figure(figsize=(15, 8))\n",
    "sns.barplot(x=df[\"loan_amnt_cat\"], y=df[\"loan_status\"], hue=df[\"term_months\"])\n",
    "plt.show()"
   ]
  },
  {
   "attachments": {},
   "cell_type": "markdown",
   "id": "quality-personal",
   "metadata": {
    "papermill": {
     "duration": 0.322084,
     "end_time": "2021-05-23T13:56:04.390080",
     "exception": false,
     "start_time": "2021-05-23T13:56:04.067996",
     "status": "completed"
    },
    "tags": []
   },
   "source": [
    "1. From the above plot, we can infer out that default rate is increases for loan amount category w.r.t term."
   ]
  },
  {
   "cell_type": "code",
   "execution_count": null,
   "id": "fallen-protection",
   "metadata": {
    "execution": {
     "iopub.execute_input": "2021-05-23T13:56:05.015294Z",
     "iopub.status.busy": "2021-05-23T13:56:05.014666Z",
     "iopub.status.idle": "2021-05-23T13:56:06.318738Z",
     "shell.execute_reply": "2021-05-23T13:56:06.319217Z",
     "shell.execute_reply.started": "2021-05-23T10:08:02.510386Z"
    },
    "papermill": {
     "duration": 1.61807,
     "end_time": "2021-05-23T13:56:06.319426",
     "exception": false,
     "start_time": "2021-05-23T13:56:04.701356",
     "status": "completed"
    },
    "tags": []
   },
   "outputs": [],
   "source": [
    "sns.barplot(x=df[\"issue_date_month\"], y=df[\"loan_amnt\"], hue=df[\"loan_status\"])"
   ]
  },
  {
   "attachments": {},
   "cell_type": "markdown",
   "id": "fantastic-fishing",
   "metadata": {
    "papermill": {
     "duration": 0.339511,
     "end_time": "2021-05-23T13:56:06.973413",
     "exception": false,
     "start_time": "2021-05-23T13:56:06.633902",
     "status": "completed"
    },
    "tags": []
   },
   "source": [
    "In every month, there are almost equal number of loan defaulters as loan takers"
   ]
  },
  {
   "cell_type": "code",
   "execution_count": null,
   "id": "trained-attribute",
   "metadata": {
    "execution": {
     "iopub.execute_input": "2021-05-23T13:56:07.583785Z",
     "iopub.status.busy": "2021-05-23T13:56:07.583166Z",
     "iopub.status.idle": "2021-05-23T13:56:08.378803Z",
     "shell.execute_reply": "2021-05-23T13:56:08.378366Z",
     "shell.execute_reply.started": "2021-05-23T10:08:03.924787Z"
    },
    "papermill": {
     "duration": 1.103648,
     "end_time": "2021-05-23T13:56:08.378921",
     "exception": false,
     "start_time": "2021-05-23T13:56:07.275273",
     "status": "completed"
    },
    "tags": []
   },
   "outputs": [],
   "source": [
    "sns.barplot(x=df[\"earliest_cr_line_month\"], y=df[\"loan_amnt\"])"
   ]
  },
  {
   "attachments": {},
   "cell_type": "markdown",
   "id": "pleased-understanding",
   "metadata": {
    "papermill": {
     "duration": 0.309436,
     "end_time": "2021-05-23T13:56:08.996259",
     "exception": false,
     "start_time": "2021-05-23T13:56:08.686823",
     "status": "completed"
    },
    "tags": []
   },
   "source": [
    "The amount issued by the bank is same for all the months"
   ]
  },
  {
   "attachments": {},
   "cell_type": "markdown",
   "id": "julian-unknown",
   "metadata": {
    "papermill": {
     "duration": 0.304355,
     "end_time": "2021-05-23T13:56:09.605257",
     "exception": false,
     "start_time": "2021-05-23T13:56:09.300902",
     "status": "completed"
    },
    "tags": []
   },
   "source": [
    "## Save the Dataset till EDA"
   ]
  },
  {
   "cell_type": "code",
   "execution_count": null,
   "id": "hawaiian-embassy",
   "metadata": {
    "execution": {
     "iopub.execute_input": "2021-05-23T13:56:10.226817Z",
     "iopub.status.busy": "2021-05-23T13:56:10.226272Z",
     "iopub.status.idle": "2021-05-23T13:56:10.231782Z",
     "shell.execute_reply": "2021-05-23T13:56:10.231327Z",
     "shell.execute_reply.started": "2021-05-23T10:08:04.846238Z"
    },
    "papermill": {
     "duration": 0.317254,
     "end_time": "2021-05-23T13:56:10.231907",
     "exception": false,
     "start_time": "2021-05-23T13:56:09.914653",
     "status": "completed"
    },
    "scrolled": true,
    "tags": []
   },
   "outputs": [],
   "source": [
    "df_after_EDA = df.copy()"
   ]
  },
  {
   "attachments": {},
   "cell_type": "markdown",
   "id": "synthetic-might",
   "metadata": {
    "papermill": {
     "duration": 0.308942,
     "end_time": "2021-05-23T13:56:10.846385",
     "exception": false,
     "start_time": "2021-05-23T13:56:10.537443",
     "status": "completed"
    },
    "tags": []
   },
   "source": [
    "# Important features selected from EDA"
   ]
  },
  {
   "attachments": {},
   "cell_type": "markdown",
   "id": "coastal-soccer",
   "metadata": {
    "papermill": {
     "duration": 0.306262,
     "end_time": "2021-05-23T13:56:11.463408",
     "exception": false,
     "start_time": "2021-05-23T13:56:11.157146",
     "status": "completed"
    },
    "tags": []
   },
   "source": [
    "The features which are depends on whether the person will be able to repay the loan amount or not are term, grade,sub grade,purpose,revol_util, int_rate, installment, annual income, loan amount."
   ]
  },
  {
   "cell_type": "code",
   "execution_count": null,
   "id": "duplicate-british",
   "metadata": {
    "execution": {
     "iopub.execute_input": "2021-05-23T13:56:12.136355Z",
     "iopub.status.busy": "2021-05-23T13:56:12.135507Z",
     "iopub.status.idle": "2021-05-23T13:56:12.139928Z",
     "shell.execute_reply": "2021-05-23T13:56:12.139502Z",
     "shell.execute_reply.started": "2021-05-23T10:08:04.854723Z"
    },
    "papermill": {
     "duration": 0.361192,
     "end_time": "2021-05-23T13:56:12.140060",
     "exception": false,
     "start_time": "2021-05-23T13:56:11.778868",
     "status": "completed"
    },
    "tags": []
   },
   "outputs": [],
   "source": [
    "df_after_EDA.head()"
   ]
  },
  {
   "attachments": {},
   "cell_type": "markdown",
   "id": "difficult-creek",
   "metadata": {
    "papermill": {
     "duration": 0.31261,
     "end_time": "2021-05-23T13:56:12.765917",
     "exception": false,
     "start_time": "2021-05-23T13:56:12.453307",
     "status": "completed"
    },
    "tags": []
   },
   "source": [
    "# Hereafter we will continue with the dataset which we got after data cleaning"
   ]
  },
  {
   "cell_type": "code",
   "execution_count": null,
   "id": "going-cooler",
   "metadata": {
    "execution": {
     "iopub.execute_input": "2021-05-23T13:56:13.397237Z",
     "iopub.status.busy": "2021-05-23T13:56:13.396335Z",
     "iopub.status.idle": "2021-05-23T13:56:13.426802Z",
     "shell.execute_reply": "2021-05-23T13:56:13.427280Z",
     "shell.execute_reply.started": "2021-05-23T10:08:04.894029Z"
    },
    "papermill": {
     "duration": 0.34366,
     "end_time": "2021-05-23T13:56:13.427428",
     "exception": false,
     "start_time": "2021-05-23T13:56:13.083768",
     "status": "completed"
    },
    "scrolled": true,
    "tags": []
   },
   "outputs": [],
   "source": [
    "# Hereafter we will continue with the dataset which we got after data cleaning\n",
    "df1 = df_after_data_cleaning.copy()\n",
    "df1.head()"
   ]
  },
  {
   "cell_type": "code",
   "execution_count": null,
   "id": "personal-semiconductor",
   "metadata": {
    "execution": {
     "iopub.execute_input": "2021-05-23T13:56:14.059095Z",
     "iopub.status.busy": "2021-05-23T13:56:14.058253Z",
     "iopub.status.idle": "2021-05-23T13:56:14.062864Z",
     "shell.execute_reply": "2021-05-23T13:56:14.063346Z",
     "shell.execute_reply.started": "2021-05-23T10:08:04.930523Z"
    },
    "papermill": {
     "duration": 0.319811,
     "end_time": "2021-05-23T13:56:14.063515",
     "exception": false,
     "start_time": "2021-05-23T13:56:13.743704",
     "status": "completed"
    },
    "tags": []
   },
   "outputs": [],
   "source": [
    "df1.shape"
   ]
  },
  {
   "cell_type": "code",
   "execution_count": null,
   "id": "colonial-fifty",
   "metadata": {
    "execution": {
     "iopub.execute_input": "2021-05-23T13:56:14.687481Z",
     "iopub.status.busy": "2021-05-23T13:56:14.686628Z",
     "iopub.status.idle": "2021-05-23T13:56:14.692034Z",
     "shell.execute_reply": "2021-05-23T13:56:14.692495Z",
     "shell.execute_reply.started": "2021-05-23T10:08:04.937165Z"
    },
    "papermill": {
     "duration": 0.316769,
     "end_time": "2021-05-23T13:56:14.692642",
     "exception": false,
     "start_time": "2021-05-23T13:56:14.375873",
     "status": "completed"
    },
    "tags": []
   },
   "outputs": [],
   "source": [
    "df1.columns"
   ]
  },
  {
   "cell_type": "code",
   "execution_count": null,
   "id": "challenging-virus",
   "metadata": {
    "execution": {
     "iopub.execute_input": "2021-05-23T13:56:15.333667Z",
     "iopub.status.busy": "2021-05-23T13:56:15.333090Z",
     "iopub.status.idle": "2021-05-23T13:56:15.352434Z",
     "shell.execute_reply": "2021-05-23T13:56:15.351969Z",
     "shell.execute_reply.started": "2021-05-23T10:08:04.951163Z"
    },
    "papermill": {
     "duration": 0.350554,
     "end_time": "2021-05-23T13:56:15.352557",
     "exception": false,
     "start_time": "2021-05-23T13:56:15.002003",
     "status": "completed"
    },
    "tags": []
   },
   "outputs": [],
   "source": [
    "# Dropping the NONE category from the home ownership column as it contains only one record\n",
    "df1 = df1[df1[\"home_ownership\"] != \"NONE\"]\n",
    "df1 = df1[df1[\"loan_status\"].isin([\"Fully Paid\", \"Charged Off\"])]\n",
    "df1.shape"
   ]
  },
  {
   "attachments": {},
   "cell_type": "markdown",
   "id": "needed-south",
   "metadata": {
    "papermill": {
     "duration": 0.313161,
     "end_time": "2021-05-23T13:56:15.982738",
     "exception": false,
     "start_time": "2021-05-23T13:56:15.669577",
     "status": "completed"
    },
    "tags": []
   },
   "source": [
    "# Hypothesis testing"
   ]
  },
  {
   "cell_type": "code",
   "execution_count": null,
   "id": "welcome-imagination",
   "metadata": {
    "execution": {
     "iopub.execute_input": "2021-05-23T13:56:16.600509Z",
     "iopub.status.busy": "2021-05-23T13:56:16.599975Z",
     "iopub.status.idle": "2021-05-23T13:56:16.601742Z",
     "shell.execute_reply": "2021-05-23T13:56:16.602213Z",
     "shell.execute_reply.started": "2021-05-23T10:08:04.979192Z"
    },
    "papermill": {
     "duration": 0.311469,
     "end_time": "2021-05-23T13:56:16.602347",
     "exception": false,
     "start_time": "2021-05-23T13:56:16.290878",
     "status": "completed"
    },
    "tags": []
   },
   "outputs": [],
   "source": [
    "import scipy.stats as st"
   ]
  },
  {
   "attachments": {},
   "cell_type": "markdown",
   "id": "paperback-procedure",
   "metadata": {
    "papermill": {
     "duration": 0.315,
     "end_time": "2021-05-23T13:56:17.223080",
     "exception": false,
     "start_time": "2021-05-23T13:56:16.908080",
     "status": "completed"
    },
    "tags": []
   },
   "source": [
    "Hypothesis: 1\n",
    "H0: The interest rate is same for different purpose of loans\n",
    "H1: The interest rate is not same for different purpose of loans"
   ]
  },
  {
   "cell_type": "code",
   "execution_count": null,
   "id": "intended-marsh",
   "metadata": {
    "execution": {
     "iopub.execute_input": "2021-05-23T13:56:17.836386Z",
     "iopub.status.busy": "2021-05-23T13:56:17.835524Z",
     "iopub.status.idle": "2021-05-23T13:56:17.912666Z",
     "shell.execute_reply": "2021-05-23T13:56:17.913136Z",
     "shell.execute_reply.started": "2021-05-23T10:08:04.985428Z"
    },
    "papermill": {
     "duration": 0.386913,
     "end_time": "2021-05-23T13:56:17.913284",
     "exception": false,
     "start_time": "2021-05-23T13:56:17.526371",
     "status": "completed"
    },
    "tags": []
   },
   "outputs": [],
   "source": [
    "cc = df1[df1[\"purpose\"] == \"credit_card\"][\"int_rate\"]\n",
    "car = df1[df1[\"purpose\"] == \"car\"][\"int_rate\"]\n",
    "sm_bus = df1[df1[\"purpose\"] == \"small_business\"][\"int_rate\"]\n",
    "wedding = other = df1[df1[\"purpose\"] == \"wedding\"][\"int_rate\"]\n",
    "debt_cons = df1[df1[\"purpose\"] == \"debt_consolidation\"][\"int_rate\"]\n",
    "home_imp = df1[df1[\"purpose\"] == \"home_improvement\"][\"int_rate\"]\n",
    "maj_pur = df1[df1[\"purpose\"] == \"major_purchase\"][\"int_rate\"]\n",
    "med = df1[df1[\"purpose\"] == \"medical\"][\"int_rate\"]\n",
    "move = df1[df1[\"purpose\"] == \"moving\"][\"int_rate\"]\n",
    "vac = df1[df1[\"purpose\"] == \"vacation\"][\"int_rate\"]\n",
    "ren_energy = df1[df1[\"purpose\"] == \"renewable_energy\"][\"int_rate\"]\n",
    "house = df1[df1[\"purpose\"] == \"house\"][\"int_rate\"]\n",
    "edu = df1[df1[\"purpose\"] == \"educational\"][\"int_rate\"]"
   ]
  },
  {
   "cell_type": "code",
   "execution_count": null,
   "id": "least-distributor",
   "metadata": {
    "execution": {
     "iopub.execute_input": "2021-05-23T13:56:18.525640Z",
     "iopub.status.busy": "2021-05-23T13:56:18.524815Z",
     "iopub.status.idle": "2021-05-23T13:56:18.896739Z",
     "shell.execute_reply": "2021-05-23T13:56:18.897168Z",
     "shell.execute_reply.started": "2021-05-23T10:08:05.081494Z"
    },
    "papermill": {
     "duration": 0.678802,
     "end_time": "2021-05-23T13:56:18.897324",
     "exception": false,
     "start_time": "2021-05-23T13:56:18.218522",
     "status": "completed"
    },
    "tags": []
   },
   "outputs": [],
   "source": [
    "plt.figure(figsize=(15, 6))\n",
    "sns.boxplot(x=df1[\"purpose\"], y=df1[\"int_rate\"])"
   ]
  },
  {
   "cell_type": "code",
   "execution_count": null,
   "id": "specialized-multiple",
   "metadata": {
    "execution": {
     "iopub.execute_input": "2021-05-23T13:56:19.501823Z",
     "iopub.status.busy": "2021-05-23T13:56:19.500944Z",
     "iopub.status.idle": "2021-05-23T13:56:19.520628Z",
     "shell.execute_reply": "2021-05-23T13:56:19.520199Z",
     "shell.execute_reply.started": "2021-05-23T10:08:05.495582Z"
    },
    "papermill": {
     "duration": 0.318121,
     "end_time": "2021-05-23T13:56:19.520787",
     "exception": false,
     "start_time": "2021-05-23T13:56:19.202666",
     "status": "completed"
    },
    "tags": []
   },
   "outputs": [],
   "source": [
    "cols = [\n",
    "    cc,\n",
    "    car,\n",
    "    sm_bus,\n",
    "    wedding,\n",
    "    debt_cons,\n",
    "    home_imp,\n",
    "    maj_pur,\n",
    "    med,\n",
    "    move,\n",
    "    vac,\n",
    "    ren_energy,\n",
    "    house,\n",
    "    edu,\n",
    "]\n",
    "for i in cols:\n",
    "    print(st.shapiro(i)[1])"
   ]
  },
  {
   "cell_type": "code",
   "execution_count": null,
   "id": "sacred-notice",
   "metadata": {
    "execution": {
     "iopub.execute_input": "2021-05-23T13:56:20.457359Z",
     "iopub.status.busy": "2021-05-23T13:56:20.456778Z",
     "iopub.status.idle": "2021-05-23T13:56:20.467140Z",
     "shell.execute_reply": "2021-05-23T13:56:20.467841Z",
     "shell.execute_reply.started": "2021-05-23T10:08:05.515936Z"
    },
    "papermill": {
     "duration": 0.471316,
     "end_time": "2021-05-23T13:56:20.468070",
     "exception": false,
     "start_time": "2021-05-23T13:56:19.996754",
     "status": "completed"
    },
    "tags": []
   },
   "outputs": [],
   "source": [
    "st.levene(\n",
    "    cc,\n",
    "    car,\n",
    "    sm_bus,\n",
    "    wedding,\n",
    "    debt_cons,\n",
    "    home_imp,\n",
    "    maj_pur,\n",
    "    med,\n",
    "    move,\n",
    "    vac,\n",
    "    ren_energy,\n",
    "    house,\n",
    "    edu,\n",
    ")"
   ]
  },
  {
   "cell_type": "code",
   "execution_count": null,
   "id": "built-miller",
   "metadata": {
    "execution": {
     "iopub.execute_input": "2021-05-23T13:56:21.332401Z",
     "iopub.status.busy": "2021-05-23T13:56:21.331457Z",
     "iopub.status.idle": "2021-05-23T13:56:21.342133Z",
     "shell.execute_reply": "2021-05-23T13:56:21.341431Z",
     "shell.execute_reply.started": "2021-05-23T10:08:05.537770Z"
    },
    "papermill": {
     "duration": 0.432823,
     "end_time": "2021-05-23T13:56:21.342300",
     "exception": false,
     "start_time": "2021-05-23T13:56:20.909477",
     "status": "completed"
    },
    "tags": []
   },
   "outputs": [],
   "source": [
    "st.f_oneway(\n",
    "    cc,\n",
    "    car,\n",
    "    sm_bus,\n",
    "    wedding,\n",
    "    debt_cons,\n",
    "    home_imp,\n",
    "    maj_pur,\n",
    "    med,\n",
    "    move,\n",
    "    vac,\n",
    "    ren_energy,\n",
    "    house,\n",
    "    edu,\n",
    ")"
   ]
  },
  {
   "attachments": {},
   "cell_type": "markdown",
   "id": "specialized-webcam",
   "metadata": {
    "papermill": {
     "duration": 0.319631,
     "end_time": "2021-05-23T13:56:22.078224",
     "exception": false,
     "start_time": "2021-05-23T13:56:21.758593",
     "status": "completed"
    },
    "tags": []
   },
   "source": [
    "From Shapiro test, all the variables have pvalue < 0.05. So null hypothesis is rejected means that no variable is following normal distribution\n",
    "From levene test, the pvalue < 0.05. So null hypothesis is rejected means that variance is different\n",
    "From the oneway anova test the pvalue is less than 0.05. So we are rejecting the null hypothesis(H0). So it is clear that the interest rate is different for different purpose"
   ]
  },
  {
   "attachments": {},
   "cell_type": "markdown",
   "id": "smart-fortune",
   "metadata": {
    "papermill": {
     "duration": 0.330038,
     "end_time": "2021-05-23T13:56:22.744157",
     "exception": false,
     "start_time": "2021-05-23T13:56:22.414119",
     "status": "completed"
    },
    "tags": []
   },
   "source": [
    "Hypothesis : 2\n",
    "H0: Loan amount given for different grade is same\n",
    "H1: Loan amount given for different grade is not same"
   ]
  },
  {
   "cell_type": "code",
   "execution_count": null,
   "id": "improving-instrument",
   "metadata": {
    "execution": {
     "iopub.execute_input": "2021-05-23T13:56:23.428472Z",
     "iopub.status.busy": "2021-05-23T13:56:23.427863Z",
     "iopub.status.idle": "2021-05-23T13:56:23.468354Z",
     "shell.execute_reply": "2021-05-23T13:56:23.467701Z",
     "shell.execute_reply.started": "2021-05-23T10:08:05.547420Z"
    },
    "papermill": {
     "duration": 0.36784,
     "end_time": "2021-05-23T13:56:23.468497",
     "exception": false,
     "start_time": "2021-05-23T13:56:23.100657",
     "status": "completed"
    },
    "tags": []
   },
   "outputs": [],
   "source": [
    "A = df1[df1[\"grade\"] == \"A\"][\"loan_amnt\"]\n",
    "B = df1[df1[\"grade\"] == \"B\"][\"loan_amnt\"]\n",
    "C = df1[df1[\"grade\"] == \"C\"][\"loan_amnt\"]\n",
    "D = df1[df1[\"grade\"] == \"D\"][\"loan_amnt\"]\n",
    "E = df1[df1[\"grade\"] == \"E\"][\"loan_amnt\"]\n",
    "F = df1[df1[\"grade\"] == \"F\"][\"loan_amnt\"]\n",
    "G = df1[df1[\"grade\"] == \"G\"][\"loan_amnt\"]"
   ]
  },
  {
   "cell_type": "code",
   "execution_count": null,
   "id": "empirical-polls",
   "metadata": {
    "execution": {
     "iopub.execute_input": "2021-05-23T13:56:24.113640Z",
     "iopub.status.busy": "2021-05-23T13:56:24.113070Z",
     "iopub.status.idle": "2021-05-23T13:56:24.120285Z",
     "shell.execute_reply": "2021-05-23T13:56:24.119762Z",
     "shell.execute_reply.started": "2021-05-23T10:08:05.606250Z"
    },
    "papermill": {
     "duration": 0.329485,
     "end_time": "2021-05-23T13:56:24.120394",
     "exception": false,
     "start_time": "2021-05-23T13:56:23.790909",
     "status": "completed"
    },
    "tags": []
   },
   "outputs": [],
   "source": [
    "cols = [A, B, C, D, E, F, G]\n",
    "for i in cols:\n",
    "    print(st.shapiro(i)[1])"
   ]
  },
  {
   "cell_type": "code",
   "execution_count": null,
   "id": "streaming-chocolate",
   "metadata": {
    "execution": {
     "iopub.execute_input": "2021-05-23T13:56:24.775086Z",
     "iopub.status.busy": "2021-05-23T13:56:24.765142Z",
     "iopub.status.idle": "2021-05-23T13:56:24.904973Z",
     "shell.execute_reply": "2021-05-23T13:56:24.905470Z",
     "shell.execute_reply.started": "2021-05-23T10:08:05.617851Z"
    },
    "papermill": {
     "duration": 0.469981,
     "end_time": "2021-05-23T13:56:24.905628",
     "exception": false,
     "start_time": "2021-05-23T13:56:24.435647",
     "status": "completed"
    },
    "tags": []
   },
   "outputs": [],
   "source": [
    "sns.countplot(x=df1[\"grade\"])"
   ]
  },
  {
   "cell_type": "code",
   "execution_count": null,
   "id": "administrative-group",
   "metadata": {
    "execution": {
     "iopub.execute_input": "2021-05-23T13:56:25.552236Z",
     "iopub.status.busy": "2021-05-23T13:56:25.551647Z",
     "iopub.status.idle": "2021-05-23T13:56:25.557531Z",
     "shell.execute_reply": "2021-05-23T13:56:25.557913Z",
     "shell.execute_reply.started": "2021-05-23T10:08:05.791231Z"
    },
    "papermill": {
     "duration": 0.322913,
     "end_time": "2021-05-23T13:56:25.558068",
     "exception": false,
     "start_time": "2021-05-23T13:56:25.235155",
     "status": "completed"
    },
    "tags": []
   },
   "outputs": [],
   "source": [
    "st.levene(A, B, C, D, E, F, G)"
   ]
  },
  {
   "cell_type": "code",
   "execution_count": null,
   "id": "twelve-cambridge",
   "metadata": {
    "execution": {
     "iopub.execute_input": "2021-05-23T13:56:26.204412Z",
     "iopub.status.busy": "2021-05-23T13:56:26.203623Z",
     "iopub.status.idle": "2021-05-23T13:56:26.207420Z",
     "shell.execute_reply": "2021-05-23T13:56:26.206978Z",
     "shell.execute_reply.started": "2021-05-23T10:08:05.799379Z"
    },
    "papermill": {
     "duration": 0.33989,
     "end_time": "2021-05-23T13:56:26.207527",
     "exception": false,
     "start_time": "2021-05-23T13:56:25.867637",
     "status": "completed"
    },
    "tags": []
   },
   "outputs": [],
   "source": [
    "st.f_oneway(A, B, C, D, E, F, G)"
   ]
  },
  {
   "attachments": {},
   "cell_type": "markdown",
   "id": "retained-clarity",
   "metadata": {
    "papermill": {
     "duration": 0.308213,
     "end_time": "2021-05-23T13:56:26.818201",
     "exception": false,
     "start_time": "2021-05-23T13:56:26.509988",
     "status": "completed"
    },
    "tags": []
   },
   "source": [
    "From Shapiro test, all the variables have pvalue < 0.05. So null hypothesis is rejected means that no variable is following normal distribution\n",
    "From levene test, the pvalue < 0.05. So null hypothesis is rejected means that variance is different\n",
    "From the oneway anova test the pvalue is less than 0.05. So we are rejecting the null hypothesis(H0).It is clear that the loan amount for different grade is not same"
   ]
  },
  {
   "attachments": {},
   "cell_type": "markdown",
   "id": "vertical-trinidad",
   "metadata": {
    "papermill": {
     "duration": 0.324226,
     "end_time": "2021-05-23T13:56:27.453109",
     "exception": false,
     "start_time": "2021-05-23T13:56:27.128883",
     "status": "completed"
    },
    "tags": []
   },
   "source": [
    "Hypothesis : 3\n",
    "H0: Loan status is having association with the grade\n",
    "H1: Loan status is not having association with the grade"
   ]
  },
  {
   "cell_type": "code",
   "execution_count": null,
   "id": "alpine-lottery",
   "metadata": {
    "execution": {
     "iopub.execute_input": "2021-05-23T13:56:28.095572Z",
     "iopub.status.busy": "2021-05-23T13:56:28.094962Z",
     "iopub.status.idle": "2021-05-23T13:56:28.121259Z",
     "shell.execute_reply": "2021-05-23T13:56:28.120742Z",
     "shell.execute_reply.started": "2021-05-23T10:08:05.813244Z"
    },
    "papermill": {
     "duration": 0.350624,
     "end_time": "2021-05-23T13:56:28.121375",
     "exception": false,
     "start_time": "2021-05-23T13:56:27.770751",
     "status": "completed"
    },
    "tags": []
   },
   "outputs": [],
   "source": [
    "table = pd.crosstab(df1[\"loan_status\"], df1[\"grade\"])\n",
    "st.chi2_contingency(table)"
   ]
  },
  {
   "attachments": {},
   "cell_type": "markdown",
   "id": "integral-ribbon",
   "metadata": {
    "papermill": {
     "duration": 0.315574,
     "end_time": "2021-05-23T13:56:28.748767",
     "exception": false,
     "start_time": "2021-05-23T13:56:28.433193",
     "status": "completed"
    },
    "tags": []
   },
   "source": [
    "From the chi2 test the pvalue is less than 0.05. So we are rejecting the null hypothesis(H0). It is clear that the Loan status is not having association with the grade"
   ]
  },
  {
   "cell_type": "code",
   "execution_count": null,
   "id": "stretch-dialogue",
   "metadata": {
    "execution": {
     "iopub.execute_input": "2021-05-23T13:56:29.389695Z",
     "iopub.status.busy": "2021-05-23T13:56:29.389087Z",
     "iopub.status.idle": "2021-05-23T13:56:29.397326Z",
     "shell.execute_reply": "2021-05-23T13:56:29.396878Z",
     "shell.execute_reply.started": "2021-05-23T10:08:05.847799Z"
    },
    "papermill": {
     "duration": 0.332538,
     "end_time": "2021-05-23T13:56:29.397443",
     "exception": false,
     "start_time": "2021-05-23T13:56:29.064905",
     "status": "completed"
    },
    "tags": []
   },
   "outputs": [],
   "source": [
    "df1 = df1.reset_index(drop=True)"
   ]
  },
  {
   "cell_type": "code",
   "execution_count": null,
   "id": "committed-republic",
   "metadata": {
    "execution": {
     "iopub.execute_input": "2021-05-23T13:56:30.023811Z",
     "iopub.status.busy": "2021-05-23T13:56:30.022976Z",
     "iopub.status.idle": "2021-05-23T13:56:30.030657Z",
     "shell.execute_reply": "2021-05-23T13:56:30.031160Z",
     "shell.execute_reply.started": "2021-05-23T10:08:05.862926Z"
    },
    "papermill": {
     "duration": 0.323501,
     "end_time": "2021-05-23T13:56:30.031295",
     "exception": false,
     "start_time": "2021-05-23T13:56:29.707794",
     "status": "completed"
    },
    "tags": []
   },
   "outputs": [],
   "source": [
    "df_num = df1.select_dtypes(include=np.number)\n",
    "df_num.shape"
   ]
  },
  {
   "cell_type": "code",
   "execution_count": null,
   "id": "younger-tomorrow",
   "metadata": {
    "execution": {
     "iopub.execute_input": "2021-05-23T13:56:30.684622Z",
     "iopub.status.busy": "2021-05-23T13:56:30.683703Z",
     "iopub.status.idle": "2021-05-23T13:56:30.699617Z",
     "shell.execute_reply": "2021-05-23T13:56:30.700144Z",
     "shell.execute_reply.started": "2021-05-23T10:08:05.873098Z"
    },
    "papermill": {
     "duration": 0.353556,
     "end_time": "2021-05-23T13:56:30.700302",
     "exception": false,
     "start_time": "2021-05-23T13:56:30.346746",
     "status": "completed"
    },
    "tags": []
   },
   "outputs": [],
   "source": [
    "df_num.info()"
   ]
  },
  {
   "cell_type": "code",
   "execution_count": null,
   "id": "bottom-maple",
   "metadata": {
    "execution": {
     "iopub.execute_input": "2021-05-23T13:56:31.346305Z",
     "iopub.status.busy": "2021-05-23T13:56:31.345457Z",
     "iopub.status.idle": "2021-05-23T13:56:31.355470Z",
     "shell.execute_reply": "2021-05-23T13:56:31.356106Z",
     "shell.execute_reply.started": "2021-05-23T10:08:05.893765Z"
    },
    "papermill": {
     "duration": 0.330755,
     "end_time": "2021-05-23T13:56:31.356302",
     "exception": false,
     "start_time": "2021-05-23T13:56:31.025547",
     "status": "completed"
    },
    "tags": []
   },
   "outputs": [],
   "source": [
    "df_cat = df1.select_dtypes(include=object)\n",
    "print(df_cat.shape)\n",
    "df_cat.columns"
   ]
  },
  {
   "cell_type": "code",
   "execution_count": null,
   "id": "thorough-addiction",
   "metadata": {
    "execution": {
     "iopub.execute_input": "2021-05-23T13:56:31.999487Z",
     "iopub.status.busy": "2021-05-23T13:56:31.995282Z",
     "iopub.status.idle": "2021-05-23T13:56:32.003105Z",
     "shell.execute_reply": "2021-05-23T13:56:32.002665Z",
     "shell.execute_reply.started": "2021-05-23T10:08:05.905001Z"
    },
    "papermill": {
     "duration": 0.326503,
     "end_time": "2021-05-23T13:56:32.003229",
     "exception": false,
     "start_time": "2021-05-23T13:56:31.676726",
     "status": "completed"
    },
    "tags": []
   },
   "outputs": [],
   "source": [
    "# Removing subgrade column as it will be equivalent to the Grade column\n",
    "df_cat.drop(columns=\"sub_grade\", inplace=True)\n",
    "df_cat.shape"
   ]
  },
  {
   "cell_type": "code",
   "execution_count": null,
   "id": "purple-prevention",
   "metadata": {
    "execution": {
     "iopub.execute_input": "2021-05-23T13:56:32.641711Z",
     "iopub.status.busy": "2021-05-23T13:56:32.641141Z",
     "iopub.status.idle": "2021-05-23T13:56:32.662684Z",
     "shell.execute_reply": "2021-05-23T13:56:32.663134Z",
     "shell.execute_reply.started": "2021-05-23T10:08:05.920038Z"
    },
    "papermill": {
     "duration": 0.352545,
     "end_time": "2021-05-23T13:56:32.663294",
     "exception": false,
     "start_time": "2021-05-23T13:56:32.310749",
     "status": "completed"
    },
    "tags": []
   },
   "outputs": [],
   "source": [
    "# Performing encoding for the columns\n",
    "df_dummies = pd.get_dummies(\n",
    "    df_cat[\n",
    "        [\n",
    "            \"home_ownership\",\n",
    "            \"grade\",\n",
    "            \"verification_status\",\n",
    "            \"term_months\",\n",
    "            \"initial_list_status\",\n",
    "        ]\n",
    "    ],\n",
    "    drop_first=True,\n",
    ")\n",
    "df_dummies.shape"
   ]
  },
  {
   "cell_type": "code",
   "execution_count": null,
   "id": "hollow-gender",
   "metadata": {
    "execution": {
     "iopub.execute_input": "2021-05-23T13:56:33.294512Z",
     "iopub.status.busy": "2021-05-23T13:56:33.293963Z",
     "iopub.status.idle": "2021-05-23T13:56:33.306328Z",
     "shell.execute_reply": "2021-05-23T13:56:33.306735Z",
     "shell.execute_reply.started": "2021-05-23T10:08:05.958661Z"
    },
    "papermill": {
     "duration": 0.331966,
     "end_time": "2021-05-23T13:56:33.306873",
     "exception": false,
     "start_time": "2021-05-23T13:56:32.974907",
     "status": "completed"
    },
    "tags": []
   },
   "outputs": [],
   "source": [
    "# Performing label encoding for Addr_state\n",
    "state = df_cat[\"addr_state\"].unique()\n",
    "add_dict = {}\n",
    "j = 1\n",
    "for i in state:\n",
    "    add_dict[i] = j\n",
    "    j = j + 1\n",
    "df_cat[\"addr_state\"] = df_cat[\"addr_state\"].map(add_dict)"
   ]
  },
  {
   "cell_type": "code",
   "execution_count": null,
   "id": "promotional-wheel",
   "metadata": {
    "execution": {
     "iopub.execute_input": "2021-05-23T13:56:33.959647Z",
     "iopub.status.busy": "2021-05-23T13:56:33.959118Z",
     "iopub.status.idle": "2021-05-23T13:56:33.971420Z",
     "shell.execute_reply": "2021-05-23T13:56:33.971878Z",
     "shell.execute_reply.started": "2021-05-23T10:08:05.974280Z"
    },
    "papermill": {
     "duration": 0.354373,
     "end_time": "2021-05-23T13:56:33.972032",
     "exception": false,
     "start_time": "2021-05-23T13:56:33.617659",
     "status": "completed"
    },
    "tags": []
   },
   "outputs": [],
   "source": [
    "# Performing label encoding for purpose\n",
    "purpose = df_cat[\"purpose\"].unique()\n",
    "purpose_dict = {}\n",
    "j = 1\n",
    "for i in purpose:\n",
    "    purpose_dict[i] = j\n",
    "    j = j + 1\n",
    "df_cat[\"purpose\"] = df_cat[\"purpose\"].map(purpose_dict)"
   ]
  },
  {
   "cell_type": "code",
   "execution_count": null,
   "id": "falling-surprise",
   "metadata": {
    "execution": {
     "iopub.execute_input": "2021-05-23T13:56:34.597746Z",
     "iopub.status.busy": "2021-05-23T13:56:34.597179Z",
     "iopub.status.idle": "2021-05-23T13:56:34.605324Z",
     "shell.execute_reply": "2021-05-23T13:56:34.605781Z",
     "shell.execute_reply.started": "2021-05-23T10:08:05.994881Z"
    },
    "papermill": {
     "duration": 0.326785,
     "end_time": "2021-05-23T13:56:34.605922",
     "exception": false,
     "start_time": "2021-05-23T13:56:34.279137",
     "status": "completed"
    },
    "tags": []
   },
   "outputs": [],
   "source": [
    "# Dropping columns home_ownership,verification_status,term_months,grade\n",
    "df_cat.drop(\n",
    "    columns=[\n",
    "        \"home_ownership\",\n",
    "        \"grade\",\n",
    "        \"verification_status\",\n",
    "        \"term_months\",\n",
    "        \"loan_status\",\n",
    "    ],\n",
    "    inplace=True,\n",
    ")\n",
    "\n",
    "# concatenating the df_dummies, df_cat\n",
    "df_cat = pd.concat([df_cat, df_dummies], axis=1)\n",
    "df_cat.shape"
   ]
  },
  {
   "cell_type": "code",
   "execution_count": null,
   "id": "remarkable-company",
   "metadata": {
    "execution": {
     "iopub.execute_input": "2021-05-23T13:56:35.224627Z",
     "iopub.status.busy": "2021-05-23T13:56:35.224092Z",
     "iopub.status.idle": "2021-05-23T13:56:35.235547Z",
     "shell.execute_reply": "2021-05-23T13:56:35.236090Z",
     "shell.execute_reply.started": "2021-05-23T10:08:06.006620Z"
    },
    "papermill": {
     "duration": 0.326029,
     "end_time": "2021-05-23T13:56:35.236240",
     "exception": false,
     "start_time": "2021-05-23T13:56:34.910211",
     "status": "completed"
    },
    "scrolled": true,
    "tags": []
   },
   "outputs": [],
   "source": [
    "df_cat.head()"
   ]
  },
  {
   "attachments": {},
   "cell_type": "markdown",
   "id": "sudden-smith",
   "metadata": {
    "papermill": {
     "duration": 0.312926,
     "end_time": "2021-05-23T13:56:35.865123",
     "exception": false,
     "start_time": "2021-05-23T13:56:35.552197",
     "status": "completed"
    },
    "tags": []
   },
   "source": [
    "# Feature selection "
   ]
  },
  {
   "cell_type": "code",
   "execution_count": null,
   "id": "instant-patch",
   "metadata": {
    "execution": {
     "iopub.execute_input": "2021-05-23T13:56:36.496796Z",
     "iopub.status.busy": "2021-05-23T13:56:36.496216Z",
     "iopub.status.idle": "2021-05-23T13:56:37.166552Z",
     "shell.execute_reply": "2021-05-23T13:56:37.165908Z",
     "shell.execute_reply.started": "2021-05-23T10:08:06.023091Z"
    },
    "papermill": {
     "duration": 0.990231,
     "end_time": "2021-05-23T13:56:37.166670",
     "exception": false,
     "start_time": "2021-05-23T13:56:36.176439",
     "status": "completed"
    },
    "tags": []
   },
   "outputs": [],
   "source": [
    "from sklearn.feature_selection import mutual_info_classif, mutual_info_regression\n",
    "from mlxtend.feature_selection import SequentialFeatureSelector\n",
    "from sklearn.linear_model import LogisticRegression"
   ]
  },
  {
   "cell_type": "code",
   "execution_count": null,
   "id": "urban-cologne",
   "metadata": {
    "execution": {
     "iopub.execute_input": "2021-05-23T13:56:37.805896Z",
     "iopub.status.busy": "2021-05-23T13:56:37.805046Z",
     "iopub.status.idle": "2021-05-23T13:56:39.171498Z",
     "shell.execute_reply": "2021-05-23T13:56:39.171079Z",
     "shell.execute_reply.started": "2021-05-23T10:08:06.417439Z"
    },
    "papermill": {
     "duration": 1.697212,
     "end_time": "2021-05-23T13:56:39.171613",
     "exception": false,
     "start_time": "2021-05-23T13:56:37.474401",
     "status": "completed"
    },
    "tags": []
   },
   "outputs": [],
   "source": [
    "plt.figure(figsize=(15, 8))\n",
    "sns.heatmap(df_num.corr(), annot=True)"
   ]
  },
  {
   "cell_type": "code",
   "execution_count": null,
   "id": "tamil-payday",
   "metadata": {
    "execution": {
     "iopub.execute_input": "2021-05-23T13:56:39.808744Z",
     "iopub.status.busy": "2021-05-23T13:56:39.807713Z",
     "iopub.status.idle": "2021-05-23T13:56:40.894554Z",
     "shell.execute_reply": "2021-05-23T13:56:40.895010Z",
     "shell.execute_reply.started": "2021-05-23T10:08:07.863092Z"
    },
    "papermill": {
     "duration": 1.408083,
     "end_time": "2021-05-23T13:56:40.895171",
     "exception": false,
     "start_time": "2021-05-23T13:56:39.487088",
     "status": "completed"
    },
    "tags": []
   },
   "outputs": [],
   "source": [
    "# The features of loan_amnt, funded_amnt_inv, installment have high correlation. So dropping two columns among them\n",
    "plt.figure(figsize=(15, 8))\n",
    "sns.heatmap(df_num.drop(columns=[\"loan_amnt\", \"installment\"]).corr(), annot=True)"
   ]
  },
  {
   "attachments": {},
   "cell_type": "markdown",
   "id": "metropolitan-harvey",
   "metadata": {
    "papermill": {
     "duration": 0.318005,
     "end_time": "2021-05-23T13:56:41.540938",
     "exception": false,
     "start_time": "2021-05-23T13:56:41.222933",
     "status": "completed"
    },
    "tags": []
   },
   "source": [
    "using feature selection technique from sklearn to check importance of features for numerical columns"
   ]
  },
  {
   "cell_type": "code",
   "execution_count": null,
   "id": "adverse-contract",
   "metadata": {
    "execution": {
     "iopub.execute_input": "2021-05-23T13:56:42.191510Z",
     "iopub.status.busy": "2021-05-23T13:56:42.190841Z",
     "iopub.status.idle": "2021-05-23T13:56:42.206670Z",
     "shell.execute_reply": "2021-05-23T13:56:42.207243Z",
     "shell.execute_reply.started": "2021-05-23T10:08:09.047939Z"
    },
    "papermill": {
     "duration": 0.346536,
     "end_time": "2021-05-23T13:56:42.207406",
     "exception": false,
     "start_time": "2021-05-23T13:56:41.860870",
     "status": "completed"
    },
    "tags": []
   },
   "outputs": [],
   "source": [
    "# Extacting y variable and encoding it. Checking the feature importances of numerical variables\n",
    "# Goal is to find loan defaulters so changed off=1 , fully paid=0\n",
    "y = df1[\"loan_status\"]\n",
    "y = y.replace({\"Charged Off\": 1, \"Fully Paid\": 0})"
   ]
  },
  {
   "cell_type": "code",
   "execution_count": null,
   "id": "f609f0b7",
   "metadata": {},
   "outputs": [],
   "source": [
    "df_num.fillna(0, inplace=True)"
   ]
  },
  {
   "cell_type": "code",
   "execution_count": null,
   "id": "52a6f8df",
   "metadata": {},
   "outputs": [],
   "source": [
    "df_num.isna().sum()"
   ]
  },
  {
   "cell_type": "code",
   "execution_count": null,
   "id": "historical-battle",
   "metadata": {
    "execution": {
     "iopub.execute_input": "2021-05-23T13:56:42.864839Z",
     "iopub.status.busy": "2021-05-23T13:56:42.864312Z",
     "iopub.status.idle": "2021-05-23T13:56:47.274706Z",
     "shell.execute_reply": "2021-05-23T13:56:47.274166Z",
     "shell.execute_reply.started": "2021-05-23T10:08:09.075810Z"
    },
    "papermill": {
     "duration": 4.748151,
     "end_time": "2021-05-23T13:56:47.274836",
     "exception": false,
     "start_time": "2021-05-23T13:56:42.526685",
     "status": "completed"
    },
    "tags": []
   },
   "outputs": [],
   "source": [
    "feature_importances_ = mutual_info_regression(df_num, y)"
   ]
  },
  {
   "cell_type": "code",
   "execution_count": null,
   "id": "architectural-hollow",
   "metadata": {
    "execution": {
     "iopub.execute_input": "2021-05-23T13:56:47.949147Z",
     "iopub.status.busy": "2021-05-23T13:56:47.941435Z",
     "iopub.status.idle": "2021-05-23T13:56:48.146826Z",
     "shell.execute_reply": "2021-05-23T13:56:48.146344Z",
     "shell.execute_reply.started": "2021-05-23T10:08:13.898631Z"
    },
    "papermill": {
     "duration": 0.550423,
     "end_time": "2021-05-23T13:56:48.146957",
     "exception": false,
     "start_time": "2021-05-23T13:56:47.596534",
     "status": "completed"
    },
    "tags": []
   },
   "outputs": [],
   "source": [
    "features_importances = pd.Series(\n",
    "    feature_importances_, df_num.columns[0 : len(df_num.columns)]\n",
    ")\n",
    "features_importances.plot(kind=\"barh\")\n",
    "plt.show()"
   ]
  },
  {
   "attachments": {},
   "cell_type": "markdown",
   "id": "committed-somerset",
   "metadata": {
    "papermill": {
     "duration": 0.318223,
     "end_time": "2021-05-23T13:56:48.790662",
     "exception": false,
     "start_time": "2021-05-23T13:56:48.472439",
     "status": "completed"
    },
    "tags": []
   },
   "source": [
    "From above graph we see that installment has high importance than funded_amnt_inv, loan_amnt. So keeping installment and removing other two columns in order to reduce multicollinearity"
   ]
  },
  {
   "cell_type": "code",
   "execution_count": null,
   "id": "correct-norfolk",
   "metadata": {
    "execution": {
     "iopub.execute_input": "2021-05-23T13:56:49.443841Z",
     "iopub.status.busy": "2021-05-23T13:56:49.443293Z",
     "iopub.status.idle": "2021-05-23T13:56:50.512097Z",
     "shell.execute_reply": "2021-05-23T13:56:50.512559Z",
     "shell.execute_reply.started": "2021-05-23T10:08:14.120649Z"
    },
    "papermill": {
     "duration": 1.398588,
     "end_time": "2021-05-23T13:56:50.512711",
     "exception": false,
     "start_time": "2021-05-23T13:56:49.114123",
     "status": "completed"
    },
    "tags": []
   },
   "outputs": [],
   "source": [
    "plt.figure(figsize=(12, 7))\n",
    "sns.heatmap(df_num.drop(columns=[\"funded_amnt_inv\", \"loan_amnt\"]).corr(), annot=True)"
   ]
  },
  {
   "cell_type": "code",
   "execution_count": null,
   "id": "52fead9f",
   "metadata": {},
   "outputs": [],
   "source": [
    "df_cat.drop(columns=[\"initial_list_status\"], inplace=True)"
   ]
  },
  {
   "cell_type": "code",
   "execution_count": null,
   "id": "invalid-preference",
   "metadata": {
    "execution": {
     "iopub.execute_input": "2021-05-23T13:56:51.161709Z",
     "iopub.status.busy": "2021-05-23T13:56:51.161130Z",
     "iopub.status.idle": "2021-05-23T13:56:54.361753Z",
     "shell.execute_reply": "2021-05-23T13:56:54.361113Z",
     "shell.execute_reply.started": "2021-05-23T10:08:15.318738Z"
    },
    "papermill": {
     "duration": 3.527771,
     "end_time": "2021-05-23T13:56:54.361880",
     "exception": false,
     "start_time": "2021-05-23T13:56:50.834109",
     "status": "completed"
    },
    "tags": []
   },
   "outputs": [],
   "source": [
    "# Calculating the feature importance for categorical columns\n",
    "feature_importances_cat = mutual_info_classif(df_cat, y)\n",
    "features_importances_cat = pd.Series(\n",
    "    feature_importances_cat, df_cat.columns[0 : len(df_cat.columns)]\n",
    ")\n",
    "features_importances_cat.plot(kind=\"barh\")\n",
    "plt.show()"
   ]
  },
  {
   "cell_type": "code",
   "execution_count": null,
   "id": "technological-wrist",
   "metadata": {
    "execution": {
     "iopub.execute_input": "2021-05-23T13:56:55.031223Z",
     "iopub.status.busy": "2021-05-23T13:56:55.029615Z",
     "iopub.status.idle": "2021-05-23T13:56:55.052992Z",
     "shell.execute_reply": "2021-05-23T13:56:55.052462Z",
     "shell.execute_reply.started": "2021-05-23T10:08:18.821174Z"
    },
    "papermill": {
     "duration": 0.358703,
     "end_time": "2021-05-23T13:56:55.053127",
     "exception": false,
     "start_time": "2021-05-23T13:56:54.694424",
     "status": "completed"
    },
    "tags": []
   },
   "outputs": [],
   "source": [
    "# Concating the df_num,df_cat to a single dataframe\n",
    "df2 = pd.concat([df_num, df_cat], axis=1)\n",
    "print(df2.shape)\n",
    "df2.head()"
   ]
  },
  {
   "cell_type": "code",
   "execution_count": null,
   "id": "pleasant-burlington",
   "metadata": {
    "execution": {
     "iopub.execute_input": "2021-05-23T13:56:55.718676Z",
     "iopub.status.busy": "2021-05-23T13:56:55.718115Z",
     "iopub.status.idle": "2021-05-23T14:07:10.019785Z",
     "shell.execute_reply": "2021-05-23T14:07:10.020264Z",
     "shell.execute_reply.started": "2021-05-23T10:08:18.850186Z"
    },
    "papermill": {
     "duration": 614.636316,
     "end_time": "2021-05-23T14:07:10.020533",
     "exception": false,
     "start_time": "2021-05-23T13:56:55.384217",
     "status": "completed"
    },
    "tags": []
   },
   "outputs": [],
   "source": [
    "# #Using Sequential Feature selection technique and applying forward substitution\n",
    "# lr=LogisticRegression()\n",
    "# sfs_forward=SequentialFeatureSelector(lr,k_features=25)\n",
    "# sfs_forward.fit(df2,y)\n",
    "# sfs_forward.k_feature_names_"
   ]
  },
  {
   "cell_type": "code",
   "execution_count": null,
   "id": "correct-blowing",
   "metadata": {
    "execution": {
     "iopub.execute_input": "2021-05-23T14:07:10.682429Z",
     "iopub.status.busy": "2021-05-23T14:07:10.681819Z",
     "iopub.status.idle": "2021-05-23T14:12:21.423478Z",
     "shell.execute_reply": "2021-05-23T14:12:21.423968Z",
     "shell.execute_reply.started": "2021-05-23T10:19:37.007327Z"
    },
    "papermill": {
     "duration": 311.078257,
     "end_time": "2021-05-23T14:12:21.424154",
     "exception": false,
     "start_time": "2021-05-23T14:07:10.345897",
     "status": "completed"
    },
    "tags": []
   },
   "outputs": [],
   "source": [
    "# #Using Sequential Feature selection technique and applying backward elimination\n",
    "# sfs_backward=SequentialFeatureSelector(lr,k_features=25,forward=False)\n",
    "# sfs_backward.fit(df2,y)\n",
    "# sfs_backward.k_feature_names_"
   ]
  },
  {
   "cell_type": "code",
   "execution_count": null,
   "id": "comparative-halifax",
   "metadata": {
    "execution": {
     "iopub.execute_input": "2021-05-23T14:12:22.129615Z",
     "iopub.status.busy": "2021-05-23T14:12:22.128812Z",
     "iopub.status.idle": "2021-05-23T14:12:22.132520Z",
     "shell.execute_reply": "2021-05-23T14:12:22.131821Z",
     "shell.execute_reply.started": "2021-05-23T10:25:31.308653Z"
    },
    "papermill": {
     "duration": 0.385137,
     "end_time": "2021-05-23T14:12:22.132686",
     "exception": false,
     "start_time": "2021-05-23T14:12:21.747549",
     "status": "completed"
    },
    "tags": []
   },
   "outputs": [],
   "source": [
    "# The final set of features obtained are stored in features variable. The final set is obtained from the combination of columns\n",
    "# that are common in sfs_backward,sfs_forward,mutual_info algorithm\n",
    "features = [\n",
    "    \"loan_amnt\",\n",
    "    \"funded_amnt_inv\",\n",
    "    \"dti\",\n",
    "    \"inq_last_6mths\",\n",
    "    \"pub_rec\",\n",
    "    \"int_rate\",\n",
    "    \"revol_util\",\n",
    "    \"purpose\",\n",
    "    \"home_ownership_OTHER\",\n",
    "    \"home_ownership_OWN\",\n",
    "    \"home_ownership_RENT\",\n",
    "    \"grade_C\",\n",
    "    \"grade_D\",\n",
    "    \"grade_E\",\n",
    "    \"verification_status_Verified\",\n",
    "    \"term_months_ 60 \",\n",
    "    \"grade_B\",\n",
    "    \"grade_G\",\n",
    "    \"earliest_cr_line_month\",\n",
    "    \"earliest_cr_line_year\",\n",
    "    \"open_acc\",\n",
    "    \"addr_state\",\n",
    "    \"grade_F\",\n",
    "    \"issue_date_year\",\n",
    "    \"issue_date_month\",\n",
    "]\n",
    "print(\"The number of features are:\", len(features))"
   ]
  },
  {
   "attachments": {},
   "cell_type": "markdown",
   "id": "amino-kingdom",
   "metadata": {
    "papermill": {
     "duration": 0.347195,
     "end_time": "2021-05-23T14:12:23.454142",
     "exception": false,
     "start_time": "2021-05-23T14:12:23.106947",
     "status": "completed"
    },
    "tags": []
   },
   "source": [
    "# Scaling the features"
   ]
  },
  {
   "cell_type": "code",
   "execution_count": null,
   "id": "laughing-underground",
   "metadata": {
    "execution": {
     "iopub.execute_input": "2021-05-23T14:12:24.105534Z",
     "iopub.status.busy": "2021-05-23T14:12:24.104900Z",
     "iopub.status.idle": "2021-05-23T14:12:24.120503Z",
     "shell.execute_reply": "2021-05-23T14:12:24.120901Z",
     "shell.execute_reply.started": "2021-05-23T10:25:31.318746Z"
    },
    "papermill": {
     "duration": 0.344804,
     "end_time": "2021-05-23T14:12:24.121055",
     "exception": false,
     "start_time": "2021-05-23T14:12:23.776251",
     "status": "completed"
    },
    "tags": []
   },
   "outputs": [],
   "source": [
    "from sklearn.preprocessing import StandardScaler\n",
    "\n",
    "sc = StandardScaler()\n",
    "x = df2[features]\n",
    "x_num = x.loc[\n",
    "    :,\n",
    "    [\n",
    "        \"loan_amnt\",\n",
    "        \"funded_amnt_inv\",\n",
    "        \"dti\",\n",
    "        \"int_rate\",\n",
    "        \"revol_util\",\n",
    "    ],\n",
    "]\n",
    "x_num = pd.DataFrame(sc.fit_transform(x_num), columns=x_num.columns)\n",
    "x_num.head()"
   ]
  },
  {
   "cell_type": "code",
   "execution_count": null,
   "id": "blind-aggregate",
   "metadata": {
    "execution": {
     "iopub.execute_input": "2021-05-23T14:12:24.769148Z",
     "iopub.status.busy": "2021-05-23T14:12:24.768586Z",
     "iopub.status.idle": "2021-05-23T14:12:24.790715Z",
     "shell.execute_reply": "2021-05-23T14:12:24.791134Z",
     "shell.execute_reply.started": "2021-05-23T10:25:31.361832Z"
    },
    "papermill": {
     "duration": 0.351368,
     "end_time": "2021-05-23T14:12:24.791270",
     "exception": false,
     "start_time": "2021-05-23T14:12:24.439902",
     "status": "completed"
    },
    "scrolled": true,
    "tags": []
   },
   "outputs": [],
   "source": [
    "# The final transformed independent variables\n",
    "x_sc = pd.concat([x_num, x.drop(columns=x_num.columns)], axis=1)\n",
    "print(x_sc.shape)\n",
    "x_sc.head()"
   ]
  },
  {
   "attachments": {},
   "cell_type": "markdown",
   "id": "heard-analysis",
   "metadata": {
    "papermill": {
     "duration": 0.315074,
     "end_time": "2021-05-23T14:12:25.424834",
     "exception": false,
     "start_time": "2021-05-23T14:12:25.109760",
     "status": "completed"
    },
    "tags": []
   },
   "source": [
    "# Balancing the dataset"
   ]
  },
  {
   "attachments": {},
   "cell_type": "markdown",
   "id": "fixed-female",
   "metadata": {
    "papermill": {
     "duration": 0.318964,
     "end_time": "2021-05-23T14:12:26.066450",
     "exception": false,
     "start_time": "2021-05-23T14:12:25.747486",
     "status": "completed"
    },
    "tags": []
   },
   "source": [
    "The project on loan default model is very much analagous to the defect or disease capturing models where there will be always more data on OK and only fewer example data on NOT OK or default issues. Such data is the natural data on a practical real life situation and hence does not need tp be balanced."
   ]
  },
  {
   "attachments": {},
   "cell_type": "markdown",
   "id": "departmental-ethnic",
   "metadata": {
    "papermill": {
     "duration": 0.318982,
     "end_time": "2021-05-23T14:12:26.701883",
     "exception": false,
     "start_time": "2021-05-23T14:12:26.382901",
     "status": "completed"
    },
    "tags": []
   },
   "source": [
    "## Train test split"
   ]
  },
  {
   "cell_type": "code",
   "execution_count": null,
   "id": "loose-invasion",
   "metadata": {
    "execution": {
     "iopub.execute_input": "2021-05-23T14:12:27.361393Z",
     "iopub.status.busy": "2021-05-23T14:12:27.360788Z",
     "iopub.status.idle": "2021-05-23T14:12:27.373562Z",
     "shell.execute_reply": "2021-05-23T14:12:27.373962Z",
     "shell.execute_reply.started": "2021-05-23T10:25:31.405223Z"
    },
    "papermill": {
     "duration": 0.341194,
     "end_time": "2021-05-23T14:12:27.374122",
     "exception": false,
     "start_time": "2021-05-23T14:12:27.032928",
     "status": "completed"
    },
    "tags": []
   },
   "outputs": [],
   "source": [
    "from sklearn.model_selection import train_test_split\n",
    "\n",
    "xtrain, xtest, ytrain, ytest = train_test_split(x_sc, y, test_size=0.3, random_state=10)"
   ]
  },
  {
   "attachments": {},
   "cell_type": "markdown",
   "id": "expensive-machinery",
   "metadata": {
    "papermill": {
     "duration": 0.320138,
     "end_time": "2021-05-23T14:12:28.018820",
     "exception": false,
     "start_time": "2021-05-23T14:12:27.698682",
     "status": "completed"
    },
    "tags": []
   },
   "source": [
    "# Building the models"
   ]
  },
  {
   "cell_type": "code",
   "execution_count": null,
   "id": "failing-bridal",
   "metadata": {
    "execution": {
     "iopub.execute_input": "2021-05-23T14:12:28.663867Z",
     "iopub.status.busy": "2021-05-23T14:12:28.663327Z",
     "iopub.status.idle": "2021-05-23T14:12:28.976480Z",
     "shell.execute_reply": "2021-05-23T14:12:28.975939Z",
     "shell.execute_reply.started": "2021-05-23T10:25:31.425968Z"
    },
    "papermill": {
     "duration": 0.635809,
     "end_time": "2021-05-23T14:12:28.976599",
     "exception": false,
     "start_time": "2021-05-23T14:12:28.340790",
     "status": "completed"
    },
    "tags": []
   },
   "outputs": [],
   "source": [
    "from sklearn.neighbors import KNeighborsClassifier\n",
    "from sklearn.model_selection import cross_val_score, GridSearchCV, RepeatedKFold\n",
    "from sklearn.metrics import (\n",
    "    accuracy_score,\n",
    "    auc,\n",
    "    roc_auc_score,\n",
    "    roc_curve,\n",
    "    classification_report,\n",
    "    confusion_matrix,\n",
    "    f1_score,\n",
    ")\n",
    "from sklearn.metrics import precision_score, recall_score\n",
    "from sklearn.tree import DecisionTreeClassifier\n",
    "from xgboost import XGBClassifier\n",
    "from sklearn.ensemble import GradientBoostingClassifier, RandomForestClassifier\n",
    "from sklearn.linear_model import LogisticRegression\n",
    "from sklearn.naive_bayes import GaussianNB\n",
    "from sklearn.neighbors import KNeighborsClassifier\n",
    "import warnings\n",
    "\n",
    "warnings.filterwarnings(\"ignore\")"
   ]
  },
  {
   "attachments": {},
   "cell_type": "markdown",
   "id": "institutional-passage",
   "metadata": {
    "papermill": {
     "duration": 0.326152,
     "end_time": "2021-05-23T14:12:29.645451",
     "exception": false,
     "start_time": "2021-05-23T14:12:29.319299",
     "status": "completed"
    },
    "tags": []
   },
   "source": [
    "# Decision Tree BASE MODEL"
   ]
  },
  {
   "cell_type": "code",
   "execution_count": null,
   "id": "breeding-record",
   "metadata": {
    "execution": {
     "iopub.execute_input": "2021-05-23T14:12:30.300968Z",
     "iopub.status.busy": "2021-05-23T14:12:30.300418Z",
     "iopub.status.idle": "2021-05-23T14:12:31.343766Z",
     "shell.execute_reply": "2021-05-23T14:12:31.344230Z",
     "shell.execute_reply.started": "2021-05-23T10:25:31.766410Z"
    },
    "papermill": {
     "duration": 1.37464,
     "end_time": "2021-05-23T14:12:31.344405",
     "exception": false,
     "start_time": "2021-05-23T14:12:29.969765",
     "status": "completed"
    },
    "tags": []
   },
   "outputs": [],
   "source": [
    "# cross validation for random forest model to find out bias & variance error\n",
    "dt = DecisionTreeClassifier(random_state=10)\n",
    "score = cross_val_score(dt, xtrain, ytrain, scoring=\"accuracy\")\n",
    "bias = np.mean(1 - score)\n",
    "var = np.std(score)\n",
    "print(\"Bias error     :\", bias)\n",
    "print(\"variance error :\", var)"
   ]
  },
  {
   "cell_type": "code",
   "execution_count": null,
   "id": "casual-palace",
   "metadata": {
    "execution": {
     "iopub.execute_input": "2021-05-23T14:12:31.996698Z",
     "iopub.status.busy": "2021-05-23T14:12:31.996113Z",
     "iopub.status.idle": "2021-05-23T14:12:32.273082Z",
     "shell.execute_reply": "2021-05-23T14:12:32.273705Z",
     "shell.execute_reply.started": "2021-05-23T10:25:32.920115Z"
    },
    "papermill": {
     "duration": 0.607355,
     "end_time": "2021-05-23T14:12:32.273936",
     "exception": false,
     "start_time": "2021-05-23T14:12:31.666581",
     "status": "completed"
    },
    "tags": []
   },
   "outputs": [],
   "source": [
    "# building the model\n",
    "dt = DecisionTreeClassifier(random_state=10)\n",
    "dt.fit(xtrain, ytrain)\n",
    "ypred_dt = dt.predict(xtest)\n",
    "print(\"Training accuracy:\", dt.score(xtrain, ytrain))\n",
    "print(\"Testing accuracy :\", dt.score(xtest, ytest))"
   ]
  },
  {
   "cell_type": "code",
   "execution_count": null,
   "id": "thirty-advertiser",
   "metadata": {
    "execution": {
     "iopub.execute_input": "2021-05-23T14:12:32.931778Z",
     "iopub.status.busy": "2021-05-23T14:12:32.931043Z",
     "iopub.status.idle": "2021-05-23T14:12:33.060170Z",
     "shell.execute_reply": "2021-05-23T14:12:33.060557Z",
     "shell.execute_reply.started": "2021-05-23T10:25:33.234048Z"
    },
    "papermill": {
     "duration": 0.457778,
     "end_time": "2021-05-23T14:12:33.060704",
     "exception": false,
     "start_time": "2021-05-23T14:12:32.602926",
     "status": "completed"
    },
    "tags": []
   },
   "outputs": [],
   "source": [
    "ypred_full = dt.predict_proba(xtest)[:, 1]\n",
    "print(\"AUC-ROC Score : \", roc_auc_score(ytest, ypred_full))\n",
    "fpr, tpr, thresholds = roc_curve(ytest, ypred_full)\n",
    "plt.plot([0, 1], [0, 1], \"r--\")\n",
    "plt.plot(fpr, tpr)\n",
    "plt.grid(True)\n",
    "plt.show()"
   ]
  },
  {
   "cell_type": "code",
   "execution_count": null,
   "id": "neither-sustainability",
   "metadata": {
    "execution": {
     "iopub.execute_input": "2021-05-23T14:12:33.711156Z",
     "iopub.status.busy": "2021-05-23T14:12:33.710582Z",
     "iopub.status.idle": "2021-05-23T14:12:33.923668Z",
     "shell.execute_reply": "2021-05-23T14:12:33.924132Z",
     "shell.execute_reply.started": "2021-05-23T10:25:33.391689Z"
    },
    "papermill": {
     "duration": 0.54104,
     "end_time": "2021-05-23T14:12:33.924293",
     "exception": false,
     "start_time": "2021-05-23T14:12:33.383253",
     "status": "completed"
    },
    "tags": []
   },
   "outputs": [],
   "source": [
    "# Confusion matrix\n",
    "cm = pd.DataFrame(\n",
    "    data=confusion_matrix(ytest, ypred_dt),\n",
    "    columns=[\"ypred_0\", \"ypred_1\"],\n",
    "    index=[\"yactual_0\", \"yactual_1\"],\n",
    ")\n",
    "sns.heatmap(cm, annot=True)\n",
    "plt.show()"
   ]
  },
  {
   "cell_type": "code",
   "execution_count": null,
   "id": "divine-huntington",
   "metadata": {
    "execution": {
     "iopub.execute_input": "2021-05-23T14:12:34.600384Z",
     "iopub.status.busy": "2021-05-23T14:12:34.599833Z",
     "iopub.status.idle": "2021-05-23T14:12:34.646323Z",
     "shell.execute_reply": "2021-05-23T14:12:34.646934Z",
     "shell.execute_reply.started": "2021-05-23T10:25:33.639187Z"
    },
    "papermill": {
     "duration": 0.372973,
     "end_time": "2021-05-23T14:12:34.647136",
     "exception": false,
     "start_time": "2021-05-23T14:12:34.274163",
     "status": "completed"
    },
    "tags": []
   },
   "outputs": [],
   "source": [
    "# classification report for decison tree base model\n",
    "# list to save results of precision,recall,f1-score & accuracy\n",
    "report_list = []\n",
    "print(\"Confusion matrix:\")\n",
    "print(confusion_matrix(ytest, ypred_dt))\n",
    "print(\"Classification Report :\")\n",
    "cr1 = classification_report(ytest, ypred_dt, output_dict=True)\n",
    "report_list.append(\n",
    "    [\n",
    "        \"Decision Tree Base\",\n",
    "        cr1[\"0\"][\"precision\"],\n",
    "        cr1[\"0\"][\"recall\"],\n",
    "        cr1[\"0\"][\"f1-score\"],\n",
    "        cr1[\"1\"][\"precision\"],\n",
    "        cr1[\"1\"][\"recall\"],\n",
    "        cr1[\"1\"][\"f1-score\"],\n",
    "        cr1[\"accuracy\"],\n",
    "    ]\n",
    ")\n",
    "print(classification_report(ytest, ypred_dt))"
   ]
  },
  {
   "attachments": {},
   "cell_type": "markdown",
   "id": "marked-sweet",
   "metadata": {
    "papermill": {
     "duration": 0.367304,
     "end_time": "2021-05-23T14:12:35.333576",
     "exception": false,
     "start_time": "2021-05-23T14:12:34.966272",
     "status": "completed"
    },
    "tags": []
   },
   "source": [
    "## Decision Tree Hypertunned model"
   ]
  },
  {
   "cell_type": "code",
   "execution_count": null,
   "id": "delayed-worship",
   "metadata": {
    "execution": {
     "iopub.execute_input": "2021-05-23T14:12:35.996944Z",
     "iopub.status.busy": "2021-05-23T14:12:35.996366Z",
     "iopub.status.idle": "2021-05-23T14:14:01.284293Z",
     "shell.execute_reply": "2021-05-23T14:14:01.284732Z",
     "shell.execute_reply.started": "2021-05-23T10:25:33.694386Z"
    },
    "papermill": {
     "duration": 85.619542,
     "end_time": "2021-05-23T14:14:01.284890",
     "exception": false,
     "start_time": "2021-05-23T14:12:35.665348",
     "status": "completed"
    },
    "tags": []
   },
   "outputs": [],
   "source": [
    "# tunned model to find best parameters\n",
    "DT1 = DecisionTreeClassifier()\n",
    "param = {\"max_depth\": np.arange(3, 100), \"criterion\": [\"gini\", \"entropy\"]}\n",
    "\n",
    "gs = GridSearchCV(DT1, param_grid=param, scoring=\"roc_auc\", n_jobs=-1)\n",
    "gs.fit(xtrain, ytrain)\n",
    "gs.best_params_"
   ]
  },
  {
   "cell_type": "code",
   "execution_count": null,
   "id": "classical-karma",
   "metadata": {
    "execution": {
     "iopub.execute_input": "2021-05-23T14:14:01.930590Z",
     "iopub.status.busy": "2021-05-23T14:14:01.930000Z",
     "iopub.status.idle": "2021-05-23T14:15:23.746464Z",
     "shell.execute_reply": "2021-05-23T14:15:23.746951Z",
     "shell.execute_reply.started": "2021-05-23T10:27:08.811398Z"
    },
    "papermill": {
     "duration": 82.143017,
     "end_time": "2021-05-23T14:15:23.747122",
     "exception": false,
     "start_time": "2021-05-23T14:14:01.604105",
     "status": "completed"
    },
    "tags": []
   },
   "outputs": [],
   "source": [
    "# tunned model to find best parameters\n",
    "DT2 = DecisionTreeClassifier()\n",
    "param = {\"max_depth\": np.arange(3, 100), \"criterion\": [\"gini\", \"entropy\"]}\n",
    "\n",
    "gs = GridSearchCV(DT2, param_grid=param, scoring=\"f1_weighted\", n_jobs=-1)\n",
    "gs.fit(xtrain, ytrain)\n",
    "gs.best_params_"
   ]
  },
  {
   "cell_type": "code",
   "execution_count": null,
   "id": "peripheral-venice",
   "metadata": {
    "execution": {
     "iopub.execute_input": "2021-05-23T14:15:24.400400Z",
     "iopub.status.busy": "2021-05-23T14:15:24.399817Z",
     "iopub.status.idle": "2021-05-23T14:15:24.723610Z",
     "shell.execute_reply": "2021-05-23T14:15:24.724034Z",
     "shell.execute_reply.started": "2021-05-23T10:28:39.792338Z"
    },
    "papermill": {
     "duration": 0.653278,
     "end_time": "2021-05-23T14:15:24.724187",
     "exception": false,
     "start_time": "2021-05-23T14:15:24.070909",
     "status": "completed"
    },
    "tags": []
   },
   "outputs": [],
   "source": [
    "# cross validation for random forest model to find out bias & variance error\n",
    "\n",
    "DT1 = DecisionTreeClassifier(max_depth=4, criterion=\"entropy\", random_state=10)\n",
    "score1 = cross_val_score(DT1, xtrain, ytrain, scoring=\"roc_auc\")\n",
    "\n",
    "biasdt1 = np.mean(1 - score1)\n",
    "vardt1 = np.std(score1)\n",
    "\n",
    "print(\"Bias error     :\", biasdt1)\n",
    "print(\"variance error :\", vardt1)"
   ]
  },
  {
   "cell_type": "code",
   "execution_count": null,
   "id": "advisory-annex",
   "metadata": {
    "execution": {
     "iopub.execute_input": "2021-05-23T14:15:25.380333Z",
     "iopub.status.busy": "2021-05-23T14:15:25.379749Z",
     "iopub.status.idle": "2021-05-23T14:15:25.817936Z",
     "shell.execute_reply": "2021-05-23T14:15:25.817284Z",
     "shell.execute_reply.started": "2021-05-23T10:28:40.143623Z"
    },
    "papermill": {
     "duration": 0.760956,
     "end_time": "2021-05-23T14:15:25.818101",
     "exception": false,
     "start_time": "2021-05-23T14:15:25.057145",
     "status": "completed"
    },
    "tags": []
   },
   "outputs": [],
   "source": [
    "DT2 = DecisionTreeClassifier(max_depth=7, criterion=\"gini\", random_state=10)\n",
    "score2 = cross_val_score(DT2, xtrain, ytrain, scoring=\"f1_weighted\")\n",
    "\n",
    "biasdt2 = np.mean(1 - score2)\n",
    "vardt2 = np.std(score2)\n",
    "\n",
    "print(\"Bias error     :\", biasdt2)\n",
    "print(\"variance error :\", vardt2)"
   ]
  },
  {
   "cell_type": "code",
   "execution_count": null,
   "id": "defensive-glucose",
   "metadata": {
    "execution": {
     "iopub.execute_input": "2021-05-23T14:15:26.471116Z",
     "iopub.status.busy": "2021-05-23T14:15:26.470514Z",
     "iopub.status.idle": "2021-05-23T14:15:26.545814Z",
     "shell.execute_reply": "2021-05-23T14:15:26.546242Z",
     "shell.execute_reply.started": "2021-05-23T10:28:40.630899Z"
    },
    "papermill": {
     "duration": 0.402164,
     "end_time": "2021-05-23T14:15:26.546388",
     "exception": false,
     "start_time": "2021-05-23T14:15:26.144224",
     "status": "completed"
    },
    "tags": []
   },
   "outputs": [],
   "source": [
    "DT1 = DecisionTreeClassifier(max_depth=4, criterion=\"entropy\", random_state=10)\n",
    "DT1.fit(xtrain, ytrain)\n",
    "# ypred_DT1=DT1.predict(xtest)\n",
    "print(\"Training accuracy:\", DT1.score(xtrain, ytrain))\n",
    "print(\"Testing accuracy :\", DT1.score(xtest, ytest))"
   ]
  },
  {
   "cell_type": "code",
   "execution_count": null,
   "id": "rising-concert",
   "metadata": {
    "execution": {
     "iopub.execute_input": "2021-05-23T14:15:27.195355Z",
     "iopub.status.busy": "2021-05-23T14:15:27.194811Z",
     "iopub.status.idle": "2021-05-23T14:15:27.303916Z",
     "shell.execute_reply": "2021-05-23T14:15:27.304366Z",
     "shell.execute_reply.started": "2021-05-23T10:28:40.722955Z"
    },
    "papermill": {
     "duration": 0.438291,
     "end_time": "2021-05-23T14:15:27.304544",
     "exception": false,
     "start_time": "2021-05-23T14:15:26.866253",
     "status": "completed"
    },
    "tags": []
   },
   "outputs": [],
   "source": [
    "DT2 = DecisionTreeClassifier(max_depth=7, criterion=\"gini\", random_state=10)\n",
    "DT2.fit(xtrain, ytrain)\n",
    "# ypred_DT1=DT1.predict(xtest)\n",
    "print(\"Training accuracy:\", DT2.score(xtrain, ytrain))\n",
    "print(\"Testing accuracy :\", DT2.score(xtest, ytest))"
   ]
  },
  {
   "cell_type": "code",
   "execution_count": null,
   "id": "deadly-agency",
   "metadata": {
    "execution": {
     "iopub.execute_input": "2021-05-23T14:15:27.959809Z",
     "iopub.status.busy": "2021-05-23T14:15:27.959261Z",
     "iopub.status.idle": "2021-05-23T14:15:28.084633Z",
     "shell.execute_reply": "2021-05-23T14:15:28.085053Z",
     "shell.execute_reply.started": "2021-05-23T10:28:40.850133Z"
    },
    "papermill": {
     "duration": 0.45642,
     "end_time": "2021-05-23T14:15:28.085207",
     "exception": false,
     "start_time": "2021-05-23T14:15:27.628787",
     "status": "completed"
    },
    "tags": []
   },
   "outputs": [],
   "source": [
    "ypred_tunned = DT1.predict_proba(xtest)[:, 1]\n",
    "print(\"AUC-ROC Score : \", roc_auc_score(ytest, ypred_tunned))\n",
    "\n",
    "fpr, tpr, thresholds = roc_curve(ytest, ypred_tunned)\n",
    "\n",
    "plt.plot([0, 1], [0, 1], \"r--\")\n",
    "plt.plot(fpr, tpr)\n",
    "\n",
    "plt.grid(True)\n",
    "\n",
    "plt.show()"
   ]
  },
  {
   "cell_type": "code",
   "execution_count": null,
   "id": "manual-diversity",
   "metadata": {
    "execution": {
     "iopub.execute_input": "2021-05-23T14:15:28.743993Z",
     "iopub.status.busy": "2021-05-23T14:15:28.743373Z",
     "iopub.status.idle": "2021-05-23T14:15:28.869200Z",
     "shell.execute_reply": "2021-05-23T14:15:28.869721Z",
     "shell.execute_reply.started": "2021-05-23T10:28:41.001634Z"
    },
    "papermill": {
     "duration": 0.45894,
     "end_time": "2021-05-23T14:15:28.869901",
     "exception": false,
     "start_time": "2021-05-23T14:15:28.410961",
     "status": "completed"
    },
    "tags": []
   },
   "outputs": [],
   "source": [
    "ypred_tunned = DT2.predict_proba(xtest)[:, 1]\n",
    "print(\"AUC-ROC Score : \", roc_auc_score(ytest, ypred_tunned))\n",
    "\n",
    "fpr, tpr, thresholds = roc_curve(ytest, ypred_tunned)\n",
    "\n",
    "plt.plot([0, 1], [0, 1], \"r--\")\n",
    "plt.plot(fpr, tpr)\n",
    "\n",
    "plt.grid(True)\n",
    "\n",
    "plt.show()"
   ]
  },
  {
   "cell_type": "code",
   "execution_count": null,
   "id": "respected-walnut",
   "metadata": {
    "execution": {
     "iopub.execute_input": "2021-05-23T14:15:29.556528Z",
     "iopub.status.busy": "2021-05-23T14:15:29.555906Z",
     "iopub.status.idle": "2021-05-23T14:15:29.761974Z",
     "shell.execute_reply": "2021-05-23T14:15:29.761471Z",
     "shell.execute_reply.started": "2021-05-23T10:28:41.151961Z"
    },
    "papermill": {
     "duration": 0.557204,
     "end_time": "2021-05-23T14:15:29.762104",
     "exception": false,
     "start_time": "2021-05-23T14:15:29.204900",
     "status": "completed"
    },
    "tags": []
   },
   "outputs": [],
   "source": [
    "ypred_DT1 = DT1.predict(xtest)\n",
    "\n",
    "cm = pd.DataFrame(\n",
    "    data=confusion_matrix(ytest, ypred_DT1),\n",
    "    columns=[\"ypred_0\", \"ypred_1\"],\n",
    "    index=[\"yactual_0\", \"yactual_1\"],\n",
    ")\n",
    "sns.heatmap(cm, annot=True)\n",
    "plt.show()"
   ]
  },
  {
   "cell_type": "code",
   "execution_count": null,
   "id": "broad-keeping",
   "metadata": {
    "execution": {
     "iopub.execute_input": "2021-05-23T14:15:30.432920Z",
     "iopub.status.busy": "2021-05-23T14:15:30.432103Z",
     "iopub.status.idle": "2021-05-23T14:15:30.593988Z",
     "shell.execute_reply": "2021-05-23T14:15:30.594720Z",
     "shell.execute_reply.started": "2021-05-23T10:28:41.386649Z"
    },
    "papermill": {
     "duration": 0.500992,
     "end_time": "2021-05-23T14:15:30.594937",
     "exception": false,
     "start_time": "2021-05-23T14:15:30.093945",
     "status": "completed"
    },
    "tags": []
   },
   "outputs": [],
   "source": [
    "ypred_DT2 = DT2.predict(xtest)\n",
    "\n",
    "cm = pd.DataFrame(\n",
    "    data=confusion_matrix(ytest, ypred_DT2),\n",
    "    columns=[\"ypred_0\", \"ypred_1\"],\n",
    "    index=[\"yactual_0\", \"yactual_1\"],\n",
    ")\n",
    "sns.heatmap(cm, annot=True)\n",
    "plt.show()"
   ]
  },
  {
   "cell_type": "code",
   "execution_count": null,
   "id": "genuine-queensland",
   "metadata": {
    "execution": {
     "iopub.execute_input": "2021-05-23T14:15:31.269008Z",
     "iopub.status.busy": "2021-05-23T14:15:31.268433Z",
     "iopub.status.idle": "2021-05-23T14:15:31.298609Z",
     "shell.execute_reply": "2021-05-23T14:15:31.298203Z",
     "shell.execute_reply.started": "2021-05-23T10:28:41.617612Z"
    },
    "papermill": {
     "duration": 0.366548,
     "end_time": "2021-05-23T14:15:31.298735",
     "exception": false,
     "start_time": "2021-05-23T14:15:30.932187",
     "status": "completed"
    },
    "tags": []
   },
   "outputs": [],
   "source": [
    "# ROC-AUC SCORE TUNNED\n",
    "ypred_DT1 = DT1.predict(xtest)\n",
    "print(\"Classification Report :\")\n",
    "cr2 = classification_report(ytest, ypred_DT1, output_dict=True)\n",
    "report_list.append(\n",
    "    [\n",
    "        \"Decision Tree Tunned using ROC-AUC\",\n",
    "        cr2[\"0\"][\"precision\"],\n",
    "        cr2[\"0\"][\"recall\"],\n",
    "        cr2[\"0\"][\"f1-score\"],\n",
    "        cr2[\"1\"][\"precision\"],\n",
    "        cr2[\"1\"][\"recall\"],\n",
    "        cr2[\"1\"][\"f1-score\"],\n",
    "        cr2[\"accuracy\"],\n",
    "    ]\n",
    ")\n",
    "print(classification_report(ytest, ypred_DT1))"
   ]
  },
  {
   "cell_type": "code",
   "execution_count": null,
   "id": "dynamic-chemistry",
   "metadata": {
    "execution": {
     "iopub.execute_input": "2021-05-23T14:15:31.958234Z",
     "iopub.status.busy": "2021-05-23T14:15:31.957609Z",
     "iopub.status.idle": "2021-05-23T14:15:31.988182Z",
     "shell.execute_reply": "2021-05-23T14:15:31.988576Z",
     "shell.execute_reply.started": "2021-05-23T10:28:41.658376Z"
    },
    "papermill": {
     "duration": 0.365445,
     "end_time": "2021-05-23T14:15:31.988727",
     "exception": false,
     "start_time": "2021-05-23T14:15:31.623282",
     "status": "completed"
    },
    "tags": []
   },
   "outputs": [],
   "source": [
    "# F1-SCORE TUNNED\n",
    "ypred_DT2 = DT2.predict(xtest)\n",
    "print(\"Classification Report :\")\n",
    "cr3 = classification_report(ytest, ypred_DT2, output_dict=True)\n",
    "report_list.append(\n",
    "    [\n",
    "        \"Decision Tree Tunned using F1-Weighted\",\n",
    "        cr3[\"0\"][\"precision\"],\n",
    "        cr3[\"0\"][\"recall\"],\n",
    "        cr3[\"0\"][\"f1-score\"],\n",
    "        cr3[\"1\"][\"precision\"],\n",
    "        cr3[\"1\"][\"recall\"],\n",
    "        cr3[\"1\"][\"f1-score\"],\n",
    "        cr3[\"accuracy\"],\n",
    "    ]\n",
    ")\n",
    "print(classification_report(ytest, ypred_DT2))"
   ]
  },
  {
   "attachments": {},
   "cell_type": "markdown",
   "id": "foster-eleven",
   "metadata": {
    "papermill": {
     "duration": 0.328075,
     "end_time": "2021-05-23T14:15:32.644159",
     "exception": false,
     "start_time": "2021-05-23T14:15:32.316084",
     "status": "completed"
    },
    "tags": []
   },
   "source": [
    "# XGBoosting"
   ]
  },
  {
   "cell_type": "code",
   "execution_count": null,
   "id": "front-gross",
   "metadata": {
    "execution": {
     "iopub.execute_input": "2021-05-23T14:15:33.319201Z",
     "iopub.status.busy": "2021-05-23T14:15:33.318671Z",
     "iopub.status.idle": "2021-05-23T16:09:44.046348Z",
     "shell.execute_reply": "2021-05-23T16:09:44.045877Z",
     "shell.execute_reply.started": "2021-05-23T10:28:41.700026Z"
    },
    "papermill": {
     "duration": 6851.062516,
     "end_time": "2021-05-23T16:09:44.046476",
     "exception": false,
     "start_time": "2021-05-23T14:15:32.983960",
     "status": "completed"
    },
    "tags": []
   },
   "outputs": [],
   "source": [
    "tunned_param = [{\"n_estimators\": np.arange(3, 100)}]\n",
    "xgb_model = XGBClassifier(random_state=10)\n",
    "xgb_grid = GridSearchCV(estimator=xgb_model, param_grid=tunned_param, cv=5, n_jobs=-1)\n",
    "\n",
    "xgb_grid.fit(xtrain, ytrain)\n",
    "xgb_grid.best_params_"
   ]
  },
  {
   "cell_type": "code",
   "execution_count": null,
   "id": "governmental-thailand",
   "metadata": {
    "execution": {
     "iopub.execute_input": "2021-05-23T16:09:44.717770Z",
     "iopub.status.busy": "2021-05-23T16:09:44.717215Z",
     "iopub.status.idle": "2021-05-23T16:09:45.276439Z",
     "shell.execute_reply": "2021-05-23T16:09:45.277389Z",
     "shell.execute_reply.started": "2021-05-23T12:23:10.520290Z"
    },
    "papermill": {
     "duration": 0.898323,
     "end_time": "2021-05-23T16:09:45.277662",
     "exception": false,
     "start_time": "2021-05-23T16:09:44.379339",
     "status": "completed"
    },
    "tags": []
   },
   "outputs": [],
   "source": [
    "# max depth=4 taken from the above decision tree model\n",
    "xgb1 = XGBClassifier(n_estimators=6, random_state=10)\n",
    "xgbscore1 = cross_val_score(xgb1, xtrain, ytrain, scoring=\"roc_auc\")\n",
    "\n",
    "biasxgb2 = np.mean(1 - xgbscore1)\n",
    "varxgb2 = np.std(xgbscore1)\n",
    "\n",
    "print(\"Bias error     :\", biasxgb2)\n",
    "print(\"variance error :\", varxgb2)"
   ]
  },
  {
   "cell_type": "code",
   "execution_count": null,
   "id": "sharing-swimming",
   "metadata": {
    "execution": {
     "iopub.execute_input": "2021-05-23T16:09:46.001968Z",
     "iopub.status.busy": "2021-05-23T16:09:46.001373Z",
     "iopub.status.idle": "2021-05-23T16:09:46.109382Z",
     "shell.execute_reply": "2021-05-23T16:09:46.110185Z",
     "shell.execute_reply.started": "2021-05-23T12:23:11.123283Z"
    },
    "papermill": {
     "duration": 0.464192,
     "end_time": "2021-05-23T16:09:46.110387",
     "exception": false,
     "start_time": "2021-05-23T16:09:45.646195",
     "status": "completed"
    },
    "tags": []
   },
   "outputs": [],
   "source": [
    "xgb1 = XGBClassifier(n_estimators=6, max_depth=4, random_state=10)\n",
    "xgb1.fit(xtrain, ytrain)\n",
    "print(\"Training accuracy:\", xgb1.score(xtrain, ytrain))\n",
    "print(\"Testing accuracy :\", xgb1.score(xtest, ytest))"
   ]
  },
  {
   "cell_type": "code",
   "execution_count": null,
   "id": "broad-creativity",
   "metadata": {
    "execution": {
     "iopub.execute_input": "2021-05-23T16:09:46.841262Z",
     "iopub.status.busy": "2021-05-23T16:09:46.840510Z",
     "iopub.status.idle": "2021-05-23T16:09:46.879586Z",
     "shell.execute_reply": "2021-05-23T16:09:46.880285Z",
     "shell.execute_reply.started": "2021-05-23T12:23:11.237506Z"
    },
    "papermill": {
     "duration": 0.415629,
     "end_time": "2021-05-23T16:09:46.880447",
     "exception": false,
     "start_time": "2021-05-23T16:09:46.464818",
     "status": "completed"
    },
    "tags": []
   },
   "outputs": [],
   "source": [
    "# ROC-AUC SCORE TUNNED\n",
    "ypredxgb1 = xgb1.predict(xtest)\n",
    "print(\"Classification Report :\")\n",
    "cr4 = classification_report(ytest, ypredxgb1, output_dict=True)\n",
    "report_list.append(\n",
    "    [\n",
    "        \"Extreme Gradient Boosting\",\n",
    "        cr4[\"0\"][\"precision\"],\n",
    "        cr4[\"0\"][\"recall\"],\n",
    "        cr4[\"0\"][\"f1-score\"],\n",
    "        cr4[\"1\"][\"precision\"],\n",
    "        cr4[\"1\"][\"recall\"],\n",
    "        cr4[\"1\"][\"f1-score\"],\n",
    "        cr4[\"accuracy\"],\n",
    "    ]\n",
    ")\n",
    "print(classification_report(ytest, ypredxgb1))"
   ]
  },
  {
   "cell_type": "code",
   "execution_count": null,
   "id": "foreign-doctrine",
   "metadata": {
    "execution": {
     "iopub.execute_input": "2021-05-23T16:09:47.577400Z",
     "iopub.status.busy": "2021-05-23T16:09:47.576541Z",
     "iopub.status.idle": "2021-05-23T16:09:47.715098Z",
     "shell.execute_reply": "2021-05-23T16:09:47.715507Z",
     "shell.execute_reply.started": "2021-05-23T12:23:11.287066Z"
    },
    "papermill": {
     "duration": 0.496462,
     "end_time": "2021-05-23T16:09:47.715676",
     "exception": false,
     "start_time": "2021-05-23T16:09:47.219214",
     "status": "completed"
    },
    "tags": []
   },
   "outputs": [],
   "source": [
    "ypred_xgb1 = xgb1.predict_proba(xtest)[:, 1]\n",
    "print(\"AUC-ROC Score : \", roc_auc_score(ytest, ypred_xgb1))\n",
    "\n",
    "fpr, tpr, thresholds = roc_curve(ytest, ypred_xgb1)\n",
    "\n",
    "plt.plot([0, 1], [0, 1], \"r--\")\n",
    "plt.plot(fpr, tpr)\n",
    "\n",
    "plt.grid(True)\n",
    "\n",
    "plt.show()"
   ]
  },
  {
   "cell_type": "code",
   "execution_count": null,
   "id": "looking-distinction",
   "metadata": {
    "execution": {
     "iopub.execute_input": "2021-05-23T16:09:48.451977Z",
     "iopub.status.busy": "2021-05-23T16:09:48.451422Z",
     "iopub.status.idle": "2021-05-23T16:09:48.666797Z",
     "shell.execute_reply": "2021-05-23T16:09:48.667273Z",
     "shell.execute_reply.started": "2021-05-23T12:23:11.451930Z"
    },
    "papermill": {
     "duration": 0.617512,
     "end_time": "2021-05-23T16:09:48.667426",
     "exception": false,
     "start_time": "2021-05-23T16:09:48.049914",
     "status": "completed"
    },
    "tags": []
   },
   "outputs": [],
   "source": [
    "ypred_xg1 = xgb1.predict(xtest)\n",
    "\n",
    "cm = pd.DataFrame(\n",
    "    data=confusion_matrix(ytest, ypred_xg1),\n",
    "    columns=[\"ypred_0\", \"ypred_1\"],\n",
    "    index=[\"yactual_0\", \"yactual_1\"],\n",
    ")\n",
    "sns.heatmap(cm, annot=True)\n",
    "plt.show()"
   ]
  },
  {
   "attachments": {},
   "cell_type": "markdown",
   "id": "grateful-mayor",
   "metadata": {
    "papermill": {
     "duration": 0.345478,
     "end_time": "2021-05-23T16:09:49.350146",
     "exception": false,
     "start_time": "2021-05-23T16:09:49.004668",
     "status": "completed"
    },
    "tags": []
   },
   "source": [
    "## Random Forest BASE MODEL"
   ]
  },
  {
   "cell_type": "code",
   "execution_count": null,
   "id": "distributed-investor",
   "metadata": {
    "execution": {
     "iopub.execute_input": "2021-05-23T16:09:50.054285Z",
     "iopub.status.busy": "2021-05-23T16:09:50.053326Z",
     "iopub.status.idle": "2021-05-23T16:10:06.646488Z",
     "shell.execute_reply": "2021-05-23T16:10:06.645788Z",
     "shell.execute_reply.started": "2021-05-23T12:23:11.696613Z"
    },
    "papermill": {
     "duration": 16.939488,
     "end_time": "2021-05-23T16:10:06.646625",
     "exception": false,
     "start_time": "2021-05-23T16:09:49.707137",
     "status": "completed"
    },
    "tags": []
   },
   "outputs": [],
   "source": [
    "# cross validation for random forest model to find out bias & variance error\n",
    "rf = RandomForestClassifier(random_state=10)\n",
    "score = cross_val_score(rf, xtrain, ytrain, scoring=\"f1_weighted\")\n",
    "bias = np.mean(1 - score)\n",
    "var = np.std(score)\n",
    "print(\"Bias error     :\", bias)\n",
    "print(\"variance error :\", var)"
   ]
  },
  {
   "cell_type": "code",
   "execution_count": null,
   "id": "bright-grounds",
   "metadata": {
    "execution": {
     "iopub.execute_input": "2021-05-23T16:10:07.337151Z",
     "iopub.status.busy": "2021-05-23T16:10:07.336210Z",
     "iopub.status.idle": "2021-05-23T16:10:12.177068Z",
     "shell.execute_reply": "2021-05-23T16:10:12.176613Z",
     "shell.execute_reply.started": "2021-05-23T12:23:29.952028Z"
    },
    "papermill": {
     "duration": 5.190965,
     "end_time": "2021-05-23T16:10:12.177216",
     "exception": false,
     "start_time": "2021-05-23T16:10:06.986251",
     "status": "completed"
    },
    "tags": []
   },
   "outputs": [],
   "source": [
    "rf = RandomForestClassifier(random_state=10)\n",
    "rf.fit(xtrain, ytrain)\n",
    "ypred_rf = rf.predict(xtest)\n",
    "print(\"Training accuracy:\", rf.score(xtrain, ytrain))\n",
    "print(\"Testing accuracy :\", rf.score(xtest, ytest))"
   ]
  },
  {
   "cell_type": "code",
   "execution_count": null,
   "id": "emerging-apple",
   "metadata": {
    "execution": {
     "iopub.execute_input": "2021-05-23T16:10:12.876443Z",
     "iopub.status.busy": "2021-05-23T16:10:12.875873Z",
     "iopub.status.idle": "2021-05-23T16:10:13.230782Z",
     "shell.execute_reply": "2021-05-23T16:10:13.231234Z",
     "shell.execute_reply.started": "2021-05-23T12:23:35.497302Z"
    },
    "papermill": {
     "duration": 0.711802,
     "end_time": "2021-05-23T16:10:13.231395",
     "exception": false,
     "start_time": "2021-05-23T16:10:12.519593",
     "status": "completed"
    },
    "tags": []
   },
   "outputs": [],
   "source": [
    "ypred_rffull = rf.predict_proba(xtest)[:, 1]\n",
    "print(\"AUC-ROC Score : \", roc_auc_score(ytest, ypred_rffull))\n",
    "fpr, tpr, thresholds = roc_curve(ytest, ypred_rffull)\n",
    "plt.plot([0, 1], [0, 1], \"r--\")\n",
    "plt.plot(fpr, tpr)\n",
    "plt.grid(True)\n",
    "plt.show()"
   ]
  },
  {
   "cell_type": "code",
   "execution_count": null,
   "id": "egyptian-cigarette",
   "metadata": {
    "execution": {
     "iopub.execute_input": "2021-05-23T16:10:13.941811Z",
     "iopub.status.busy": "2021-05-23T16:10:13.940886Z",
     "iopub.status.idle": "2021-05-23T16:10:14.373712Z",
     "shell.execute_reply": "2021-05-23T16:10:14.373126Z",
     "shell.execute_reply.started": "2021-05-23T12:23:35.889090Z"
    },
    "papermill": {
     "duration": 0.787296,
     "end_time": "2021-05-23T16:10:14.373840",
     "exception": false,
     "start_time": "2021-05-23T16:10:13.586544",
     "status": "completed"
    },
    "tags": []
   },
   "outputs": [],
   "source": [
    "ypred = rf.predict(xtest)\n",
    "cm = pd.DataFrame(\n",
    "    data=confusion_matrix(ytest, ypred),\n",
    "    columns=[\"ypred_0\", \"ypred_1\"],\n",
    "    index=[\"yactual_0\", \"yactual_1\"],\n",
    ")\n",
    "sns.heatmap(cm, annot=True)\n",
    "plt.show()"
   ]
  },
  {
   "cell_type": "code",
   "execution_count": null,
   "id": "naughty-output",
   "metadata": {
    "execution": {
     "iopub.execute_input": "2021-05-23T16:10:15.070722Z",
     "iopub.status.busy": "2021-05-23T16:10:15.069847Z",
     "iopub.status.idle": "2021-05-23T16:10:15.310635Z",
     "shell.execute_reply": "2021-05-23T16:10:15.311113Z",
     "shell.execute_reply.started": "2021-05-23T12:23:36.938522Z"
    },
    "papermill": {
     "duration": 0.588104,
     "end_time": "2021-05-23T16:10:15.311284",
     "exception": false,
     "start_time": "2021-05-23T16:10:14.723180",
     "status": "completed"
    },
    "tags": []
   },
   "outputs": [],
   "source": [
    "ypred_rf = rf.predict(xtest)\n",
    "print(\"Classification Report :\")\n",
    "print(classification_report(ytest, ypred_rf))"
   ]
  },
  {
   "cell_type": "code",
   "execution_count": null,
   "id": "editorial-waterproof",
   "metadata": {
    "execution": {
     "iopub.execute_input": "2021-05-23T16:10:16.011982Z",
     "iopub.status.busy": "2021-05-23T16:10:16.011247Z",
     "iopub.status.idle": "2021-05-23T16:10:16.285811Z",
     "shell.execute_reply": "2021-05-23T16:10:16.285253Z",
     "shell.execute_reply.started": "2021-05-23T12:23:37.218497Z"
    },
    "papermill": {
     "duration": 0.626373,
     "end_time": "2021-05-23T16:10:16.285930",
     "exception": false,
     "start_time": "2021-05-23T16:10:15.659557",
     "status": "completed"
    },
    "tags": []
   },
   "outputs": [],
   "source": [
    "ypred_rf = rf.predict(xtest)\n",
    "print(\"Classification Report :\")\n",
    "cr5 = classification_report(ytest, ypred_rf, output_dict=True)\n",
    "report_list.append(\n",
    "    [\n",
    "        \"Random Forest Base\",\n",
    "        cr5[\"0\"][\"precision\"],\n",
    "        cr5[\"0\"][\"recall\"],\n",
    "        cr5[\"0\"][\"f1-score\"],\n",
    "        cr5[\"1\"][\"precision\"],\n",
    "        cr5[\"1\"][\"recall\"],\n",
    "        cr5[\"1\"][\"f1-score\"],\n",
    "        cr5[\"accuracy\"],\n",
    "    ]\n",
    ")\n",
    "print(classification_report(ytest, ypred_rf))"
   ]
  },
  {
   "attachments": {},
   "cell_type": "markdown",
   "id": "expired-tuning",
   "metadata": {
    "papermill": {
     "duration": 0.34469,
     "end_time": "2021-05-23T16:10:16.977150",
     "exception": false,
     "start_time": "2021-05-23T16:10:16.632460",
     "status": "completed"
    },
    "tags": []
   },
   "source": [
    "## Random Forest Hypertunned Model"
   ]
  },
  {
   "cell_type": "code",
   "execution_count": null,
   "id": "adapted-maple",
   "metadata": {
    "execution": {
     "iopub.execute_input": "2021-05-23T16:10:17.696727Z",
     "iopub.status.busy": "2021-05-23T16:10:17.696189Z",
     "iopub.status.idle": "2021-05-23T16:22:19.330011Z",
     "shell.execute_reply": "2021-05-23T16:22:19.330534Z",
     "shell.execute_reply.started": "2021-05-23T12:23:37.507272Z"
    },
    "papermill": {
     "duration": 722.000884,
     "end_time": "2021-05-23T16:22:19.330717",
     "exception": false,
     "start_time": "2021-05-23T16:10:17.329833",
     "status": "completed"
    },
    "tags": []
   },
   "outputs": [],
   "source": [
    "# tunned model to find best parameters\n",
    "rf_tunned = RandomForestClassifier()\n",
    "param = {\"n_estimators\": np.arange(1, 100), \"criterion\": [\"entropy\", \"gini\"]}\n",
    "gs = GridSearchCV(rf_tunned, param_grid=param, scoring=\"f1_weighted\", n_jobs=-1)\n",
    "gs.fit(xtrain, ytrain)\n",
    "gs.best_params_"
   ]
  },
  {
   "cell_type": "code",
   "execution_count": null,
   "id": "ecological-testimony",
   "metadata": {
    "execution": {
     "iopub.execute_input": "2021-05-23T16:22:20.020113Z",
     "iopub.status.busy": "2021-05-23T16:22:20.019482Z",
     "iopub.status.idle": "2021-05-23T16:22:22.405607Z",
     "shell.execute_reply": "2021-05-23T16:22:22.404949Z",
     "shell.execute_reply.started": "2021-05-23T12:37:10.709426Z"
    },
    "papermill": {
     "duration": 2.733468,
     "end_time": "2021-05-23T16:22:22.405794",
     "exception": false,
     "start_time": "2021-05-23T16:22:19.672326",
     "status": "completed"
    },
    "tags": []
   },
   "outputs": [],
   "source": [
    "# cross validation for random model to find out bias & variance error\n",
    "RF_tunned = RandomForestClassifier(\n",
    "    n_estimators=11, criterion=\"entropy\", random_state=10\n",
    ")\n",
    "score = cross_val_score(RF_tunned, xtrain, ytrain, scoring=\"f1_weighted\")\n",
    "bias = np.mean(1 - score)\n",
    "var = np.std(score)\n",
    "print(\"Bias error     :\", bias)\n",
    "print(\"variance error :\", var)"
   ]
  },
  {
   "cell_type": "code",
   "execution_count": null,
   "id": "identified-assistant",
   "metadata": {
    "execution": {
     "iopub.execute_input": "2021-05-23T16:22:23.099939Z",
     "iopub.status.busy": "2021-05-23T16:22:23.099147Z",
     "iopub.status.idle": "2021-05-23T16:22:26.061061Z",
     "shell.execute_reply": "2021-05-23T16:22:26.061638Z",
     "shell.execute_reply.started": "2021-05-23T12:37:13.408402Z"
    },
    "papermill": {
     "duration": 3.309594,
     "end_time": "2021-05-23T16:22:26.061814",
     "exception": false,
     "start_time": "2021-05-23T16:22:22.752220",
     "status": "completed"
    },
    "tags": []
   },
   "outputs": [],
   "source": [
    "# random forest model\n",
    "RF_tunned = RandomForestClassifier(\n",
    "    n_estimators=50, criterion=\"entropy\", random_state=10\n",
    ")\n",
    "RF_tunned.fit(xtrain, ytrain)\n",
    "ypredrf1 = RF_tunned.predict(xtrain)\n",
    "ypredrf2 = RF_tunned.predict(xtest)\n",
    "print(\n",
    "    \"\\nOverall accuaracy of the Decision tree training data :\",\n",
    "    accuracy_score(ytrain, ypredrf1),\n",
    ")\n",
    "print(\n",
    "    \"Overall accuaracy of the Decision tree testing data  :\",\n",
    "    accuracy_score(ytest, ypredrf2),\n",
    ")\n",
    "from sklearn.metrics import cohen_kappa_score\n",
    "\n",
    "print(\"\\nCohen kappa score:\", cohen_kappa_score(ytest, ypredrf2))"
   ]
  },
  {
   "cell_type": "code",
   "execution_count": null,
   "id": "sudden-milan",
   "metadata": {
    "execution": {
     "iopub.execute_input": "2021-05-23T16:22:26.750668Z",
     "iopub.status.busy": "2021-05-23T16:22:26.750083Z",
     "iopub.status.idle": "2021-05-23T16:22:26.894582Z",
     "shell.execute_reply": "2021-05-23T16:22:26.895189Z",
     "shell.execute_reply.started": "2021-05-23T12:37:16.817822Z"
    },
    "papermill": {
     "duration": 0.491985,
     "end_time": "2021-05-23T16:22:26.895395",
     "exception": false,
     "start_time": "2021-05-23T16:22:26.403410",
     "status": "completed"
    },
    "tags": []
   },
   "outputs": [],
   "source": [
    "ypred_RF = RF_tunned.predict(xtest)\n",
    "print(\"Classification Report :\")\n",
    "cr6 = classification_report(ytest, ypred_RF, output_dict=True)\n",
    "report_list.append(\n",
    "    [\n",
    "        \"Random Forest Tunned\",\n",
    "        cr6[\"0\"][\"precision\"],\n",
    "        cr6[\"0\"][\"recall\"],\n",
    "        cr6[\"0\"][\"f1-score\"],\n",
    "        cr6[\"1\"][\"precision\"],\n",
    "        cr6[\"1\"][\"recall\"],\n",
    "        cr6[\"1\"][\"f1-score\"],\n",
    "        cr6[\"accuracy\"],\n",
    "    ]\n",
    ")\n",
    "print(classification_report(ytest, ypred_RF))"
   ]
  },
  {
   "cell_type": "code",
   "execution_count": null,
   "id": "infinite-happening",
   "metadata": {
    "execution": {
     "iopub.execute_input": "2021-05-23T16:22:27.580308Z",
     "iopub.status.busy": "2021-05-23T16:22:27.579758Z",
     "iopub.status.idle": "2021-05-23T16:22:27.819239Z",
     "shell.execute_reply": "2021-05-23T16:22:27.819977Z",
     "shell.execute_reply.started": "2021-05-23T12:37:16.983889Z"
    },
    "papermill": {
     "duration": 0.585883,
     "end_time": "2021-05-23T16:22:27.820196",
     "exception": false,
     "start_time": "2021-05-23T16:22:27.234313",
     "status": "completed"
    },
    "tags": []
   },
   "outputs": [],
   "source": [
    "ypred_rft = RF_tunned.predict_proba(xtest)[:, 1]\n",
    "print(\"AUC-ROC Score : \", roc_auc_score(ytest, ypred_rft))\n",
    "fpr, tpr, thresholds = roc_curve(ytest, ypred_rft)\n",
    "plt.plot([0, 1], [0, 1], \"r--\")\n",
    "plt.plot(fpr, tpr)\n",
    "plt.grid(True)\n",
    "plt.show()"
   ]
  },
  {
   "cell_type": "code",
   "execution_count": null,
   "id": "induced-schedule",
   "metadata": {
    "execution": {
     "iopub.execute_input": "2021-05-23T16:22:28.502593Z",
     "iopub.status.busy": "2021-05-23T16:22:28.502078Z",
     "iopub.status.idle": "2021-05-23T16:22:28.709221Z",
     "shell.execute_reply": "2021-05-23T16:22:28.708676Z",
     "shell.execute_reply.started": "2021-05-23T12:37:17.261903Z"
    },
    "papermill": {
     "duration": 0.548207,
     "end_time": "2021-05-23T16:22:28.709344",
     "exception": false,
     "start_time": "2021-05-23T16:22:28.161137",
     "status": "completed"
    },
    "tags": []
   },
   "outputs": [],
   "source": [
    "cm = pd.DataFrame(\n",
    "    data=confusion_matrix(ytest, ypred_RF),\n",
    "    columns=[\"ypred_0\", \"ypred_1\"],\n",
    "    index=[\"yactual_0\", \"yactual_1\"],\n",
    ")\n",
    "sns.heatmap(cm, annot=True)\n",
    "plt.show()"
   ]
  },
  {
   "attachments": {},
   "cell_type": "markdown",
   "id": "gentle-killing",
   "metadata": {
    "papermill": {
     "duration": 0.349201,
     "end_time": "2021-05-23T16:22:29.406851",
     "exception": false,
     "start_time": "2021-05-23T16:22:29.057650",
     "status": "completed"
    },
    "tags": []
   },
   "source": [
    "### Dataframe of results"
   ]
  },
  {
   "cell_type": "code",
   "execution_count": null,
   "id": "portable-alias",
   "metadata": {
    "execution": {
     "iopub.execute_input": "2021-05-23T16:22:30.104889Z",
     "iopub.status.busy": "2021-05-23T16:22:30.104313Z",
     "iopub.status.idle": "2021-05-23T16:22:30.107676Z",
     "shell.execute_reply": "2021-05-23T16:22:30.108140Z",
     "shell.execute_reply.started": "2021-05-23T12:37:17.497681Z"
    },
    "papermill": {
     "duration": 0.359739,
     "end_time": "2021-05-23T16:22:30.108281",
     "exception": false,
     "start_time": "2021-05-23T16:22:29.748542",
     "status": "completed"
    },
    "tags": []
   },
   "outputs": [],
   "source": [
    "report1 = pd.DataFrame(\n",
    "    data=report_list,\n",
    "    columns=[\n",
    "        \"MODEL\",\n",
    "        \"Precision_0\",\n",
    "        \"Recall_0\",\n",
    "        \"f1-score_0\",\n",
    "        \"Precision_1\",\n",
    "        \"Recall_1\",\n",
    "        \"f1-score_1\",\n",
    "        \"Overall_accuracy\",\n",
    "    ],\n",
    ")\n",
    "report1"
   ]
  },
  {
   "attachments": {},
   "cell_type": "markdown",
   "id": "electronic-picnic",
   "metadata": {
    "papermill": {
     "duration": 0.3391,
     "end_time": "2021-05-23T16:22:31.463961",
     "exception": false,
     "start_time": "2021-05-23T16:22:31.124861",
     "status": "completed"
    },
    "tags": []
   },
   "source": [
    "# Logistic Regression"
   ]
  },
  {
   "cell_type": "code",
   "execution_count": null,
   "id": "protected-delaware",
   "metadata": {
    "execution": {
     "iopub.execute_input": "2021-05-23T16:22:32.189513Z",
     "iopub.status.busy": "2021-05-23T16:22:32.188682Z",
     "iopub.status.idle": "2021-05-23T16:22:32.720109Z",
     "shell.execute_reply": "2021-05-23T16:22:32.720949Z",
     "shell.execute_reply.started": "2021-05-23T12:37:17.518209Z"
    },
    "papermill": {
     "duration": 0.88304,
     "end_time": "2021-05-23T16:22:32.721213",
     "exception": false,
     "start_time": "2021-05-23T16:22:31.838173",
     "status": "completed"
    },
    "tags": []
   },
   "outputs": [],
   "source": [
    "logreg = LogisticRegression()\n",
    "logreg.fit(xtrain, ytrain)\n",
    "ypred_logreg = logreg.predict(xtest)\n",
    "accuracy_logreg = accuracy_score(ytest, ypred_logreg)\n",
    "f1_logreg = f1_score(ytest, ypred_logreg)\n",
    "precision_logreg = precision_score(ytest, ypred_logreg)\n",
    "recall_logreg = recall_score(ytest, ypred_logreg)\n",
    "auc_logreg = roc_auc_score(ytest, ypred_logreg)\n",
    "conf_logreg = confusion_matrix(ytest, ypred_logreg)\n",
    "print(\"Confusion matrix:\\n\", conf_logreg)\n",
    "print(\"Auc:\", auc_logreg)\n",
    "print(\"Recall:\", recall_logreg)\n",
    "print(\"Precision:\", precision_logreg)\n",
    "print(\"f1_score:\", f1_logreg)\n",
    "print(\"Accuracy:\", accuracy_logreg)"
   ]
  },
  {
   "cell_type": "code",
   "execution_count": null,
   "id": "mature-colombia",
   "metadata": {
    "execution": {
     "iopub.execute_input": "2021-05-23T16:22:33.458386Z",
     "iopub.status.busy": "2021-05-23T16:22:33.457793Z",
     "iopub.status.idle": "2021-05-23T16:22:33.473943Z",
     "shell.execute_reply": "2021-05-23T16:22:33.473414Z",
     "shell.execute_reply.started": "2021-05-23T12:37:18.101982Z"
    },
    "papermill": {
     "duration": 0.369259,
     "end_time": "2021-05-23T16:22:33.474076",
     "exception": false,
     "start_time": "2021-05-23T16:22:33.104817",
     "status": "completed"
    },
    "tags": []
   },
   "outputs": [],
   "source": [
    "# Dictionary of classification report\n",
    "cr7 = classification_report(ytest, ypred_logreg, output_dict=True)"
   ]
  },
  {
   "cell_type": "code",
   "execution_count": null,
   "id": "vital-joyce",
   "metadata": {
    "execution": {
     "iopub.execute_input": "2021-05-23T16:22:34.171132Z",
     "iopub.status.busy": "2021-05-23T16:22:34.170499Z",
     "iopub.status.idle": "2021-05-23T16:22:34.350430Z",
     "shell.execute_reply": "2021-05-23T16:22:34.350799Z",
     "shell.execute_reply.started": "2021-05-23T12:37:18.139796Z"
    },
    "papermill": {
     "duration": 0.530776,
     "end_time": "2021-05-23T16:22:34.350943",
     "exception": false,
     "start_time": "2021-05-23T16:22:33.820167",
     "status": "completed"
    },
    "tags": []
   },
   "outputs": [],
   "source": [
    "y_pred_prob_logreg = logreg.predict_proba(xtest)\n",
    "y_pred_prob_logreg1 = logreg.predict_proba(xtrain)\n",
    "fpr, tpr, th = roc_curve(ytest, y_pred_prob_logreg[:, 1])\n",
    "plt.plot([0, 1], [0, 1], \"r--\")\n",
    "plt.plot(fpr, tpr)\n",
    "plt.grid(True)\n",
    "plt.show()"
   ]
  },
  {
   "cell_type": "code",
   "execution_count": null,
   "id": "interesting-collector",
   "metadata": {
    "execution": {
     "iopub.execute_input": "2021-05-23T16:22:35.040763Z",
     "iopub.status.busy": "2021-05-23T16:22:35.040262Z",
     "iopub.status.idle": "2021-05-23T16:22:35.046636Z",
     "shell.execute_reply": "2021-05-23T16:22:35.047160Z",
     "shell.execute_reply.started": "2021-05-23T12:37:18.350152Z"
    },
    "papermill": {
     "duration": 0.349093,
     "end_time": "2021-05-23T16:22:35.047314",
     "exception": false,
     "start_time": "2021-05-23T16:22:34.698221",
     "status": "completed"
    },
    "tags": []
   },
   "outputs": [],
   "source": [
    "y_pred_df_logreg = pd.Series(y_pred_prob_logreg[:, 1])\n",
    "y_pred_df_logreg"
   ]
  },
  {
   "cell_type": "code",
   "execution_count": null,
   "id": "approximate-bouquet",
   "metadata": {
    "execution": {
     "iopub.execute_input": "2021-05-23T16:22:35.734515Z",
     "iopub.status.busy": "2021-05-23T16:22:35.733860Z",
     "iopub.status.idle": "2021-05-23T16:22:35.761010Z",
     "shell.execute_reply": "2021-05-23T16:22:35.761436Z",
     "shell.execute_reply.started": "2021-05-23T12:37:18.364345Z"
    },
    "papermill": {
     "duration": 0.371075,
     "end_time": "2021-05-23T16:22:35.761575",
     "exception": false,
     "start_time": "2021-05-23T16:22:35.390500",
     "status": "completed"
    },
    "tags": []
   },
   "outputs": [],
   "source": [
    "def cutoff_youdens_j(fpr, tpr, th):\n",
    "    j_scores = tpr - fpr\n",
    "    j_ordered = sorted(zip(j_scores, th))\n",
    "    return j_ordered[-1][1]\n",
    "\n",
    "\n",
    "cutoff = cutoff_youdens_j(fpr, tpr, th)\n",
    "ser1 = []\n",
    "for i in y_pred_prob_logreg1[:, 1]:\n",
    "    if i > cutoff:\n",
    "        ser1.append(1)\n",
    "    else:\n",
    "        ser1.append(0)\n",
    "df_ser1 = pd.DataFrame(ser1)"
   ]
  },
  {
   "cell_type": "code",
   "execution_count": null,
   "id": "adjustable-medium",
   "metadata": {
    "execution": {
     "iopub.execute_input": "2021-05-23T16:22:36.456527Z",
     "iopub.status.busy": "2021-05-23T16:22:36.455830Z",
     "iopub.status.idle": "2021-05-23T16:22:37.136192Z",
     "shell.execute_reply": "2021-05-23T16:22:37.135672Z",
     "shell.execute_reply.started": "2021-05-23T12:37:18.401758Z"
    },
    "papermill": {
     "duration": 1.02364,
     "end_time": "2021-05-23T16:22:37.136329",
     "exception": false,
     "start_time": "2021-05-23T16:22:36.112689",
     "status": "completed"
    },
    "tags": []
   },
   "outputs": [],
   "source": [
    "logreg1 = LogisticRegression()\n",
    "logreg1.fit(xtrain, df_ser1)\n",
    "y_pred_logreg1 = logreg1.predict(xtest)\n",
    "y_pred_prob_logreg_tuned = logreg1.predict_proba(xtest)\n",
    "accuracy_logreg1 = accuracy_score(ytest, y_pred_logreg1)\n",
    "conf_logreg1 = confusion_matrix(ytest, y_pred_logreg1)\n",
    "f1_logreg1 = f1_score(ytest, y_pred_logreg1)\n",
    "recall_logreg1 = recall_score(ytest, y_pred_logreg1)\n",
    "precision_logreg1 = precision_score(ytest, y_pred_logreg1)\n",
    "auc_logreg1 = roc_auc_score(ytest, y_pred_logreg1)\n",
    "fpr, tpr, thresholds = roc_curve(ytest, y_pred_prob_logreg_tuned[:, 1])\n",
    "plt.plot([0, 1], [0, 1], \"r--\")\n",
    "plt.plot(fpr, tpr)\n",
    "plt.show()\n",
    "print(\"Confusion matrix:\\n\", conf_logreg1)\n",
    "print(\"Auc:\", auc_logreg1)\n",
    "print(\"Recall:\", recall_logreg1)\n",
    "print(\"Precision:\", precision_logreg1)\n",
    "print(\"f1_score:\", f1_logreg1)\n",
    "print(\"Accuracy:\", accuracy_logreg1)"
   ]
  },
  {
   "cell_type": "code",
   "execution_count": null,
   "id": "northern-marsh",
   "metadata": {
    "execution": {
     "iopub.execute_input": "2021-05-23T16:22:37.914893Z",
     "iopub.status.busy": "2021-05-23T16:22:37.914092Z",
     "iopub.status.idle": "2021-05-23T16:22:37.934138Z",
     "shell.execute_reply": "2021-05-23T16:22:37.934640Z",
     "shell.execute_reply.started": "2021-05-23T12:37:19.173908Z"
    },
    "papermill": {
     "duration": 0.430007,
     "end_time": "2021-05-23T16:22:37.934779",
     "exception": false,
     "start_time": "2021-05-23T16:22:37.504772",
     "status": "completed"
    },
    "tags": []
   },
   "outputs": [],
   "source": [
    "# Dictionary of classification report\n",
    "cr8 = classification_report(ytest, y_pred_logreg1, output_dict=True)"
   ]
  },
  {
   "attachments": {},
   "cell_type": "markdown",
   "id": "direct-salad",
   "metadata": {
    "papermill": {
     "duration": 0.344281,
     "end_time": "2021-05-23T16:22:38.626385",
     "exception": false,
     "start_time": "2021-05-23T16:22:38.282104",
     "status": "completed"
    },
    "tags": []
   },
   "source": [
    "# Navie Bayes"
   ]
  },
  {
   "cell_type": "code",
   "execution_count": null,
   "id": "virtual-friday",
   "metadata": {
    "execution": {
     "iopub.execute_input": "2021-05-23T16:22:39.315538Z",
     "iopub.status.busy": "2021-05-23T16:22:39.314749Z",
     "iopub.status.idle": "2021-05-23T16:22:39.367802Z",
     "shell.execute_reply": "2021-05-23T16:22:39.368413Z",
     "shell.execute_reply.started": "2021-05-23T12:37:19.199623Z"
    },
    "papermill": {
     "duration": 0.399624,
     "end_time": "2021-05-23T16:22:39.368615",
     "exception": false,
     "start_time": "2021-05-23T16:22:38.968991",
     "status": "completed"
    },
    "tags": []
   },
   "outputs": [],
   "source": [
    "nbmodel = GaussianNB()\n",
    "nbmodel.fit(xtrain, ytrain)\n",
    "ypred_nb = nbmodel.predict(xtest)\n",
    "accuracy_nb = accuracy_score(ytest, ypred_nb)\n",
    "f1_nb = f1_score(ytest, ypred_nb)\n",
    "precision_nb = precision_score(ytest, ypred_nb)\n",
    "recall_nb = recall_score(ytest, ypred_nb)\n",
    "auc_nb = roc_auc_score(ytest, ypred_nb)\n",
    "conf_nb = confusion_matrix(ytest, ypred_nb)\n",
    "print(\"Confusion matrix\\n\", conf_nb)\n",
    "print(\"AUC score:\", auc_nb)\n",
    "print(\"Recall:\", recall_nb)\n",
    "print(\"Precision:\", precision_nb)\n",
    "print(\"F1_score:\", f1_nb)\n",
    "print(\"Accuracy:\", accuracy_nb)"
   ]
  },
  {
   "cell_type": "code",
   "execution_count": null,
   "id": "challenging-science",
   "metadata": {
    "execution": {
     "iopub.execute_input": "2021-05-23T16:22:40.056641Z",
     "iopub.status.busy": "2021-05-23T16:22:40.055740Z",
     "iopub.status.idle": "2021-05-23T16:22:40.073827Z",
     "shell.execute_reply": "2021-05-23T16:22:40.073331Z",
     "shell.execute_reply.started": "2021-05-23T12:37:19.267085Z"
    },
    "papermill": {
     "duration": 0.363858,
     "end_time": "2021-05-23T16:22:40.073948",
     "exception": false,
     "start_time": "2021-05-23T16:22:39.710090",
     "status": "completed"
    },
    "tags": []
   },
   "outputs": [],
   "source": [
    "# Dictionary of classification report\n",
    "cr9 = classification_report(ytest, ypred_nb, output_dict=True)"
   ]
  },
  {
   "cell_type": "code",
   "execution_count": null,
   "id": "julian-comfort",
   "metadata": {
    "execution": {
     "iopub.execute_input": "2021-05-23T16:22:40.760727Z",
     "iopub.status.busy": "2021-05-23T16:22:40.760189Z",
     "iopub.status.idle": "2021-05-23T16:23:04.619883Z",
     "shell.execute_reply": "2021-05-23T16:23:04.619401Z",
     "shell.execute_reply.started": "2021-05-23T12:37:19.293741Z"
    },
    "papermill": {
     "duration": 24.205107,
     "end_time": "2021-05-23T16:23:04.620030",
     "exception": false,
     "start_time": "2021-05-23T16:22:40.414923",
     "status": "completed"
    },
    "tags": []
   },
   "outputs": [],
   "source": [
    "cv_method = RepeatedKFold(n_splits=5, n_repeats=3, random_state=10)\n",
    "params_NB = {\"var_smoothing\": np.logspace(0, -9, num=100)}\n",
    "gs_NB = GridSearchCV(\n",
    "    estimator=nbmodel,\n",
    "    param_grid=params_NB,\n",
    "    cv=cv_method,\n",
    "    verbose=1,\n",
    "    scoring=\"f1_weighted\",\n",
    ")\n",
    "gs_NB.fit(xtrain, ytrain)\n",
    "print(\"Best parameters:\", gs_NB.best_params_)\n",
    "print(\"Best score:\", gs_NB.best_score_)"
   ]
  },
  {
   "cell_type": "code",
   "execution_count": null,
   "id": "assisted-designer",
   "metadata": {
    "execution": {
     "iopub.execute_input": "2021-05-23T16:23:05.316060Z",
     "iopub.status.busy": "2021-05-23T16:23:05.315140Z",
     "iopub.status.idle": "2021-05-23T16:23:05.358733Z",
     "shell.execute_reply": "2021-05-23T16:23:05.358202Z",
     "shell.execute_reply.started": "2021-05-23T12:37:49.650852Z"
    },
    "papermill": {
     "duration": 0.392344,
     "end_time": "2021-05-23T16:23:05.358860",
     "exception": false,
     "start_time": "2021-05-23T16:23:04.966516",
     "status": "completed"
    },
    "tags": []
   },
   "outputs": [],
   "source": [
    "nbmodel1 = GaussianNB(var_smoothing=0.0012328467394420659)\n",
    "nbmodel1.fit(xtrain, ytrain)\n",
    "ypred_nb1 = nbmodel1.predict(xtest)\n",
    "accuracy_nb1 = accuracy_score(ytest, ypred_nb1)\n",
    "f1_nb1 = f1_score(ytest, ypred_nb1)\n",
    "precision_nb1 = precision_score(ytest, ypred_nb1)\n",
    "recall_nb1 = recall_score(ytest, ypred_nb1)\n",
    "auc_nb1 = roc_auc_score(ytest, ypred_nb1)\n",
    "conf_nb1 = confusion_matrix(ytest, ypred_nb1)\n",
    "print(\"Confusion matrix\\n\", conf_nb1)\n",
    "print(\"AUC score:\", auc_nb1)\n",
    "print(\"Recall:\", recall_nb1)\n",
    "print(\"Precision:\", precision_nb1)\n",
    "print(\"F1_score:\", f1_nb1)\n",
    "print(\"Accuracy:\", accuracy_nb1)"
   ]
  },
  {
   "cell_type": "code",
   "execution_count": null,
   "id": "virtual-battery",
   "metadata": {
    "execution": {
     "iopub.execute_input": "2021-05-23T16:23:06.062885Z",
     "iopub.status.busy": "2021-05-23T16:23:06.062079Z",
     "iopub.status.idle": "2021-05-23T16:23:06.089740Z",
     "shell.execute_reply": "2021-05-23T16:23:06.088889Z",
     "shell.execute_reply.started": "2021-05-23T12:37:49.708209Z"
    },
    "papermill": {
     "duration": 0.384549,
     "end_time": "2021-05-23T16:23:06.089926",
     "exception": false,
     "start_time": "2021-05-23T16:23:05.705377",
     "status": "completed"
    },
    "tags": []
   },
   "outputs": [],
   "source": [
    "# Dictionary of classification report\n",
    "cr10 = classification_report(ytest, ypred_nb1, output_dict=True)"
   ]
  },
  {
   "cell_type": "code",
   "execution_count": null,
   "id": "acknowledged-graph",
   "metadata": {
    "execution": {
     "iopub.execute_input": "2021-05-23T16:23:06.797558Z",
     "iopub.status.busy": "2021-05-23T16:23:06.796717Z",
     "iopub.status.idle": "2021-05-23T16:23:06.922508Z",
     "shell.execute_reply": "2021-05-23T16:23:06.922879Z",
     "shell.execute_reply.started": "2021-05-23T12:37:49.734321Z"
    },
    "papermill": {
     "duration": 0.477775,
     "end_time": "2021-05-23T16:23:06.923039",
     "exception": false,
     "start_time": "2021-05-23T16:23:06.445264",
     "status": "completed"
    },
    "tags": []
   },
   "outputs": [],
   "source": [
    "ypred_nb_tuned = nbmodel1.predict_proba(xtest)[:, 1]\n",
    "fpr, tpr, thresholds = roc_curve(ytest, ypred_nb_tuned)\n",
    "plt.plot([0, 1], [0, 1], \"r--\")\n",
    "plt.plot(fpr, tpr)\n",
    "plt.grid(True)\n",
    "plt.show()"
   ]
  },
  {
   "cell_type": "code",
   "execution_count": null,
   "id": "proof-overall",
   "metadata": {
    "execution": {
     "iopub.execute_input": "2021-05-23T16:23:07.615205Z",
     "iopub.status.busy": "2021-05-23T16:23:07.614341Z",
     "iopub.status.idle": "2021-05-23T16:23:09.095173Z",
     "shell.execute_reply": "2021-05-23T16:23:09.094531Z",
     "shell.execute_reply.started": "2021-05-23T12:37:49.887909Z"
    },
    "papermill": {
     "duration": 1.82629,
     "end_time": "2021-05-23T16:23:09.095294",
     "exception": false,
     "start_time": "2021-05-23T16:23:07.269004",
     "status": "completed"
    },
    "tags": []
   },
   "outputs": [],
   "source": [
    "model = XGBClassifier(objective=\"binary:logistic\")\n",
    "model.fit(xtrain, ytrain)\n",
    "ypred_xgboost = model.predict(xtest)\n",
    "ypred_xgboost_prob = model.predict_proba(xtest)[:, 1]\n",
    "accuracy_xgboost = accuracy_score(ytest, ypred_xgboost)\n",
    "f1_xgboost = f1_score(ytest, ypred_xgboost)\n",
    "precision_xgboost = precision_score(ytest, ypred_xgboost)\n",
    "recall_xgboost = recall_score(ytest, ypred_xgboost)\n",
    "auc_xgboost = roc_auc_score(ytest, ypred_xgboost)\n",
    "conf_xgboost = confusion_matrix(ytest, ypred_xgboost)\n",
    "print(\"Confusion matrix\\n\", conf_xgboost)\n",
    "print(\"AUC:\", auc_xgboost)\n",
    "print(\"Recall:\", recall_xgboost)\n",
    "print(\"Precision:\", precision_xgboost)\n",
    "print(\"F1_score:\", f1_xgboost)\n",
    "print(\"Accuracy:\", accuracy_xgboost)"
   ]
  },
  {
   "cell_type": "code",
   "execution_count": null,
   "id": "democratic-calcium",
   "metadata": {
    "execution": {
     "iopub.execute_input": "2021-05-23T16:23:09.823545Z",
     "iopub.status.busy": "2021-05-23T16:23:09.822857Z",
     "iopub.status.idle": "2021-05-23T16:23:09.839357Z",
     "shell.execute_reply": "2021-05-23T16:23:09.839800Z",
     "shell.execute_reply.started": "2021-05-23T12:37:51.531562Z"
    },
    "papermill": {
     "duration": 0.381508,
     "end_time": "2021-05-23T16:23:09.839941",
     "exception": false,
     "start_time": "2021-05-23T16:23:09.458433",
     "status": "completed"
    },
    "tags": []
   },
   "outputs": [],
   "source": [
    "# Dictionary of classification report\n",
    "cr11 = classification_report(ytest, ypred_xgboost, output_dict=True)"
   ]
  },
  {
   "cell_type": "code",
   "execution_count": null,
   "id": "municipal-chemical",
   "metadata": {
    "execution": {
     "iopub.execute_input": "2021-05-23T16:23:10.538428Z",
     "iopub.status.busy": "2021-05-23T16:23:10.537900Z",
     "iopub.status.idle": "2021-05-23T16:23:10.657221Z",
     "shell.execute_reply": "2021-05-23T16:23:10.657617Z",
     "shell.execute_reply.started": "2021-05-23T12:37:51.555150Z"
    },
    "papermill": {
     "duration": 0.471053,
     "end_time": "2021-05-23T16:23:10.657755",
     "exception": false,
     "start_time": "2021-05-23T16:23:10.186702",
     "status": "completed"
    },
    "tags": []
   },
   "outputs": [],
   "source": [
    "fpr, tpr, thresholds = roc_curve(ytest, ypred_xgboost_prob)\n",
    "plt.plot([0, 1], [0, 1], \"r--\")\n",
    "plt.plot(fpr, tpr)\n",
    "plt.grid(True)\n",
    "plt.show()"
   ]
  },
  {
   "cell_type": "code",
   "execution_count": null,
   "id": "major-charm",
   "metadata": {
    "execution": {
     "iopub.execute_input": "2021-05-23T16:23:11.358940Z",
     "iopub.status.busy": "2021-05-23T16:23:11.358403Z",
     "iopub.status.idle": "2021-05-23T16:24:51.504260Z",
     "shell.execute_reply": "2021-05-23T16:24:51.503642Z",
     "shell.execute_reply.started": "2021-05-23T12:37:51.700766Z"
    },
    "papermill": {
     "duration": 100.496701,
     "end_time": "2021-05-23T16:24:51.504418",
     "exception": false,
     "start_time": "2021-05-23T16:23:11.007717",
     "status": "completed"
    },
    "tags": []
   },
   "outputs": [],
   "source": [
    "param_grid = {\n",
    "    \"criterion\": [\"entropy\", \"gini\"],\n",
    "    \"max_depth\": range(2, 5),\n",
    "    \"n_estimators\": [90, 100, 150, 200],\n",
    "}\n",
    "gs_xgboost = GridSearchCV(\n",
    "    estimator=model, param_grid=param_grid, verbose=1, cv=5, scoring=\"f1_weighted\"\n",
    ")\n",
    "gs_xgboost.fit(xtrain, ytrain)"
   ]
  },
  {
   "cell_type": "code",
   "execution_count": null,
   "id": "vietnamese-category",
   "metadata": {
    "execution": {
     "iopub.execute_input": "2021-05-23T16:24:52.384007Z",
     "iopub.status.busy": "2021-05-23T16:24:52.383382Z",
     "iopub.status.idle": "2021-05-23T16:24:52.388237Z",
     "shell.execute_reply": "2021-05-23T16:24:52.388789Z",
     "shell.execute_reply.started": "2021-05-23T12:39:41.806301Z"
    },
    "papermill": {
     "duration": 0.445678,
     "end_time": "2021-05-23T16:24:52.388949",
     "exception": false,
     "start_time": "2021-05-23T16:24:51.943271",
     "status": "completed"
    },
    "tags": []
   },
   "outputs": [],
   "source": [
    "print(\"Best Parameters\", gs_xgboost.best_params_)"
   ]
  },
  {
   "cell_type": "code",
   "execution_count": null,
   "id": "spiritual-million",
   "metadata": {
    "execution": {
     "iopub.execute_input": "2021-05-23T16:24:53.267190Z",
     "iopub.status.busy": "2021-05-23T16:24:53.266552Z",
     "iopub.status.idle": "2021-05-23T16:24:54.227802Z",
     "shell.execute_reply": "2021-05-23T16:24:54.228513Z",
     "shell.execute_reply.started": "2021-05-23T12:39:41.812779Z"
    },
    "papermill": {
     "duration": 1.405397,
     "end_time": "2021-05-23T16:24:54.228688",
     "exception": false,
     "start_time": "2021-05-23T16:24:52.823291",
     "status": "completed"
    },
    "tags": []
   },
   "outputs": [],
   "source": [
    "model1 = XGBClassifier(\n",
    "    objective=\"binary:logistic\", criterion=\"entropy\", max_depth=4, n_estimators=90\n",
    ")\n",
    "model1.fit(xtrain, ytrain)\n",
    "ypred_xgboost1 = model1.predict(xtest)\n",
    "accuracy_xgboost1 = accuracy_score(ytest, ypred_xgboost1)\n",
    "f1_xgboost1 = f1_score(ytest, ypred_xgboost1)\n",
    "precision_xgboost1 = precision_score(ytest, ypred_xgboost1)\n",
    "recall_xgboost1 = recall_score(ytest, ypred_xgboost1)\n",
    "auc_xgboost1 = roc_auc_score(ytest, ypred_xgboost1)\n",
    "conf_xgboost1 = confusion_matrix(ytest, ypred_xgboost1)\n",
    "print(\"Confusion matrix\\n\", conf_xgboost1)\n",
    "print(\"AUC:\", auc_xgboost1)\n",
    "print(\"Recall:\", recall_xgboost1)\n",
    "print(\"Precision:\", precision_xgboost1)\n",
    "print(\"F1_score:\", f1_xgboost1)\n",
    "print(\"Accuracy:\", accuracy_xgboost1)"
   ]
  },
  {
   "cell_type": "code",
   "execution_count": null,
   "id": "conscious-dominant",
   "metadata": {
    "execution": {
     "iopub.execute_input": "2021-05-23T16:24:55.106354Z",
     "iopub.status.busy": "2021-05-23T16:24:55.105710Z",
     "iopub.status.idle": "2021-05-23T16:24:55.123265Z",
     "shell.execute_reply": "2021-05-23T16:24:55.123737Z",
     "shell.execute_reply.started": "2021-05-23T12:39:42.805884Z"
    },
    "papermill": {
     "duration": 0.460324,
     "end_time": "2021-05-23T16:24:55.123907",
     "exception": false,
     "start_time": "2021-05-23T16:24:54.663583",
     "status": "completed"
    },
    "tags": []
   },
   "outputs": [],
   "source": [
    "# Dictionary of classification report\n",
    "cr12 = classification_report(ytest, ypred_xgboost1, output_dict=True)"
   ]
  },
  {
   "cell_type": "code",
   "execution_count": null,
   "id": "above-progressive",
   "metadata": {
    "execution": {
     "iopub.execute_input": "2021-05-23T16:24:55.995255Z",
     "iopub.status.busy": "2021-05-23T16:24:55.994628Z",
     "iopub.status.idle": "2021-05-23T16:24:56.184195Z",
     "shell.execute_reply": "2021-05-23T16:24:56.184753Z",
     "shell.execute_reply.started": "2021-05-23T12:39:42.829438Z"
    },
    "papermill": {
     "duration": 0.625927,
     "end_time": "2021-05-23T16:24:56.184914",
     "exception": false,
     "start_time": "2021-05-23T16:24:55.558987",
     "status": "completed"
    },
    "tags": []
   },
   "outputs": [],
   "source": [
    "ypred_xgboost1_prob = model1.predict_proba(xtest)[:, 1]\n",
    "fpr, tpr, thresholds = roc_curve(ytest, ypred_xgboost1_prob)\n",
    "plt.plot([0, 1], [0, 1], \"r--\")\n",
    "plt.plot(fpr, tpr)\n",
    "plt.grid(True)\n",
    "plt.show()"
   ]
  },
  {
   "cell_type": "code",
   "execution_count": null,
   "id": "digital-springfield",
   "metadata": {
    "execution": {
     "iopub.execute_input": "2021-05-23T16:24:57.054742Z",
     "iopub.status.busy": "2021-05-23T16:24:57.054112Z",
     "iopub.status.idle": "2021-05-23T16:24:57.070642Z",
     "shell.execute_reply": "2021-05-23T16:24:57.071213Z",
     "shell.execute_reply.started": "2021-05-23T12:39:42.989367Z"
    },
    "papermill": {
     "duration": 0.453129,
     "end_time": "2021-05-23T16:24:57.071370",
     "exception": false,
     "start_time": "2021-05-23T16:24:56.618241",
     "status": "completed"
    },
    "tags": []
   },
   "outputs": [],
   "source": [
    "data = {\n",
    "    \"Accuracy\": [\n",
    "        accuracy_logreg,\n",
    "        accuracy_logreg1,\n",
    "        accuracy_nb,\n",
    "        accuracy_nb1,\n",
    "        accuracy_xgboost,\n",
    "        accuracy_xgboost1,\n",
    "    ],\n",
    "    \"F1_Score\": [f1_logreg, f1_logreg1, f1_nb, f1_nb1, f1_xgboost, f1_xgboost1],\n",
    "    \"Precision\": [\n",
    "        precision_logreg,\n",
    "        precision_logreg1,\n",
    "        precision_nb,\n",
    "        precision_nb1,\n",
    "        precision_xgboost,\n",
    "        precision_xgboost1,\n",
    "    ],\n",
    "    \"Recall\": [\n",
    "        recall_logreg,\n",
    "        recall_logreg1,\n",
    "        recall_nb,\n",
    "        recall_nb1,\n",
    "        recall_xgboost,\n",
    "        recall_xgboost1,\n",
    "    ],\n",
    "    \"AUC_Score\": [auc_logreg, auc_logreg1, auc_nb, auc_nb1, auc_xgboost, auc_xgboost1],\n",
    "}\n",
    "Report_2 = pd.DataFrame(\n",
    "    data,\n",
    "    index=[\n",
    "        \"Logistic Regression\",\n",
    "        \"Logistic Regression Tuned\",\n",
    "        \"Naive Bayes\",\n",
    "        \"Naive Bayes Tuned\",\n",
    "        \"XGB Classifier\",\n",
    "        \"XGB Classifier Tuned\",\n",
    "    ],\n",
    ")\n",
    "Report_2"
   ]
  },
  {
   "attachments": {},
   "cell_type": "markdown",
   "id": "intelligent-watson",
   "metadata": {
    "papermill": {
     "duration": 0.432902,
     "end_time": "2021-05-23T16:24:59.676098",
     "exception": false,
     "start_time": "2021-05-23T16:24:59.243196",
     "status": "completed"
    },
    "tags": []
   },
   "source": [
    "# KNN"
   ]
  },
  {
   "cell_type": "code",
   "execution_count": null,
   "id": "answering-vaccine",
   "metadata": {
    "execution": {
     "iopub.execute_input": "2021-05-23T16:25:00.550188Z",
     "iopub.status.busy": "2021-05-23T16:25:00.549504Z",
     "iopub.status.idle": "2021-05-23T16:25:06.477216Z",
     "shell.execute_reply": "2021-05-23T16:25:06.477669Z",
     "shell.execute_reply.started": "2021-05-23T12:39:43.008511Z"
    },
    "papermill": {
     "duration": 6.368786,
     "end_time": "2021-05-23T16:25:06.477848",
     "exception": false,
     "start_time": "2021-05-23T16:25:00.109062",
     "status": "completed"
    },
    "tags": []
   },
   "outputs": [],
   "source": [
    "knn = KNeighborsClassifier()\n",
    "knn.fit(xtrain, ytrain)\n",
    "ypred_knn = knn.predict(xtest)\n",
    "accuracy_knn = accuracy_score(ytest, ypred_knn)\n",
    "f1_knn = f1_score(ytest, ypred_knn)\n",
    "precision_knn = precision_score(ytest, ypred_knn)\n",
    "recall_knn = recall_score(ytest, ypred_knn)\n",
    "auc_knn = roc_auc_score(ytest, ypred_knn)\n",
    "conf_knn = confusion_matrix(ytest, ypred_knn)\n",
    "print(\"Confusion matrix\\n\", conf_knn)\n",
    "print(\"AUC:\", auc_knn)\n",
    "print(\"Recall:\", recall_knn)\n",
    "print(\"Precision:\", precision_knn)\n",
    "print(\"F1_score:\", f1_knn)\n",
    "print(\"Accuracy:\", accuracy_knn)"
   ]
  },
  {
   "cell_type": "code",
   "execution_count": null,
   "id": "circular-facing",
   "metadata": {
    "execution": {
     "iopub.execute_input": "2021-05-23T16:25:07.395172Z",
     "iopub.status.busy": "2021-05-23T16:25:07.394461Z",
     "iopub.status.idle": "2021-05-23T16:25:07.413698Z",
     "shell.execute_reply": "2021-05-23T16:25:07.414222Z",
     "shell.execute_reply.started": "2021-05-23T12:39:48.815154Z"
    },
    "papermill": {
     "duration": 0.49667,
     "end_time": "2021-05-23T16:25:07.414390",
     "exception": false,
     "start_time": "2021-05-23T16:25:06.917720",
     "status": "completed"
    },
    "tags": []
   },
   "outputs": [],
   "source": [
    "# Dictionary of classification report\n",
    "cr13 = classification_report(ytest, ypred_knn, output_dict=True)"
   ]
  },
  {
   "cell_type": "code",
   "execution_count": null,
   "id": "reserved-helen",
   "metadata": {
    "execution": {
     "iopub.execute_input": "2021-05-23T16:25:08.297129Z",
     "iopub.status.busy": "2021-05-23T16:25:08.296513Z",
     "iopub.status.idle": "2021-05-23T17:03:02.629544Z",
     "shell.execute_reply": "2021-05-23T17:03:02.630375Z",
     "shell.execute_reply.started": "2021-05-23T12:39:48.840494Z"
    },
    "papermill": {
     "duration": 2274.779066,
     "end_time": "2021-05-23T17:03:02.630611",
     "exception": false,
     "start_time": "2021-05-23T16:25:07.851545",
     "status": "completed"
    },
    "scrolled": true,
    "tags": []
   },
   "outputs": [],
   "source": [
    "knn = KNeighborsClassifier()\n",
    "param = {\n",
    "    \"n_neighbors\": range(10, 100),\n",
    "    \"weights\": [\"uniform\", \"distance\"],\n",
    "    \"algorithm\": [\"auto\", \"ball_tree\", \"kd_tree\"],\n",
    "}\n",
    "gs = GridSearchCV(\n",
    "    knn, param_grid=param, cv=5, verbose=1, scoring=\"f1_weighted\", n_jobs=-1\n",
    ")\n",
    "gs.fit(xtrain, ytrain)\n",
    "gs.best_params_"
   ]
  },
  {
   "cell_type": "code",
   "execution_count": null,
   "id": "imposed-amazon",
   "metadata": {
    "execution": {
     "iopub.execute_input": "2021-05-23T17:03:03.526349Z",
     "iopub.status.busy": "2021-05-23T17:03:03.525379Z",
     "iopub.status.idle": "2021-05-23T17:03:09.484318Z",
     "shell.execute_reply": "2021-05-23T17:03:09.484824Z",
     "shell.execute_reply.started": "2021-05-23T13:26:54.307587Z"
    },
    "papermill": {
     "duration": 6.402007,
     "end_time": "2021-05-23T17:03:09.485084",
     "exception": false,
     "start_time": "2021-05-23T17:03:03.083077",
     "status": "completed"
    },
    "tags": []
   },
   "outputs": [],
   "source": [
    "knn1 = KNeighborsClassifier(n_neighbors=10, weights=\"distance\", algorithm=\"auto\")\n",
    "knn1.fit(xtrain, ytrain)\n",
    "ypred_knn1 = knn1.predict(xtest)\n",
    "accuracy_knn1 = accuracy_score(ytest, ypred_knn1)\n",
    "f1_knn1 = f1_score(ytest, ypred_knn1)\n",
    "precision_knn1 = precision_score(ytest, ypred_knn1)\n",
    "recall_knn1 = recall_score(ytest, ypred_knn1)\n",
    "auc_knn1 = roc_auc_score(ytest, ypred_knn1)\n",
    "conf_knn1 = confusion_matrix(ytest, ypred_knn1)\n",
    "print(\"Confusion matrix\\n\", conf_knn1)\n",
    "print(\"AUC:\", auc_knn1)\n",
    "print(\"Recall:\", recall_knn1)\n",
    "print(\"Precision:\", precision_knn1)\n",
    "print(\"F1_score:\", f1_knn1)\n",
    "print(\"Accuracy:\", accuracy_knn1)"
   ]
  },
  {
   "cell_type": "code",
   "execution_count": null,
   "id": "compatible-stretch",
   "metadata": {
    "execution": {
     "iopub.execute_input": "2021-05-23T17:03:10.393758Z",
     "iopub.status.busy": "2021-05-23T17:03:10.392760Z",
     "iopub.status.idle": "2021-05-23T17:03:10.410784Z",
     "shell.execute_reply": "2021-05-23T17:03:10.411281Z",
     "shell.execute_reply.started": "2021-05-23T13:27:00.439741Z"
    },
    "papermill": {
     "duration": 0.477995,
     "end_time": "2021-05-23T17:03:10.411464",
     "exception": false,
     "start_time": "2021-05-23T17:03:09.933469",
     "status": "completed"
    },
    "tags": []
   },
   "outputs": [],
   "source": [
    "# Dictionary of classification report\n",
    "cr14 = classification_report(ytest, ypred_knn1, output_dict=True)"
   ]
  },
  {
   "cell_type": "code",
   "execution_count": null,
   "id": "motivated-guatemala",
   "metadata": {
    "execution": {
     "iopub.execute_input": "2021-05-23T17:03:11.313682Z",
     "iopub.status.busy": "2021-05-23T17:03:11.312666Z",
     "iopub.status.idle": "2021-05-23T17:03:17.187139Z",
     "shell.execute_reply": "2021-05-23T17:03:17.186636Z",
     "shell.execute_reply.started": "2021-05-23T13:27:00.460755Z"
    },
    "papermill": {
     "duration": 6.333305,
     "end_time": "2021-05-23T17:03:17.187282",
     "exception": false,
     "start_time": "2021-05-23T17:03:10.853977",
     "status": "completed"
    },
    "tags": []
   },
   "outputs": [],
   "source": [
    "ypred_knn1_prob = knn1.predict_proba(xtest)[:, 1]\n",
    "fpr, tpr, thresholds = roc_curve(ytest, ypred_knn1_prob)\n",
    "plt.plot([0, 1], [0, 1], \"r--\")\n",
    "plt.plot(fpr, tpr)\n",
    "plt.grid(True)\n",
    "plt.show()"
   ]
  },
  {
   "attachments": {},
   "cell_type": "markdown",
   "id": "innovative-norman",
   "metadata": {
    "papermill": {
     "duration": 0.441722,
     "end_time": "2021-05-23T17:03:18.948073",
     "exception": false,
     "start_time": "2021-05-23T17:03:18.506351",
     "status": "completed"
    },
    "tags": []
   },
   "source": [
    "# DATAFRAME OF  RESULT OF ALL THE MODELS "
   ]
  },
  {
   "cell_type": "code",
   "execution_count": null,
   "id": "median-puppy",
   "metadata": {
    "execution": {
     "iopub.execute_input": "2021-05-23T17:03:19.853584Z",
     "iopub.status.busy": "2021-05-23T17:03:19.852620Z",
     "iopub.status.idle": "2021-05-23T17:03:19.855904Z",
     "shell.execute_reply": "2021-05-23T17:03:19.855384Z",
     "shell.execute_reply.started": "2021-05-23T13:27:05.793332Z"
    },
    "papermill": {
     "duration": 0.465471,
     "end_time": "2021-05-23T17:03:19.856052",
     "exception": false,
     "start_time": "2021-05-23T17:03:19.390581",
     "status": "completed"
    },
    "tags": []
   },
   "outputs": [],
   "source": [
    "new_zero = pd.DataFrame(\n",
    "    data=[\n",
    "        cr1[\"0\"],\n",
    "        cr2[\"0\"],\n",
    "        cr3[\"0\"],\n",
    "        cr4[\"0\"],\n",
    "        cr5[\"0\"],\n",
    "        cr6[\"0\"],\n",
    "        cr7[\"0\"],\n",
    "        cr8[\"0\"],\n",
    "        cr9[\"0\"],\n",
    "        cr10[\"0\"],\n",
    "        cr11[\"0\"],\n",
    "        cr12[\"0\"],\n",
    "        cr13[\"0\"],\n",
    "        cr14[\"0\"],\n",
    "    ]\n",
    ")\n",
    "new_one = pd.DataFrame(\n",
    "    data=[\n",
    "        cr1[\"1\"],\n",
    "        cr2[\"1\"],\n",
    "        cr3[\"1\"],\n",
    "        cr4[\"1\"],\n",
    "        cr5[\"1\"],\n",
    "        cr6[\"1\"],\n",
    "        cr7[\"1\"],\n",
    "        cr8[\"1\"],\n",
    "        cr9[\"1\"],\n",
    "        cr10[\"1\"],\n",
    "        cr11[\"1\"],\n",
    "        cr12[\"1\"],\n",
    "        cr13[\"1\"],\n",
    "        cr14[\"1\"],\n",
    "    ]\n",
    ")\n",
    "acc_df = pd.DataFrame(\n",
    "    data=[\n",
    "        cr1[\"accuracy\"],\n",
    "        cr2[\"accuracy\"],\n",
    "        cr3[\"accuracy\"],\n",
    "        cr4[\"accuracy\"],\n",
    "        cr5[\"accuracy\"],\n",
    "        cr6[\"accuracy\"],\n",
    "        cr7[\"accuracy\"],\n",
    "        cr8[\"accuracy\"],\n",
    "        cr9[\"accuracy\"],\n",
    "        cr10[\"accuracy\"],\n",
    "        cr11[\"accuracy\"],\n",
    "        cr12[\"accuracy\"],\n",
    "        cr13[\"accuracy\"],\n",
    "        cr14[\"accuracy\"],\n",
    "    ]\n",
    ")\n",
    "new_macro = pd.DataFrame(\n",
    "    data=[\n",
    "        cr1[\"macro avg\"],\n",
    "        cr2[\"macro avg\"],\n",
    "        cr3[\"macro avg\"],\n",
    "        cr4[\"macro avg\"],\n",
    "        cr5[\"macro avg\"],\n",
    "        cr6[\"macro avg\"],\n",
    "        cr7[\"macro avg\"],\n",
    "        cr8[\"macro avg\"],\n",
    "        cr9[\"macro avg\"],\n",
    "        cr10[\"macro avg\"],\n",
    "        cr11[\"macro avg\"],\n",
    "        cr12[\"macro avg\"],\n",
    "        cr13[\"macro avg\"],\n",
    "        cr14[\"macro avg\"],\n",
    "    ]\n",
    ")\n",
    "new_weighted = pd.DataFrame(\n",
    "    data=[\n",
    "        cr1[\"weighted avg\"],\n",
    "        cr2[\"weighted avg\"],\n",
    "        cr3[\"weighted avg\"],\n",
    "        cr4[\"weighted avg\"],\n",
    "        cr5[\"weighted avg\"],\n",
    "        cr6[\"weighted avg\"],\n",
    "        cr7[\"weighted avg\"],\n",
    "        cr8[\"weighted avg\"],\n",
    "        cr9[\"weighted avg\"],\n",
    "        cr10[\"weighted avg\"],\n",
    "        cr11[\"weighted avg\"],\n",
    "        cr12[\"weighted avg\"],\n",
    "        cr13[\"weighted avg\"],\n",
    "        cr14[\"weighted avg\"],\n",
    "    ]\n",
    ")"
   ]
  },
  {
   "cell_type": "code",
   "execution_count": null,
   "id": "figured-rubber",
   "metadata": {
    "execution": {
     "iopub.execute_input": "2021-05-23T17:03:20.740916Z",
     "iopub.status.busy": "2021-05-23T17:03:20.739969Z",
     "iopub.status.idle": "2021-05-23T17:03:20.777297Z",
     "shell.execute_reply": "2021-05-23T17:03:20.777830Z",
     "shell.execute_reply.started": "2021-05-23T13:27:05.811103Z"
    },
    "papermill": {
     "duration": 0.480547,
     "end_time": "2021-05-23T17:03:20.777991",
     "exception": false,
     "start_time": "2021-05-23T17:03:20.297444",
     "status": "completed"
    },
    "tags": []
   },
   "outputs": [],
   "source": [
    "model_df = pd.DataFrame(\n",
    "    data=[\n",
    "        \"Decision Tree Base\",\n",
    "        \"Decision Tree Tunned using ROC-AUC\",\n",
    "        \"Decision Tree Tunned using F1-Weighted\",\n",
    "        \"Extreme Gradient Boosting\",\n",
    "        \"Random Forest Base\",\n",
    "        \"Random Forest Tunned\",\n",
    "        \"Logistic Regression BASE\",\n",
    "        \"Logistic Regression Tuned\",\n",
    "        \"Naive Bayes BASE\",\n",
    "        \"Naive Bayes Tuned\",\n",
    "        \"XGB Classifier BASE\",\n",
    "        \"XGB Classifier Tuned\",\n",
    "        \"KNN BASE\",\n",
    "        \"KNN Tunned\",\n",
    "    ]\n",
    ")\n",
    "\n",
    "# join inner will gives the intersection of df\n",
    "df_combined = pd.concat(\n",
    "    (model_df, new_zero, new_one, acc_df, new_macro, new_weighted),\n",
    "    axis=1,\n",
    "    join=\"outer\",\n",
    "    keys=[\n",
    "        \"MODEL NAME\",\n",
    "        \"Results for 0's\",\n",
    "        \"Results for 1's\",\n",
    "        \"Accuracy\",\n",
    "        \"Results for macro avg\",\n",
    "        \"Results for weighted avg\",\n",
    "    ],\n",
    ")\n",
    "\n",
    "df_combined"
   ]
  },
  {
   "attachments": {},
   "cell_type": "markdown",
   "id": "cooked-dynamics",
   "metadata": {
    "papermill": {
     "duration": 0.440161,
     "end_time": "2021-05-23T17:03:21.665985",
     "exception": false,
     "start_time": "2021-05-23T17:03:21.225824",
     "status": "completed"
    },
    "tags": []
   },
   "source": [
    "## INFERENCES\n",
    "\n",
    "DECISION TREE BASE MODEL\n",
    "1. Without using any hyperparameters base model of decision tree is build.\n",
    "2. Using cross validation bias and variance errors are calculated.\n",
    "3. Training and testing accuracy are calculated, Training accuracy is more than the testing accuracy, Our decision tree base model is Overfitted.\n",
    "4. In overfitting model , variance error is more.Therefore to reduce variance error we have build Hypertunned decision tree model.\n",
    "\n",
    "Hypertunned Decision Tree model\n",
    "1. Fully grown decision tree tends to overfit the model , so to control that we have use max_depth hyperparameter.\n",
    "2. Two model are build , One is using ROC_AUC scoring & another using f1_weighted.\n",
    "3. Using GridsearchCV , we got best max_depth for roc_auc =4 and best max_depth for f1_weighted score =10\n",
    "4. Decision tree model is build for both max_depth using criterion 'entropy'\n",
    "5. We got better accuracy , precision, recall & f1 score for model build using scoring='roc_auc' than the BASE decision tree model\n",
    "6.Training & testing accuracy are nearly equal. so model is not overfitted or underfitted\n",
    "7. Since Precision , recall,f1 scores are not good for 1's therefore we have build extreme gradient boost model.\n",
    "\n",
    "\n",
    "Extreme Gradient Boosting\n",
    "1. Extreme gradient boosting model will reduce bias as well as variance error.\n",
    "2. n estimators are found using GridsearchCV , we got best value for n_estimator=6.\n",
    "3. XGBoost model is build , Variance & bias errors are less as compared to the Hypertunned decison tree model.\n",
    "4. Training & testing accuracy are nearly equal. so model is not overfitted or underfitted\n",
    "5. Precision ,recall ,f1-score & accuracy scores for 1's are improved & better than the previously build models.\n",
    "\n",
    "\n",
    "Random forest Base model\n",
    "1. Since we can only reduce variance error using max_depth hyperparamer in decision tree but cannot reduce bias error so we build Random forest model.\n",
    "2. Random forest base model is build without any hyperparameter.\n",
    "3. We got training accuracy more than testing accuracy , model is overfitted. so we build hypertunned random forest model.\n",
    "\n",
    "Random Forest Tree model\n",
    "1. Using GridsearchCV we found best n_estimators & criterion.\n",
    "2. Bias and variance error are less as compared to all the models build.\n",
    "3. But precesion , recall & f1-scores of this model are less than the extreme gradient boosting model\n",
    "4. So from all the models build, we got best results for the model build using Extreme gradient boosting.\n"
   ]
  },
  {
   "attachments": {},
   "cell_type": "markdown",
   "id": "d56fdfaa",
   "metadata": {},
   "source": [
    "# References\n",
    "\n",
    "https://www.kaggle.com/datasets/imsparsh/lending-club-loan-dataset-2007-2011/code"
   ]
  }
 ],
 "metadata": {
  "kernelspec": {
   "display_name": "Python 3",
   "language": "python",
   "name": "python3"
  },
  "language_info": {
   "codemirror_mode": {
    "name": "ipython",
    "version": 3
   },
   "file_extension": ".py",
   "mimetype": "text/x-python",
   "name": "python",
   "nbconvert_exporter": "python",
   "pygments_lexer": "ipython3",
   "version": "3.9.16"
  },
  "papermill": {
   "default_parameters": {},
   "duration": 11376.217607,
   "end_time": "2021-05-23T17:03:28.456355",
   "environment_variables": {},
   "exception": null,
   "input_path": "__notebook__.ipynb",
   "output_path": "__notebook__.ipynb",
   "parameters": {},
   "start_time": "2021-05-23T13:53:52.238748",
   "version": "2.3.2"
  }
 },
 "nbformat": 4,
 "nbformat_minor": 5
}
